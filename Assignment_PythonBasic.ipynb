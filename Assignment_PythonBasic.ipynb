{
  "nbformat": 4,
  "nbformat_minor": 0,
  "metadata": {
    "colab": {
      "provenance": []
    },
    "kernelspec": {
      "name": "python3",
      "display_name": "Python 3"
    },
    "language_info": {
      "name": "python"
    }
  },
  "cells": [
    {
      "cell_type": "code",
      "source": [],
      "metadata": {
        "id": "10lL9FhwjVsR"
      },
      "execution_count": null,
      "outputs": []
    },
    {
      "cell_type": "markdown",
      "source": [
        "1. What is Python, and why is it popular?\n",
        "\n",
        "  Ans. Python is an open-source programming language that is free to use and distribute.Building large and complicated software applications is much faster with lesser time.It is created by Guido van Rossum in the 1980s.Python is meant for a broad range of applications, including:\n",
        "\n",
        "  a.Automation\n",
        "  b.Data Science\n",
        "  c.Data Analytics\n",
        "  d.Web development\n",
        "  e.Software development\n",
        "\n",
        "    Most developers who are not using Python currently also rate it as the most in-demand language and popular language.\n",
        "\n",
        "2. What is an interpreter in Python?\n",
        "\n",
        "  Ans. Interpreters are the computer program that will convert the source code or an high level language into intermediate code (machine level language). It is also called translator in programming terminology. Interpreters executes each line of statements slowly.\n",
        "\n",
        "3. What are pre-defined keywords in Python?\n",
        "\n",
        "  Ans. Python keywords cannot be used as identifiers. All the keywords in Python should be in lowercase except True and False.\n",
        "\n",
        "  Example - and,or,not,if,elif,else,for,while,break,as,def,lambda,pass,return,try,with,assert,class,continue,del,except,finally,from,global,import,in,is,none,nonlocal,raise,yield,async,await.\n",
        "\n",
        "4. Can keywords be used as variable names?\n",
        "\n",
        "  Ans. No, keywords (also known as reserved words) cannot be used as variable names. Keywords are predefined identifiers that have a specific meaning in the language's syntax.\n",
        "\n",
        "5. What is mutability in Python?\n",
        "Ans. Mutability in Python refers to whether an object can be changed after it's created.\n",
        "\n",
        "  Mutable: Objects that can be modified (e.g., lists, dictionaries, sets).\n",
        "\n",
        "  Immutable: Objects that cannot be modified (e.g., strings, tuples, numbers).\n",
        "\n",
        "  Mutable objects can be changed, while immutable objects create a new object when \"modified.\"\n",
        "\n",
        "6. Why are lists mutable, but tuples are immutable?\n",
        "\n",
        "  Ans. Lists are mutable and tuples are immutable due to design choices in Python:\n",
        "\n",
        "  Lists are designed to be flexible, allowing you to change their content (add, remove, or modify elements). This mutability makes them suitable for situations where the data might change during execution.\n",
        "\n",
        "  Tuples, on the other hand, are designed to be lightweight and immutable, providing a fixed structure. This immutability ensures that their contents cannot be altered, which can be useful for ensuring data integrity, using them as dictionary keys, or improving performance in certain situations.\n",
        "\n",
        "7. What is the difference between “==” and “is” operators in Python?\n",
        "\n",
        "  Ans. ==: Compares values of two objects to see if they are equal.\n",
        "is: Compares if two objects are the same object in memory (same identity).\n",
        "\n",
        "8. What are logical operators in Python?\n",
        "\n",
        "  Ans. Logical operators in Python are used to combine conditional statements and evaluate expressions. The three main logical operators are:\n",
        "\n",
        "  and: Returns True if both conditions are true.\n",
        "Example: x > 5 and x < 10\n",
        "\n",
        "  or: Returns True if at least one of the conditions is true.\n",
        "Example: x > 5 or x < 2\n",
        "\n",
        "  not: Reverses the Boolean value (True becomes False, and vice versa).\n",
        "Example: not(x > 5)\n",
        "\n",
        "  These operators are commonly used in if-statements and other conditional checks.\n",
        "\n",
        "9. What is type casting in Python?\n",
        "\n",
        "  Ans. Type casting in Python is converting one data type to another.\n",
        "a. Implicit Type Casting\n",
        "b. Explicit Type Casting\n",
        "\n",
        "10. What is the difference between implicit and explicit type casting?\n",
        "\n",
        "  Ans. Implicit type casting (automatic): Python automatically converts a smaller data type to a larger one when needed, such as from int to float.\n",
        "\n",
        "  Explicit type casting (manual): You can explicitly convert one data type to another using functions like int(), float(), str(), etc.\n",
        "\n",
        "11. What is the purpose of conditional statements in Python?\n",
        "\n",
        "  Ans. Conditional statements in Python allow the program to make decisions based on conditions.\n",
        "\n",
        "  if: Executes code if the condition is true.\n",
        "\n",
        "  elif: Checks another condition if the previous one is false.\n",
        "\n",
        "  else: Executes code if all previous conditions are false\n",
        "\n",
        "12. How does the elif statement work?\n",
        "\n",
        "  Ans. The elif statement checks another condition if the previous if (or elif) condition is false.\n",
        "\n",
        "  Example:\n",
        "\n",
        "x = 15\n",
        "\n",
        "if x > 20:\n",
        "   \n",
        "    print(\"Greater than 20\")\n",
        "\n",
        "elif x > 10:\n",
        "\n",
        "    print(\"Greater than 10 but less than or equal to 20\")\n",
        "\n",
        "else:\n",
        "\n",
        "    print(\"10 or less\")\n",
        "\n",
        "  Output: Greater than 10 but less than or equal to 20\n",
        "\n",
        "13. What is the difference between for and while loops?\n",
        "\n",
        "  Ans. for loop: Used for iterating over a sequence or range.\n",
        "\n",
        "  Example:\n",
        "\n",
        "  for i in range(5):\n",
        "\n",
        "    print(i)\n",
        "\n",
        " Output: 0, 1, 2, 3, 4\n",
        "\n",
        " while loop: Runs as long as a condition is true.\n",
        "\n",
        " Example:i = 0\n",
        "\n",
        "    while i < 5:\n",
        "    \n",
        "      print(i)\n",
        "      i += 1\n",
        "\n",
        "  Output: 0, 1, 2, 3, 4\n",
        "\n",
        "  Difference:\n",
        "\n",
        "  for: Used when you know the number of iterations.\n",
        "\n",
        "  while: Used when the condition controls the loop.\n",
        "\n",
        "14. Describe a scenario where a while loop is more suitable than a for loop?\n",
        "\n",
        "  Ans. A while loop is more suitable than a for loop when the number of iterations is not known in advance and the loop needs to continue until a certain condition is met.\n",
        "\n",
        "  Example: while True:\n",
        "          user_input = input(\"Enter a number: \")\n",
        "          if user_input.isdigit():\n",
        "           print(\"Valid input:\", user_input)\n",
        "           break  # Exit loop once valid input is provided\n",
        "          else:\n",
        "           print(\"Invalid input, try again.\")\n",
        "\n",
        "\n",
        "\n",
        "\n",
        "\n",
        "\n",
        "\n",
        "\n",
        "\n"
      ],
      "metadata": {
        "id": "QIH7kmpfKDu1"
      }
    },
    {
      "cell_type": "markdown",
      "source": [],
      "metadata": {
        "id": "9eZXrZ9Z1opD"
      }
    },
    {
      "cell_type": "markdown",
      "source": [
        "1. Write a Python program to print \"Hello, World!"
      ],
      "metadata": {
        "id": "TPwVZJFJ5Uv0"
      }
    },
    {
      "cell_type": "code",
      "source": [
        "print(\"Hello World\")"
      ],
      "metadata": {
        "colab": {
          "base_uri": "https://localhost:8080/"
        },
        "id": "7Z8XwTrC5Y4n",
        "outputId": "d398eb23-b71c-42a9-e965-7303f9349229"
      },
      "execution_count": 1,
      "outputs": [
        {
          "output_type": "stream",
          "name": "stdout",
          "text": [
            "Hello World\n"
          ]
        }
      ]
    },
    {
      "cell_type": "markdown",
      "source": [
        "2.  Write a Python program that displays your name and age."
      ],
      "metadata": {
        "id": "b3FHCnuF5pII"
      }
    },
    {
      "cell_type": "code",
      "source": [
        "name = \"Rishabh\"\n",
        "age = 25\n",
        "\n",
        "print(\"Name:\", name)\n",
        "print(\"Age:\", age)"
      ],
      "metadata": {
        "colab": {
          "base_uri": "https://localhost:8080/"
        },
        "id": "lkHbNBDt5uys",
        "outputId": "cbf58747-50da-4c7f-b0a6-f726df96290e"
      },
      "execution_count": 2,
      "outputs": [
        {
          "output_type": "stream",
          "name": "stdout",
          "text": [
            "Name: Rishabh\n",
            "Age: 25\n"
          ]
        }
      ]
    },
    {
      "cell_type": "markdown",
      "source": [
        "3. Write code to print all the pre-defined keywords in Python using the keyword library."
      ],
      "metadata": {
        "id": "DaoWyTM06EPX"
      }
    },
    {
      "cell_type": "code",
      "source": [
        "import keyword\n",
        "\n",
        "print(\"Python Keywords:\", keyword.kwlist)\n"
      ],
      "metadata": {
        "colab": {
          "base_uri": "https://localhost:8080/"
        },
        "id": "gH6JtKOt6LH-",
        "outputId": "0fdbcff1-c35e-4ad3-c398-f7a0b127dc29"
      },
      "execution_count": 3,
      "outputs": [
        {
          "output_type": "stream",
          "name": "stdout",
          "text": [
            "Python Keywords: ['False', 'None', 'True', 'and', 'as', 'assert', 'async', 'await', 'break', 'class', 'continue', 'def', 'del', 'elif', 'else', 'except', 'finally', 'for', 'from', 'global', 'if', 'import', 'in', 'is', 'lambda', 'nonlocal', 'not', 'or', 'pass', 'raise', 'return', 'try', 'while', 'with', 'yield']\n"
          ]
        }
      ]
    },
    {
      "cell_type": "markdown",
      "source": [
        "4. Write a program that checks if a given word is a Python keyword."
      ],
      "metadata": {
        "id": "D7cmb9276f2M"
      }
    },
    {
      "cell_type": "code",
      "source": [
        "import keyword\n",
        "\n",
        "# Get input from the user\n",
        "word = input(\"Enter a word to check if it's a Python keyword: \")\n",
        "\n",
        "# Check if the word is a Python keyword\n",
        "if keyword.iskeyword(word):\n",
        "    print(f\"'{word}' is a Python keyword.\")\n",
        "else:\n",
        "    print(f\"'{word}' is not a Python keyword.\")\n"
      ],
      "metadata": {
        "colab": {
          "base_uri": "https://localhost:8080/"
        },
        "id": "lsSmjlmgEClS",
        "outputId": "4fba6122-6a69-441d-bdfb-b04a3468b11c"
      },
      "execution_count": 4,
      "outputs": [
        {
          "output_type": "stream",
          "name": "stdout",
          "text": [
            "Enter a word to check if it's a Python keyword: if\n",
            "'if' is a Python keyword.\n"
          ]
        }
      ]
    },
    {
      "cell_type": "markdown",
      "source": [
        "5. Create a list and tuple in Python, and demonstrate how attempting to change an element works differently for each."
      ],
      "metadata": {
        "id": "dywdMIziEpcT"
      }
    },
    {
      "cell_type": "markdown",
      "source": [],
      "metadata": {
        "id": "BiuXEaaj5eTB"
      }
    },
    {
      "cell_type": "code",
      "source": [
        "# List and Tuple\n",
        "my_list = [1, 2, 3, 4]\n",
        "my_tuple = (1, 2, 3, 4)\n",
        "\n",
        "# Change element in list\n",
        "my_list[0] = 10\n",
        "print(\"List after change:\", my_list)\n",
        "\n",
        "# Attempt to change element in tuple (will raise an error)\n",
        "# This will cause an error if uncommented\n",
        "# my_tuple[0] = 10\n",
        "\n",
        "print(\"Tuple remains unchanged:\", my_tuple)\n",
        "\n"
      ],
      "metadata": {
        "colab": {
          "base_uri": "https://localhost:8080/"
        },
        "id": "kAe7oCPuH6AK",
        "outputId": "943b4a33-0635-4d1a-e681-43d27cee1e94"
      },
      "execution_count": 7,
      "outputs": [
        {
          "output_type": "stream",
          "name": "stdout",
          "text": [
            "List after change: [10, 2, 3, 4]\n",
            "Tuple remains unchanged: (1, 2, 3, 4)\n"
          ]
        }
      ]
    },
    {
      "cell_type": "markdown",
      "source": [
        "6. Write a function to demonstrate the behavior of mutable and immutable arguments."
      ],
      "metadata": {
        "id": "cmamd5ejH-T_"
      }
    },
    {
      "cell_type": "code",
      "source": [
        "# Mutable and Immutable examples\n",
        "my_list = [1, 2, 3]\n",
        "my_string = \"Hello\"\n",
        "\n",
        "# Modify mutable argument (list)\n",
        "my_list.append(4)\n",
        "print(\"Mutable after change:\", my_list)\n",
        "\n",
        "# Attempt to modify immutable argument (string)\n",
        "try:\n",
        "    my_string[0] = \"X\"\n",
        "except TypeError:\n",
        "    print(\"Cannot modify immutable argument.\")\n",
        "\n",
        "# Check values outside\n",
        "print(\"New List :\", my_list)  # Modified\n",
        "print(\"New String:\", my_string)  # Unchanged\n"
      ],
      "metadata": {
        "colab": {
          "base_uri": "https://localhost:8080/"
        },
        "id": "Ix0QfQoSICot",
        "outputId": "21f95af4-5d13-4e01-dba4-5b42987bb144"
      },
      "execution_count": 10,
      "outputs": [
        {
          "output_type": "stream",
          "name": "stdout",
          "text": [
            "Mutable after change: [1, 2, 3, 4]\n",
            "Cannot modify immutable argument.\n",
            "New List : [1, 2, 3, 4]\n",
            "New String: Hello\n"
          ]
        }
      ]
    },
    {
      "cell_type": "markdown",
      "source": [
        " 7. Write a function to demonstrate the behavior of mutable and immutable arguments.\n",
        "\n",
        " Ans. Same as question 6"
      ],
      "metadata": {
        "id": "3NcLPc6ZZAV_"
      }
    },
    {
      "cell_type": "markdown",
      "source": [
        "8. Write a program to demonstrate the use of logical operators.\n"
      ],
      "metadata": {
        "id": "8_38O3KAZNXh"
      }
    },
    {
      "cell_type": "code",
      "source": [
        "# Defining some variables\n",
        "a = 10\n",
        "b = 5\n",
        "c = 20\n",
        "\n",
        "# Using the 'and' operator: True if both conditions are True\n",
        "print(\"a > b and c > a:\", a > b and c > a)\n",
        "\n",
        "# Using the 'or' operator: True if at least one condition is True\n",
        "print(\"a > b or c < a:\", a > b or c < a)\n",
        "\n",
        "# Using the 'not' operator: Inverts the truth value\n",
        "print(\"not (a < b):\", not (a < b))\n",
        "\n"
      ],
      "metadata": {
        "colab": {
          "base_uri": "https://localhost:8080/"
        },
        "id": "vQrVGbYaZRs-",
        "outputId": "9d1b4660-a19a-491f-a97c-1a8d9cd752b5"
      },
      "execution_count": 11,
      "outputs": [
        {
          "output_type": "stream",
          "name": "stdout",
          "text": [
            "a > b and c > a: True\n",
            "a > b or c < a: True\n",
            "not (a < b): True\n"
          ]
        }
      ]
    },
    {
      "cell_type": "markdown",
      "source": [
        "9. Write a Python program to convert user input from string to integer, float, and boolean types."
      ],
      "metadata": {
        "id": "pHeN6yUvaY-Q"
      }
    },
    {
      "cell_type": "code",
      "source": [
        "# Taking user input\n",
        "user_input = input(\"Enter a value: \")\n",
        "\n",
        "# Convert to integer (check if input is a digit)\n",
        "if user_input.isdigit():\n",
        "    int_value = int(user_input)\n",
        "    print(\"Converted to integer:\", int_value)\n",
        "else:\n",
        "    print(\"Cannot convert to integer. Input is not a valid integer.\")\n",
        "\n",
        "# Convert to float (check if input is a number with a decimal)\n",
        "if user_input.replace('.', '', 1).isdigit() and user_input.count('.') < 2:\n",
        "    float_value = float(user_input)\n",
        "    print(\"Converted to float:\", float_value)\n",
        "else:\n",
        "    print(\"Cannot convert to float. Input is not a valid float.\")\n",
        "\n",
        "# Convert to boolean (non-empty string is True, empty string is False)\n",
        "bool_value = bool(user_input)\n",
        "print(\"Converted to boolean:\", bool_value)\n",
        "\n"
      ],
      "metadata": {
        "colab": {
          "base_uri": "https://localhost:8080/"
        },
        "id": "8Y-dFXICacOU",
        "outputId": "5256767a-b2c5-49d3-c9e2-0d8b1fe90b98"
      },
      "execution_count": 12,
      "outputs": [
        {
          "output_type": "stream",
          "name": "stdout",
          "text": [
            "Enter a value: 45\n",
            "Converted to integer: 45\n",
            "Converted to float: 45.0\n",
            "Converted to boolean: True\n"
          ]
        }
      ]
    },
    {
      "cell_type": "markdown",
      "source": [
        "10. Write code to demonstrate type casting with list elements."
      ],
      "metadata": {
        "id": "k7KaxFnbdBgB"
      }
    },
    {
      "cell_type": "code",
      "source": [
        "# List of strings\n",
        "my_list = ['1', '2.5', 'True', '100']\n",
        "\n",
        "# Convert each element to the desired type\n",
        "int_list = [int(x) if x.isdigit() else x for x in my_list]\n",
        "float_list = [float(x) if '.' in x else x for x in my_list]\n",
        "bool_list = [x == 'True' for x in my_list]\n",
        "\n",
        "# Print the original and type-cast lists\n",
        "print(\"Original List:\", my_list)\n",
        "print(\"Converted to Integer List:\", int_list)\n",
        "print(\"Converted to Float List:\", float_list)\n",
        "print(\"Converted to Boolean List:\", bool_list)\n"
      ],
      "metadata": {
        "colab": {
          "base_uri": "https://localhost:8080/"
        },
        "id": "mazXMA_MdDtG",
        "outputId": "a976ad06-566c-4b9a-af00-8189dbfae3f4"
      },
      "execution_count": 13,
      "outputs": [
        {
          "output_type": "stream",
          "name": "stdout",
          "text": [
            "Original List: ['1', '2.5', 'True', '100']\n",
            "Converted to Integer List: [1, '2.5', 'True', 100]\n",
            "Converted to Float List: ['1', 2.5, 'True', '100']\n",
            "Converted to Boolean List: [False, False, True, False]\n"
          ]
        }
      ]
    },
    {
      "cell_type": "markdown",
      "source": [],
      "metadata": {
        "id": "WUKHqfMAjSjt"
      }
    },
    {
      "cell_type": "markdown",
      "source": [
        "11. Write a program that checks if a number is positive, negative, or zero0"
      ],
      "metadata": {
        "id": "E_RgvKsNjGn7"
      }
    },
    {
      "cell_type": "code",
      "source": [
        "# Taking input from the user\n",
        "num = float(input(\"Enter a number: \"))\n",
        "\n",
        "# Checking if the number is positive, negative, or zero\n",
        "if num > 0:\n",
        "    print(\"The number is positive.\")\n",
        "elif num < 0:\n",
        "    print(\"The number is negative.\")\n",
        "else:\n",
        "    print(\"The number is zero.\")\n"
      ],
      "metadata": {
        "colab": {
          "base_uri": "https://localhost:8080/"
        },
        "id": "7GmdbbujjJfi",
        "outputId": "0fef8374-5194-4248-fe64-689f68dc3441"
      },
      "execution_count": 15,
      "outputs": [
        {
          "output_type": "stream",
          "name": "stdout",
          "text": [
            "Enter a number: 6.9\n",
            "The number is positive.\n"
          ]
        }
      ]
    },
    {
      "cell_type": "markdown",
      "source": [
        "12. Write a for loop to print numbers from 1 to 10"
      ],
      "metadata": {
        "id": "uj2VAPKfjaff"
      }
    },
    {
      "cell_type": "code",
      "source": [
        "for i in range(1, 11):\n",
        "    print(i)"
      ],
      "metadata": {
        "colab": {
          "base_uri": "https://localhost:8080/"
        },
        "id": "TgklZ1CIuvG4",
        "outputId": "98524561-d0f2-467c-b34e-a392c5690e66"
      },
      "execution_count": 1,
      "outputs": [
        {
          "output_type": "stream",
          "name": "stdout",
          "text": [
            "1\n",
            "2\n",
            "3\n",
            "4\n",
            "5\n",
            "6\n",
            "7\n",
            "8\n",
            "9\n",
            "10\n"
          ]
        }
      ]
    },
    {
      "cell_type": "markdown",
      "source": [],
      "metadata": {
        "id": "XVa2GA6RZJDH"
      }
    },
    {
      "cell_type": "markdown",
      "source": [
        "13. Write a Python program to find the sum of all even numbers between 1 and 50."
      ],
      "metadata": {
        "id": "xm5AOD_uu6Wj"
      }
    },
    {
      "cell_type": "code",
      "source": [
        "# Initialize the sum variable\n",
        "sum_even_numbers = 0\n",
        "\n",
        "# Loop through numbers from 1 to 50\n",
        "for num in range(1, 51):\n",
        "    if num % 2 == 0:\n",
        "        sum_even_numbers += num\n",
        "\n",
        "# Print the result\n",
        "print(\"The sum of all even numbers between 1 and 50 is:\", sum_even_numbers)"
      ],
      "metadata": {
        "colab": {
          "base_uri": "https://localhost:8080/"
        },
        "id": "bNO8G7Mcu-y0",
        "outputId": "10aa33fa-7ac7-4210-eb3e-c1fc7f7c6392"
      },
      "execution_count": 2,
      "outputs": [
        {
          "output_type": "stream",
          "name": "stdout",
          "text": [
            "The sum of all even numbers between 1 and 50 is: 650\n"
          ]
        }
      ]
    },
    {
      "cell_type": "markdown",
      "source": [
        "14. Write a program to reverse a string using a while loop."
      ],
      "metadata": {
        "id": "jS1_EXwcyKEq"
      }
    },
    {
      "cell_type": "code",
      "source": [
        "# Get input from the user\n",
        "input_string = input(\"Enter a string: \")\n",
        "\n",
        "# Initialize variables\n",
        "reversed_string = \"\"\n",
        "index = len(input_string) - 1\n",
        "\n",
        "# Reverse the string using a while loop\n",
        "while index >= 0:\n",
        "    reversed_string += input_string[index]\n",
        "    index -= 1\n",
        "\n",
        "# Print the reversed string\n",
        "print(\"Reversed string:\", reversed_string)\n"
      ],
      "metadata": {
        "colab": {
          "base_uri": "https://localhost:8080/"
        },
        "id": "lkf_gZxjyXmD",
        "outputId": "6d8ab4bd-1420-4e20-b661-cb8711bab5ac"
      },
      "execution_count": 3,
      "outputs": [
        {
          "output_type": "stream",
          "name": "stdout",
          "text": [
            "Enter a string: fru\n",
            "Reversed string: urf\n"
          ]
        }
      ]
    },
    {
      "cell_type": "markdown",
      "source": [
        "15. Write a Python program to calculate the factorial of a number provided by the user using a while loop."
      ],
      "metadata": {
        "id": "-6exQQP7yfad"
      }
    },
    {
      "cell_type": "code",
      "source": [
        "# Get input from the user\n",
        "num = int(input(\"Enter a number: \"))\n",
        "\n",
        "# Initialize variables\n",
        "factorial = 1\n",
        "counter = 1\n",
        "\n",
        "# Calculate factorial using a while loop\n",
        "while counter <= num:\n",
        "    factorial *= counter\n",
        "    counter += 1\n",
        "\n",
        "# Print the result\n",
        "print(f\"The factorial of {num} is {factorial}\")\n"
      ],
      "metadata": {
        "colab": {
          "base_uri": "https://localhost:8080/"
        },
        "id": "2uuooiM4ykAm",
        "outputId": "39c880a5-47b4-4c11-cfc0-1df4b9ec5cda"
      },
      "execution_count": 6,
      "outputs": [
        {
          "output_type": "stream",
          "name": "stdout",
          "text": [
            "Enter a number: 5\n",
            "The factorial of 5 is 120\n"
          ]
        }
      ]
    }
  ]
}