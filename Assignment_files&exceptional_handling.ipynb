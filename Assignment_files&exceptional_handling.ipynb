{
  "nbformat": 4,
  "nbformat_minor": 0,
  "metadata": {
    "colab": {
      "provenance": []
    },
    "kernelspec": {
      "name": "python3",
      "display_name": "Python 3"
    },
    "language_info": {
      "name": "python"
    }
  },
  "cells": [
    {
      "cell_type": "markdown",
      "source": [
        "1. What is the difference between interpreted and compiled languages?\n",
        "\n",
        "Ans.\n",
        "\n",
        "--> Compiled Languages:\n",
        "\n",
        "Source code is converted into machine code by a compiler before execution.\n",
        "\n",
        "Example: C, C++, Rust.\n",
        "\n",
        "Pros: Faster execution, platform-specific optimization.\n",
        "\n",
        "Cons: Requires compilation step, platform-dependent.\n",
        "\n",
        "--> Interpreted Languages:\n",
        "\n",
        "Source code is translated line-by-line during execution by an interpreter.\n",
        "\n",
        "Example: Python, JavaScript.\n",
        "\n",
        "Pros: Easier debugging, platform-independent."
      ],
      "metadata": {
        "id": "yPamnFqfNEUE"
      }
    },
    {
      "cell_type": "markdown",
      "source": [
        "2. What is exception handling in Python?\n",
        "\n",
        "Ans. Exception handling in Python allows you to handle errors without crashing the program.\n",
        "\n",
        "Basic Syntax:\n",
        "\n",
        "    try:\n",
        "      # Code that may raise an exception\n",
        "    except ExceptionType:\n",
        "      # Code to handle the exception\n",
        "\n",
        "Example:\n",
        "\n",
        "    try:\n",
        "      result = 10 / 0\n",
        "    except ZeroDivisionError:\n",
        "      print(\"Cannot divide by zero!\")\n",
        "\n",
        "Key Clauses:\n",
        "\n",
        "1. try: Code that might raise an error.\n",
        "\n",
        "2. except: Handles specific exceptions.\n",
        "\n",
        "3. else: Runs if no exception occurs.\n",
        "\n",
        "4. finally: Always runs, used for cleanup.\n",
        "\n",
        "Handles errors gracefully and prevents program crashes!"
      ],
      "metadata": {
        "id": "-Oms9xMyNec6"
      }
    },
    {
      "cell_type": "markdown",
      "source": [
        "3. What is the purpose of the finally block in exception handling?\n",
        "\n",
        "Ans. The finally block in exception handling ensures that certain code runs always, regardless of whether an exception occurred or not. It's commonly used for cleanup tasks like closing files or releasing resources.\n",
        "\n",
        "Example:\n",
        "\n",
        "    try:\n",
        "      file = open('example.txt', 'r')\n",
        "    except FileNotFoundError:\n",
        "      print(\"File not found!\")\n",
        "    finally:\n",
        "      file.close()  # Always executes\n",
        "      print(\"File closed.\")\n",
        "      \n",
        "Purpose:\n",
        "Guarantees code execution (e.g., closing files) even if an exception occurs."
      ],
      "metadata": {
        "id": "3z3QFZZEOECH"
      }
    },
    {
      "cell_type": "markdown",
      "source": [
        "4.  What is logging in Python?\n",
        "\n",
        "Ans. Logging in Python helps track events and errors during program execution.\n",
        "\n",
        "Key Log Levels:\n",
        "DEBUG: Detailed information.\n",
        "\n",
        "INFO: General information.\n",
        "\n",
        "WARNING: Potential issues.\n",
        "\n",
        "ERROR: An error occurred.\n",
        "\n",
        "CRITICAL: Severe error.\n",
        "\n",
        "Basic Example:\n",
        "\n",
        "    import logging\n",
        "    logging.basicConfig(level=logging.DEBUG)\n",
        "    logging.info(\"This is an info message.\")\n",
        "    logging.error(\"This is an error message.\")\n",
        "\n",
        "Why Use Logging?\n",
        "\n",
        "For debugging and monitoring.\n",
        "\n",
        "More configurable and permanent than using print() statements."
      ],
      "metadata": {
        "id": "mmRddEoBOWES"
      }
    },
    {
      "cell_type": "markdown",
      "source": [
        "5. What is the significance of the __del__ method in Python?\n",
        "\n",
        "Ans. The __del__ method in Python is called when an object is about to be destroyed. It is used for cleanup tasks such as closing files or releasing resources.\n",
        "\n",
        "Example:\n",
        "\n",
        "    class MyClass:\n",
        "      def __del__(self):\n",
        "        print(\"Object is being destroyed!\")\n",
        "\n",
        "    obj = MyClass()\n",
        "    del obj  # Calls __del__()\n",
        "\n",
        "Key Points:\n",
        "\n",
        "Automatically called when an object is deleted or garbage collected.\n",
        "\n",
        "Used for cleanup (e.g., closing files or network connections).\n",
        "\n",
        "Not always guaranteed to be called due to garbage collection behavior."
      ],
      "metadata": {
        "id": "SHsHUa92PB-I"
      }
    },
    {
      "cell_type": "markdown",
      "source": [
        "6. What is the difference between import and from ... import in Python?\n",
        "\n",
        "Ans.\n",
        "\n",
        "--> import:\n",
        "\n",
        "Imports the entire module.\n",
        "\n",
        "Access functions/classes with module_name.function_name.\n",
        "\n",
        "Example: import math → math.sqrt(16).\n",
        "\n",
        "--> from ... import:\n",
        "\n",
        "Imports specific objects from a module.\n",
        "\n",
        "Access them directly without the module name.\n",
        "\n",
        "Example: from math import sqrt → sqrt(16).\n",
        "\n",
        "Difference:\n",
        "\n",
        "import: Brings in the whole module.\n",
        "\n",
        "from ... import: Brings in specific functions or classes."
      ],
      "metadata": {
        "id": "UErtWrHiPPT_"
      }
    },
    {
      "cell_type": "markdown",
      "source": [
        "7. How can you handle multiple exceptions in Python?\n",
        "\n",
        "Ans. In Python, you can handle multiple exceptions in these ways:\n",
        "\n",
        "Multiple exceptions in one except block:\n",
        "\n",
        "    try:\n",
        "      # Code\n",
        "    except (ExceptionType1, ExceptionType2) as e:\n",
        "      print(e)\n",
        "Multiple except blocks:\n",
        "\n",
        "    try:\n",
        "      # Code\n",
        "    except ExceptionType1:\n",
        "      # Handle error\n",
        "    except ExceptionType2:\n",
        "      # Handle error\n",
        "Catch all exceptions:\n",
        "\n",
        "    try:\n",
        "      # Code\n",
        "    except Exception as e:\n",
        "      print(e)\n",
        "Use the first method for efficiency, and multiple blocks for specific error handling!"
      ],
      "metadata": {
        "id": "mJzlflraPkV0"
      }
    },
    {
      "cell_type": "markdown",
      "source": [
        "8. What is the purpose of the with statement when handling files in Python?\n",
        "\n",
        "Ans.\n",
        "\n",
        "The with statement in Python is used for automatic resource management, like handling files, ensuring they are properly closed after use.\n",
        "\n",
        "Example:\n",
        "\n",
        "    with open('example.txt', 'r') as file:\n",
        "      content = file.read()\n",
        "      print(content)  # File is automatically closed after the block\n",
        "\n",
        "Key Points:\n",
        "\n",
        "Automatically closes the file after the block, even if an error occurs.\n",
        "\n",
        "Cleaner code without needing to explicitly call file.close()."
      ],
      "metadata": {
        "id": "_Hsf3Xd7P4nF"
      }
    },
    {
      "cell_type": "markdown",
      "source": [
        "9. What is the difference between multithreading and multiprocessing?\n",
        "\n",
        "Ans.\n",
        "\n",
        "--> Multithreading:\n",
        "\n",
        "Uses multiple threads within a single process.\n",
        "\n",
        "Shared memory between threads.\n",
        "\n",
        "Best for I/O-bound tasks (e.g., network or file operations).\n",
        "\n",
        "Limited by the Global Interpreter Lock (GIL) in Python for CPU-bound tasks.\n",
        "\n",
        "--> Multiprocessing:\n",
        "\n",
        "Uses multiple processes, each with its own memory.\n",
        "\n",
        "Independent memory for each process.\n",
        "\n",
        "Best for CPU-bound tasks (e.g., calculations).\n",
        "\n",
        "No GIL, allowing true parallelism.\n",
        "\n",
        "Key Points:\n",
        "\n",
        "Multithreading: Ideal for tasks waiting on I/O.\n",
        "\n",
        "Multiprocessing: Ideal for CPU-intensive tasks."
      ],
      "metadata": {
        "id": "FLI3V52VQTO6"
      }
    },
    {
      "cell_type": "markdown",
      "source": [
        "10. What are the advantages of using logging in a program?\n",
        "\n",
        "Ans. Advantages of using logging:\n",
        "\n",
        "Better Debugging: Logs provide detailed info on program execution.\n",
        "\n",
        "Persistent Data: Logs can be saved to files for future analysis.\n",
        "\n",
        "Separation of Concerns: Keeps program flow clean by separating output and errors.\n",
        "\n",
        "Log Levels: Control the verbosity (e.g., DEBUG, INFO).\n",
        "\n",
        "Improved Maintainability: Helps maintain and debug large programs.\n",
        "\n",
        "Real-time Monitoring: Useful for monitoring systems live.\n",
        "\n",
        "Better Error Tracking: Captures detailed error info and stack traces.\n",
        "\n",
        "Customizable: Logs can be filtered and output to different destinations.\n",
        "\n",
        "Logging is a more professional and efficient way to handle program monitoring and error tracking."
      ],
      "metadata": {
        "id": "IXRScJ-iQmew"
      }
    },
    {
      "cell_type": "markdown",
      "source": [
        "11. What is memory management in Python?\n",
        "\n",
        "Ans.\n",
        "\n",
        "Memory management in Python involves automatic handling of memory allocation and deallocation:\n",
        "\n",
        "Automatic Allocation: Python automatically allocates memory for objects.\n",
        "\n",
        "Garbage Collection: Unused objects are cleaned up by reference counting and cyclic garbage collection.\n",
        "\n",
        "Reference Counting: Objects are deleted when their reference count drops to zero.\n",
        "\n",
        "Memory Pools: Small objects are grouped into memory pools for efficiency.\n",
        "\n",
        "del Statement: Explicitly deletes objects, but memory is freed only when the reference count hits zero.\n",
        "\n",
        "Memory Leaks: Can still occur, especially with circular references.\n",
        "\n",
        "Python handles most memory tasks automatically, reducing manual intervention"
      ],
      "metadata": {
        "id": "NnQp_FBAQwpn"
      }
    },
    {
      "cell_type": "markdown",
      "source": [
        "12. What are the basic steps involved in exception handling in Python?\n",
        "\n",
        "Ans. The basic steps in exception handling in Python are:\n",
        "\n",
        "Try: Place code that might raise an exception.\n",
        "\n",
        "Except: Handle the exception if one occurs.\n",
        "\n",
        "Else: Execute if no exceptions occur.\n",
        "\n",
        "Finally: Always execute, used for cleanup.\n",
        "\n",
        "Example:\n",
        "\n",
        "    try:\n",
        "      # Code that might raise an exception\n",
        "    except Exception as e:\n",
        "      # Handle exception\n",
        "    else:\n",
        "      # Run if no exception occurs\n",
        "    finally:\n",
        "      # Always run"
      ],
      "metadata": {
        "id": "KR5qF6o9Q-gZ"
      }
    },
    {
      "cell_type": "markdown",
      "source": [
        "13. Why is memory management important in Python?\n",
        "\n",
        "Ans. Memory management in Python is important because it:\n",
        "\n",
        "Ensures efficient use of resources.\n",
        "\n",
        "Prevents memory leaks.\n",
        "\n",
        "Optimizes performance, especially in large programs.\n",
        "\n",
        "Automatically handles cleanup with garbage collection.\n",
        "\n",
        "Supports scalability for handling large data sets.\n",
        "\n",
        "It helps keep programs fast, stable, and resource-efficient."
      ],
      "metadata": {
        "id": "Z1ycDYA6RRNp"
      }
    },
    {
      "cell_type": "markdown",
      "source": [
        "14. What is the role of try and except in exception handling?\n",
        "\n",
        "Ans. In exception handling:\n",
        "\n",
        "try: Contains code that may raise an exception.\n",
        "\n",
        "except: Catches and handles the exception if one occurs.\n",
        "\n",
        "Example:\n",
        "\n",
        "    try:\n",
        "      x = 10 / 0\n",
        "    except ZeroDivisionError:\n",
        "      print(\"Cannot divide by zero!\")"
      ],
      "metadata": {
        "id": "e5tu1iZKRZJ-"
      }
    },
    {
      "cell_type": "markdown",
      "source": [
        "15. How does Python's garbage collection system work?\n",
        "\n",
        "Ans. Python's garbage collection works through:\n",
        "\n",
        "Reference Counting: Each object has a reference count. When it drops to zero (no references), memory is freed.\n",
        "\n",
        "Cyclic Garbage Collection: Handles circular references (e.g., objects referencing each other) using periodic checks.\n",
        "\n",
        "Generational Approach: Objects are grouped into generations for more efficient collection.\n",
        "\n",
        "Manual control is possible via the gc module to force or inspect garbage collection."
      ],
      "metadata": {
        "id": "XJl0jh0RSCmY"
      }
    },
    {
      "cell_type": "markdown",
      "source": [
        "16.  What is the purpose of the else block in exception handling?\n",
        "\n",
        "Ans. The else block in exception handling runs if no exceptions occur in the try block. It helps separate normal execution logic from error-handling code.\n",
        "\n",
        "Example:\n",
        "\n",
        "    try:\n",
        "      x = 10 / 2  # No exception\n",
        "    except ZeroDivisionError:\n",
        "      print(\"Cannot divide by zero!\")\n",
        "    else:\n",
        "      print(\"Division was successful!\")"
      ],
      "metadata": {
        "id": "HvjVABrbSQG0"
      }
    },
    {
      "cell_type": "markdown",
      "source": [
        "17. What are the common logging levels in Python?\n",
        "\n",
        "Ans. Common logging levels in Python:\n",
        "\n",
        "DEBUG: Detailed info, useful for debugging.\n",
        "\n",
        "INFO: General program information.\n",
        "\n",
        "WARNING: Non-critical issues.\n",
        "\n",
        "ERROR: Serious problems causing failures.\n",
        "\n",
        "CRITICAL: Very serious issues, often fatal.\n",
        "\n",
        "Example:\n",
        "\n",
        "    import logging\n",
        "    logging.basicConfig(level=logging.DEBUG)\n",
        "    logging.debug(\"Debug message\")\n",
        "    logging.error(\"Error message\")"
      ],
      "metadata": {
        "id": "FaZwJFz6ScsB"
      }
    },
    {
      "cell_type": "markdown",
      "source": [
        "18.  What is the difference between os.fork() and multiprocessing in Python?\n",
        "\n",
        "Ans. os.fork():\n",
        "\n",
        "Low-level, available only on Unix-like systems.\n",
        "\n",
        "Shares memory between parent and child processes.\n",
        "\n",
        "Less flexible and control over process management.\n",
        "\n",
        "multiprocessing:\n",
        "\n",
        "High-level module, works on both Unix and Windows.\n",
        "\n",
        "Each process has separate memory.\n",
        "\n",
        "Provides better process management and control (e.g., pooling, queues)."
      ],
      "metadata": {
        "id": "ZU4vh4eFSqfw"
      }
    },
    {
      "cell_type": "markdown",
      "source": [
        "19. What is the importance of closing a file in Python?\n",
        "\n",
        "Ans. Closing a file in Python is important to:\n",
        "\n",
        "Free system resources (like file handles).\n",
        "\n",
        "Ensure data integrity by saving all changes.\n",
        "\n",
        "Prevent file corruption or incomplete writes.\n",
        "\n",
        "Release file locks for other processes.\n",
        "\n",
        "Use the with statement for automatic file closure:\n",
        "\n",
        "    with open(\"file.txt\", \"w\") as file:\n",
        "      file.write(\"Hello!\")"
      ],
      "metadata": {
        "id": "TF4c6ePfS0cZ"
      }
    },
    {
      "cell_type": "markdown",
      "source": [
        "20. What is the difference between file.read() and file.readline() in Python?\n",
        "\n",
        "Ans. The difference between file.read() and file.readline() in Python is how they read the contents of a file:\n",
        "\n",
        "--> file.read():\n",
        "\n",
        "Reads the entire content of the file at once.\n",
        "\n",
        "Returns the content as a single string, including all lines.\n",
        "\n",
        "Useful when you need to process the entire file at once.\n",
        "\n",
        "    with open(\"file.txt\", \"r\") as file:\n",
        "      content = file.read()\n",
        "      print(content)\n",
        "\n",
        "--> file.readline():\n",
        "\n",
        "Reads one line at a time from the file.\n",
        "\n",
        "Returns the next line as a string each time it is called.\n",
        "\n",
        "Useful for processing large files line-by-line to save memory.\n",
        "\n",
        "    with open(\"file.txt\", \"r\") as file:\n",
        "      line = file.readline()\n",
        "      print(line)"
      ],
      "metadata": {
        "id": "JAY8WfrBS9al"
      }
    },
    {
      "cell_type": "markdown",
      "source": [
        "21. What is the logging module in Python used for?\n",
        "\n",
        "Ans.The logging module in Python is used for:\n",
        "\n",
        "Recording Log Messages: It allows you to log messages with different severity levels (e.g., DEBUG, INFO, WARNING, ERROR, CRITICAL).\n",
        "\n",
        "Tracking Program Execution: It helps track events and errors in the program, which is useful for debugging, monitoring, and auditing.\n",
        "\n",
        "Configurable Output: You can log messages to different outputs such as the console, files, or external systems.\n",
        "\n",
        "Customizable Logging Levels: Log messages can be filtered by their severity, making it easier to control what gets logged.\n",
        "\n",
        "Example:\n",
        "\n",
        "    import logging\n",
        "\n",
        "    logging.basicConfig(level=logging.INFO)\n",
        "    logging.debug(\"This is a debug message\")  # Won't show, as the level is INFO\n",
        "    logging.info(\"This is an info message\")   # Will be logged\n",
        "    logging.error(\"This is an error message\") # Will be logged"
      ],
      "metadata": {
        "id": "6K4xjVCpTSo5"
      }
    },
    {
      "cell_type": "markdown",
      "source": [
        "22. What is the os module in Python used for in file handling?\n",
        "\n",
        "Ans.\n",
        "\n",
        "The os module in Python is used for:\n",
        "\n",
        "Path Manipulation: os.path.join(), os.path.exists(), etc.\n",
        "\n",
        "File Operations: os.remove(), os.rename(), os.mkdir().\n",
        "\n",
        "Directory Operations: os.listdir(), os.walk().\n",
        "\n",
        "It helps manage files and directories, and interact with the operating system."
      ],
      "metadata": {
        "id": "tIVDeHNBTg5P"
      }
    },
    {
      "cell_type": "markdown",
      "source": [
        "23. What are the challenges associated with memory management in Python?\n",
        "\n",
        "Ans. Challenges in Python memory management:\n",
        "\n",
        "Garbage Collection: Issues with circular references and non-deterministic cleanup.\n",
        "\n",
        "Memory Leaks: Caused by reference cycles and faulty third-party libraries.\n",
        "\n",
        "High Memory Usage: Due to Python's object overhead and potential memory fragmentation.\n",
        "\n",
        "Multi-threading/Multiprocessing: Memory inefficiency due to the GIL and complex data sharing.\n",
        "\n",
        "Data Structure Overhead: Built-in structures like lists and dictionaries consume more memory."
      ],
      "metadata": {
        "id": "gSObiKL2TrIp"
      }
    },
    {
      "cell_type": "markdown",
      "source": [
        "24. How do you raise an exception manually in Python?\n",
        "\n",
        "Ans. We can raise an exception manually in Python using the raise keyword:\n",
        "\n",
        "    raise Exception(\"Error message\")  # Generic exception\n",
        "    raise ValueError(\"Invalid value!\")  # Specific exception"
      ],
      "metadata": {
        "id": "DJ5kn5PtT12d"
      }
    },
    {
      "cell_type": "markdown",
      "source": [
        "25. Why is it important to use multithreading in certain applications?\n",
        "\n",
        "Ans. Multithreading is important because it:\n",
        "\n",
        "Improves performance by parallelizing tasks on multi-core processors.\n",
        "\n",
        "Enhances responsiveness in applications (e.g., UI stays active).\n",
        "\n",
        "Increases resource utilization, especially for I/O-bound tasks.\n",
        "\n",
        "Reduces latency in real-time applications.\n",
        "\n",
        "It allows concurrent task execution, making applications faster and more efficient."
      ],
      "metadata": {
        "id": "uaycdckIUG0z"
      }
    },
    {
      "cell_type": "markdown",
      "source": [
        "# **CODING**"
      ],
      "metadata": {
        "id": "YVVlNu7gUTJb"
      }
    },
    {
      "cell_type": "markdown",
      "source": [
        "1. How can you open a file for writing in Python and write a string to it?"
      ],
      "metadata": {
        "id": "2TOZfrQpUXoS"
      }
    },
    {
      "cell_type": "code",
      "source": [
        "file = open(\"example.txt\", \"w\")  # Open the file in write mode\n",
        "file.write(\"Hello, world!\")      # Write a string to the file\n",
        "file.close()                     # Close the file"
      ],
      "metadata": {
        "id": "4RwcEVp_UenW"
      },
      "execution_count": 1,
      "outputs": []
    },
    {
      "cell_type": "markdown",
      "source": [
        "2. Write a Python program to read the contents of a file and print each line?"
      ],
      "metadata": {
        "id": "UBA0P3oQU07g"
      }
    },
    {
      "cell_type": "code",
      "source": [
        "# Open the file in read mode\n",
        "with open(\"example.txt\", \"r\") as file:\n",
        "    # Read and print each line\n",
        "    for line in file:\n",
        "        print(line, end=\"\")  # 'end=\"\"' to avoid double newlines"
      ],
      "metadata": {
        "colab": {
          "base_uri": "https://localhost:8080/"
        },
        "id": "2ToidBtWU49x",
        "outputId": "8864f6a4-f2b8-4cdf-cf04-7c0ed6b8691b"
      },
      "execution_count": 2,
      "outputs": [
        {
          "output_type": "stream",
          "name": "stdout",
          "text": [
            "Hello, world!"
          ]
        }
      ]
    },
    {
      "cell_type": "markdown",
      "source": [
        "3. How would you handle a case where the file doesn't exist while trying to open it for reading?"
      ],
      "metadata": {
        "id": "k5TPFRlSU7hK"
      }
    },
    {
      "cell_type": "code",
      "source": [
        "try:\n",
        "    with open(\"example.txt\", \"r\") as file:\n",
        "        for line in file:\n",
        "            print(line, end=\"\")\n",
        "except FileNotFoundError:\n",
        "    print(\"The file does not exist.\")"
      ],
      "metadata": {
        "colab": {
          "base_uri": "https://localhost:8080/"
        },
        "id": "Mz3b1I-xU_pJ",
        "outputId": "37bc8d8e-24bb-41cd-dda6-475e21f17751"
      },
      "execution_count": 3,
      "outputs": [
        {
          "output_type": "stream",
          "name": "stdout",
          "text": [
            "Hello, world!"
          ]
        }
      ]
    },
    {
      "cell_type": "markdown",
      "source": [
        "4.  Write a Python script that reads from one file and writes its content to another file."
      ],
      "metadata": {
        "id": "7oYsC3alVCJe"
      }
    },
    {
      "cell_type": "code",
      "source": [
        "# Open the source file for reading and the destination file for writing\n",
        "with open(\"source.txt\", \"r\") as source_file:\n",
        "    with open(\"destination.txt\", \"w\") as destination_file:\n",
        "        # Read the content of the source file and write it to the destination file\n",
        "        content = source_file.read()\n",
        "        destination_file.write(content)"
      ],
      "metadata": {
        "id": "C_mD_uf8VRTQ"
      },
      "execution_count": null,
      "outputs": []
    },
    {
      "cell_type": "markdown",
      "source": [
        "5. How would you catch and handle division by zero error in Python?"
      ],
      "metadata": {
        "id": "QBMhpiIYVSVT"
      }
    },
    {
      "cell_type": "code",
      "source": [
        "try:\n",
        "    # Perform division\n",
        "    result = 10 / 0\n",
        "except ZeroDivisionError:\n",
        "    # Handle division by zero error\n",
        "    print(\"Error: Cannot divide by zero!\")\n",
        "else:\n",
        "    print(\"The result is:\", result)"
      ],
      "metadata": {
        "colab": {
          "base_uri": "https://localhost:8080/"
        },
        "id": "ZjD-d6JIVXxP",
        "outputId": "1b0b8a42-4edd-4b06-d25f-211321b02c0d"
      },
      "execution_count": 5,
      "outputs": [
        {
          "output_type": "stream",
          "name": "stdout",
          "text": [
            "Error: Cannot divide by zero!\n"
          ]
        }
      ]
    },
    {
      "cell_type": "markdown",
      "source": [
        "6. Write a Python program that logs an error message to a log file when a division by zero exception occurs?"
      ],
      "metadata": {
        "id": "rCP-XJdCVa4W"
      }
    },
    {
      "cell_type": "code",
      "source": [
        "import logging\n",
        "\n",
        "# Set up logging to log error messages to a file\n",
        "logging.basicConfig(filename='error_log.txt', level=logging.ERROR)\n",
        "\n",
        "try:\n",
        "    # Perform division\n",
        "    result = 10 / 0\n",
        "except ZeroDivisionError as e:\n",
        "    # Log the error message\n",
        "    logging.error(f\"Error: Division by zero occurred. Exception details: {e}\")\n",
        "    print(\"An error occurred. Check the log file for details.\")"
      ],
      "metadata": {
        "colab": {
          "base_uri": "https://localhost:8080/"
        },
        "id": "tHSRuLaYVfe2",
        "outputId": "df5b99bb-88f8-48e6-c280-98e67ec95179"
      },
      "execution_count": 6,
      "outputs": [
        {
          "output_type": "stream",
          "name": "stderr",
          "text": [
            "ERROR:root:Error: Division by zero occurred. Exception details: division by zero\n"
          ]
        },
        {
          "output_type": "stream",
          "name": "stdout",
          "text": [
            "An error occurred. Check the log file for details.\n"
          ]
        }
      ]
    },
    {
      "cell_type": "markdown",
      "source": [
        "7. How do you log information at different levels (INFO, ERROR, WARNING) in Python using the logging module?"
      ],
      "metadata": {
        "id": "6nA7AsyoViDY"
      }
    },
    {
      "cell_type": "code",
      "source": [
        "import logging\n",
        "\n",
        "# Set up basic configuration for logging\n",
        "logging.basicConfig(filename='app.log', level=logging.DEBUG)\n",
        "\n",
        "# Log messages at different levels\n",
        "logging.debug(\"This is a debug message.\")   # For detailed troubleshooting\n",
        "logging.info(\"This is an info message.\")    # For general information\n",
        "logging.warning(\"This is a warning message.\")  # When something unexpected happens\n",
        "logging.error(\"This is an error message.\")   # When an error occurs\n",
        "logging.critical(\"This is a critical message.\")  # For severe situations"
      ],
      "metadata": {
        "colab": {
          "base_uri": "https://localhost:8080/"
        },
        "id": "ttw5IfaEVl47",
        "outputId": "f8104793-068d-460c-e5be-effeb7235d45"
      },
      "execution_count": 7,
      "outputs": [
        {
          "output_type": "stream",
          "name": "stderr",
          "text": [
            "WARNING:root:This is a warning message.\n",
            "ERROR:root:This is an error message.\n",
            "CRITICAL:root:This is a critical message.\n"
          ]
        }
      ]
    },
    {
      "cell_type": "markdown",
      "source": [
        "8. Write a program to handle a file opening error using exception handling?"
      ],
      "metadata": {
        "id": "PsI3F5f-VqHx"
      }
    },
    {
      "cell_type": "code",
      "source": [
        "try:\n",
        "    # Attempt to open a file that may not exist\n",
        "    file = open(\"nonexistent_file.txt\", \"r\")\n",
        "    content = file.read()\n",
        "    print(content)\n",
        "except FileNotFoundError:\n",
        "    # Handle the case where the file does not exist\n",
        "    print(\"Error: The file does not exist.\")\n",
        "except Exception as e:\n",
        "    # Handle any other unexpected exceptions\n",
        "    print(f\"An unexpected error occurred: {e}\")\n",
        "finally:\n",
        "    # Ensure the file is closed if it was opened\n",
        "    if 'file' in locals():\n",
        "        file.close()"
      ],
      "metadata": {
        "colab": {
          "base_uri": "https://localhost:8080/"
        },
        "id": "qakwNi5nVt14",
        "outputId": "c3ef1635-881e-4cd1-b563-cbb89dc181de"
      },
      "execution_count": 8,
      "outputs": [
        {
          "output_type": "stream",
          "name": "stdout",
          "text": [
            "Error: The file does not exist.\n"
          ]
        }
      ]
    },
    {
      "cell_type": "markdown",
      "source": [
        "9. How can you read a file line by line and store its content in a list in Python."
      ],
      "metadata": {
        "id": "cKfmusb-VxNF"
      }
    },
    {
      "cell_type": "code",
      "source": [
        "# Open the file in read mode\n",
        "with open(\"example.txt\", \"r\") as file:\n",
        "    # Read all lines and store them in a list\n",
        "    lines = file.readlines()\n",
        "\n",
        "# Print the list to see the content\n",
        "print(lines)"
      ],
      "metadata": {
        "colab": {
          "base_uri": "https://localhost:8080/"
        },
        "id": "ccl9CJjbV0pS",
        "outputId": "57d6ad74-d204-482b-c61f-d9f6c19f0114"
      },
      "execution_count": 9,
      "outputs": [
        {
          "output_type": "stream",
          "name": "stdout",
          "text": [
            "['Hello, world!']\n"
          ]
        }
      ]
    },
    {
      "cell_type": "markdown",
      "source": [
        "10. How can you append data to an existing file in Python."
      ],
      "metadata": {
        "id": "Iqi3AJjkV4Gp"
      }
    },
    {
      "cell_type": "code",
      "source": [
        "# Open the file in append mode\n",
        "with open(\"example.txt\", \"a\") as file:\n",
        "    # Append a string to the file\n",
        "    file.write(\"This is the new data being appended.\\n\")"
      ],
      "metadata": {
        "id": "C_I7pvGuV-EI"
      },
      "execution_count": 11,
      "outputs": []
    },
    {
      "cell_type": "markdown",
      "source": [
        "11. Write a Python program that uses a try-except block to handle an error when attempting to access a\n",
        "dictionary key that doesn't exist."
      ],
      "metadata": {
        "id": "P0ht4zHFWCaE"
      }
    },
    {
      "cell_type": "code",
      "source": [
        "# Define a dictionary\n",
        "my_dict = {\"name\": \"John\", \"age\": 25}\n",
        "\n",
        "try:\n",
        "    # Attempt to access a key that doesn't exist\n",
        "    value = my_dict[\"address\"]\n",
        "except KeyError:\n",
        "    # Handle the case where the key doesn't exist\n",
        "    print(\"Error: The key 'address' does not exist in the dictionary.\")\n",
        "else:\n",
        "    # If no error occurs, print the value\n",
        "    print(f\"The value for the key is: {value}\")"
      ],
      "metadata": {
        "colab": {
          "base_uri": "https://localhost:8080/"
        },
        "id": "MkNOLrISWJis",
        "outputId": "cdc22dfa-a147-4d87-e60d-7d111c05c24d"
      },
      "execution_count": 12,
      "outputs": [
        {
          "output_type": "stream",
          "name": "stdout",
          "text": [
            "Error: The key 'address' does not exist in the dictionary.\n"
          ]
        }
      ]
    },
    {
      "cell_type": "markdown",
      "source": [
        "12. Write a program that demonstrates using multiple except blocks to handle different types of exceptions."
      ],
      "metadata": {
        "id": "CzAdLDZeWMR3"
      }
    },
    {
      "cell_type": "code",
      "source": [
        "try:\n",
        "    # Code that might raise different types of exceptions\n",
        "    num = int(input(\"Enter a number: \"))  # May raise ValueError if input is not a valid integer\n",
        "    result = 10 / num  # May raise ZeroDivisionError if num is 0\n",
        "    print(\"The result is:\", result)\n",
        "\n",
        "except ValueError:\n",
        "    # Handle invalid input that can't be converted to an integer\n",
        "    print(\"Error: Invalid input! Please enter a valid number.\")\n",
        "\n",
        "except ZeroDivisionError:\n",
        "    # Handle division by zero error\n",
        "    print(\"Error: Cannot divide by zero!\")\n",
        "\n",
        "except Exception as e:\n",
        "    # Catch any other exceptions\n",
        "    print(f\"An unexpected error occurred: {e}\")"
      ],
      "metadata": {
        "colab": {
          "base_uri": "https://localhost:8080/"
        },
        "id": "g_GLfMhEWUhu",
        "outputId": "cded162d-9bd6-477b-dac4-fb80ae46e1f1"
      },
      "execution_count": 13,
      "outputs": [
        {
          "output_type": "stream",
          "name": "stdout",
          "text": [
            "Enter a number: 3\n",
            "The result is: 3.3333333333333335\n"
          ]
        }
      ]
    },
    {
      "cell_type": "markdown",
      "source": [
        "13. How would you check if a file exists before attempting to read it in Python?"
      ],
      "metadata": {
        "id": "Dl2b7sLxWXrB"
      }
    },
    {
      "cell_type": "code",
      "source": [
        "import os\n",
        "\n",
        "if os.path.exists(\"example.txt\"):\n",
        "    with open(\"example.txt\", \"r\") as file:\n",
        "        content = file.read()\n",
        "        print(content)\n",
        "else:\n",
        "    print(\"File does not exist.\")"
      ],
      "metadata": {
        "colab": {
          "base_uri": "https://localhost:8080/"
        },
        "id": "JtY1-mTeWb0s",
        "outputId": "c081e718-6c14-4903-b9dd-efbb60fc0869"
      },
      "execution_count": 14,
      "outputs": [
        {
          "output_type": "stream",
          "name": "stdout",
          "text": [
            "Hello, world!This is the new data being appended.\n",
            "This is the new data being appended.\n",
            "\n"
          ]
        }
      ]
    },
    {
      "cell_type": "markdown",
      "source": [
        "14.  Write a program that uses the logging module to log both informational and error messages."
      ],
      "metadata": {
        "id": "i_yiCE1NWgkp"
      }
    },
    {
      "cell_type": "code",
      "source": [
        "import logging\n",
        "\n",
        "# Configure the logging system\n",
        "logging.basicConfig(\n",
        "    filename='app.log',           # Log file name\n",
        "    level=logging.DEBUG,          # Log level (DEBUG captures all levels)\n",
        "    format='%(asctime)s - %(levelname)s - %(message)s'  # Log message format\n",
        ")\n",
        "\n",
        "# Log an informational message\n",
        "logging.info(\"Program started successfully.\")\n",
        "\n",
        "try:\n",
        "    # Example operation\n",
        "    number = int(input(\"Enter a number: \"))\n",
        "    result = 10 / number\n",
        "    logging.info(f\"Division successful. Result: {result}\")\n",
        "except ZeroDivisionError:\n",
        "    logging.error(\"Attempted to divide by zero.\")\n",
        "except ValueError:\n",
        "    logging.error(\"Invalid input. Not a number.\")\n",
        "except Exception as e:\n",
        "    logging.error(f\"Unexpected error: {e}\")\n",
        "else:\n",
        "    print(f\"Result: {result}\")\n",
        "finally:\n",
        "    logging.info(\"Program finished running.\")"
      ],
      "metadata": {
        "colab": {
          "base_uri": "https://localhost:8080/"
        },
        "id": "1Mo1pdUqWlnl",
        "outputId": "215f89e1-1e0a-41ac-e7b0-0e6166614a48"
      },
      "execution_count": 15,
      "outputs": [
        {
          "output_type": "stream",
          "name": "stdout",
          "text": [
            "Enter a number: 45\n",
            "Result: 0.2222222222222222\n"
          ]
        }
      ]
    },
    {
      "cell_type": "markdown",
      "source": [
        "15. Write a Python program that prints the content of a file and handles the case when the file is empty."
      ],
      "metadata": {
        "id": "kZcOP4sWWpwL"
      }
    },
    {
      "cell_type": "code",
      "source": [
        "def print_file_content(filename):\n",
        "    try:\n",
        "        with open(filename, 'r') as file:\n",
        "            content = file.read()\n",
        "            if content.strip():  # Check if file is not empty (ignores spaces/newlines)\n",
        "                print(\"File content:\\n\")\n",
        "                print(content)\n",
        "            else:\n",
        "                print(\"The file is empty.\")\n",
        "    except FileNotFoundError:\n",
        "        print(\"Error: File not found.\")\n",
        "    except Exception as e:\n",
        "        print(f\"An error occurred: {e}\")\n",
        "\n",
        "# Replace 'example.txt' with your file name\n",
        "print_file_content('example.txt')"
      ],
      "metadata": {
        "colab": {
          "base_uri": "https://localhost:8080/"
        },
        "id": "xKinKfB4Wwbw",
        "outputId": "ae2069cf-bff6-47fb-d072-3d01421fdf92"
      },
      "execution_count": 16,
      "outputs": [
        {
          "output_type": "stream",
          "name": "stdout",
          "text": [
            "File content:\n",
            "\n",
            "Hello, world!This is the new data being appended.\n",
            "This is the new data being appended.\n",
            "\n"
          ]
        }
      ]
    },
    {
      "cell_type": "markdown",
      "source": [
        "16. Demonstrate how to use memory profiling to check the memory usage of a small program?"
      ],
      "metadata": {
        "id": "pGwHtqa7WyW_"
      }
    },
    {
      "cell_type": "markdown",
      "source": [
        "Install:\n",
        "\n",
        "pip install memory-profiler\n",
        "\n",
        "Use in code:\n",
        "\n",
        "from memory_profiler import profile\n",
        "\n",
        "@profile\n",
        "def test():\n",
        "    a = [i for i in range(1000000)]\n",
        "    return a\n",
        "\n",
        "test()\n",
        "\n",
        "Run:\n",
        "\n",
        "python -m memory_profiler your_script.py"
      ],
      "metadata": {
        "id": "_6zl-1g5XBc4"
      }
    },
    {
      "cell_type": "markdown",
      "source": [
        "17. Write a Python program to create and write a list of numbers to a file, one number per line"
      ],
      "metadata": {
        "id": "lnE66UOKXHRS"
      }
    },
    {
      "cell_type": "code",
      "source": [
        "# List of numbers to write\n",
        "numbers = [10, 20, 30, 40, 50]\n",
        "\n",
        "# Open the file in write mode\n",
        "with open(\"numbers.txt\", \"w\") as file:\n",
        "    for number in numbers:\n",
        "        file.write(str(number) + \"\\n\")\n",
        "\n",
        "print(\"Numbers written to 'numbers.txt'\")"
      ],
      "metadata": {
        "colab": {
          "base_uri": "https://localhost:8080/"
        },
        "id": "5UOLlcy4X2pB",
        "outputId": "5dab3f33-13cb-4e44-cdcd-249a83641fae"
      },
      "execution_count": 17,
      "outputs": [
        {
          "output_type": "stream",
          "name": "stdout",
          "text": [
            "Numbers written to 'numbers.txt'\n"
          ]
        }
      ]
    },
    {
      "cell_type": "markdown",
      "source": [
        "18. How would you implement a basic logging setup that logs to a file with rotation after 1MB."
      ],
      "metadata": {
        "id": "lbNNURCCX646"
      }
    },
    {
      "cell_type": "code",
      "source": [
        "import logging\n",
        "from logging.handlers import RotatingFileHandler\n",
        "\n",
        "# Setup rotating logger\n",
        "logger = logging.getLogger(\"MyLogger\")\n",
        "logger.setLevel(logging.DEBUG)\n",
        "\n",
        "# Create handler: log file rotates after 1MB, keep 3 backups\n",
        "handler = RotatingFileHandler(\"app.log\", maxBytes=1_000_000, backupCount=3)\n",
        "formatter = logging.Formatter('%(asctime)s - %(levelname)s - %(message)s')\n",
        "handler.setFormatter(formatter)\n",
        "\n",
        "logger.addHandler(handler)\n",
        "\n",
        "# Example log messages\n",
        "logger.info(\"This is an info message.\")\n",
        "logger.error(\"This is an error message.\")"
      ],
      "metadata": {
        "colab": {
          "base_uri": "https://localhost:8080/"
        },
        "id": "ogL7XtXYYERV",
        "outputId": "f1260bca-141f-4ee1-ef9c-52a286494b7d"
      },
      "execution_count": 18,
      "outputs": [
        {
          "output_type": "stream",
          "name": "stderr",
          "text": [
            "INFO:MyLogger:This is an info message.\n",
            "ERROR:MyLogger:This is an error message.\n"
          ]
        }
      ]
    },
    {
      "cell_type": "markdown",
      "source": [
        "19. Write a program that handles both IndexError and KeyError using a try-except block?"
      ],
      "metadata": {
        "id": "7sRFtxJTs7jF"
      }
    },
    {
      "cell_type": "code",
      "source": [
        "my_list = [1, 2, 3]\n",
        "my_dict = {\"name\": \"Alice\", \"age\": 30}\n",
        "\n",
        "try:\n",
        "    # Trying to access an invalid index in the list\n",
        "    print(\"List item:\", my_list[5])\n",
        "\n",
        "    # Trying to access a missing key in the dictionary\n",
        "    print(\"Address:\", my_dict[\"address\"])\n",
        "\n",
        "except IndexError:\n",
        "    print(\"IndexError: List index out of range.\")\n",
        "\n",
        "except KeyError:\n",
        "    print(\"KeyError: Key not found in the dictionary.\")\n",
        "\n",
        "except Exception as e:\n",
        "    print(f\"An unexpected error occurred: {e}\")"
      ],
      "metadata": {
        "colab": {
          "base_uri": "https://localhost:8080/"
        },
        "id": "dFlmCsfOs9bM",
        "outputId": "b11473f3-fcfe-42c0-d6eb-2e40218116a9"
      },
      "execution_count": 19,
      "outputs": [
        {
          "output_type": "stream",
          "name": "stdout",
          "text": [
            "IndexError: List index out of range.\n"
          ]
        }
      ]
    },
    {
      "cell_type": "markdown",
      "source": [
        "20. How would you open a file and read its contents using a context manager in Python?"
      ],
      "metadata": {
        "id": "_FG7GWBPtBBE"
      }
    },
    {
      "cell_type": "code",
      "source": [
        "with open(\"example.txt\", \"r\") as file:\n",
        "    content = file.read()\n",
        "    print(content)"
      ],
      "metadata": {
        "colab": {
          "base_uri": "https://localhost:8080/"
        },
        "id": "NiV0B5WftDnT",
        "outputId": "4bf1dfec-82b5-4e31-a45e-94e902ed3f7b"
      },
      "execution_count": 20,
      "outputs": [
        {
          "output_type": "stream",
          "name": "stdout",
          "text": [
            "Hello, world!This is the new data being appended.\n",
            "This is the new data being appended.\n",
            "\n"
          ]
        }
      ]
    },
    {
      "cell_type": "markdown",
      "source": [
        "21.  Write a Python program that reads a file and prints the number of occurrences of a specific word."
      ],
      "metadata": {
        "id": "FDd-S730tIHm"
      }
    },
    {
      "cell_type": "code",
      "source": [
        "def count_word_occurrences(filename, target_word):\n",
        "    try:\n",
        "        with open(filename, 'r') as file:\n",
        "            content = file.read()\n",
        "            word_count = content.lower().split().count(target_word.lower())\n",
        "            print(f\"The word '{target_word}' occurs {word_count} times in the file.\")\n",
        "    except FileNotFoundError:\n",
        "        print(\"Error: File not found.\")\n",
        "    except Exception as e:\n",
        "        print(f\"An error occurred: {e}\")\n",
        "\n",
        "# Example usage\n",
        "count_word_occurrences(\"example.txt\", \"python\")\n"
      ],
      "metadata": {
        "colab": {
          "base_uri": "https://localhost:8080/"
        },
        "id": "HuBb0Gv8tRZN",
        "outputId": "216707be-8ff6-47ec-b7ea-ec125b47a279"
      },
      "execution_count": 21,
      "outputs": [
        {
          "output_type": "stream",
          "name": "stdout",
          "text": [
            "The word 'python' occurs 0 times in the file.\n"
          ]
        }
      ]
    },
    {
      "cell_type": "markdown",
      "source": [
        "22. How can you check if a file is empty before attempting to read its contents?"
      ],
      "metadata": {
        "id": "bCkk2JR3tSpM"
      }
    },
    {
      "cell_type": "code",
      "source": [
        "import os\n",
        "\n",
        "file_path = \"example.txt\"\n",
        "\n",
        "if os.path.getsize(file_path) == 0:\n",
        "    print(\"The file is empty.\")\n",
        "else:\n",
        "    with open(file_path, \"r\") as file:\n",
        "        content = file.read()\n",
        "        print(content)"
      ],
      "metadata": {
        "colab": {
          "base_uri": "https://localhost:8080/"
        },
        "id": "iHtzspmttdQn",
        "outputId": "28ffea5e-cbeb-489e-d264-9979c8bb7d8e"
      },
      "execution_count": 22,
      "outputs": [
        {
          "output_type": "stream",
          "name": "stdout",
          "text": [
            "Hello, world!This is the new data being appended.\n",
            "This is the new data being appended.\n",
            "\n"
          ]
        }
      ]
    },
    {
      "cell_type": "markdown",
      "source": [
        "23.  Write a Python program that writes to a log file when an error occurs during file handling."
      ],
      "metadata": {
        "id": "5H9mYRHctfhS"
      }
    },
    {
      "cell_type": "code",
      "source": [
        "import logging\n",
        "\n",
        "# Configure logging\n",
        "logging.basicConfig(\n",
        "    filename='file_errors.log',\n",
        "    level=logging.ERROR,\n",
        "    format='%(asctime)s - %(levelname)s - %(message)s'\n",
        ")\n",
        "\n",
        "def read_file(filename):\n",
        "    try:\n",
        "        with open(filename, 'r') as file:\n",
        "            print(file.read())\n",
        "    except FileNotFoundError:\n",
        "        logging.error(f\"File '{filename}' not found.\")\n",
        "        print(\"Error: File not found.\")\n",
        "    except Exception as e:\n",
        "        logging.error(f\"An unexpected error occurred: {e}\")\n",
        "        print(\"An unexpected error occurred.\")\n",
        "\n",
        "# Example usage\n",
        "read_file(\"nonexistent_file.txt\")"
      ],
      "metadata": {
        "colab": {
          "base_uri": "https://localhost:8080/"
        },
        "id": "JdSVzFxetorQ",
        "outputId": "5100fc26-60b0-450f-9c84-f3697741b905"
      },
      "execution_count": 23,
      "outputs": [
        {
          "output_type": "stream",
          "name": "stderr",
          "text": [
            "ERROR:root:File 'nonexistent_file.txt' not found.\n"
          ]
        },
        {
          "output_type": "stream",
          "name": "stdout",
          "text": [
            "Error: File not found.\n"
          ]
        }
      ]
    }
  ]
}