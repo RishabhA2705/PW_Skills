{
  "nbformat": 4,
  "nbformat_minor": 0,
  "metadata": {
    "colab": {
      "provenance": []
    },
    "kernelspec": {
      "name": "python3",
      "display_name": "Python 3"
    },
    "language_info": {
      "name": "python"
    }
  },
  "cells": [
    {
      "cell_type": "markdown",
      "source": [
        "1. What is a random variable in probability theory.\n",
        "\n",
        "Ans. A random variable in probability theory is a function that assigns a numerical value to each outcome in a sample space of a random experiment. Essentially, it maps outcomes to numbers, allowing us to analyze randomness mathematically.\n",
        "\n",
        "Key points:\n",
        "It can be discrete (taking specific values, like rolling a die) or continuous (taking any value within a range, like measuring height).\n",
        "\n",
        "It helps quantify and work with uncertain events."
      ],
      "metadata": {
        "id": "AgKXIeFfz2cS"
      }
    },
    {
      "cell_type": "markdown",
      "source": [
        "2. What are the types of random variables.\n",
        "\n",
        "Ans. There are two main types of random variables:\n",
        "\n",
        "Discrete Random Variable\n",
        "\n",
        "Takes on countable values (e.g., integers).\n",
        "\n",
        "Examples: number of heads in coin tosses, rolling a die.\n",
        "\n",
        "Continuous Random Variable\n",
        "\n",
        "Takes on any value within an interval (uncountable).\n",
        "\n",
        "Examples: height, weight, temperature."
      ],
      "metadata": {
        "id": "IveVCzvEz8Uv"
      }
    },
    {
      "cell_type": "markdown",
      "source": [
        "3. What are probability distribution functions (PDF)?\n",
        "\n",
        "Ans. Probability Distribution Functions (PDF) describe how probabilities are assigned to values of a random variable.\n",
        "\n",
        "Two main types:\n",
        "For discrete random variables, the PDF (also called Probability Mass Function, PMF) gives the probability that the variable takes a specific value.\n",
        "Example:\n",
        "𝑃\n",
        "(\n",
        "𝑋\n",
        "=\n",
        "𝑥\n",
        ")\n",
        "P(X=x).\n",
        "\n",
        "For continuous random variables, the PDF is a function\n",
        "𝑓\n",
        "(\n",
        "𝑥\n",
        ")\n",
        "f(x) where the probability that the variable falls within an interval is the area under the curve over that interval.\n",
        "Probabilities are found by integrating\n",
        "𝑓\n",
        "(\n",
        "𝑥\n",
        ")\n",
        "f(x).\n",
        "\n"
      ],
      "metadata": {
        "id": "4bLYUnsE0EVk"
      }
    },
    {
      "cell_type": "markdown",
      "source": [
        "4.  How do cumulative distribution functions (CDF) differ from probability distribution functions (PDF)\n",
        "\n",
        "Ans. Probability Distribution Function (PDF):\n",
        "\n",
        "For discrete variables: Also called Probability Mass Function (PMF), gives the probability of exact values.\n",
        "\n",
        "For continuous variables:\n",
        "\n",
        "A function\n",
        "f(x) representing the density; probability for exact points is zero, so you find probabilities over intervals by integrating the PDF.\n",
        "\n",
        "Cumulative Distribution Function (CDF):\n",
        "F(x), it gives the probability that the random variable is less than or equal to a value\n",
        "𝑥\n",
        "x.\n",
        "\n",
        "Always non-decreasing and ranges from 0 to 1.\n",
        "\n"
      ],
      "metadata": {
        "id": "AFY4t3Or0cHp"
      }
    },
    {
      "cell_type": "markdown",
      "source": [
        "5. What is a discrete uniform distribution.\n",
        "\n",
        "Ans. A discrete uniform distribution is a probability distribution where a finite number of outcomes are equally likely.\n",
        "\n",
        "Key points:\n",
        "Each possible value has the same probability.\n",
        "\n",
        "Example: Rolling a fair six-sided die — each face (1 to 6) has a probability of\n",
        "1\n",
        "6\n",
        "6\n",
        "1\n",
        "​\n",
        " .\n",
        "\n",
        "The probability for each outcome\n",
        "𝑥\n",
        "x is:\n",
        "\n",
        "𝑃\n",
        "(\n",
        "𝑋\n",
        "=\n",
        "𝑥\n",
        ")\n",
        "=\n",
        "1/n\n",
        "\n",
        "where\n",
        "𝑛\n",
        "n is the number of possible outcomes.\n",
        "\n"
      ],
      "metadata": {
        "id": "ADyZoIK9068j"
      }
    },
    {
      "cell_type": "markdown",
      "source": [
        "6. What are the key properties of a Bernoulli distribution?\n",
        "\n",
        "Ans. The Bernoulli distribution models a random experiment with exactly two outcomes: success (1) or failure (0).\n",
        "\n",
        "Key properties:\n",
        "Only two possible values: 0 (failure) and 1 (success).\n",
        "\n",
        "Parameter\n",
        "𝑝\n",
        "p: Probability of success (0 ≤\n",
        "𝑝\n",
        "p ≤ 1).\n",
        "\n",
        "Probability Mass Function (PMF):\n",
        "\n",
        "𝑃\n",
        "(\n",
        "𝑋\n",
        "=\n",
        "𝑥\n",
        ")\n",
        "=\n",
        "𝑝\n",
        "𝑥\n",
        "(\n",
        "1\n",
        "−\n",
        "𝑝\n",
        ")\n",
        "1\n",
        "−\n",
        "𝑥\n",
        ",\n",
        "𝑥\n",
        "∈\n",
        "{\n",
        "0\n",
        ",\n",
        "1\n",
        "}\n",
        "\n",
        "Mean (expected value):\n",
        "\n",
        "𝐸\n",
        "(\n",
        "𝑋\n",
        ")\n",
        "=\n",
        "𝑝\n",
        "\n",
        "Variance:\n",
        "\n",
        "Var\n",
        "(\n",
        "𝑋\n",
        ")\n",
        "=\n",
        "𝑝\n",
        "(\n",
        "1\n",
        "−\n",
        "𝑝\n",
        ")"
      ],
      "metadata": {
        "id": "5Z-vuGxX1PCv"
      }
    },
    {
      "cell_type": "markdown",
      "source": [
        "7. What is the binomial distribution, and how is it used in probability?\n",
        "\n",
        "Ans. The binomial distribution models the number of successes in a fixed number of independent Bernoulli trials (yes/no experiments), each with the same success probability\n",
        "𝑝.\n",
        "\n",
        "Key points:\n",
        "Parameters:\n",
        "\n",
        "𝑛\n",
        "n: number of trials\n",
        "\n",
        "𝑝\n",
        "p: probability of success in each trial\n",
        "\n",
        "Random variable\n",
        "𝑋\n",
        "X: Number of successes in\n",
        "𝑛\n",
        "n trials.\n",
        "\n",
        "Probability Mass Function (PMF):\n",
        "\n",
        "P(X=k)=(\n",
        "k\n",
        "n\n",
        "​\n",
        " )p\n",
        "k\n",
        " (1−p)\n",
        "n−k\n",
        "\n",
        "where\n",
        "𝑘\n",
        "=\n",
        "0\n",
        ",\n",
        "1\n",
        ",\n",
        "2\n",
        ",\n",
        ".\n",
        ".\n",
        ".\n",
        ",\n",
        "𝑛\n"
      ],
      "metadata": {
        "id": "WLBtPEqU1kSj"
      }
    },
    {
      "cell_type": "markdown",
      "source": [
        "8.What is the binomial distribution, and how is it used in probability.\n",
        "\n",
        "Ans. The binomial distribution describes the probability of getting a certain number of successes in a fixed number of independent trials, where each trial has two possible outcomes (success or failure) and the same probability of success.\n",
        "\n",
        "Key points:\n",
        "Parameters:\n",
        "\n",
        "𝑛\n",
        "n: number of trials\n",
        "\n",
        "𝑝\n",
        "p: probability of success per trial\n",
        "\n",
        "Random variable\n",
        "𝑋\n",
        "X: Number of successes in\n",
        "𝑛\n",
        "n trials.\n",
        "\n"
      ],
      "metadata": {
        "id": "9HhZDHnj2Uuc"
      }
    },
    {
      "cell_type": "markdown",
      "source": [
        "9. What is the Poisson distribution and where is it applied.\n",
        "\n",
        "Ans. The Poisson distribution models the number of times an event occurs in a fixed interval of time or space, when events happen independently and at a constant average rate.\n",
        "\n",
        "Applications:\n",
        "Number of emails received per hour\n",
        "\n",
        "Calls to a call center per minute\n",
        "\n",
        "Accidents at an intersection per day"
      ],
      "metadata": {
        "id": "ddkzQq_53xe4"
      }
    },
    {
      "cell_type": "markdown",
      "source": [
        "10. What is a continuous uniform distribution.\n",
        "\n",
        "Ans. A continuous uniform distribution is a probability distribution where all values within a certain interval are equally likely.\n",
        "\n",
        "Choosing a random number between 2 and 5 — any number in that range is equally likely."
      ],
      "metadata": {
        "id": "NWYihQ3J33nX"
      }
    },
    {
      "cell_type": "markdown",
      "source": [
        "11.  What are the characteristics of a normal distribution?\n",
        "\n",
        "Ans. The normal distribution (also called the Gaussian distribution) is a continuous probability distribution that is widely used due to its natural appearance in many real-world processes.\n",
        "\n",
        "Key characteristics:\n",
        "Bell-shaped curve – Symmetrical around the mean.\n",
        "\n",
        "Mean = Median = Mode\n",
        "\n",
        "Defined by two parameters:\n",
        "\n",
        "μ (mu): the mean (center of the distribution)\n",
        "\n",
        "σ (sigma): the standard deviation (spread of the data)\n",
        "\n",
        "Empirical Rule (68-95-99.7 Rule):\n",
        "\n",
        "68% of values fall within 1σ of the mean\n",
        "\n",
        "95% within 2σ\n",
        "\n",
        "99.7% within 3σ"
      ],
      "metadata": {
        "id": "ou_iM3loSugh"
      }
    },
    {
      "cell_type": "markdown",
      "source": [
        "12.  What is the standard normal distribution, and why is it important.\n",
        "\n",
        "Ans. Ans. The standard normal distribution is a special case of the normal distribution with:\n",
        "\n",
        "Mean (μ) = 0\n",
        "\n",
        "Standard deviation (σ) = 1\n",
        "\n",
        "Importance:\n",
        "It allows any normal distribution to be standardized using the z-score:\n",
        "\n",
        "z=\n",
        "x−μ / σ\n",
        "​\n",
        "Z-scores make it easy to compare different datasets and find probabilities using standard normal tables.\n",
        "\n",
        "It’s widely used in hypothesis testing, confidence intervals, and statistical modeling."
      ],
      "metadata": {
        "id": "PNCox7hmTVNG"
      }
    },
    {
      "cell_type": "markdown",
      "source": [
        "13. What is the Central Limit Theorem (CLT), and why is it critical in statistics.\n",
        "\n",
        "Ans. The Central Limit Theorem (CLT) states that:\n",
        "\n",
        "The sampling distribution of the sample mean (or sum) of a large number of independent, identically distributed (i.i.d.) random variables approaches a normal distribution, regardless of the original distribution's shape, as the sample size increases.\n",
        "\n",
        "Why it's critical:\n",
        "Enables use of the normal distribution even when the data isn't normally distributed.\n",
        "\n",
        "Justifies many statistical methods, including confidence intervals and hypothesis tests.\n",
        "\n",
        "Works with large samples (typically n ≥ 30), making it practical in real-world applications."
      ],
      "metadata": {
        "id": "Z7ntWrHLTdWW"
      }
    },
    {
      "cell_type": "markdown",
      "source": [
        "14. How does the Central Limit Theorem relate to the normal distribution.\n",
        "\n",
        "Ans. The Central Limit Theorem (CLT) relates to the normal distribution by explaining why and when the normal distribution can be used to approximate the behavior of sample means.\n",
        "\n",
        "Relationship:\n",
        "No matter the shape of the original population distribution, the distribution of sample means:\n",
        "\n",
        "Becomes approximately normal\n",
        "\n",
        "As the sample size increases (usually\n",
        "𝑛\n",
        "≥\n",
        "30\n",
        "n≥30)\n",
        "\n",
        "The mean of this sampling distribution is the same as the population mean\n",
        "𝜇\n",
        "μ\n",
        "\n",
        "The standard deviation becomes\n",
        "𝜎\n",
        "/\n",
        "𝑛\n",
        "\n",
        "​\n",
        "  (called the standard error)\n",
        "\n"
      ],
      "metadata": {
        "id": "CF2KCo4sT-WH"
      }
    },
    {
      "cell_type": "markdown",
      "source": [
        "15. What is the application of Z statistics in hypothesis testing.\n",
        "\n",
        "Ans. Z-statistics (or Z-scores) are used in hypothesis testing when the population standard deviation is known and the data follows a normal distribution (or large sample size via the Central Limit Theorem).\n",
        "\n",
        "Applications in hypothesis testing:\n",
        "Compare sample mean to population mean\n",
        "\n",
        "Example: Is the average height of a sample significantly different from the known population average?\n",
        "\n",
        "Decision-making:\n",
        "\n",
        "Use Z-value to find p-value or compare with critical value.\n",
        "\n",
        "If the Z is in the rejection region, reject the null hypothesis."
      ],
      "metadata": {
        "id": "yZJVXB4LURaq"
      }
    },
    {
      "cell_type": "markdown",
      "source": [
        "16. How do you calculate a Z-score, and what does it represent.\n",
        "\n",
        "Ans. Z-score Formula:\n",
        "𝑍\n",
        "=\n",
        "𝑋\n",
        "−\n",
        "𝜇 /\n",
        "𝜎\n",
        "\n",
        "\n",
        "Where:\n",
        "\n",
        "X = raw score\n",
        "\n",
        "μ = population mean\n",
        "\n",
        "σ = population standard deviation\n",
        "\n",
        "What it represents:\n",
        "\n",
        "Z-score tells you how many standard deviations a value\n",
        "\n",
        "X is from the mean.\n",
        "\n",
        "Z = 0 → the value is exactly at the mean\n",
        "\n",
        "Z > 0 → the value is above the mean\n",
        "\n",
        "Z < 0 → the value is below the mean\n",
        "\n",
        "Use cases:\n",
        "\n",
        "-- Comparing values from different distributions\n",
        "\n",
        "-- Identifying outliers\n",
        "\n",
        "-- Hypothesis testing (via standard normal distribution)"
      ],
      "metadata": {
        "id": "nGroYLzhVcY1"
      }
    },
    {
      "cell_type": "markdown",
      "source": [
        "17.  What are point estimates and interval estimates in statistics.\n",
        "\n",
        "Ans. In statistics, point estimates and interval estimates are used to infer unknown population parameters based on sample data.\n",
        "\n",
        "Point Estimate:\n",
        "A single value used to estimate a population parameter.\n",
        "\n",
        "Example: The sample mean\n",
        "𝑥\n",
        "ˉ\n",
        "x\n",
        "ˉ\n",
        "  is a point estimate of the population mean\n",
        "𝜇\n",
        "μ.\n",
        "\n",
        "Interval Estimate:\n",
        "A range of values (with a confidence level) that likely contains the population parameter.\n",
        "\n",
        "Example: A 95% confidence interval for the mean might be\n",
        "(\n",
        "48\n",
        ",\n",
        "52\n",
        ")\n",
        "(48,52), meaning we’re 95% confident the true mean lies within that range."
      ],
      "metadata": {
        "id": "FZ_nzNz5V4ec"
      }
    },
    {
      "cell_type": "markdown",
      "source": [
        "18. What is the significance of confidence intervals in statistical analysis\n",
        "\n",
        "Ans. Confidence intervals are important in statistical analysis because they provide a range of values that likely contain the true population parameter, along with a confidence level (e.g., 95%).\n",
        "\n",
        "Significance:\n",
        "Uncertainty measure:\n",
        "They express the precision of a point estimate (like a mean or proportion).\n",
        "\n",
        "More informative than point estimates:\n",
        "Instead of just one value, you get a range that reflects sampling variability.\n",
        "\n",
        "Decision-making:\n",
        "Widely used in research, polls, and testing to judge reliability and significance of results."
      ],
      "metadata": {
        "id": "skyZxV5sWLed"
      }
    },
    {
      "cell_type": "markdown",
      "source": [
        "19. What is the relationship between a Z-score and a confidence interval.\n",
        "\n",
        "Ans. The Z-score and confidence interval are closely related because the Z-score determines the width of the confidence interval in cases where the population standard deviation is known and the sampling distribution is normal."
      ],
      "metadata": {
        "id": "n6M6_TdGWUsT"
      }
    },
    {
      "cell_type": "markdown",
      "source": [
        "20. How are Z-scores used to compare different distributions.\n",
        "\n",
        "Ans.Z-scores allow you to standardize values from different distributions, making them directly comparable even if the original data have different means and standard deviations.\n",
        "\n",
        "Example:\n",
        "Comparing test scores from two exams with different averages and spreads.\n",
        "\n",
        "A Z-score of +2 means the score is 2 standard deviations above the mean in that exam, so you can compare performance across exams fairly."
      ],
      "metadata": {
        "id": "iY4pGZJUWdfz"
      }
    },
    {
      "cell_type": "markdown",
      "source": [
        "21. What are the assumptions for applying the Central Limit Theorem.\n",
        "\n",
        "Ans.The Central Limit Theorem (CLT) relies on these key assumptions:\n",
        "\n",
        "Independence:\n",
        "The sampled observations must be independent of each other.\n",
        "\n",
        "Identically Distributed:\n",
        "The random variables should come from the same distribution (i.i.d.)—or at least be identically distributed.\n",
        "\n",
        "Sample Size:\n",
        "The sample size should be sufficiently large (usually\n",
        "𝑛\n",
        "≥\n",
        "30\n",
        ") for the CLT to hold well, especially if the population distribution is not normal."
      ],
      "metadata": {
        "id": "yfJhuq6AWf7C"
      }
    },
    {
      "cell_type": "markdown",
      "source": [
        "22. What is the concept of expected value in a probability distribution.\n",
        "\n",
        "Ans. The expected value (or mean) of a probability distribution is the long-term average or center of the random variable’s possible outcomes, weighted by their probabilities."
      ],
      "metadata": {
        "id": "gwH920b9Wjd2"
      }
    },
    {
      "cell_type": "markdown",
      "source": [
        "23. How does a probability distribution relate to the expected outcome of a random variable?\n",
        "\n",
        "Ans. A probability distribution defines all possible outcomes of a random variable and their probabilities. The expected outcome (or expected value) is calculated from this distribution by averaging the outcomes weighted by their probabilities.\n",
        "\n",
        "Relationship:\n",
        "The probability distribution tells you how likely each outcome is.\n",
        "\n",
        "The expected value combines these likelihoods with the outcomes to give a single summary number — the average result you’d expect over many trials."
      ],
      "metadata": {
        "id": "R4KVdf0DWnTj"
      }
    }
  ]
}