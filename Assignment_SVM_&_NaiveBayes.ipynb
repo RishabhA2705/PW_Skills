{
  "nbformat": 4,
  "nbformat_minor": 0,
  "metadata": {
    "colab": {
      "provenance": []
    },
    "kernelspec": {
      "name": "python3",
      "display_name": "Python 3"
    },
    "language_info": {
      "name": "python"
    }
  },
  "cells": [
    {
      "cell_type": "markdown",
      "source": [
        "# **Theory**"
      ],
      "metadata": {
        "id": "KiLoerkPyotf"
      }
    },
    {
      "cell_type": "markdown",
      "source": [
        "1. What is a Support Vector Machine (SVM)?\n",
        "\n",
        "Ans. A Support Vector Machine (SVM) is a supervised machine learning algorithm used for classification and regression.\n",
        "\n",
        "It works by finding the optimal hyperplane that best separates data points of different classes. The support vectors are the critical points closest to the boundary.\n",
        "\n",
        "SVM can handle linear and non-linear data using kernel functions like linear, polynomial, and RBF. It aims to maximize the margin between classes for better generalization."
      ],
      "metadata": {
        "id": "Ja3a1ttj0N6T"
      }
    },
    {
      "cell_type": "markdown",
      "source": [
        "2. What is the difference between Hard Margin and Soft Margin SVM?\n",
        "\n",
        "Ans. Hard Margin SVM: No misclassification allowed; used for perfectly separable data.\n",
        "\n",
        "Soft Margin SVM: Allows some misclassification; works better with noisy or overlapping data using a penalty parameter C."
      ],
      "metadata": {
        "id": "kBIZ7xSN0qe7"
      }
    },
    {
      "cell_type": "markdown",
      "source": [
        "3. What is the mathematical intuition behind SVM?\n",
        "\n",
        "Ans. SVM tries to maximize the margin between two classes by solving this optimization problem:\n",
        "\n",
        "Minimize:\n",
        "\n",
        "1\n",
        "2\n",
        "∣\n",
        "∣\n",
        "𝑤\n",
        "∣\n",
        "∣\n",
        "2\n",
        "\n",
        "\n",
        "Subject to:\n",
        "\n",
        "𝑦\n",
        "𝑖\n",
        "(\n",
        "𝑤\n",
        "⋅\n",
        "𝑥\n",
        "𝑖\n",
        "+\n",
        "𝑏\n",
        ")\n",
        "≥1\n",
        "for all i\n",
        "Where:\n",
        "\n",
        "w = weight vector (defines the hyperplane)\n",
        "\n",
        "b = bias\n",
        "\n",
        "x\n",
        "i\n",
        "​\n",
        "  = input vector\n",
        "\n",
        "y\n",
        "i\n",
        "​\n",
        "  = class label (+1 or -1)\n",
        "\n",
        "This finds the hyperplane with the maximum margin while correctly classifying the data. For soft margin, slack variables\n",
        "𝜉\n",
        "𝑖\n",
        "ξ\n",
        "i\n",
        "​\n",
        "  are added to allow some violations."
      ],
      "metadata": {
        "id": "OJWtH3iN4cBu"
      }
    },
    {
      "cell_type": "markdown",
      "source": [
        "4. What is the role of Lagrange Multipliers in SVM?\n",
        "\n",
        "Ans. Lagrange multipliers help solve the constrained optimization problem in SVM.\n",
        "\n",
        "They convert the primal problem (maximize margin with constraints) into a dual problem, making it easier to solve.\n",
        "\n",
        "They identify support vectors — only points with non-zero Lagrange multipliers affect the decision boundary.\n",
        "\n",
        "In the dual form, kernels can be applied for non-linear classification.\n",
        "\n",
        "In short: Lagrange multipliers allow efficient optimization and help identify support vectors."
      ],
      "metadata": {
        "id": "fReTjlRR5R_Y"
      }
    },
    {
      "cell_type": "markdown",
      "source": [
        "5. What are Support Vectors in SVM?\n",
        "\n",
        "Ans. Support vectors are the data points closest to the hyperplane.\n",
        "\n",
        "They define the margin and the position of the hyperplane.\n",
        "\n",
        "Only these points influence the final model; others don’t affect the decision boundary.\n",
        "\n",
        "They have non-zero Lagrange multipliers.\n",
        "\n",
        "In short: Support vectors are the key data points that shape the SVM’s decision boundary."
      ],
      "metadata": {
        "id": "mdFkqv_J8qvO"
      }
    },
    {
      "cell_type": "markdown",
      "source": [
        "6. What is a Support Vector Classifier & Regressor ?\n",
        "\n",
        "Ans. Support Vector Classifier (SVC): Uses SVM to classify data by finding the optimal hyperplane that separates classes.\n",
        "\n",
        "Support Vector Regressor (SVR): Uses SVM for regression by fitting a function within a margin of tolerance (epsilon) to predict continuous values.\n",
        "\n",
        "In short:\n",
        "\n",
        "SVC = for classification tasks\n",
        "\n",
        "SVR = for regression tasks"
      ],
      "metadata": {
        "id": "zgdGEcDG81C6"
      }
    },
    {
      "cell_type": "markdown",
      "source": [
        "7. What is the Kernel Trick in SVM?\n",
        "\n",
        "Ans. The kernel trick allows SVM to work in higher-dimensional spaces without explicitly transforming the data.\n",
        "\n",
        "It computes the dot product in that space using a kernel function.\n",
        "\n",
        "Enables non-linear classification using linear methods in transformed space.\n",
        "\n",
        "Common kernels: Linear, Polynomial, RBF (Gaussian), Sigmoid.\n",
        "\n",
        "In short: The kernel trick lets SVM handle complex, non-linear data efficiently."
      ],
      "metadata": {
        "id": "kiQIkWgs9RnG"
      }
    },
    {
      "cell_type": "markdown",
      "source": [
        "8. Compare Linear Kernel, Polynomial Kernel, and RBF Kernel?\n",
        "\n",
        "Ans.Linear: Best for simple, linear data.\n",
        "\n",
        "Polynomial: For moderately complex patterns.\n",
        "\n",
        "RBF: Most powerful for non-linear, real-world data."
      ],
      "metadata": {
        "id": "-fZCm6Is9en4"
      }
    },
    {
      "cell_type": "markdown",
      "source": [
        "9. What is the effect of the C parameter in SVM?\n",
        "\n",
        "Ans. The C parameter controls the trade-off between margin size and classification error.\n",
        "\n",
        "High C: Less tolerance for misclassification → narrow margin, possible overfitting.\n",
        "\n",
        "Low C: More tolerance for misclassification → wider margin, better generalization.\n",
        "\n",
        "In short:\n",
        "C balances model complexity vs. training error — high C fits data closely, low C allows a softer margin"
      ],
      "metadata": {
        "id": "zDPJI7Uv_Q_u"
      }
    },
    {
      "cell_type": "markdown",
      "source": [
        "10. What is the role of the Gamma parameter in RBF Kernel SVM?\n",
        "\n",
        "Ans. Gamma (γ) in RBF Kernel controls the influence of a single training point.\n",
        "\n",
        "High gamma: Narrow influence → fits training data closely → risk of overfitting.\n",
        "\n",
        "Low gamma: Wide influence → smoother decision boundary → risk of underfitting.\n",
        "\n",
        "In short:\n",
        "Gamma decides how far the effect of a support vector reaches — high = close, low = far."
      ],
      "metadata": {
        "id": "StZIbiIl_zRm"
      }
    },
    {
      "cell_type": "markdown",
      "source": [
        "11. What is the Naïve Bayes classifier, and why is it called \"Naïve\"?\n",
        "\n",
        "Ans. Naïve Bayes is a probabilistic classifier based on Bayes’ Theorem with the naïve assumption that all features are independent given the class.\n",
        "\n",
        "𝑃\n",
        "(\n",
        "𝐶\n",
        "∣\n",
        "𝑋\n",
        ")\n",
        "=\n",
        "𝑃\n",
        "(\n",
        "𝑋\n",
        "∣\n",
        "𝐶\n",
        ")\n",
        "⋅\n",
        "𝑃\n",
        "(\n",
        "𝐶\n",
        ") /\n",
        "𝑃\n",
        "(\n",
        "𝑋\n",
        ")\n",
        "\n",
        "\"Naïve\" because it assumes feature independence, which is rarely true in real data.\n",
        "\n",
        "In short:\n",
        "Naïve Bayes is simple, fast, and assumes features don’t affect each other — hence the name \"naïve\"."
      ],
      "metadata": {
        "id": "riihuJO9_8pp"
      }
    },
    {
      "cell_type": "markdown",
      "source": [
        "12. What is Bayes Theorem?\n",
        "\n",
        "Ans."
      ],
      "metadata": {
        "id": "OEyHPxfmAoUG"
      }
    },
    {
      "cell_type": "markdown",
      "metadata": {
        "id": "a70205fb"
      },
      "source": [
        "12. What is Bayes Theorem?\n",
        "\n",
        "Ans. Bayes' Theorem is a formula in probability theory that describes how to update the probability of a hypothesis based on new evidence. It's expressed as:\n",
        "\n",
        "P(A∣B)=\n",
        "P(B∣A)⋅P(A) / P(B)\n",
        "\n",
        "Where:\n",
        "\n",
        "*   $P(A|B)$: The probability of event A happening, given that event B has happened (posterior probability).\n",
        "*   $P(B|A)$: The probability of event B happening, given that event A has happened (likelihood).\n",
        "*   $P(A)$: The prior probability of event A happening.\n",
        "*   $P(B)$: The prior probability of event B happening.\n",
        "\n",
        "In short: Bayes' Theorem allows us to revise our beliefs (probabilities) in light of new data."
      ]
    },
    {
      "cell_type": "markdown",
      "source": [
        "13. Explain the differences between Gaussian Naïve Bayes, Multinomial Naïve Bayes, and Bernoulli Naïve Bayes?\n",
        "\n",
        "Ans. Gaussian: For real-valued features\n",
        "\n",
        "Multinomial: For count-based features\n",
        "\n",
        "Bernoulli: For binary features"
      ],
      "metadata": {
        "id": "dAW2jVkUBnMI"
      }
    },
    {
      "cell_type": "markdown",
      "source": [
        "14. Why is Naïve Bayes a good choice for text classification?\n",
        "\n",
        "Ans. Naïve Bayes is good for text classification because:\n",
        "\n",
        "Handles high-dimensional data well (many words).\n",
        "\n",
        "Works well with word frequencies (Multinomial NB).\n",
        "\n",
        "Fast and efficient for large datasets.\n",
        "\n",
        "Performs well even with the naïve independence assumption.\n",
        "\n",
        "In short:\n",
        "It’s simple, scalable, and surprisingly accurate for text tasks like spam detection or sentiment analysis."
      ],
      "metadata": {
        "id": "Tp4zssi4Bxr5"
      }
    },
    {
      "cell_type": "markdown",
      "source": [
        "15. Compare SVM and Naïve Bayes for classification tasks?\n",
        "\n",
        "Ans. SVM: More powerful for complex, high-dimensional problems.\n",
        "\n",
        "Naïve Bayes: Simpler, faster, great for text and when independence is reasonable."
      ],
      "metadata": {
        "id": "KLqWDzWVCDbx"
      }
    },
    {
      "cell_type": "markdown",
      "source": [
        "16. How does Laplace Smoothing help in Naïve Bayes?\n",
        "\n",
        "Ans. Laplace Smoothing ensures that no probability becomes zero, improving model robustness and generalization."
      ],
      "metadata": {
        "id": "qSNjGqxrCQRz"
      }
    },
    {
      "cell_type": "markdown",
      "source": [],
      "metadata": {
        "id": "C5EHiEgIA5AZ"
      }
    },
    {
      "cell_type": "markdown",
      "source": [
        "# **CODING**"
      ],
      "metadata": {
        "id": "_AthBus0DU8e"
      }
    },
    {
      "cell_type": "markdown",
      "source": [
        "1."
      ],
      "metadata": {
        "id": "Py06OWwlDaYN"
      }
    },
    {
      "cell_type": "code",
      "source": [
        "from sklearn import datasets\n",
        "from sklearn.model_selection import train_test_split\n",
        "from sklearn.svm import SVC\n",
        "from sklearn.metrics import accuracy_score\n",
        "\n",
        "# Load Iris dataset\n",
        "iris = datasets.load_iris()\n",
        "X = iris.data\n",
        "y = iris.target\n",
        "\n",
        "# Split into train and test sets\n",
        "X_train, X_test, y_train, y_test = train_test_split(X, y, test_size=0.3, random_state=42)\n",
        "\n",
        "# Create and train SVM classifier\n",
        "model = SVC(kernel='linear', C=1.0)\n",
        "model.fit(X_train, y_train)\n",
        "\n",
        "# Predict on test set\n",
        "y_pred = model.predict(X_test)\n",
        "\n",
        "# Evaluate accuracy\n",
        "accuracy = accuracy_score(y_test, y_pred)\n",
        "print(f\"Accuracy: {accuracy:.2f}\")\n"
      ],
      "metadata": {
        "colab": {
          "base_uri": "https://localhost:8080/"
        },
        "id": "0mAAK2fTDTee",
        "outputId": "dad85ff7-2789-4fa8-db8f-239a29393cf3"
      },
      "execution_count": null,
      "outputs": [
        {
          "output_type": "stream",
          "name": "stdout",
          "text": [
            "Accuracy: 1.00\n"
          ]
        }
      ]
    },
    {
      "cell_type": "markdown",
      "source": [
        "2. Write a Python program to train two SVM classifiers with Linear and RBF kernels on the Wine dataset, then\n",
        "compare their accuracies:"
      ],
      "metadata": {
        "id": "3ccC8UtTEMib"
      }
    },
    {
      "cell_type": "code",
      "source": [
        "from sklearn import datasets\n",
        "from sklearn.model_selection import train_test_split\n",
        "from sklearn.svm import SVC\n",
        "from sklearn.metrics import accuracy_score\n",
        "\n",
        "# Load Wine dataset\n",
        "wine = datasets.load_wine()\n",
        "X = wine.data\n",
        "y = wine.target\n",
        "\n",
        "# Split into train and test sets\n",
        "X_train, X_test, y_train, y_test = train_test_split(X, y, test_size=0.3, random_state=42)\n",
        "\n",
        "# Linear kernel SVM\n",
        "linear_svm = SVC(kernel='linear', C=1.0)\n",
        "linear_svm.fit(X_train, y_train)\n",
        "y_pred_linear = linear_svm.predict(X_test)\n",
        "acc_linear = accuracy_score(y_test, y_pred_linear)\n",
        "\n",
        "# RBF kernel SVM\n",
        "rbf_svm = SVC(kernel='rbf', C=1.0, gamma='scale')\n",
        "rbf_svm.fit(X_train, y_train)\n",
        "y_pred_rbf = rbf_svm.predict(X_test)\n",
        "acc_rbf = accuracy_score(y_test, y_pred_rbf)\n",
        "\n",
        "# Print accuracies\n",
        "print(f\"Linear Kernel Accuracy: {acc_linear:.2f}\")\n",
        "print(f\"RBF Kernel Accuracy: {acc_rbf:.2f}\")"
      ],
      "metadata": {
        "colab": {
          "base_uri": "https://localhost:8080/"
        },
        "id": "fhSLkBIxEdUC",
        "outputId": "6af2426e-71df-42b1-be7c-ac0a6d531140"
      },
      "execution_count": null,
      "outputs": [
        {
          "output_type": "stream",
          "name": "stdout",
          "text": [
            "Linear Kernel Accuracy: 0.98\n",
            "RBF Kernel Accuracy: 0.76\n"
          ]
        }
      ]
    },
    {
      "cell_type": "markdown",
      "source": [
        "3. Write a Python program to train an SVM Regressor (SVR) on a housing dataset and evaluate it using Mean\n",
        "Squared Error (MSE):"
      ],
      "metadata": {
        "id": "jQeQWDzBEm66"
      }
    },
    {
      "cell_type": "code",
      "source": [
        "from sklearn.datasets import fetch_california_housing\n",
        "from sklearn.model_selection import train_test_split\n",
        "from sklearn.svm import SVR\n",
        "from sklearn.metrics import mean_squared_error\n",
        "from sklearn.preprocessing import StandardScaler\n",
        "\n",
        "# Load housing dataset\n",
        "data = fetch_california_housing()\n",
        "X = data.data\n",
        "y = data.target\n",
        "\n",
        "# Split data\n",
        "X_train, X_test, y_train, y_test = train_test_split(X, y, test_size=0.3, random_state=42)\n",
        "\n",
        "# Scale features (important for SVR)\n",
        "scaler = StandardScaler()\n",
        "X_train_scaled = scaler.fit_transform(X_train)\n",
        "X_test_scaled = scaler.transform(X_test)\n",
        "\n",
        "# Train SVR model\n",
        "svr = SVR(kernel='rbf', C=100, gamma=0.1, epsilon=0.1)\n",
        "svr.fit(X_train_scaled, y_train)\n",
        "\n",
        "# Predict and evaluate\n",
        "y_pred = svr.predict(X_test_scaled)\n",
        "mse = mean_squared_error(y_test, y_pred)\n",
        "\n",
        "print(f\"Mean Squared Error (MSE): {mse:.2f}\")\n"
      ],
      "metadata": {
        "id": "T95D4LFVEotq",
        "colab": {
          "base_uri": "https://localhost:8080/"
        },
        "outputId": "0fc4ae20-6709-4cd3-89fb-dfba60f059c1"
      },
      "execution_count": 2,
      "outputs": [
        {
          "output_type": "stream",
          "name": "stdout",
          "text": [
            "Mean Squared Error (MSE): 0.31\n"
          ]
        }
      ]
    },
    {
      "cell_type": "markdown",
      "source": [
        "4. Write a Python program to train an SVM Classifier with a Polynomial Kernel and visualize the decision\n",
        "boundary:"
      ],
      "metadata": {
        "id": "QYAW5I_6EpUo"
      }
    },
    {
      "cell_type": "code",
      "source": [
        "import numpy as np\n",
        "import matplotlib.pyplot as plt\n",
        "from sklearn import datasets\n",
        "from sklearn.svm import SVC\n",
        "from sklearn.preprocessing import StandardScaler\n",
        "\n",
        "# Load the Iris dataset (select 2 features for 2D visualization)\n",
        "iris = datasets.load_iris()\n",
        "X = iris.data[:, :2]  # use only the first two features\n",
        "y = iris.target\n",
        "\n",
        "# Standardize features\n",
        "scaler = StandardScaler()\n",
        "X = scaler.fit_transform(X)\n",
        "\n",
        "# Train SVM with Polynomial Kernel\n",
        "clf = SVC(kernel='poly', degree=3, C=1.0)\n",
        "clf.fit(X, y)\n",
        "\n",
        "# Create mesh grid for plotting\n",
        "x_min, x_max = X[:, 0].min() - 1, X[:, 0].max() + 1\n",
        "y_min, y_max = X[:, 1].min() - 1, X[:, 1].max() + 1\n",
        "xx, yy = np.meshgrid(np.linspace(x_min, x_max, 500),\n",
        "                     np.linspace(y_min, y_max, 500))\n",
        "\n",
        "# Predict on mesh grid\n",
        "Z = clf.predict(np.c_[xx.ravel(), yy.ravel()])\n",
        "Z = Z.reshape(xx.shape)\n",
        "\n",
        "# Plot decision boundary\n",
        "plt.contourf(xx, yy, Z, alpha=0.3, cmap=plt.cm.coolwarm)\n",
        "plt.scatter(X[:, 0], X[:, 1], c=y, cmap=plt.cm.coolwarm, edgecolors='k')\n",
        "plt.title(\"SVM with Polynomial Kernel (degree=3)\")\n",
        "plt.xlabel(\"Feature 1\")\n",
        "plt.ylabel(\"Feature 2\")\n",
        "plt.grid(True)\n",
        "plt.show()\n"
      ],
      "metadata": {
        "id": "8LlmoNqBEsEK",
        "colab": {
          "base_uri": "https://localhost:8080/",
          "height": 472
        },
        "outputId": "20840b78-d076-4769-e8f3-827be0dcd10b"
      },
      "execution_count": 3,
      "outputs": [
        {
          "output_type": "display_data",
          "data": {
            "text/plain": [
              "<Figure size 640x480 with 1 Axes>"
            ],
            "image/png": "[encoded data removed]"
          },
          "metadata": {}
        }
      ]
    },
    {
      "cell_type": "markdown",
      "source": [
        "5. Write a Python program to train a Gaussian Naïve Bayes classifier on the Breast Cancer dataset and\n",
        "evaluate accuracy"
      ],
      "metadata": {
        "id": "9MNIe0aeEsce"
      }
    },
    {
      "cell_type": "code",
      "source": [
        "from sklearn.datasets import load_breast_cancer\n",
        "from sklearn.model_selection import train_test_split\n",
        "from sklearn.naive_bayes import GaussianNB\n",
        "from sklearn.metrics import accuracy_score\n",
        "\n",
        "# Load Breast Cancer dataset\n",
        "data = load_breast_cancer()\n",
        "X = data.data\n",
        "y = data.target\n",
        "\n",
        "# Split into train and test sets\n",
        "X_train, X_test, y_train, y_test = train_test_split(X, y, test_size=0.3, random_state=42)\n",
        "\n",
        "# Train Gaussian Naïve Bayes model\n",
        "model = GaussianNB()\n",
        "model.fit(X_train, y_train)\n",
        "\n",
        "# Predict and evaluate\n",
        "y_pred = model.predict(X_test)\n",
        "accuracy = accuracy_score(y_test, y_pred)\n",
        "\n",
        "print(f\"Accuracy: {accuracy:.2f}\")"
      ],
      "metadata": {
        "id": "WEBLep8REu_J",
        "colab": {
          "base_uri": "https://localhost:8080/"
        },
        "outputId": "b5e00167-3605-4594-8a79-9915c848a1d9"
      },
      "execution_count": 4,
      "outputs": [
        {
          "output_type": "stream",
          "name": "stdout",
          "text": [
            "Accuracy: 0.94\n"
          ]
        }
      ]
    },
    {
      "cell_type": "markdown",
      "source": [
        "6. Write a Python program to train a Multinomial Naïve Bayes classifier for text classification using the 20\n",
        "Newsgroups dataset."
      ],
      "metadata": {
        "id": "BaQknMrhEvaM"
      }
    },
    {
      "cell_type": "code",
      "source": [
        "from sklearn.datasets import fetch_20newsgroups\n",
        "from sklearn.feature_extraction.text import CountVectorizer\n",
        "from sklearn.naive_bayes import MultinomialNB\n",
        "from sklearn.model_selection import train_test_split\n",
        "from sklearn.metrics import accuracy_score\n",
        "\n",
        "# Load 20 Newsgroups dataset (use a subset for speed)\n",
        "categories = ['alt.atheism', 'sci.space', 'comp.graphics', 'rec.sport.baseball']\n",
        "newsgroups = fetch_20newsgroups(subset='all', categories=categories, remove=('headers', 'footers', 'quotes'))\n",
        "\n",
        "# Convert text data to count vectors\n",
        "vectorizer = CountVectorizer()\n",
        "X = vectorizer.fit_transform(newsgroups.data)\n",
        "y = newsgroups.target\n",
        "\n",
        "# Train-test split\n",
        "X_train, X_test, y_train, y_test = train_test_split(X, y, test_size=0.3, random_state=42)\n",
        "\n",
        "# Train Multinomial Naive Bayes\n",
        "model = MultinomialNB()\n",
        "model.fit(X_train, y_train)\n",
        "\n",
        "# Predict and evaluate\n",
        "y_pred = model.predict(X_test)\n",
        "accuracy = accuracy_score(y_test, y_pred)\n",
        "\n",
        "print(f\"Accuracy: {accuracy:.2f}\")"
      ],
      "metadata": {
        "id": "9pKFVQZWExse",
        "colab": {
          "base_uri": "https://localhost:8080/"
        },
        "outputId": "f93051e6-22a0-4ace-e0a2-8db59719c684"
      },
      "execution_count": 5,
      "outputs": [
        {
          "output_type": "stream",
          "name": "stdout",
          "text": [
            "Accuracy: 0.88\n"
          ]
        }
      ]
    },
    {
      "cell_type": "markdown",
      "source": [
        "7. Write a Python program to train an SVM Classifier with different C values and compare the decision\n",
        "boundaries visually"
      ],
      "metadata": {
        "id": "opTkbgsZLfBJ"
      }
    },
    {
      "cell_type": "code",
      "source": [
        "import numpy as np\n",
        "import matplotlib.pyplot as plt\n",
        "from sklearn import datasets\n",
        "from sklearn.svm import SVC\n",
        "from sklearn.preprocessing import StandardScaler\n",
        "\n",
        "# Load Iris dataset (2D for visualization)\n",
        "iris = datasets.load_iris()\n",
        "X = iris.data[:, :2]  # first two features\n",
        "y = iris.target\n",
        "\n",
        "# Use only two classes for binary classification\n",
        "X = X[y != 2]\n",
        "y = y[y != 2]\n",
        "\n",
        "# Standardize features\n",
        "scaler = StandardScaler()\n",
        "X = scaler.fit_transform(X)\n",
        "\n",
        "# Create mesh grid\n",
        "x_min, x_max = X[:, 0].min() - 1, X[:, 0].max() + 1\n",
        "y_min, y_max = X[:, 1].min() - 1, X[:, 1].max() + 1\n",
        "xx, yy = np.meshgrid(np.linspace(x_min, x_max, 500),\n",
        "                     np.linspace(y_min, y_max, 500))\n",
        "\n",
        "# C values to test\n",
        "C_values = [0.01, 0.1, 1, 10, 100]\n",
        "\n",
        "plt.figure(figsize=(15, 10))\n",
        "\n",
        "# Train and plot for each C\n",
        "for i, C in enumerate(C_values, 1):\n",
        "    clf = SVC(kernel='linear', C=C)\n",
        "    clf.fit(X, y)\n",
        "\n",
        "    Z = clf.predict(np.c_[xx.ravel(), yy.ravel()])\n",
        "    Z = Z.reshape(xx.shape)\n",
        "\n",
        "    plt.subplot(2, 3, i)\n",
        "    plt.contourf(xx, yy, Z, alpha=0.3, cmap=plt.cm.coolwarm)\n",
        "    plt.scatter(X[:, 0], X[:, 1], c=y, cmap=plt.cm.coolwarm, edgecolors='k')\n",
        "    plt.title(f\"SVM with C = {C}\")\n",
        "    plt.xlabel(\"Feature 1\")\n",
        "    plt.ylabel(\"Feature 2\")\n",
        "\n",
        "plt.tight_layout()\n",
        "plt.suptitle(\"Effect of C on SVM Decision Boundary\", fontsize=16, y=1.02)\n",
        "plt.show()"
      ],
      "metadata": {
        "colab": {
          "base_uri": "https://localhost:8080/",
          "height": 872
        },
        "id": "i3zQIvttOSJ3",
        "outputId": "0d20d8ef-ddcc-431d-d934-54391727b859"
      },
      "execution_count": 6,
      "outputs": [
        {
          "output_type": "display_data",
          "data": {
            "text/plain": [
              "<Figure size 1500x1000 with 5 Axes>"
            ],
            "image/png": "[encoded data removed]"
          },
          "metadata": {}
        }
      ]
    },
    {
      "cell_type": "markdown",
      "source": [
        "8. Write a Python program to train a Bernoulli Naïve Bayes classifier for binary classification on a dataset with\n",
        "binary features?"
      ],
      "metadata": {
        "id": "FpWMyK-jOz_k"
      }
    },
    {
      "cell_type": "code",
      "source": [
        "from sklearn.naive_bayes import BernoulliNB\n",
        "from sklearn.datasets import make_classification\n",
        "from sklearn.model_selection import train_test_split\n",
        "from sklearn.metrics import accuracy_score\n",
        "import numpy as np\n",
        "\n",
        "# Create synthetic binary dataset\n",
        "X, y = make_classification(n_samples=1000, n_features=20, n_informative=10,\n",
        "                           n_redundant=0, n_classes=2, random_state=42)\n",
        "\n",
        "# Convert features to binary (0 or 1)\n",
        "X_binary = (X > 0).astype(int)\n",
        "\n",
        "# Split into training and testing sets\n",
        "X_train, X_test, y_train, y_test = train_test_split(X_binary, y, test_size=0.3, random_state=42)\n",
        "\n",
        "# Train Bernoulli Naive Bayes classifier\n",
        "model = BernoulliNB()\n",
        "model.fit(X_train, y_train)\n",
        "\n",
        "# Predict and evaluate\n",
        "y_pred = model.predict(X_test)\n",
        "accuracy = accuracy_score(y_test, y_pred)\n",
        "\n",
        "print(f\"Accuracy: {accuracy:.2f}\")"
      ],
      "metadata": {
        "colab": {
          "base_uri": "https://localhost:8080/"
        },
        "id": "ZXOzhgE6O5LA",
        "outputId": "74ebb88e-4975-47c8-a177-bb19cf603f2d"
      },
      "execution_count": 7,
      "outputs": [
        {
          "output_type": "stream",
          "name": "stdout",
          "text": [
            "Accuracy: 0.73\n"
          ]
        }
      ]
    },
    {
      "cell_type": "markdown",
      "source": [
        "9.Write a Python program to apply feature scaling before training an SVM model and compare results with\n",
        "unscaled data."
      ],
      "metadata": {
        "id": "fvLHQ44_O5iJ"
      }
    },
    {
      "cell_type": "code",
      "source": [
        "from sklearn.datasets import load_breast_cancer\n",
        "from sklearn.model_selection import train_test_split\n",
        "from sklearn.svm import SVC\n",
        "from sklearn.preprocessing import StandardScaler\n",
        "from sklearn.metrics import accuracy_score\n",
        "\n",
        "# Load dataset\n",
        "data = load_breast_cancer()\n",
        "X, y = data.data, data.target\n",
        "\n",
        "# Split into train and test sets\n",
        "X_train, X_test, y_train, y_test = train_test_split(X, y, test_size=0.3, random_state=42)\n",
        "\n",
        "# ---------- Without Feature Scaling ----------\n",
        "svm_unscaled = SVC(kernel='rbf', C=1.0, gamma='scale')\n",
        "svm_unscaled.fit(X_train, y_train)\n",
        "y_pred_unscaled = svm_unscaled.predict(X_test)\n",
        "acc_unscaled = accuracy_score(y_test, y_pred_unscaled)\n",
        "\n",
        "# ---------- With Feature Scaling ----------\n",
        "scaler = StandardScaler()\n",
        "X_train_scaled = scaler.fit_transform(X_train)\n",
        "X_test_scaled = scaler.transform(X_test)\n",
        "\n",
        "svm_scaled = SVC(kernel='rbf', C=1.0, gamma='scale')\n",
        "svm_scaled.fit(X_train_scaled, y_train)\n",
        "y_pred_scaled = svm_scaled.predict(X_test_scaled)\n",
        "acc_scaled = accuracy_score(y_test, y_pred_scaled)\n",
        "\n",
        "# ---------- Compare Results ----------\n",
        "print(f\"Accuracy without scaling: {acc_unscaled:.2f}\")\n",
        "print(f\"Accuracy with scaling   : {acc_scaled:.2f}\")"
      ],
      "metadata": {
        "colab": {
          "base_uri": "https://localhost:8080/"
        },
        "id": "vETEwvncO8Bj",
        "outputId": "6f59282c-d446-4b84-adf0-2ac73c0dde45"
      },
      "execution_count": 8,
      "outputs": [
        {
          "output_type": "stream",
          "name": "stdout",
          "text": [
            "Accuracy without scaling: 0.94\n",
            "Accuracy with scaling   : 0.98\n"
          ]
        }
      ]
    },
    {
      "cell_type": "markdown",
      "source": [
        "10. Write a Python program to train a Gaussian Naïve Bayes model and compare the predictions before and\n",
        "after Laplace Smoothing"
      ],
      "metadata": {
        "id": "TpB3RaOSO8de"
      }
    },
    {
      "cell_type": "code",
      "source": [
        "# To train a Multinomial Naïve Bayes classifier on text data and compare prediction accuracy:\n",
        "# Without Laplace smoothing (alpha=0)\n",
        "# With Laplace smoothing (alpha=1)\n",
        "\n",
        "from sklearn.datasets import fetch_20newsgroups\n",
        "from sklearn.feature_extraction.text import CountVectorizer\n",
        "from sklearn.naive_bayes import MultinomialNB\n",
        "from sklearn.model_selection import train_test_split\n",
        "from sklearn.metrics import accuracy_score\n",
        "\n",
        "# Load text dataset\n",
        "categories = ['rec.sport.hockey', 'sci.space']\n",
        "data = fetch_20newsgroups(subset='train', categories=categories, remove=('headers', 'footers', 'quotes'))\n",
        "\n",
        "# Convert text to count vectors\n",
        "vectorizer = CountVectorizer()\n",
        "X = vectorizer.fit_transform(data.data)\n",
        "y = data.target\n",
        "\n",
        "# Train-test split\n",
        "X_train, X_test, y_train, y_test = train_test_split(X, y, test_size=0.3, random_state=42)\n",
        "\n",
        "# Train MultinomialNB without Laplace smoothing (alpha=0)\n",
        "model_no_smoothing = MultinomialNB(alpha=0.0)\n",
        "model_no_smoothing.fit(X_train, y_train)\n",
        "y_pred_no_smoothing = model_no_smoothing.predict(X_test)\n",
        "acc_no_smoothing = accuracy_score(y_test, y_pred_no_smoothing)\n",
        "\n",
        "# Train MultinomialNB with Laplace smoothing (alpha=1)\n",
        "model_laplace = MultinomialNB(alpha=1.0)\n",
        "model_laplace.fit(X_train, y_train)\n",
        "y_pred_laplace = model_laplace.predict(X_test)\n",
        "acc_laplace = accuracy_score(y_test, y_pred_laplace)\n",
        "\n",
        "# Compare results\n",
        "print(f\"Accuracy without Laplace smoothing (alpha=0): {acc_no_smoothing:.2f}\")\n",
        "print(f\"Accuracy with Laplace smoothing (alpha=1): {acc_laplace:.2f}\")"
      ],
      "metadata": {
        "colab": {
          "base_uri": "https://localhost:8080/"
        },
        "id": "SGv-gJ84O-su",
        "outputId": "856667f2-3c75-4ba5-b4d8-2498506179f3"
      },
      "execution_count": 10,
      "outputs": [
        {
          "output_type": "stream",
          "name": "stdout",
          "text": [
            "Accuracy without Laplace smoothing (alpha=0): 0.57\n",
            "Accuracy with Laplace smoothing (alpha=1): 0.95\n"
          ]
        },
        {
          "output_type": "stream",
          "name": "stderr",
          "text": [
            "/usr/local/lib/python3.11/dist-packages/sklearn/naive_bayes.py:898: RuntimeWarning: divide by zero encountered in log\n",
            "  self.feature_log_prob_ = np.log(smoothed_fc) - np.log(\n"
          ]
        }
      ]
    },
    {
      "cell_type": "markdown",
      "source": [
        "11.Write a Python program to train an SVM Classifier and use GridSearchCV to tune the hyperparameters (C,\n",
        "gamma, kernel)?"
      ],
      "metadata": {
        "id": "Qp0kQnELO_C3"
      }
    },
    {
      "cell_type": "code",
      "source": [
        "from sklearn.datasets import load_iris\n",
        "from sklearn.model_selection import train_test_split, GridSearchCV\n",
        "from sklearn.svm import SVC\n",
        "from sklearn.metrics import classification_report, accuracy_score\n",
        "\n",
        "# Load dataset\n",
        "data = load_iris()\n",
        "X = data.data\n",
        "y = data.target\n",
        "\n",
        "# Split into train and test sets\n",
        "X_train, X_test, y_train, y_test = train_test_split(X, y, test_size=0.3, random_state=42)\n",
        "\n",
        "# Define parameter grid for GridSearchCV\n",
        "param_grid = {\n",
        "    'C': [0.1, 1, 10],\n",
        "    'gamma': ['scale', 0.01, 0.1, 1],\n",
        "    'kernel': ['linear', 'rbf', 'poly']\n",
        "}\n",
        "\n",
        "# Create SVM model\n",
        "svm = SVC()\n",
        "\n",
        "# Create GridSearchCV object\n",
        "grid = GridSearchCV(svm, param_grid, cv=5, scoring='accuracy', n_jobs=-1)\n",
        "grid.fit(X_train, y_train)\n",
        "\n",
        "# Best parameters and model\n",
        "print(\"Best Parameters:\", grid.best_params_)\n",
        "\n",
        "# Evaluate on test set\n",
        "y_pred = grid.predict(X_test)\n",
        "print(\"Accuracy:\", accuracy_score(y_test, y_pred))\n",
        "print(\"Classification Report:\\n\", classification_report(y_test, y_pred))"
      ],
      "metadata": {
        "colab": {
          "base_uri": "https://localhost:8080/"
        },
        "id": "JwyeCIpjPBzn",
        "outputId": "ee63a9d6-9683-4200-84c3-91575dcc2ab2"
      },
      "execution_count": 11,
      "outputs": [
        {
          "output_type": "stream",
          "name": "stdout",
          "text": [
            "Best Parameters: {'C': 1, 'gamma': 'scale', 'kernel': 'poly'}\n",
            "Accuracy: 0.9777777777777777\n",
            "Classification Report:\n",
            "               precision    recall  f1-score   support\n",
            "\n",
            "           0       1.00      1.00      1.00        19\n",
            "           1       1.00      0.92      0.96        13\n",
            "           2       0.93      1.00      0.96        13\n",
            "\n",
            "    accuracy                           0.98        45\n",
            "   macro avg       0.98      0.97      0.97        45\n",
            "weighted avg       0.98      0.98      0.98        45\n",
            "\n"
          ]
        }
      ]
    },
    {
      "cell_type": "markdown",
      "source": [
        "12. Write a Python program to train an SVM Classifier on an imbalanced dataset and apply class weighting and\n",
        "check it improve accuracy"
      ],
      "metadata": {
        "id": "X6a0AHEgPDpV"
      }
    },
    {
      "cell_type": "code",
      "source": [
        "from sklearn.datasets import make_classification\n",
        "from sklearn.model_selection import train_test_split\n",
        "from sklearn.svm import SVC\n",
        "from sklearn.metrics import accuracy_score, classification_report\n",
        "import numpy as np\n",
        "from collections import Counter\n",
        "\n",
        "# Create an imbalanced binary classification dataset\n",
        "X, y = make_classification(n_samples=1000, n_features=20, n_classes=2,\n",
        "                           weights=[0.9, 0.1], flip_y=0, random_state=42)\n",
        "\n",
        "# Check class distribution\n",
        "print(\"Class distribution:\", Counter(y))\n",
        "\n",
        "# Split data\n",
        "X_train, X_test, y_train, y_test = train_test_split(X, y, test_size=0.3, random_state=42)\n",
        "\n",
        "# ----------- SVM without Class Weights -----------\n",
        "model_no_weights = SVC(kernel='rbf', C=1.0)\n",
        "model_no_weights.fit(X_train, y_train)\n",
        "y_pred_no_weights = model_no_weights.predict(X_test)\n",
        "\n",
        "print(\"\\nSVM Without Class Weights:\")\n",
        "print(\"Accuracy:\", accuracy_score(y_test, y_pred_no_weights))\n",
        "print(classification_report(y_test, y_pred_no_weights))\n",
        "\n",
        "# ----------- SVM with Class Weights -----------\n",
        "model_with_weights = SVC(kernel='rbf', C=1.0, class_weight='balanced')\n",
        "model_with_weights.fit(X_train, y_train)\n",
        "y_pred_weights = model_with_weights.predict(X_test)\n",
        "\n",
        "print(\"\\nSVM With Class Weights:\")\n",
        "print(\"Accuracy:\", accuracy_score(y_test, y_pred_weights))\n",
        "print(classification_report(y_test, y_pred_weights))"
      ],
      "metadata": {
        "colab": {
          "base_uri": "https://localhost:8080/"
        },
        "id": "7_fZ-_z4PEfU",
        "outputId": "17aa981a-ccd9-4d15-e9d3-af5cace57803"
      },
      "execution_count": 12,
      "outputs": [
        {
          "output_type": "stream",
          "name": "stdout",
          "text": [
            "Class distribution: Counter({np.int64(0): 900, np.int64(1): 100})\n",
            "\n",
            "SVM Without Class Weights:\n",
            "Accuracy: 0.9366666666666666\n",
            "              precision    recall  f1-score   support\n",
            "\n",
            "           0       0.95      0.98      0.97       275\n",
            "           1       0.69      0.44      0.54        25\n",
            "\n",
            "    accuracy                           0.94       300\n",
            "   macro avg       0.82      0.71      0.75       300\n",
            "weighted avg       0.93      0.94      0.93       300\n",
            "\n",
            "\n",
            "SVM With Class Weights:\n",
            "Accuracy: 0.92\n",
            "              precision    recall  f1-score   support\n",
            "\n",
            "           0       0.97      0.95      0.96       275\n",
            "           1       0.52      0.64      0.57        25\n",
            "\n",
            "    accuracy                           0.92       300\n",
            "   macro avg       0.74      0.79      0.76       300\n",
            "weighted avg       0.93      0.92      0.92       300\n",
            "\n"
          ]
        }
      ]
    },
    {
      "cell_type": "markdown",
      "source": [
        "13. Write a Python program to implement a Naïve Bayes classifier for spam detection using email data."
      ],
      "metadata": {
        "id": "h2XygM_-PF1d"
      }
    },
    {
      "cell_type": "code",
      "source": [
        "import pandas as pd\n",
        "from sklearn.model_selection import train_test_split\n",
        "from sklearn.feature_extraction.text import CountVectorizer\n",
        "from sklearn.naive_bayes import MultinomialNB\n",
        "from sklearn.metrics import accuracy_score, classification_report\n",
        "\n",
        "# Sample spam dataset (replace with actual email data)\n",
        "url = \"https://raw.githubusercontent.com/justmarkham/pycon-2016-tutorial/master/data/sms.tsv\"\n",
        "df = pd.read_csv(url, sep='\\t', names=['label', 'message'])\n",
        "\n",
        "# Encode labels: 'spam' = 1, 'ham' = 0\n",
        "df['label'] = df['label'].map({'ham': 0, 'spam': 1})\n",
        "\n",
        "# Train-test split\n",
        "X_train, X_test, y_train, y_test = train_test_split(df['message'], df['label'], test_size=0.3, random_state=42)\n",
        "\n",
        "# Convert text to bag-of-words features\n",
        "vectorizer = CountVectorizer()\n",
        "X_train_vec = vectorizer.fit_transform(X_train)\n",
        "X_test_vec = vectorizer.transform(X_test)\n",
        "\n",
        "# Train Naïve Bayes classifier\n",
        "model = MultinomialNB()\n",
        "model.fit(X_train_vec, y_train)\n",
        "\n",
        "# Predict and evaluate\n",
        "y_pred = model.predict(X_test_vec)\n",
        "print(\"Accuracy:\", accuracy_score(y_test, y_pred))\n",
        "print(\"Classification Report:\\n\", classification_report(y_test, y_pred, target_names=['Ham', 'Spam']))"
      ],
      "metadata": {
        "colab": {
          "base_uri": "https://localhost:8080/"
        },
        "id": "8M3YLq_EPHf0",
        "outputId": "436f30f0-84dc-471b-b174-8b76617e7e07"
      },
      "execution_count": 13,
      "outputs": [
        {
          "output_type": "stream",
          "name": "stdout",
          "text": [
            "Accuracy: 0.9904306220095693\n",
            "Classification Report:\n",
            "               precision    recall  f1-score   support\n",
            "\n",
            "         Ham       0.99      1.00      0.99      1448\n",
            "        Spam       0.98      0.95      0.96       224\n",
            "\n",
            "    accuracy                           0.99      1672\n",
            "   macro avg       0.99      0.97      0.98      1672\n",
            "weighted avg       0.99      0.99      0.99      1672\n",
            "\n"
          ]
        }
      ]
    },
    {
      "cell_type": "markdown",
      "source": [
        "14. Write a Python program to train an SVM Classifier and a Naïve Bayes Classifier on the same dataset and\n",
        "compare their accuracy"
      ],
      "metadata": {
        "id": "k1BggYc_PIv_"
      }
    },
    {
      "cell_type": "code",
      "source": [
        "from sklearn.datasets import load_iris\n",
        "from sklearn.model_selection import train_test_split\n",
        "from sklearn.svm import SVC\n",
        "from sklearn.naive_bayes import GaussianNB\n",
        "from sklearn.metrics import accuracy_score\n",
        "\n",
        "# Load dataset\n",
        "data = load_iris()\n",
        "X = data.data\n",
        "y = data.target\n",
        "\n",
        "# Split into training and testing sets\n",
        "X_train, X_test, y_train, y_test = train_test_split(X, y, test_size=0.3, random_state=42)\n",
        "\n",
        "# ---- Train SVM Classifier ----\n",
        "svm_model = SVC(kernel='rbf', C=1.0, gamma='scale')\n",
        "svm_model.fit(X_train, y_train)\n",
        "svm_pred = svm_model.predict(X_test)\n",
        "svm_acc = accuracy_score(y_test, svm_pred)\n",
        "\n",
        "# ---- Train Naïve Bayes Classifier ----\n",
        "nb_model = GaussianNB()\n",
        "nb_model.fit(X_train, y_train)\n",
        "nb_pred = nb_model.predict(X_test)\n",
        "nb_acc = accuracy_score(y_test, nb_pred)\n",
        "\n",
        "# ---- Compare Results ----\n",
        "print(f\"SVM Accuracy       : {svm_acc:.2f}\")\n",
        "print(f\"Naïve Bayes Accuracy: {nb_acc:.2f}\")"
      ],
      "metadata": {
        "colab": {
          "base_uri": "https://localhost:8080/"
        },
        "id": "PmA97uJ5PKJY",
        "outputId": "cb3f3e34-e744-4828-a8f4-71b8f9be4d80"
      },
      "execution_count": 14,
      "outputs": [
        {
          "output_type": "stream",
          "name": "stdout",
          "text": [
            "SVM Accuracy       : 1.00\n",
            "Naïve Bayes Accuracy: 0.98\n"
          ]
        }
      ]
    },
    {
      "cell_type": "markdown",
      "source": [
        "15. Write a Python program to perform feature selection before training a Naïve Bayes classifier and compare\n",
        "results"
      ],
      "metadata": {
        "id": "X-yXWaniPLpS"
      }
    },
    {
      "cell_type": "code",
      "source": [
        "from sklearn.datasets import load_iris\n",
        "from sklearn.model_selection import train_test_split\n",
        "from sklearn.naive_bayes import GaussianNB\n",
        "from sklearn.feature_selection import SelectKBest, f_classif\n",
        "from sklearn.metrics import accuracy_score\n",
        "\n",
        "# Load dataset\n",
        "data = load_iris()\n",
        "X = data.data\n",
        "y = data.target\n",
        "\n",
        "# Train-test split\n",
        "X_train, X_test, y_train, y_test = train_test_split(X, y, test_size=0.3, random_state=42)\n",
        "\n",
        "# ----------- Without Feature Selection -----------\n",
        "model_full = GaussianNB()\n",
        "model_full.fit(X_train, y_train)\n",
        "y_pred_full = model_full.predict(X_test)\n",
        "acc_full = accuracy_score(y_test, y_pred_full)\n",
        "\n",
        "# ----------- With Feature Selection (top 2 features) -----------\n",
        "selector = SelectKBest(score_func=f_classif, k=2)\n",
        "X_train_selected = selector.fit_transform(X_train, y_train)\n",
        "X_test_selected = selector.transform(X_test)\n",
        "\n",
        "model_selected = GaussianNB()\n",
        "model_selected.fit(X_train_selected, y_train)\n",
        "y_pred_selected = model_selected.predict(X_test_selected)\n",
        "acc_selected = accuracy_score(y_test, y_pred_selected)\n",
        "\n",
        "# ----------- Compare Results -----------\n",
        "print(f\"Accuracy WITHOUT feature selection: {acc_full:.2f}\")\n",
        "print(f\"Accuracy WITH feature selection   : {acc_selected:.2f}\")"
      ],
      "metadata": {
        "colab": {
          "base_uri": "https://localhost:8080/"
        },
        "id": "tswoUyFhPMvQ",
        "outputId": "aab5eb1f-f8fb-4290-fa5c-3a795aa8f01d"
      },
      "execution_count": 15,
      "outputs": [
        {
          "output_type": "stream",
          "name": "stdout",
          "text": [
            "Accuracy WITHOUT feature selection: 0.98\n",
            "Accuracy WITH feature selection   : 1.00\n"
          ]
        }
      ]
    },
    {
      "cell_type": "markdown",
      "source": [
        "16. Write a Python program to train an SVM Classifier using One-vs-Rest (OvR) and One-vs-One (OvO)\n",
        "strategies on the Wine dataset and compare their accuracy."
      ],
      "metadata": {
        "id": "lEYnlQmnTIvn"
      }
    },
    {
      "cell_type": "code",
      "source": [
        "from sklearn.datasets import load_wine\n",
        "from sklearn.model_selection import train_test_split\n",
        "from sklearn.svm import SVC\n",
        "from sklearn.multiclass import OneVsRestClassifier, OneVsOneClassifier\n",
        "from sklearn.metrics import accuracy_score\n",
        "\n",
        "# Load the Wine dataset\n",
        "data = load_wine()\n",
        "X = data.data\n",
        "y = data.target\n",
        "\n",
        "# Split into training and testing sets\n",
        "X_train, X_test, y_train, y_test = train_test_split(X, y, test_size=0.3, random_state=42)\n",
        "\n",
        "# ----- One-vs-Rest (OvR) Strategy -----\n",
        "ovr_model = OneVsRestClassifier(SVC(kernel='rbf', C=1.0, gamma='scale'))\n",
        "ovr_model.fit(X_train, y_train)\n",
        "y_pred_ovr = ovr_model.predict(X_test)\n",
        "ovr_accuracy = accuracy_score(y_test, y_pred_ovr)\n",
        "\n",
        "# ----- One-vs-One (OvO) Strategy -----\n",
        "ovo_model = OneVsOneClassifier(SVC(kernel='rbf', C=1.0, gamma='scale'))\n",
        "ovo_model.fit(X_train, y_train)\n",
        "y_pred_ovo = ovo_model.predict(X_test)\n",
        "ovo_accuracy = accuracy_score(y_test, y_pred_ovo)\n",
        "\n",
        "# ----- Results -----\n",
        "print(f\"OvR Accuracy: {ovr_accuracy:.2f}\")\n",
        "print(f\"OvO Accuracy: {ovo_accuracy:.2f}\")"
      ],
      "metadata": {
        "colab": {
          "base_uri": "https://localhost:8080/"
        },
        "id": "1WrG9EM7TLMo",
        "outputId": "e0587460-0af4-4694-a30c-acaf14577f15"
      },
      "execution_count": 16,
      "outputs": [
        {
          "output_type": "stream",
          "name": "stdout",
          "text": [
            "OvR Accuracy: 0.72\n",
            "OvO Accuracy: 0.80\n"
          ]
        }
      ]
    },
    {
      "cell_type": "markdown",
      "source": [
        "17. Write a Python program to train an SVM Classifier using Linear, Polynomial, and RBF kernels on the Breast\n",
        "Cancer dataset and compare their accuracy."
      ],
      "metadata": {
        "id": "HAKLLM7BTLea"
      }
    },
    {
      "cell_type": "code",
      "source": [
        "from sklearn.datasets import load_breast_cancer\n",
        "from sklearn.model_selection import train_test_split\n",
        "from sklearn.svm import SVC\n",
        "from sklearn.metrics import accuracy_score\n",
        "\n",
        "# Load dataset\n",
        "data = load_breast_cancer()\n",
        "X, y = data.data, data.target\n",
        "\n",
        "# Train-test split\n",
        "X_train, X_test, y_train, y_test = train_test_split(X, y, test_size=0.3, random_state=42)\n",
        "\n",
        "# ---- Linear Kernel ----\n",
        "linear_svm = SVC(kernel='linear', C=1.0)\n",
        "linear_svm.fit(X_train, y_train)\n",
        "linear_pred = linear_svm.predict(X_test)\n",
        "linear_acc = accuracy_score(y_test, linear_pred)\n",
        "\n",
        "# ---- Polynomial Kernel ----\n",
        "poly_svm = SVC(kernel='poly', degree=3, C=1.0)\n",
        "poly_svm.fit(X_train, y_train)\n",
        "poly_pred = poly_svm.predict(X_test)\n",
        "poly_acc = accuracy_score(y_test, poly_pred)\n",
        "\n",
        "# ---- RBF Kernel ----\n",
        "rbf_svm = SVC(kernel='rbf', C=1.0, gamma='scale')\n",
        "rbf_svm.fit(X_train, y_train)\n",
        "rbf_pred = rbf_svm.predict(X_test)\n",
        "rbf_acc = accuracy_score(y_test, rbf_pred)\n",
        "\n",
        "# ---- Compare Accuracies ----\n",
        "print(f\"Linear Kernel Accuracy    : {linear_acc:.2f}\")\n",
        "print(f\"Polynomial Kernel Accuracy: {poly_acc:.2f}\")\n",
        "print(f\"RBF Kernel Accuracy       : {rbf_acc:.2f}\")"
      ],
      "metadata": {
        "colab": {
          "base_uri": "https://localhost:8080/"
        },
        "id": "QZtZTmAnTObK",
        "outputId": "e06f05e9-09ae-409b-81c5-e3c0f28931cf"
      },
      "execution_count": 17,
      "outputs": [
        {
          "output_type": "stream",
          "name": "stdout",
          "text": [
            "Linear Kernel Accuracy    : 0.96\n",
            "Polynomial Kernel Accuracy: 0.94\n",
            "RBF Kernel Accuracy       : 0.94\n"
          ]
        }
      ]
    },
    {
      "cell_type": "markdown",
      "source": [
        "18. Write a Python program to train an SVM Classifier using Stratified K-Fold Cross-Validation and compute the\n",
        "average accuracy."
      ],
      "metadata": {
        "id": "l4bZaC5VTPrY"
      }
    },
    {
      "cell_type": "code",
      "source": [
        "from sklearn.datasets import load_breast_cancer\n",
        "from sklearn.model_selection import StratifiedKFold, cross_val_score\n",
        "from sklearn.svm import SVC\n",
        "import numpy as np\n",
        "\n",
        "# Load the dataset\n",
        "data = load_breast_cancer()\n",
        "X, y = data.data, data.target\n",
        "\n",
        "# Define Stratified K-Fold Cross-Validation\n",
        "skf = StratifiedKFold(n_splits=5, shuffle=True, random_state=42)\n",
        "\n",
        "# Create SVM classifier\n",
        "model = SVC(kernel='rbf', C=1.0, gamma='scale')\n",
        "\n",
        "# Perform cross-validation and compute accuracy for each fold\n",
        "accuracies = cross_val_score(model, X, y, cv=skf, scoring='accuracy')\n",
        "\n",
        "# Display results\n",
        "print(\"Accuracies for each fold:\", np.round(accuracies, 3))\n",
        "print(\"Average Accuracy        :\", round(accuracies.mean(), 3))"
      ],
      "metadata": {
        "colab": {
          "base_uri": "https://localhost:8080/"
        },
        "id": "XHHkCN9TTRQp",
        "outputId": "fc1f8dc1-0112-4ff5-c037-264edb2d2779"
      },
      "execution_count": 18,
      "outputs": [
        {
          "output_type": "stream",
          "name": "stdout",
          "text": [
            "Accuracies for each fold: [0.939 0.877 0.895 0.939 0.92 ]\n",
            "Average Accuracy        : 0.914\n"
          ]
        }
      ]
    },
    {
      "cell_type": "markdown",
      "source": [
        "19.Write a Python program to train a Naïve Bayes classifier using different prior probabilities and compare\n",
        "performance."
      ],
      "metadata": {
        "id": "skGYRkRWTTWU"
      }
    },
    {
      "cell_type": "code",
      "source": [
        "from sklearn.datasets import load_breast_cancer\n",
        "from sklearn.model_selection import train_test_split\n",
        "from sklearn.naive_bayes import GaussianNB\n",
        "from sklearn.metrics import accuracy_score\n",
        "\n",
        "# Load dataset\n",
        "data = load_breast_cancer()\n",
        "X, y = data.data, data.target\n",
        "\n",
        "# Train-test split\n",
        "X_train, X_test, y_train, y_test = train_test_split(X, y, test_size=0.3, random_state=42)\n",
        "\n",
        "# ----- Default prior (learned from data) -----\n",
        "model_default = GaussianNB()\n",
        "model_default.fit(X_train, y_train)\n",
        "pred_default = model_default.predict(X_test)\n",
        "acc_default = accuracy_score(y_test, pred_default)\n",
        "\n",
        "# ----- Custom prior: Assume 60% class 0, 40% class 1 -----\n",
        "model_custom = GaussianNB(priors=[0.6, 0.4])\n",
        "model_custom.fit(X_train, y_train)\n",
        "pred_custom = model_custom.predict(X_test)\n",
        "acc_custom = accuracy_score(y_test, pred_custom)\n",
        "\n",
        "# ----- Compare -----\n",
        "print(f\"Accuracy with default prior: {acc_default:.3f}\")\n",
        "print(f\"Accuracy with custom prior : {acc_custom:.3f}\")"
      ],
      "metadata": {
        "colab": {
          "base_uri": "https://localhost:8080/"
        },
        "id": "DLU015WbTWPh",
        "outputId": "6d7f58b3-8089-4906-f385-d7f385a5a001"
      },
      "execution_count": 19,
      "outputs": [
        {
          "output_type": "stream",
          "name": "stdout",
          "text": [
            "Accuracy with default prior: 0.942\n",
            "Accuracy with custom prior : 0.936\n"
          ]
        }
      ]
    },
    {
      "cell_type": "markdown",
      "source": [
        "20. Write a Python program to perform Recursive Feature Elimination (RFE) before training an SVM Classifier and\n",
        "compare accuracy."
      ],
      "metadata": {
        "id": "jQblX7ssTWj_"
      }
    },
    {
      "cell_type": "code",
      "source": [
        "from sklearn.datasets import load_breast_cancer\n",
        "from sklearn.model_selection import train_test_split\n",
        "from sklearn.naive_bayes import GaussianNB\n",
        "from sklearn.metrics import accuracy_score\n",
        "\n",
        "# Load dataset\n",
        "data = load_breast_cancer()\n",
        "X, y = data.data, data.target\n",
        "\n",
        "# Train-test split\n",
        "X_train, X_test, y_train, y_test = train_test_split(X, y, test_size=0.3, random_state=42)\n",
        "\n",
        "# ----- Default prior (learned from data) -----\n",
        "model_default = GaussianNB()\n",
        "model_default.fit(X_train, y_train)\n",
        "pred_default = model_default.predict(X_test)\n",
        "acc_default = accuracy_score(y_test, pred_default)\n",
        "\n",
        "# ----- Custom prior: Assume 60% class 0, 40% class 1 -----\n",
        "model_custom = GaussianNB(priors=[0.6, 0.4])\n",
        "model_custom.fit(X_train, y_train)\n",
        "pred_custom = model_custom.predict(X_test)\n",
        "acc_custom = accuracy_score(y_test, pred_custom)\n",
        "\n",
        "# ----- Compare -----\n",
        "print(f\"Accuracy with default prior: {acc_default:.3f}\")\n",
        "print(f\"Accuracy with custom prior : {acc_custom:.3f}\")"
      ],
      "metadata": {
        "colab": {
          "base_uri": "https://localhost:8080/"
        },
        "id": "19OaSPYaTZTY",
        "outputId": "ab38ff41-d37e-4796-ef9b-940210e98f01"
      },
      "execution_count": 20,
      "outputs": [
        {
          "output_type": "stream",
          "name": "stdout",
          "text": [
            "Accuracy with default prior: 0.942\n",
            "Accuracy with custom prior : 0.936\n"
          ]
        }
      ]
    },
    {
      "cell_type": "markdown",
      "source": [
        "21. Write a Python program to train an SVM Classifier and evaluate its performance using Precision, Recall, and\n",
        "F1-Score instead of accuracy."
      ],
      "metadata": {
        "id": "g52QtpzsTZ6o"
      }
    },
    {
      "cell_type": "code",
      "source": [
        "from sklearn.datasets import load_breast_cancer\n",
        "from sklearn.model_selection import train_test_split\n",
        "from sklearn.svm import SVC\n",
        "from sklearn.metrics import precision_score, recall_score, f1_score\n",
        "\n",
        "# Load dataset\n",
        "data = load_breast_cancer()\n",
        "X, y = data.data, data.target\n",
        "\n",
        "# Train-test split\n",
        "X_train, X_test, y_train, y_test = train_test_split(X, y, test_size=0.3, random_state=42)\n",
        "\n",
        "# Train SVM classifier\n",
        "model = SVC(kernel='rbf', C=1.0, gamma='scale')\n",
        "model.fit(X_train, y_train)\n",
        "y_pred = model.predict(X_test)\n",
        "\n",
        "# Evaluate with precision, recall, and F1-score\n",
        "precision = precision_score(y_test, y_pred)\n",
        "recall = recall_score(y_test, y_pred)\n",
        "f1 = f1_score(y_test, y_pred)\n",
        "\n",
        "# Print results\n",
        "print(f\"Precision: {precision:.3f}\")\n",
        "print(f\"Recall   : {recall:.3f}\")\n",
        "print(f\"F1-Score : {f1:.3f}\")\n"
      ],
      "metadata": {
        "colab": {
          "base_uri": "https://localhost:8080/"
        },
        "id": "52CxcqBnTcr5",
        "outputId": "7eb12264-029f-408d-d3f8-90344c4e838f"
      },
      "execution_count": 21,
      "outputs": [
        {
          "output_type": "stream",
          "name": "stdout",
          "text": [
            "Precision: 0.908\n",
            "Recall   : 1.000\n",
            "F1-Score : 0.952\n"
          ]
        }
      ]
    },
    {
      "cell_type": "markdown",
      "source": [
        "22. Write a Python program to train a Naïve Bayes Classifier and evaluate its performance using Log Loss\n",
        "(Cross-Entropy Loss)."
      ],
      "metadata": {
        "id": "uqm0VtkDTdPi"
      }
    },
    {
      "cell_type": "code",
      "source": [
        "from sklearn.datasets import load_breast_cancer\n",
        "from sklearn.model_selection import train_test_split\n",
        "from sklearn.naive_bayes import GaussianNB\n",
        "from sklearn.metrics import log_loss\n",
        "\n",
        "# Load the dataset\n",
        "data = load_breast_cancer()\n",
        "X, y = data.data, data.target\n",
        "\n",
        "# Train-test split\n",
        "X_train, X_test, y_train, y_test = train_test_split(X, y, test_size=0.3, random_state=42)\n",
        "\n",
        "# Train Gaussian Naïve Bayes model\n",
        "model = GaussianNB()\n",
        "model.fit(X_train, y_train)\n",
        "\n",
        "# Predict class probabilities\n",
        "y_prob = model.predict_proba(X_test)\n",
        "\n",
        "# Calculate log loss (cross-entropy loss)\n",
        "loss = log_loss(y_test, y_prob)\n",
        "\n",
        "# Print result\n",
        "print(f\"Log Loss (Cross-Entropy): {loss:.4f}\")"
      ],
      "metadata": {
        "colab": {
          "base_uri": "https://localhost:8080/"
        },
        "id": "eFML4k7fTfvF",
        "outputId": "a4b232bb-089e-4f94-c5f6-57e9025851c9"
      },
      "execution_count": 22,
      "outputs": [
        {
          "output_type": "stream",
          "name": "stdout",
          "text": [
            "Log Loss (Cross-Entropy): 0.4899\n"
          ]
        }
      ]
    },
    {
      "cell_type": "markdown",
      "source": [
        "23. Write a Python program to train an SVM Classifier and visualize the Confusion Matrix using seaborn."
      ],
      "metadata": {
        "id": "G6bPEtGKTgL0"
      }
    },
    {
      "cell_type": "code",
      "source": [
        "import seaborn as sns\n",
        "import matplotlib.pyplot as plt\n",
        "from sklearn.datasets import load_breast_cancer\n",
        "from sklearn.model_selection import train_test_split\n",
        "from sklearn.svm import SVC\n",
        "from sklearn.metrics import confusion_matrix, ConfusionMatrixDisplay\n",
        "\n",
        "# Load dataset\n",
        "data = load_breast_cancer()\n",
        "X, y = data.data, data.target\n",
        "\n",
        "# Train-test split\n",
        "X_train, X_test, y_train, y_test = train_test_split(X, y, test_size=0.3, random_state=42)\n",
        "\n",
        "# Train SVM classifier\n",
        "model = SVC(kernel='rbf', C=1.0, gamma='scale')\n",
        "model.fit(X_train, y_train)\n",
        "y_pred = model.predict(X_test)\n",
        "\n",
        "# Compute confusion matrix\n",
        "cm = confusion_matrix(y_test, y_pred)\n",
        "labels = data.target_names  # ['malignant', 'benign']\n",
        "\n",
        "# Plot using seaborn\n",
        "plt.figure(figsize=(6, 4))\n",
        "sns.heatmap(cm, annot=True, fmt='d', cmap='Blues',\n",
        "            xticklabels=labels, yticklabels=labels)\n",
        "plt.xlabel('Predicted')\n",
        "plt.ylabel('Actual')\n",
        "plt.title('SVM Confusion Matrix')\n",
        "plt.tight_layout()\n",
        "plt.show()"
      ],
      "metadata": {
        "colab": {
          "base_uri": "https://localhost:8080/",
          "height": 407
        },
        "id": "sUWfeACLTjAn",
        "outputId": "ba6f5daf-09ae-4fc8-d9ba-f8473a140f2a"
      },
      "execution_count": 23,
      "outputs": [
        {
          "output_type": "display_data",
          "data": {
            "text/plain": [
              "<Figure size 600x400 with 2 Axes>"
            ],
            "image/png": "[encoded data removed]"
          },
          "metadata": {}
        }
      ]
    },
    {
      "cell_type": "markdown",
      "source": [
        "24. Write a Python program to train an SVM Regressor (SVR) and evaluate its performance using Mean Absolute\n",
        "Error (MAE) instead of MSE."
      ],
      "metadata": {
        "id": "eB2EGzOPTkaW"
      }
    },
    {
      "cell_type": "code",
      "source": [
        "from sklearn.datasets import fetch_california_housing\n",
        "from sklearn.model_selection import train_test_split\n",
        "from sklearn.svm import SVR\n",
        "from sklearn.preprocessing import StandardScaler\n",
        "from sklearn.metrics import mean_absolute_error\n",
        "\n",
        "# Load dataset\n",
        "data = fetch_california_housing()\n",
        "X, y = data.data, data.target\n",
        "\n",
        "# Train-test split\n",
        "X_train, X_test, y_train, y_test = train_test_split(X, y, test_size=0.3, random_state=42)\n",
        "\n",
        "# Feature scaling (important for SVR)\n",
        "scaler = StandardScaler()\n",
        "X_train_scaled = scaler.fit_transform(X_train)\n",
        "X_test_scaled = scaler.transform(X_test)\n",
        "\n",
        "# Train SVR model\n",
        "model = SVR(kernel='rbf', C=100, epsilon=0.1)\n",
        "model.fit(X_train_scaled, y_train)\n",
        "\n",
        "# Predict and evaluate using MAE\n",
        "y_pred = model.predict(X_test_scaled)\n",
        "mae = mean_absolute_error(y_test, y_pred)\n",
        "\n",
        "# Print result\n",
        "print(f\"Mean Absolute Error (MAE): {mae:.3f}\")"
      ],
      "metadata": {
        "colab": {
          "base_uri": "https://localhost:8080/"
        },
        "id": "rsmU9HPmTo5I",
        "outputId": "3aed99de-f0a0-4c12-a782-56f2d463d84d"
      },
      "execution_count": 27,
      "outputs": [
        {
          "output_type": "stream",
          "name": "stdout",
          "text": [
            "Mean Absolute Error (MAE): 0.371\n"
          ]
        }
      ]
    },
    {
      "cell_type": "markdown",
      "source": [
        "25. Write a Python program to train a Naïve Bayes classifier and evaluate its performance using the ROC-AUC\n",
        "score."
      ],
      "metadata": {
        "id": "-FXpTyC4TpXW"
      }
    },
    {
      "cell_type": "code",
      "source": [
        "from sklearn.datasets import load_breast_cancer\n",
        "from sklearn.model_selection import train_test_split\n",
        "from sklearn.naive_bayes import GaussianNB\n",
        "from sklearn.metrics import roc_auc_score\n",
        "\n",
        "# Load dataset\n",
        "data = load_breast_cancer()\n",
        "X, y = data.data, data.target\n",
        "\n",
        "# Train-test split\n",
        "X_train, X_test, y_train, y_test = train_test_split(X, y, test_size=0.3, random_state=42)\n",
        "\n",
        "# Train Gaussian Naive Bayes model\n",
        "model = GaussianNB()\n",
        "model.fit(X_train, y_train)\n",
        "\n",
        "# Predict probabilities for the positive class\n",
        "y_proba = model.predict_proba(X_test)[:, 1]\n",
        "\n",
        "# Evaluate using ROC-AUC\n",
        "roc_auc = roc_auc_score(y_test, y_proba)\n",
        "\n",
        "# Print result\n",
        "print(f\"ROC-AUC Score: {roc_auc:.3f}\")"
      ],
      "metadata": {
        "colab": {
          "base_uri": "https://localhost:8080/"
        },
        "id": "g3iHjX5KTsNo",
        "outputId": "a87b4ded-5e7a-433e-f960-539e9e8c5a5d"
      },
      "execution_count": 25,
      "outputs": [
        {
          "output_type": "stream",
          "name": "stdout",
          "text": [
            "ROC-AUC Score: 0.992\n"
          ]
        }
      ]
    },
    {
      "cell_type": "markdown",
      "source": [
        "26. Write a Python program to train an SVM Classifier and visualize the Precision-Recall Curve."
      ],
      "metadata": {
        "id": "3pcQRjAaTsn4"
      }
    },
    {
      "cell_type": "code",
      "source": [
        "import matplotlib.pyplot as plt\n",
        "from sklearn.datasets import load_breast_cancer\n",
        "from sklearn.model_selection import train_test_split\n",
        "from sklearn.svm import SVC\n",
        "from sklearn.metrics import precision_recall_curve, average_precision_score\n",
        "\n",
        "# Load dataset\n",
        "data = load_breast_cancer()\n",
        "X, y = data.data, data.target\n",
        "\n",
        "# Train-test split\n",
        "X_train, X_test, y_train, y_test = train_test_split(X, y, test_size=0.3, random_state=42)\n",
        "\n",
        "# Train SVM classifier with probability output\n",
        "model = SVC(kernel='rbf', C=1.0, gamma='scale', probability=True)\n",
        "model.fit(X_train, y_train)\n",
        "\n",
        "# Predict probabilities for positive class\n",
        "y_scores = model.predict_proba(X_test)[:, 1]\n",
        "\n",
        "# Compute precision-recall pairs\n",
        "precision, recall, _ = precision_recall_curve(y_test, y_scores)\n",
        "avg_precision = average_precision_score(y_test, y_scores)\n",
        "\n",
        "# Plot Precision-Recall curve\n",
        "plt.figure(figsize=(6, 4))\n",
        "plt.plot(recall, precision, label=f'AP = {avg_precision:.2f}')\n",
        "plt.xlabel('Recall')\n",
        "plt.ylabel('Precision')\n",
        "plt.title('Precision-Recall Curve (SVM)')\n",
        "plt.legend()\n",
        "plt.grid(True)\n",
        "plt.tight_layout()\n",
        "plt.show()"
      ],
      "metadata": {
        "colab": {
          "base_uri": "https://localhost:8080/",
          "height": 407
        },
        "id": "8mlmMNFNTu9v",
        "outputId": "b563015b-6202-43f7-9127-090a5460ba8f"
      },
      "execution_count": 26,
      "outputs": [
        {
          "output_type": "display_data",
          "data": {
            "text/plain": [
              "<Figure size 600x400 with 1 Axes>"
            ],
            "image/png": "[encoded data removed]"
          },
          "metadata": {}
        }
      ]
    }
  ]
}