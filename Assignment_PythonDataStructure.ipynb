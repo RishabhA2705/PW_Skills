{
  "nbformat": 4,
  "nbformat_minor": 0,
  "metadata": {
    "colab": {
      "provenance": []
    },
    "kernelspec": {
      "name": "python3",
      "display_name": "Python 3"
    },
    "language_info": {
      "name": "python"
    }
  },
  "cells": [
    {
      "cell_type": "markdown",
      "source": [
        "1. What are data structures, and why are they important?\n",
        "\n",
        "Ans.Data structures are ways to organize and store data in a computer to use it efficiently.\n",
        "\n",
        "Why they matter:\n",
        "-- Faster access to data\n",
        "\n",
        "-- Better organization of code\n",
        "\n",
        "-- Efficient memory use\n",
        "\n",
        "-- Solve complex problems easily\n",
        "\n",
        "Examples: Arrays, Linked Lists, Stacks, Queues, Trees, Hash Tables.\n",
        "\n",
        "Right structure = Better performance."
      ],
      "metadata": {
        "id": "nh3E0VlYEeO4"
      }
    },
    {
      "cell_type": "markdown",
      "source": [
        "2. Explain the difference between mutable and immutable data types with examples?\n",
        "\n",
        "Ans. Mutable:\n",
        "Can be changed after creation.\n",
        "\n",
        "Example: Lists, Dictionaries, Sets\n",
        "\n",
        "    my_list = [1, 2, 3]\n",
        "    my_list.append(4)  # List is changed\n",
        "    print(my_list)     \n",
        "    \n",
        "    # Output: [1, 2, 3, 4]\n",
        "Immutable:\n",
        "Cannot be changed after creation.\n",
        "\n",
        "Example: Strings, Tuples, Integers\n",
        "\n",
        "    name = \"Alex\"\n",
        "    name = name + \"a\"   # A new string is created\n",
        "    print(name)         \n",
        "    \n",
        "    # Output: \"Alexa\""
      ],
      "metadata": {
        "id": "8zd678JHE__e"
      }
    },
    {
      "cell_type": "markdown",
      "source": [
        "3. What are the main differences between lists and tuples in Python?\n",
        "\n",
        "Ans. Here are the main differences between lists and tuples in Python:\n",
        "\n",
        "1. Mutability\n",
        "\n",
        "List: Mutable — you can change, add, or remove elements after creation.\n",
        "\n",
        "    my_list = [1, 2, 3]\n",
        "    my_list[0] = 10  # Valid\n",
        "\n",
        "Tuple: Immutable — once created, you cannot change its contents.\n",
        "\n",
        "    my_tuple = (1, 2, 3)\n",
        "    # my_tuple[0] = 10  # Raises TypeError\n",
        "\n",
        "2. Syntax\n",
        "List: Defined with square brackets []\n",
        "\n",
        "    my_list = [1, 2, 3]\n",
        "\n",
        "Tuple: Defined with parentheses () (or just commas)\n",
        "\n",
        "    my_tuple = (1, 2, 3)\n",
        "3. Performance\n",
        "\n",
        "Tuples are slightly faster than lists due to their immutability.\n",
        "\n",
        "Useful when performance matters and the data does not need to change.\n",
        "\n",
        "4. Use Case\n",
        "\n",
        "List: Best when you need a collection of items that can change over time.\n",
        "\n",
        "Tuple: Best for fixed collections of items (e.g., coordinates, RGB values).\n",
        "\n",
        "5. Methods\n",
        "\n",
        "Lists have more built-in methods (e.g., .append(), .remove(), .sort()).\n",
        "\n",
        "Tuples have fewer methods (mainly .count() and .index()).\n",
        "\n",
        "6. Hashability\n",
        "\n",
        "Tuples can be used as dictionary keys if they contain only immutable elements.\n",
        "\n",
        "Lists cannot be used as dictionary keys.\n"
      ],
      "metadata": {
        "id": "5GHqREK9FeUU"
      }
    },
    {
      "cell_type": "markdown",
      "source": [
        "4. Describe how dictionaries store data?\n",
        "\n",
        "Ans. Each item is a pair: key: value\n",
        "\n",
        "Keys must be unique and immutable (e.g., strings, numbers, tuples)\n",
        "\n",
        "Values can be any data type\n",
        "\n",
        "Internally, Python uses a hash table to store and retrieve values quickly using keys\n",
        "\n",
        "Example:\n",
        "\n",
        "    person = {\"name\": \"Alice\", \"age\": 30}\n",
        "    # Accessing data:\n",
        "    print(person[\"name\"])  \n",
        "    \n",
        "    # Output: Alice"
      ],
      "metadata": {
        "id": "9SXhljsh98yO"
      }
    },
    {
      "cell_type": "markdown",
      "source": [
        "5. Why might you use a set instead of a list in Python?\n",
        "\n",
        "Ans. Only unique items\n",
        "Sets automatically remove duplicates\n",
        "\n",
        "    list_with_dupes = [1, 2, 2, 3]\n",
        "    unique_set = set(list_with_dupes)  # {1, 2, 3}\n",
        "\n",
        "--faster membership checks\n",
        "Sets use hashing, so item in set is much faster than item in list, especially with large data.\n",
        "\n",
        "-- Do set operations\n",
        "Sets support powerful operations like:\n",
        "\n",
        "Union: set1 | set2\n",
        "\n",
        "Intersection: set1 & set2\n",
        "\n",
        "Difference: set1 - set2"
      ],
      "metadata": {
        "id": "2jJjAmfy-tPq"
      }
    },
    {
      "cell_type": "markdown",
      "source": [
        "6. What is a string in Python, and how is it different from a list?\n",
        "\n",
        "Ans. A string in Python is an immutable sequence of characters, used to store and manipulate text. Strings are defined using single (' ') or double (\" \") quotes.\n",
        "\n",
        "A list, on the other hand, is a mutable sequence that can store items of any data type, including numbers, strings, or even other lists.\n",
        "\n",
        "Key Differences:\n",
        "Mutability: Strings are immutable, lists are mutable\n",
        "\n",
        "Content: Strings hold only characters, lists can hold mixed data types\n",
        "\n",
        "Operations: Lists support more operations like adding/removing elements"
      ],
      "metadata": {
        "id": "EZkcOjoy_Q5y"
      }
    },
    {
      "cell_type": "markdown",
      "source": [
        "7. How do tuples ensure data integrity in Python?\n",
        "\n",
        "Ans. Tuples ensure data integrity in Python by being immutable.\n",
        "\n",
        "What that means:\n",
        "Once a tuple is created, its values can’t be changed\n",
        "\n",
        "No one can add, remove, or modify items accidentally\n",
        "\n",
        "Why that helps:\n",
        "Keeps data safe and consistent\n",
        "\n",
        "Great for storing fixed collections (like coordinates, settings, or constants)"
      ],
      "metadata": {
        "id": "A49ZVMJI_haU"
      }
    },
    {
      "cell_type": "markdown",
      "source": [
        "8. What is a hash table, and how does it relate to dictionaries in Python?\n",
        "\n",
        "Ans. A hash table is a data structure that stores data in key-value pairs and allows fast access to values using keys.\n",
        "\n",
        "How it works:\n",
        "\n",
        "A key is run through a hash function → gives a unique index\n",
        "\n",
        "The value is stored at that index\n",
        "\n",
        "Lookup is super fast — average time: O(1)\n",
        "\n",
        "Relation to dictionaries:\n",
        "In Python, dictionaries are built on hash tables\n",
        "\n",
        "When you do my_dict[\"key\"], Python:\n",
        "\n",
        "Hashes the key\n",
        "\n",
        "Finds the index\n",
        "\n",
        "Returns the value\n",
        "\n",
        "Example:\n",
        "\n",
        "    my_dict = {\"apple\": 1, \"banana\": 2}\n",
        "    # \"apple\" is hashed to an index → value 1 is retrieved"
      ],
      "metadata": {
        "id": "K0MZLXFq_w93"
      }
    },
    {
      "cell_type": "markdown",
      "source": [
        "9. Can lists contain different data types in Python?\n",
        "\n",
        "Ans. Yes, lists in Python can contain different data types.\n",
        "\n",
        "Example:\n",
        "\n",
        "    my_list = [1, \"hello\", 3.14, True, [5, 6]]\n",
        "This list has:\n",
        "\n",
        "An integer (1)\n",
        "\n",
        "A string (\"hello\")\n",
        "\n",
        "A float (3.14)\n",
        "\n",
        "A boolean (True)\n",
        "\n",
        "Another list ([5, 6])\n",
        "\n",
        "Python lists are flexible — they can hold any mix of data types."
      ],
      "metadata": {
        "id": "6RE4tzGPCibt"
      }
    },
    {
      "cell_type": "markdown",
      "source": [
        "10. Explain why strings are immutable in Python?\n",
        "\n",
        "Ans. Strings are immutable in Python to ensure data safety, performance, and reliability.\n",
        "\n",
        "a. Data Integrity\n",
        "\n",
        "Once created, the string can’t be changed — this prevents bugs from accidental changes.\n",
        "\n",
        "b. Efficiency\n",
        "Immutable objects can be optimized by Python internally (e.g., shared memory for identical strings).\n",
        "\n",
        "c. Hashability\n",
        "\n",
        "Strings can be used as keys in dictionaries because they are immutable (only immutable objects can be hashed).\n",
        "\n",
        "d. Thread-Safety\n",
        "\n",
        "In multi-threaded programs, immutable strings avoid issues with shared data being changed by different threads.\n",
        "\n"
      ],
      "metadata": {
        "id": "K3r90NJmC0Bt"
      }
    },
    {
      "cell_type": "markdown",
      "source": [
        "11. What advantages do dictionaries offer over lists for certain tasks?\n",
        "\n",
        "Ans.\n",
        "1. Fast Lookups\n",
        "\n",
        "Accessing values by key is much faster than searching through a list.\n",
        "\n",
        "    my_dict[\"name\"]  # O(1) time\n",
        "\n",
        "2. Key-Value Pairing\n",
        "\n",
        "Perfect when you want to associate values with unique keys (like a name with a phone number).\n",
        "\n",
        "3. Clearer Code\n",
        "\n",
        "Code is often more readable when using keys instead of index positions.\n",
        "\n",
        "4. No Need to Remember Indexes\n",
        "\n",
        "You use meaningful keys instead of numeric indexes:\n",
        "\n",
        "    person[\"age\"] vs person_list[2]"
      ],
      "metadata": {
        "id": "SDD2XDwRDEuv"
      }
    },
    {
      "cell_type": "markdown",
      "source": [
        "12. Describe a scenario where using a tuple would be preferable over a list.\n",
        "\n",
        "Ans. Example:\n",
        "\n",
        "    days = (\"Monday\", \"Tuesday\", \"Wednesday\", \"Thursday\", \"Friday\", \"Saturday\", \"Sunday\")\n",
        "Why use a tuple:\n",
        "\n",
        "The days of the week never change\n",
        "\n",
        "No need to add/remove days\n",
        "\n",
        "Tuple is immutable, so it protects the data."
      ],
      "metadata": {
        "id": "TEuLUvqxDbWI"
      }
    },
    {
      "cell_type": "markdown",
      "source": [
        "13. How do sets handle duplicate values in Python?\n",
        "\n",
        "Ans. In Python 3, sets automatically remove duplicate values.\n",
        "\n",
        "Example:\n",
        "\n",
        "    my_set = {1, 2, 2, 3, 3, 3}\n",
        "    print(my_set)  # Output: {1, 2, 3}\n",
        "\n",
        "How it works:\n",
        "\n",
        "When you add elements to a set, Python checks for duplicates\n",
        "\n",
        "If a value already exists, it won’t be added again."
      ],
      "metadata": {
        "id": "6zWNx6b5D3ul"
      }
    },
    {
      "cell_type": "markdown",
      "source": [
        "14. How does the “in” keyword work differently for lists and dictionaries?\n",
        "\n",
        "Ans.\n",
        "\n",
        "For lists:\n",
        "Checks if a value exists in the list\n",
        "\n",
        "    fruits = [\"apple\", \"banana\"]\n",
        "    \"apple\" in fruits  # ✅ True\n",
        "For dictionaries:\n",
        "Checks if a key exists (not the value!)\n",
        "\n",
        "    person = {\"name\": \"Alice\", \"age\": 30}\n",
        "    \"name\" in person     # ✅ True (key)\n",
        "    \"Alice\" in person    # ❌ False (not a key)"
      ],
      "metadata": {
        "id": "NUYfBxcCEK2Z"
      }
    },
    {
      "cell_type": "markdown",
      "source": [
        "15. Can you modify the elements of a tuple? Explain why or why not?\n",
        "\n",
        "Ans. No, you cannot modify the elements of a tuple in Python.\n",
        "\n",
        "Why not?\n",
        "Tuples are immutable — once created, their contents cannot be changed\n",
        "\n",
        "We can’t add, remove, or change any item\n",
        "\n",
        "Example:\n",
        "\n",
        "    my_tuple = (1, 2, 3)\n",
        "    my_tuple[0] = 10  # ❌ Error: 'tuple' object does not support item assignment\n",
        "\n",
        "Why this is useful:\n",
        "\n",
        "Protects data from being changed by mistake\n",
        "\n",
        "Makes your code safer and more predictable\n",
        "\n",
        "Allows tuples to be used as dictionary keys and in sets"
      ],
      "metadata": {
        "id": "5636N_6PEjMb"
      }
    },
    {
      "cell_type": "markdown",
      "source": [
        "16. What is a nested dictionary, and give an example of its use case?\n",
        "\n",
        "Ans. A nested dictionary is a dictionary inside another dictionary — it lets you store more complex, structured data.\n",
        "\n",
        "Example:\n",
        "\n",
        "    students = {\n",
        "    \"Alice\": {\"age\": 20, \"grade\": \"A\"},\n",
        "    \"Bob\": {\"age\": 22, \"grade\": \"B\"}\n",
        "    }\n",
        "Use Case:\n",
        "\n",
        "Useful for storing data about multiple related items, like:\n",
        "\n",
        "Students and their info\n",
        "\n",
        "Products with details\n",
        "\n",
        "Users and settings\n",
        "\n",
        "Accessing nested data:\n",
        "\n",
        "    print(students[\"Alice\"][\"grade\"])  # Output: A\n",
        "    \n",
        "Nested dictionaries = great for organizing layered data!"
      ],
      "metadata": {
        "id": "LkBPr5oJFNDj"
      }
    },
    {
      "cell_type": "markdown",
      "source": [
        "17.  Describe the time complexity of accessing elements in a dictionary?\n",
        "\n",
        "Ans. Accessing elements in a dictionary in Python has a time complexity of:\n",
        "\n",
        "O(1) (average case)\n",
        "Dictionary uses a hash table, so it can find the value by key almost instantly.\n",
        "\n",
        "In rare cases (like hash collisions):\n",
        "The time complexity can degrade to O(n) (worst case), but this is uncommon.\n",
        "\n",
        "Example:\n",
        "\n",
        "    my_dict = {\"a\": 1, \"b\": 2}\n",
        "    print(my_dict[\"b\"])  # O(1) access\n",
        "    \n",
        "Summary:\n",
        "\n",
        "Dictionaries give very fast access to data using keys — that’s one of their biggest strengths!"
      ],
      "metadata": {
        "id": "JU4rScbnFoY8"
      }
    },
    {
      "cell_type": "markdown",
      "source": [
        "18. In what situations are lists preferred over dictionaries?\n",
        "\n",
        "Ans. Lists are preferred over dictionaries when:\n",
        "\n",
        "1. Order matters\n",
        "\n",
        "Lists keep the order of items (especially before Python 3.7, dicts didn't guarantee this)\n",
        "\n",
        "2. You only need values\n",
        "\n",
        "No need for key-value pairs, just a simple collection\n",
        "\n",
        "    names = [\"Alice\", \"Bob\", \"Charlie\"]\n",
        "3. You’re working with sequences\n",
        "\n",
        "Like iterating over items, indexing, slicing, sorting\n",
        "\n",
        "4. Memory is a concern\n",
        "\n",
        "Lists are usually more memory-efficient than dictionaries"
      ],
      "metadata": {
        "id": "rL3hnbAQF7dw"
      }
    },
    {
      "cell_type": "markdown",
      "source": [
        "19. Why are dictionaries considered unordered, and how does that affect data retrieval?\n",
        "\n",
        "Ans.\n",
        "\n",
        "Before Python 3.7, dictionaries didn’t keep the insertion order of items — the order could appear random because dictionaries focused on speed, not order.\n",
        "\n",
        "Dictionaries do preserve insertion order, but they are still often described as unordered because:\n",
        "\n",
        "The main feature is fast access by key, not order\n",
        "\n",
        "You shouldn't rely on order for logic unless you explicitly need it\n",
        "\n",
        "You can't access items by index like in a list\n",
        "\n",
        "    my_dict = {\"a\": 1, \"b\": 2}\n",
        "    my_dict[0]  #Not possible\n",
        "Instead, you access values by key, which is fast and reliable\n",
        "\n",
        "    my_dict[\"a\"]  #Possible"
      ],
      "metadata": {
        "id": "pevKhUn8GOeF"
      }
    },
    {
      "cell_type": "markdown",
      "source": [
        "20. Explain the difference between a list and a dictionary in terms of data retrieval?\n",
        "\n",
        "Ans. Lists: Use when you need ordered data and access by position\n",
        "\n",
        "Dictionaries: Use when you need fast lookups using meaningful keys."
      ],
      "metadata": {
        "id": "DaWXpzhaHNO2"
      }
    },
    {
      "cell_type": "markdown",
      "source": [
        "**CODING**"
      ],
      "metadata": {
        "id": "5sM3DiWKIPuV"
      }
    },
    {
      "cell_type": "markdown",
      "source": [
        "1. Write a code to create a string with your name and print it?\n"
      ],
      "metadata": {
        "id": "3_-hJp7JISxz"
      }
    },
    {
      "cell_type": "code",
      "source": [
        "my_name = \"Rishabh Agrawal\"\n",
        "print(my_name)"
      ],
      "metadata": {
        "colab": {
          "base_uri": "https://localhost:8080/"
        },
        "id": "FUbWJ7ldLz5J",
        "outputId": "a48fe108-73ae-4476-90f0-9786c6c0cd5c"
      },
      "execution_count": 1,
      "outputs": [
        {
          "output_type": "stream",
          "name": "stdout",
          "text": [
            "Rishabh Agrawal\n"
          ]
        }
      ]
    },
    {
      "cell_type": "markdown",
      "source": [
        "2. Write a code to find the length of the string \"Hello World\"?"
      ],
      "metadata": {
        "id": "pmCiQQ6EL4pR"
      }
    },
    {
      "cell_type": "code",
      "source": [
        "text = \"Hello World\"\n",
        "length = len(text)\n",
        "print(length)"
      ],
      "metadata": {
        "colab": {
          "base_uri": "https://localhost:8080/"
        },
        "id": "65JXyZmdMAE4",
        "outputId": "a9209f18-4eee-44ef-fa41-ebf549893ce0"
      },
      "execution_count": 2,
      "outputs": [
        {
          "output_type": "stream",
          "name": "stdout",
          "text": [
            "11\n"
          ]
        }
      ]
    },
    {
      "cell_type": "markdown",
      "source": [
        "3. Write a code to slice the first 3 characters from the string \"Python Programming\"."
      ],
      "metadata": {
        "id": "G1Dg61wxMD0s"
      }
    },
    {
      "cell_type": "code",
      "source": [
        "text = \"Python Programming\"\n",
        "sliced = text[:3]\n",
        "print(sliced)"
      ],
      "metadata": {
        "colab": {
          "base_uri": "https://localhost:8080/"
        },
        "id": "CbgI4Z_pMHo6",
        "outputId": "771e3cf5-c36c-4a2a-e6dc-0fd77f9c29a7"
      },
      "execution_count": 3,
      "outputs": [
        {
          "output_type": "stream",
          "name": "stdout",
          "text": [
            "Pyt\n"
          ]
        }
      ]
    },
    {
      "cell_type": "markdown",
      "source": [
        "4. Write a code to convert the string \"hello\" to uppercase."
      ],
      "metadata": {
        "id": "sK4uruRtMUmE"
      }
    },
    {
      "cell_type": "code",
      "source": [
        "text = \"hello\"\n",
        "upper_text = text.upper()\n",
        "print(upper_text)"
      ],
      "metadata": {
        "colab": {
          "base_uri": "https://localhost:8080/"
        },
        "id": "LDpPNlXTMXSW",
        "outputId": "c667985c-8944-48ea-c3ae-cd08d84dd54e"
      },
      "execution_count": 4,
      "outputs": [
        {
          "output_type": "stream",
          "name": "stdout",
          "text": [
            "HELLO\n"
          ]
        }
      ]
    },
    {
      "cell_type": "markdown",
      "source": [
        "5. Write a code to replace the word \"apple\" with \"orange\" in the string \"I like apple\"."
      ],
      "metadata": {
        "id": "4HoF6XZ4MbvH"
      }
    },
    {
      "cell_type": "code",
      "source": [
        "text = \"I like apple\"\n",
        "new_text = text.replace(\"apple\", \"orange\")\n",
        "print(new_text)"
      ],
      "metadata": {
        "colab": {
          "base_uri": "https://localhost:8080/"
        },
        "id": "fxRpPTsSMecf",
        "outputId": "07d27a27-51fb-4926-a4dd-5e8db6c8c2c6"
      },
      "execution_count": 5,
      "outputs": [
        {
          "output_type": "stream",
          "name": "stdout",
          "text": [
            "I like orange\n"
          ]
        }
      ]
    },
    {
      "cell_type": "markdown",
      "source": [
        "6. Write a code to create a list with numbers 1 to 5 and print it."
      ],
      "metadata": {
        "id": "zFfgP469NRJS"
      }
    },
    {
      "cell_type": "code",
      "source": [
        "numbers = [1, 2, 3, 4, 5]\n",
        "print(numbers)"
      ],
      "metadata": {
        "colab": {
          "base_uri": "https://localhost:8080/"
        },
        "id": "55jTJZ1mNTKW",
        "outputId": "e6b4d42d-3d8f-4488-b156-8a4f1363fe15"
      },
      "execution_count": 6,
      "outputs": [
        {
          "output_type": "stream",
          "name": "stdout",
          "text": [
            "[1, 2, 3, 4, 5]\n"
          ]
        }
      ]
    },
    {
      "cell_type": "markdown",
      "source": [
        "7. Write a code to append the number 10 to the list [1, 2, 3, 4]."
      ],
      "metadata": {
        "id": "Ly-22fFpNbbA"
      }
    },
    {
      "cell_type": "code",
      "source": [
        "numbers = [1, 2, 3, 4]\n",
        "numbers.append(10)\n",
        "print(numbers)"
      ],
      "metadata": {
        "colab": {
          "base_uri": "https://localhost:8080/"
        },
        "id": "R9w0_sCJNgCJ",
        "outputId": "c497560d-2733-4d5d-aa4f-ab70217f6027"
      },
      "execution_count": 7,
      "outputs": [
        {
          "output_type": "stream",
          "name": "stdout",
          "text": [
            "[1, 2, 3, 4, 10]\n"
          ]
        }
      ]
    },
    {
      "cell_type": "markdown",
      "source": [
        "8. Write a code to remove the number 3 from the list [1, 2, 3, 4, 5]."
      ],
      "metadata": {
        "id": "9pnCQg1eN1bl"
      }
    },
    {
      "cell_type": "code",
      "source": [
        "numbers = [1, 2, 3, 4, 5]\n",
        "numbers.remove(3)\n",
        "print(numbers)"
      ],
      "metadata": {
        "colab": {
          "base_uri": "https://localhost:8080/"
        },
        "id": "y8LVhFTcN3LY",
        "outputId": "6a4622a4-3324-4d18-e0af-4f91e536ed55"
      },
      "execution_count": 8,
      "outputs": [
        {
          "output_type": "stream",
          "name": "stdout",
          "text": [
            "[1, 2, 4, 5]\n"
          ]
        }
      ]
    },
    {
      "cell_type": "markdown",
      "source": [
        "9. Write a code to access the second element in the list ['a', 'b', 'c', 'd']."
      ],
      "metadata": {
        "id": "xbRAmmOmN8EO"
      }
    },
    {
      "cell_type": "code",
      "source": [
        "my_list = ['a', 'b', 'c', 'd']\n",
        "second_element = my_list[1]\n",
        "print(\"The second element is:\", second_element)"
      ],
      "metadata": {
        "colab": {
          "base_uri": "https://localhost:8080/"
        },
        "id": "01FNiHRtOC83",
        "outputId": "3450a19c-7b45-4e75-8b15-918b0801bb8a"
      },
      "execution_count": 9,
      "outputs": [
        {
          "output_type": "stream",
          "name": "stdout",
          "text": [
            "The second element is: b\n"
          ]
        }
      ]
    },
    {
      "cell_type": "markdown",
      "source": [
        "10. Write a code to reverse the list [10, 20, 30, 40, 50]."
      ],
      "metadata": {
        "id": "2YN44PVCOarM"
      }
    },
    {
      "cell_type": "code",
      "source": [
        "my_list = [10, 20, 30, 40, 50]\n",
        "reversed_list = my_list[::-1]\n",
        "print(\"Reversed list:\", reversed_list)"
      ],
      "metadata": {
        "colab": {
          "base_uri": "https://localhost:8080/"
        },
        "id": "yAesO5jdOddO",
        "outputId": "74ad3b12-861b-424e-d432-a90e4c52f71b"
      },
      "execution_count": 10,
      "outputs": [
        {
          "output_type": "stream",
          "name": "stdout",
          "text": [
            "Reversed list: [50, 40, 30, 20, 10]\n"
          ]
        }
      ]
    },
    {
      "cell_type": "markdown",
      "source": [
        "11. Write a code to create a tuple with the elements 100, 200, 300 and print it."
      ],
      "metadata": {
        "id": "dIead0CyOi6s"
      }
    },
    {
      "cell_type": "code",
      "source": [
        "my_tuple = (100, 200, 300)\n",
        "print(\"The tuple is:\", my_tuple)"
      ],
      "metadata": {
        "colab": {
          "base_uri": "https://localhost:8080/"
        },
        "id": "xBjzu12kOpIH",
        "outputId": "5c60f8df-1936-4586-966e-acb9212c4da2"
      },
      "execution_count": 11,
      "outputs": [
        {
          "output_type": "stream",
          "name": "stdout",
          "text": [
            "The tuple is: (100, 200, 300)\n"
          ]
        }
      ]
    },
    {
      "cell_type": "markdown",
      "source": [
        "12. Write a code to access the second-to-last element of the tuple ('red', 'green', 'blue', 'yellow')."
      ],
      "metadata": {
        "id": "KbaIny2qOsBS"
      }
    },
    {
      "cell_type": "code",
      "source": [
        "my_tuple = ('red', 'green', 'blue', 'yellow')\n",
        "second_to_last = my_tuple[-2]\n",
        "print(\"The second-to-last element is:\", second_to_last)"
      ],
      "metadata": {
        "colab": {
          "base_uri": "https://localhost:8080/"
        },
        "id": "GcxnyOP5Oyqf",
        "outputId": "a85cd5f7-d4a5-4472-defb-b72d14365c66"
      },
      "execution_count": 12,
      "outputs": [
        {
          "output_type": "stream",
          "name": "stdout",
          "text": [
            "The second-to-last element is: blue\n"
          ]
        }
      ]
    },
    {
      "cell_type": "markdown",
      "source": [
        "13. Write a code to find the minimum number in the tuple (10, 20, 5, 15)."
      ],
      "metadata": {
        "id": "xnKlqnfOPgdb"
      }
    },
    {
      "cell_type": "code",
      "source": [
        "my_tuple = (10, 20, 5, 15)\n",
        "min_value = min(my_tuple)\n",
        "print(\"The minimum number is:\", min_value)"
      ],
      "metadata": {
        "colab": {
          "base_uri": "https://localhost:8080/"
        },
        "id": "eL7tn3tHPj7c",
        "outputId": "4e43fb82-86c2-4372-99fe-d03c09311731"
      },
      "execution_count": 13,
      "outputs": [
        {
          "output_type": "stream",
          "name": "stdout",
          "text": [
            "The minimum number is: 5\n"
          ]
        }
      ]
    },
    {
      "cell_type": "markdown",
      "source": [
        "14. Write a code to find the index of the element \"cat\" in the tuple ('dog', 'cat', 'rabbit')."
      ],
      "metadata": {
        "id": "a6DClWhOPnaY"
      }
    },
    {
      "cell_type": "code",
      "source": [
        "my_tuple = ('dog', 'cat', 'rabbit')\n",
        "index_of_cat = my_tuple.index('cat')\n",
        "print(\"The index of 'cat' is:\", index_of_cat)"
      ],
      "metadata": {
        "colab": {
          "base_uri": "https://localhost:8080/"
        },
        "id": "yYCY5JfZPrKv",
        "outputId": "d1c5802f-10b6-4bc6-9b7f-016bd52c2be5"
      },
      "execution_count": 14,
      "outputs": [
        {
          "output_type": "stream",
          "name": "stdout",
          "text": [
            "The index of 'cat' is: 1\n"
          ]
        }
      ]
    },
    {
      "cell_type": "markdown",
      "source": [
        "15. Write a code to create a tuple containing three different fruits and check if \"kiwi\" is in it."
      ],
      "metadata": {
        "id": "3aHBMqyoPt6-"
      }
    },
    {
      "cell_type": "code",
      "source": [
        "fruits = ('apple', 'banana', 'orange')\n",
        "\n",
        "if 'kiwi' in fruits:\n",
        "    print(\"Kiwi is in the tuple.\")\n",
        "else:\n",
        "    print(\"Kiwi is not in the tuple.\")"
      ],
      "metadata": {
        "colab": {
          "base_uri": "https://localhost:8080/"
        },
        "id": "aPLJCXfiPy3C",
        "outputId": "aef52c82-7fd1-4174-99ac-5b65e768ae89"
      },
      "execution_count": 15,
      "outputs": [
        {
          "output_type": "stream",
          "name": "stdout",
          "text": [
            "Kiwi is not in the tuple.\n"
          ]
        }
      ]
    },
    {
      "cell_type": "markdown",
      "source": [
        "16.  Write a code to create a set with the elements 'a', 'b', 'c' and print it."
      ],
      "metadata": {
        "id": "uUDIw_DBP1n0"
      }
    },
    {
      "cell_type": "code",
      "source": [
        "my_set = {'a', 'b', 'c'}\n",
        "print(\"The set is:\", my_set)"
      ],
      "metadata": {
        "colab": {
          "base_uri": "https://localhost:8080/"
        },
        "id": "ZJZpyuAiP5Lr",
        "outputId": "4ccae4e4-5e76-497d-819d-d7cfeea2ad15"
      },
      "execution_count": 16,
      "outputs": [
        {
          "output_type": "stream",
          "name": "stdout",
          "text": [
            "The set is: {'b', 'c', 'a'}\n"
          ]
        }
      ]
    },
    {
      "cell_type": "markdown",
      "source": [
        "17. Write a code to clear all elements from the set {1, 2, 3, 4, 5}."
      ],
      "metadata": {
        "id": "yf9_SCkcP-q_"
      }
    },
    {
      "cell_type": "code",
      "source": [
        "my_set = {1, 2, 3, 4, 5}\n",
        "my_set.clear()\n",
        "print(\"The set after clearing:\", my_set)"
      ],
      "metadata": {
        "colab": {
          "base_uri": "https://localhost:8080/"
        },
        "id": "evk9ZsWWQBOB",
        "outputId": "221cbca2-28bd-42e9-9118-f2488cffb666"
      },
      "execution_count": 17,
      "outputs": [
        {
          "output_type": "stream",
          "name": "stdout",
          "text": [
            "The set after clearing: set()\n"
          ]
        }
      ]
    },
    {
      "cell_type": "markdown",
      "source": [
        "18. Write a code to remove the element 4 from the set {1, 2, 3, 4}."
      ],
      "metadata": {
        "id": "R9D-e2L-QOQz"
      }
    },
    {
      "cell_type": "code",
      "source": [
        "my_set = {1, 2, 3, 4}\n",
        "my_set.remove(4)\n",
        "print(\"The set after removing 4:\", my_set)"
      ],
      "metadata": {
        "colab": {
          "base_uri": "https://localhost:8080/"
        },
        "id": "u-s8HHSlQTPP",
        "outputId": "3c7830a1-77d0-4a69-f252-d6ab32cf9aa8"
      },
      "execution_count": 18,
      "outputs": [
        {
          "output_type": "stream",
          "name": "stdout",
          "text": [
            "The set after removing 4: {1, 2, 3}\n"
          ]
        }
      ]
    },
    {
      "cell_type": "markdown",
      "source": [
        "19. Write a code to find the union of two sets {1, 2, 3} and {3, 4, 5}."
      ],
      "metadata": {
        "id": "TMwmglPjQWaO"
      }
    },
    {
      "cell_type": "code",
      "source": [
        "set1 = {1, 2, 3}\n",
        "set2 = {3, 4, 5}\n",
        "union_set = set1.union(set2)\n",
        "print(\"The union of the sets is:\", union_set)"
      ],
      "metadata": {
        "colab": {
          "base_uri": "https://localhost:8080/"
        },
        "id": "etq3QxZFQZFt",
        "outputId": "c6da4418-0952-457a-848d-7ee273134ae1"
      },
      "execution_count": 19,
      "outputs": [
        {
          "output_type": "stream",
          "name": "stdout",
          "text": [
            "The union of the sets is: {1, 2, 3, 4, 5}\n"
          ]
        }
      ]
    },
    {
      "cell_type": "markdown",
      "source": [
        "20. Write a code to find the intersection of two sets {1, 2, 3} and {2, 3, 4}."
      ],
      "metadata": {
        "id": "JpxZVlhWQdEE"
      }
    },
    {
      "cell_type": "code",
      "source": [
        "set1 = {1, 2, 3}\n",
        "set2 = {2, 3, 4}\n",
        "intersection_set = set1.intersection(set2)\n",
        "print(\"The intersection of the sets is:\", intersection_set)"
      ],
      "metadata": {
        "colab": {
          "base_uri": "https://localhost:8080/"
        },
        "id": "TY3rdqwPQhJT",
        "outputId": "c865f9a9-da23-4f54-d249-a25592bbf524"
      },
      "execution_count": 20,
      "outputs": [
        {
          "output_type": "stream",
          "name": "stdout",
          "text": [
            "The intersection of the sets is: {2, 3}\n"
          ]
        }
      ]
    },
    {
      "cell_type": "markdown",
      "source": [
        "21. Write a code to create a dictionary with the keys \"name\", \"age\", and \"city\", and print it."
      ],
      "metadata": {
        "id": "rKC1EHIZQ6T4"
      }
    },
    {
      "cell_type": "code",
      "source": [
        "person = {\n",
        "    \"name\": \"Alice\",\n",
        "    \"age\": 30,\n",
        "    \"city\": \"New York\"\n",
        "}\n",
        "\n",
        "print(\"The dictionary is:\", person)"
      ],
      "metadata": {
        "colab": {
          "base_uri": "https://localhost:8080/"
        },
        "id": "dDEKS92vQ9mP",
        "outputId": "12de805f-f4b9-417f-c15b-d74edb9bcb65"
      },
      "execution_count": 21,
      "outputs": [
        {
          "output_type": "stream",
          "name": "stdout",
          "text": [
            "The dictionary is: {'name': 'Alice', 'age': 30, 'city': 'New York'}\n"
          ]
        }
      ]
    },
    {
      "cell_type": "markdown",
      "source": [
        "22. Write a code to add a new key-value pair \"country\": \"USA\" to the dictionary {'name': 'John', 'age': 25}."
      ],
      "metadata": {
        "id": "oKiYWHXPRBuA"
      }
    },
    {
      "cell_type": "code",
      "source": [
        "person = {'name': 'John', 'age': 25}\n",
        "person['country'] = 'USA'\n",
        "print(\"Updated dictionary:\", person)"
      ],
      "metadata": {
        "colab": {
          "base_uri": "https://localhost:8080/"
        },
        "id": "GtlpPegsREgO",
        "outputId": "f3cb9014-e943-4f82-d9e1-e196e6333665"
      },
      "execution_count": 22,
      "outputs": [
        {
          "output_type": "stream",
          "name": "stdout",
          "text": [
            "Updated dictionary: {'name': 'John', 'age': 25, 'country': 'USA'}\n"
          ]
        }
      ]
    },
    {
      "cell_type": "markdown",
      "source": [
        "23. Write a code to access the value associated with the key \"name\" in the dictionary {'name': 'Alice', 'age': 30}"
      ],
      "metadata": {
        "id": "fIj4DkhQRIUq"
      }
    },
    {
      "cell_type": "code",
      "source": [
        "person = {'name': 'Alice', 'age': 30}\n",
        "name_value = person['name']\n",
        "print(\"The value associated with 'name' is:\", name_value)"
      ],
      "metadata": {
        "colab": {
          "base_uri": "https://localhost:8080/"
        },
        "id": "qT-A22ySRL6O",
        "outputId": "0acb33ad-90b5-48bf-f6c7-200bbe55e543"
      },
      "execution_count": 23,
      "outputs": [
        {
          "output_type": "stream",
          "name": "stdout",
          "text": [
            "The value associated with 'name' is: Alice\n"
          ]
        }
      ]
    },
    {
      "cell_type": "markdown",
      "source": [
        "24.  Write a code to remove the key \"age\" from the dictionary {'name': 'Bob', 'age': 22, 'city': 'New York'}."
      ],
      "metadata": {
        "id": "aG9RxGOoROi5"
      }
    },
    {
      "cell_type": "code",
      "source": [
        "person = {'name': 'Bob', 'age': 22, 'city': 'New York'}\n",
        "del person['age']\n",
        "print(\"Updated dictionary:\", person)"
      ],
      "metadata": {
        "colab": {
          "base_uri": "https://localhost:8080/"
        },
        "id": "jIINV_q5RSLW",
        "outputId": "0dd0712f-4ec8-49ed-f5c7-eb2202953267"
      },
      "execution_count": 24,
      "outputs": [
        {
          "output_type": "stream",
          "name": "stdout",
          "text": [
            "Updated dictionary: {'name': 'Bob', 'city': 'New York'}\n"
          ]
        }
      ]
    },
    {
      "cell_type": "markdown",
      "source": [
        "25. Write a code to check if the key \"city\" exists in the dictionary {'name': 'Alice', 'city': 'Paris'}."
      ],
      "metadata": {
        "id": "zSATBbzFRWmi"
      }
    },
    {
      "cell_type": "code",
      "source": [
        "person = {'name': 'Alice', 'city': 'Paris'}\n",
        "\n",
        "if 'city' in person:\n",
        "    print(\"The key 'city' exists in the dictionary.\")\n",
        "else:\n",
        "    print(\"The key 'city' does not exist in the dictionary.\")"
      ],
      "metadata": {
        "colab": {
          "base_uri": "https://localhost:8080/"
        },
        "id": "LSOeWcFQRcHM",
        "outputId": "0a8650ba-15cb-40a1-b585-f9f3890d219e"
      },
      "execution_count": 25,
      "outputs": [
        {
          "output_type": "stream",
          "name": "stdout",
          "text": [
            "The key 'city' exists in the dictionary.\n"
          ]
        }
      ]
    },
    {
      "cell_type": "markdown",
      "source": [
        "26. Write a code to create a list, a tuple, and a dictionary, and print them all."
      ],
      "metadata": {
        "id": "khLRBTNgRewe"
      }
    },
    {
      "cell_type": "code",
      "source": [
        "# Creating a list\n",
        "my_list = [1, 2, 3, 4, 5]\n",
        "\n",
        "# Creating a tuple\n",
        "my_tuple = ('apple', 'banana', 'cherry')\n",
        "\n",
        "# Creating a dictionary\n",
        "my_dict = {'name': 'Alice', 'age': 30, 'city': 'New York'}\n",
        "\n",
        "# Printing them all\n",
        "print(\"List:\", my_list)"
      ],
      "metadata": {
        "colab": {
          "base_uri": "https://localhost:8080/"
        },
        "id": "EXhBfMhfRjG0",
        "outputId": "7044a559-a270-4c7a-8e6b-235ff4cc35d1"
      },
      "execution_count": 26,
      "outputs": [
        {
          "output_type": "stream",
          "name": "stdout",
          "text": [
            "List: [1, 2, 3, 4, 5]\n"
          ]
        }
      ]
    },
    {
      "cell_type": "markdown",
      "source": [
        "27.  Write a code to create a list of 5 random numbers between 1 and 100, sort it in ascending order, and print the\n",
        "result.(replaced)"
      ],
      "metadata": {
        "id": "90IM0g6IRn0I"
      }
    },
    {
      "cell_type": "code",
      "source": [
        "import random\n",
        "\n",
        "# Create a list of 5 random numbers between 1 and 100\n",
        "random_numbers = random.sample(range(1, 101), 5)\n",
        "\n",
        "# Sort the list in ascending order\n",
        "random_numbers.sort()\n",
        "\n",
        "# Print the result\n",
        "print(\"Sorted list of random numbers:\", random_numbers)"
      ],
      "metadata": {
        "colab": {
          "base_uri": "https://localhost:8080/"
        },
        "id": "UGYM_NJ1Rvr5",
        "outputId": "b3becfb2-baaa-436b-b52b-aa3b4710706d"
      },
      "execution_count": 27,
      "outputs": [
        {
          "output_type": "stream",
          "name": "stdout",
          "text": [
            "Sorted list of random numbers: [24, 35, 60, 66, 92]\n"
          ]
        }
      ]
    },
    {
      "cell_type": "markdown",
      "source": [
        "28. Write a code to create a list with strings and print the element at the third index."
      ],
      "metadata": {
        "id": "P4fvjq1sRxg4"
      }
    },
    {
      "cell_type": "code",
      "source": [
        "# Create a list with strings\n",
        "string_list = ['apple', 'banana', 'cherry', 'date', 'elderberry']\n",
        "\n",
        "# Print the element at the third index (index starts from 0)\n",
        "print(\"Element at index 3:\", string_list[3])"
      ],
      "metadata": {
        "colab": {
          "base_uri": "https://localhost:8080/"
        },
        "id": "BDBanB4cR1fa",
        "outputId": "fdcd3743-2657-4d9b-930a-d01a2caade6f"
      },
      "execution_count": 28,
      "outputs": [
        {
          "output_type": "stream",
          "name": "stdout",
          "text": [
            "Element at index 3: date\n"
          ]
        }
      ]
    },
    {
      "cell_type": "markdown",
      "source": [
        "29. Write a code to combine two dictionaries into one and print the result."
      ],
      "metadata": {
        "id": "n2zLMF9UR4SV"
      }
    },
    {
      "cell_type": "code",
      "source": [
        "# Define two dictionaries\n",
        "dict1 = {'a': 1, 'b': 2}\n",
        "dict2 = {'c': 3, 'd': 4}\n",
        "\n",
        "# Combine them using the unpacking operator (Python 3.5+)\n",
        "combined_dict = {**dict1, **dict2}\n",
        "\n",
        "# Print the result\n",
        "print(\"Combined dictionary:\", combined_dict)"
      ],
      "metadata": {
        "colab": {
          "base_uri": "https://localhost:8080/"
        },
        "id": "Epbtd3ESR87Q",
        "outputId": "a62e0cd1-a7f5-4415-9c64-7d84ee1c51ef"
      },
      "execution_count": 29,
      "outputs": [
        {
          "output_type": "stream",
          "name": "stdout",
          "text": [
            "Combined dictionary: {'a': 1, 'b': 2, 'c': 3, 'd': 4}\n"
          ]
        }
      ]
    },
    {
      "cell_type": "markdown",
      "source": [
        "30. Write a code to convert a list of strings into a set."
      ],
      "metadata": {
        "id": "T4VQ_K0ZSDSH"
      }
    },
    {
      "cell_type": "code",
      "source": [
        "# List of strings\n",
        "string_list = ['apple', 'banana', 'cherry', 'apple']\n",
        "\n",
        "# Convert list to set\n",
        "string_set = set(string_list)\n",
        "\n",
        "# Print the result\n",
        "print(\"Set:\", string_set)"
      ],
      "metadata": {
        "colab": {
          "base_uri": "https://localhost:8080/"
        },
        "id": "R6PqODM1SEqq",
        "outputId": "e4c33a26-c260-4614-8a91-75c5816910bb"
      },
      "execution_count": 30,
      "outputs": [
        {
          "output_type": "stream",
          "name": "stdout",
          "text": [
            "Set: {'banana', 'apple', 'cherry'}\n"
          ]
        }
      ]
    }
  ]
}