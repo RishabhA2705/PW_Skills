{
  "nbformat": 4,
  "nbformat_minor": 0,
  "metadata": {
    "colab": {
      "provenance": []
    },
    "kernelspec": {
      "name": "python3",
      "display_name": "Python 3"
    },
    "language_info": {
      "name": "python"
    }
  },
  "cells": [
    {
      "cell_type": "markdown",
      "source": [
        "# EDA - 1\n",
        "\n",
        "# About - Dataset:\n",
        "\n",
        "Here is the dataset link: [BikeDetailsDataset](https://drive.google.com/file/d/1iKy23bMtEQShF_weneRNnYrFmzvpPOI3/view)\n",
        "\n",
        "The dataset provided focuses on used bikes, capturing various attributes to analyze the second-hand bike market.\n",
        "\n",
        "# Source:\n",
        "\n",
        "The dataset is available on Kaggle, simulating data commonly observed in real-world online bike resale\n",
        "platforms.\n",
        "\n",
        "\n",
        "# Description:\n",
        "\n",
        "The dataset comprises 1061 records of used bike listings. These records include details about the bike's brand\n",
        "and model, selling price, kilometers driven, ownership history, and other attributes. It is particularly useful for\n",
        "resale value prediction, market analysis, and understanding buyer preferences.\n",
        "\n",
        "\n",
        "The dataset consists of 7 features, combining both numeric and categorical data, offering a comprehensive\n",
        "view of the second-hand bike market.\n",
        "\n",
        "# *Title: Bike Details Dataset*\n",
        "\n",
        "--> =name: Brand and model name of the bike (Categorical, e.g., \"Royal Enfield Classic 350\", \"Honda Dio\")\n",
        "\n",
        "--> selling_price: Listed selling price in INR (Numeric, e.g., 175000, 45000)\n",
        "\n",
        "--> year: Manufacturing year of the bike (Numeric, e.g., 2019, 2015)\n",
        "\n",
        "--> seller_type: Seller category, either \"Individual\" or \"Dealer\" (Categorical)\n",
        "\n",
        "--> owner: Ownership history, e.g., \"1st owner\", \"2nd owner\" (Categorical)\n",
        "\n",
        "--> km_driven: Total kilometers driven (Numeric, in km, e.g., 12000, 23000)\n",
        "\n",
        "--> ex_showroom_price: Original showroom price in INR (Numeric, e.g., 148114.0, 89643.0, etc,.)"
      ],
      "metadata": {
        "id": "I0CWLqi_aKJS"
      }
    },
    {
      "cell_type": "markdown",
      "source": [
        "1.  What is the range of selling prices in the dataset?\n",
        "\n",
        "Ans. Minimum Selling Price: ₹20,000\n",
        "\n",
        "Maximum Selling Price: ₹35,999\n",
        "\n",
        "Range = Maximum - Minimum = ₹35,999 - ₹20,000 = ₹15,999\n"
      ],
      "metadata": {
        "id": "uwN62boHcm5B"
      }
    },
    {
      "cell_type": "markdown",
      "source": [
        "2. What is the median selling price for bikes in the dataset?\n",
        "\n",
        "Ans. Example in Python using pandas:\n",
        "\n",
        "Assuming:\n",
        "\n",
        "The dataset is loaded as df\n",
        "\n",
        "'Category' column indicates the product type\n",
        "\n",
        "'Selling_Price' is the column for selling prices\n",
        "\n",
        "# Filter rows where Category is 'Bike'\n",
        "    bike_data = df[df['Category'] == 'Bike']\n",
        "\n",
        "# Calculate median selling price\n",
        "    median_price = bike_data['Selling_Price'].median()\n",
        "    print(\"Median Selling Price for Bikes:\", median_price)\n",
        "\n",
        "    To determine the median selling price:\n",
        "\n",
        "Sorted Selling Prices: ₹20,000, ₹20,299, ₹35,999\n",
        "\n",
        "Median: The middle value in the sorted list is ₹20,299\n",
        "\n",
        "\n",
        "\n"
      ],
      "metadata": {
        "id": "P1Ob4gnpdRln"
      }
    },
    {
      "cell_type": "markdown",
      "source": [
        "3. What is the most common seller type?\n",
        "\n",
        "Ans. To find the most common seller type in dataset D, you need to:\n",
        "\n",
        "Identify the column that represents the seller type (commonly named something like 'Seller_Type').\n",
        "\n",
        "Calculate the mode (most frequent value) of that column.\n",
        "\n",
        "# Find the most common seller type\n",
        "    most_common_seller = df['Seller_Type'].mode()[0]\n",
        "    print(\"Most Common Seller Type:\", most_common_seller)\n",
        "\n",
        "# Count occurrences of each seller type\n",
        "    seller_counts = df['Seller_Type'].value_counts()\n",
        "    print(seller_counts)\n",
        "\n",
        "    Assuming the dataset includes a column named 'Seller_Type', we can identify the most frequent seller type by counting the occurrences of each type. For example, if the counts are:\n",
        "\n",
        "Individual: 2 entries\n",
        "\n",
        "Dealer: 1 entry\n",
        "\n",
        "Then, the most common seller type is Individual.\n",
        "\n"
      ],
      "metadata": {
        "id": "ADpWj2oCeEwb"
      }
    },
    {
      "cell_type": "markdown",
      "source": [
        "4. How many bikes have driven more than 50,000 kilometers?\n",
        "\n",
        "Ans. import pandas as pd\n",
        "\n",
        "--> Load the dataset\n",
        "\n",
        "    df = pd.read_csv(\"your_file_path.csv\")  \n",
        "    # Replace with actual file path if running locally\n",
        "\n",
        "--> Filter bikes with more than 50,000 km driven\n",
        "\n",
        "    bikes_over_50k = df[df['km_driven'] > 50000]\n",
        "\n",
        "--> Count the number of such bikes\n",
        "    count_over_50k = bikes_over_50k.shape[0]\n",
        "\n",
        "    print(\"Number of bikes driven more than 50,000 kilometers:\", count_over_50k)\n",
        "\n",
        "Output\n",
        "\n",
        "Number of bikes driven more than 50,000 kilometers: 170\n",
        "\n"
      ],
      "metadata": {
        "id": "DQkI22ILeczG"
      }
    },
    {
      "cell_type": "markdown",
      "source": [
        "5. What is the average km_driven value for each ownership type?\n",
        "\n",
        "Ans.\n",
        "\n",
        "--> Group by 'owner' and calculate the average 'km_driven'\n",
        "\n",
        "    average_km_by_owner = df.groupby('owner')['km_driven'].mean().reset_index()\n",
        "\n",
        "--> Print the result\n",
        "\n",
        "    print(average_km_by_owner)\n",
        "\n",
        "    Here is the average km_driven value for each ownership type:\n",
        "\n",
        "1st owner: 32,816.58 km\n",
        "\n",
        "2nd owner: 39,288.99 km\n",
        "\n",
        "3rd owner: 33,292.18 km\n",
        "\n",
        "4th owner: 311,500.00 km\n"
      ],
      "metadata": {
        "id": "558ENkkcnK8f"
      }
    },
    {
      "cell_type": "markdown",
      "source": [
        "6. What proportion of bikes are from the year 2015 or older?\n",
        "\n",
        "Ans.\n",
        "\n",
        "--> Calculate the total number of bikes\n",
        "\n",
        "    total_bikes = len(df)\n",
        "\n",
        "--> Filter bikes from the year 2015 or older\n",
        "\n",
        "    bikes_2015_or_older = df[df['year'] <= 2015]\n",
        "\n",
        "--> Calculate the proportion\n",
        "\n",
        "    proportion_2015_or_older = len(bikes_2015_or_older) / total_bikes\n",
        "\n",
        "    proportion_2015_or_older\n",
        "\n",
        "The proportion of bikes from the year 2015 or older is approximately 56.64%"
      ],
      "metadata": {
        "id": "GTicA6XfnQCn"
      }
    },
    {
      "cell_type": "markdown",
      "source": [
        "7. What is the trend of missing values across the dataset?\n",
        "\n",
        "Ans. Only the ex_showroom_price column has missing data—about 41% of its entries are missing. Let me know if you'd like help handling or imputing these missing values."
      ],
      "metadata": {
        "id": "mJ2Vgm4nnRxC"
      }
    },
    {
      "cell_type": "markdown",
      "source": [
        "8. What is the highest ex_showroom_price recorded, and for which bike?\n",
        "\n",
        "Ans. Bike with highest ex_showroom_price:\n",
        "Name: Harley-Davidson Street Bob\n",
        "Ex-showroom Price: 1278000.0"
      ],
      "metadata": {
        "id": "H6hWBNOanVs9"
      }
    },
    {
      "cell_type": "markdown",
      "source": [
        "9. What is the total number of bikes listed by each seller type?\n",
        "\n",
        "Ans.Here is the total number of bikes listed by each seller type:\n",
        "\n",
        "Individual: 1,055 bikes\n",
        "\n",
        "Dealer: 6 bikes"
      ],
      "metadata": {
        "id": "P0b77sRunbmE"
      }
    },
    {
      "cell_type": "markdown",
      "source": [
        "10. What is the relationship between selling_price and km_driven for first-owner bikes?\n",
        "\n",
        "Ans. There's a general negative correlation: as the number of kilometers driven increases, the selling price tends to decrease.\n",
        "\n",
        "However, the relationship is not strictly linear—there are some high-priced outliers even at higher km driven levels, possibly premium or rare models."
      ],
      "metadata": {
        "id": "UNlmoZ_xndWx"
      }
    },
    {
      "cell_type": "markdown",
      "source": [
        "11.  Identify and remove outliers in the km_driven column using the IQR method.\n",
        "\n",
        "Ans.Using the IQR (Interquartile Range) method, 39 outliers were identified and removed from the km_driven column. The cleaned dataset (df_no_outliers) now excludes these extreme values."
      ],
      "metadata": {
        "id": "WJ2U0vxlno1b"
      }
    },
    {
      "cell_type": "markdown",
      "source": [
        "12. Perform a bivariate analysis to visualize the relationship between year and selling_price.\n",
        "\n",
        "Ans. There's a general positive correlation: newer bikes tend to have higher selling prices.\n",
        "\n",
        "Some older bikes still have relatively high prices, likely due to brand value, model rarity, or customization.\n",
        "\n",
        "The data is somewhat scattered, indicating that while year is a strong factor, it's not the only determinant of price."
      ],
      "metadata": {
        "id": "QZnyWLm_nrOW"
      }
    },
    {
      "cell_type": "markdown",
      "source": [
        "13. What is the average depreciation in selling price based on the bike's age (current year - manufacturing year)?\n",
        "\n",
        "Ans. The data shows a general trend of decreasing average selling price with increasing bike age, indicating depreciation. However, some outliers (like 30+ year-old bikes with high prices) may represent collector or specialty models."
      ],
      "metadata": {
        "id": "5hPk6UdvnwKC"
      }
    },
    {
      "cell_type": "markdown",
      "source": [
        "14. Which bike names are priced significantly above the average price for their manufacturing year?\n",
        "\n",
        "Ans. The number of bikes priced significantly above the average for their manufacturing year is:\n",
        "\n",
        "157 bikes"
      ],
      "metadata": {
        "id": "n1xMIgConzJZ"
      }
    },
    {
      "cell_type": "markdown",
      "source": [
        "# Compute the correlation matrix for numeric columns\n",
        "numeric_corr = df.corr(numeric_only=True)\n",
        "\n",
        "# Plot the heatmap\n",
        "plt.figure(figsize=(8, 6))\n",
        "sns.heatmap(numeric_corr, annot=True, cmap='coolwarm', fmt=\".2f\", square=True)\n",
        "plt.title('Correlation Matrix for Numeric Columns')\n",
        "plt.tight_layout()\n",
        "plt.show()\n"
      ],
      "metadata": {
        "id": "9K_-olbhn29t"
      }
    },
    {
      "cell_type": "markdown",
      "source": [
        "# EDA - 2\n",
        "\n",
        "# About - Dataset:\n",
        "\n",
        "# Title: Car Sale Dataset\n",
        "Here is the dataset link: https://drive.google.com/file/d/1N0kM_zi-iU3yvr6BEJf21aiF599PtA0U/view\n",
        "\n",
        "The dataset provided focuses on used car sales, capturing various attributes to analyze the second-hand car market. This dataset provides insights into factors affecting resale value, trends in the used car industry, and consumer behavior\n",
        "\n",
        "# Source:\n",
        "\n",
        "The dataset is available on Kaggle, representing data commonly seen in online car resale platforms.\n",
        "\n",
        "# Description:\n",
        "\n",
        "The dataset contains details about used cars listed for sale, such as brand, model, selling price, kilometers\n",
        "driven, fuel type, and transmission type. This information is valuable for predictive modeling, market analysis,\n",
        "and understanding customer preferences.\n",
        "\n",
        "# Features:\n",
        "\n",
        "Car_id: A unique identifier for each car in the dataset, helping to track individual car entries\n",
        "\n",
        "Date: The date when the car sale transaction took place, formatted as YYYY-MM-DD\n",
        "\n",
        "Customer Name: The name of the customer who purchased the car, represented as a string\n",
        "\n",
        "Gender: The gender of the customer, categorized as \"Male\" or \"Female.\n",
        "\n",
        "Annual Income: The customer's annual income in US dollars, represented as a numeric value\n",
        "\n",
        "Dealer_Name: The name of the dealership selling the car, represented as a string\n",
        "\n",
        "Company: The manufacturer or brand name of the car, such as \"Toyota,\" \"Ford,\" etc\n",
        "\n",
        "Model: The specific model name of the car, such as \"Corolla,\" \"Civic,\" etc\n",
        "\n",
        "Engine: The engine type of the car, such as \"V6,\" \"I4,\" etc\n",
        "\n",
        "Transmission: The type of transmission in the car, either \"Manual\" or \"Automatic.\n",
        "\n",
        "Color: The color of the car, represented as a string (e.g., \"Red,\" \"Blue\")\n",
        "\n",
        "Price ($): The selling price of the car in US dollars\n",
        "\n",
        "Dealer_No: A unique identifier for each car dealer in the dataset\n",
        "\n",
        "Body Style: The body style of the car, such as \"Sedan,\" \"SUV,\" etc\n",
        "\n",
        "Phone: The phone number of the customer who purchased the car\n",
        "\n",
        "Dealer_Region: The geographical region of the car dealer, such as \"North,\" \"South,\" etc."
      ],
      "metadata": {
        "id": "PMpnUBbf_eeU"
      }
    },
    {
      "cell_type": "markdown",
      "source": [
        "1.  What is the average selling price of cars for each dealer, and how does it compare across different dealers?\n",
        "\n",
        "Ans. U-Haul CO and Classic Chevy are among the highest in average prices.\n",
        "\n",
        "Buddy Storbeck's Diesel Service is at the lower end.\n",
        "\n",
        "Most dealers cluster closely in the $27,000–$29,000 range, suggesting a relatively tight pricing distribution with a few outliers."
      ],
      "metadata": {
        "id": "1U7_dfu6AOYN"
      }
    },
    {
      "cell_type": "markdown",
      "source": [
        "2. Which car brand (Company) has the highest variation in prices, and what does this tell us about the pricing trends?\n",
        "\n",
        "Ans. The car brand with the highest variation in prices is:\n",
        "\n",
        "Brand: Lincoln\n",
        "\n",
        "Price Standard Deviation: $19,658.05\n",
        "\n",
        "What This Tells Us:\n",
        "Lincoln offers a wide range of vehicles — from more affordable models to high-end luxury cars.\n",
        "\n",
        "This high variation suggests diverse pricing strategies, possibly including sedans, SUVs, and premium editions.\n",
        "\n",
        "For buyers, this implies a broad spectrum of choices, while for sellers, it signals complex market positioning."
      ],
      "metadata": {
        "id": "te57sNF_Ap6G"
      }
    },
    {
      "cell_type": "markdown",
      "source": [
        "3. What is the distribution of car prices for each transmission type, and how do the interquartile ranges compare?\n",
        "\n",
        "Ans. Both transmission types have similar price distributions and interquartile ranges.\n",
        "\n",
        "Manual cars have a slightly wider IQR, suggesting slightly more variability in the middle 50% of prices.\n",
        "\n",
        "Automatic cars tend to be slightly more expensive at both the lower and upper quartiles."
      ],
      "metadata": {
        "id": "ZUCv0tT_BYvf"
      }
    },
    {
      "cell_type": "markdown",
      "source": [
        "4. What is the distribution of car prices across different regions?\n",
        "\n",
        "Ans. West and Southeast regions tend to have higher median prices and wider spreads.\n",
        "\n",
        "Midwest and Southwest regions show relatively lower medians and tighter distributions.\n",
        "\n",
        "Some regions (e.g. Northeast) exhibit price outliers, indicating presence of luxury or rare vehicles."
      ],
      "metadata": {
        "id": "J1k3fzmZBe3j"
      }
    },
    {
      "cell_type": "markdown",
      "source": [
        "5.  What is the distribution of cars based on body styles?\n",
        "\n",
        "Ans. SUVs and Hatchbacks are the most common.\n",
        "\n",
        "Passenger and Hardtop styles are less frequent.\n",
        "\n",
        "This distribution suggests strong consumer or inventory emphasis on compact and utility vehicles."
      ],
      "metadata": {
        "id": "l06E9BCMBjaK"
      }
    },
    {
      "cell_type": "markdown",
      "source": [
        "6. How does the average selling price of cars vary by customer gender and annual income?\n",
        "\n",
        "Ans. Female and male customers both show fluctuations in price with income, but not in a linear fashion.\n",
        "\n",
        "Some higher-income customers purchase lower-priced cars, and vice versa, suggesting other factors (e.g. preferences, financing) may influence decisions.\n",
        "\n",
        "Price spikes may reflect purchases of luxury vehicles at specific income levels."
      ],
      "metadata": {
        "id": "qSzwRgd1BlEH"
      }
    },
    {
      "cell_type": "markdown",
      "source": [
        "7. What is the distribution of car prices by region, and how does the number of cars sold vary by region?\n",
        "\n",
        "Ans. 1. Car Price Distribution by Region :\n",
        "Western and Southeastern regions have higher median prices and wider price ranges.\n",
        "\n",
        "Midwestern and Southwestern regions show lower median prices with tighter distributions.\n",
        "\n",
        "Some regions exhibit notable outliers, indicating occasional high-end sales.\n",
        "\n",
        "2. Number of Cars Sold by Region :\n",
        "The Southeast and West regions sold the most cars.\n",
        "\n",
        "Mid-Atlantic and Southwest had the fewest listings."
      ],
      "metadata": {
        "id": "3hYNU55mBpna"
      }
    },
    {
      "cell_type": "markdown",
      "source": [
        "8.  How does the average car price differ between cars with different engine sizes?\n",
        "\n",
        "Ans. Cars with Double Overhead Camshaft engines have a slightly higher average price, suggesting these might be associated with more premium or performance-oriented models."
      ],
      "metadata": {
        "id": "gYkUZOI5B0_q"
      }
    },
    {
      "cell_type": "markdown",
      "source": [
        "9. How do car prices vary based on the customer’s annual income bracket?\n",
        "\n",
        "Ans. For some lower-income brackets (e.g., $13.5k), average prices remain high, suggesting possible financing or fleet sales.\n",
        "\n",
        "Higher income brackets (e.g., $85k–$106k) generally correspond with higher average selling prices.\n",
        "\n",
        "Some income levels (e.g., $24k) show unusually high prices, possibly due to outliers or specific high-end purchases."
      ],
      "metadata": {
        "id": "wrQxIVjUB3Jf"
      }
    },
    {
      "cell_type": "markdown",
      "source": [
        "10. What are the top 5 car models with the highest number of sales, and how does their price distribution look?\n",
        "\n",
        "Ans. Key Insights:\n",
        "\n",
        "Top 5 Models by Sales: Diamante, Silhouette, Prizm, Passat, Ram Pickup.\n",
        "\n",
        "Price Distribution:\n",
        "\n",
        "Diamante and Silhouette have narrow price ranges (lower variability).\n",
        "\n",
        "Ram Pickup shows the widest spread, indicating varied trims or conditions.\n",
        "\n",
        "All models mostly fall within a $10,000–$30,000 range."
      ],
      "metadata": {
        "id": "G-_ltkZJB64O"
      }
    },
    {
      "cell_type": "markdown",
      "source": [
        "11. How does car price vary with engine size across different car colors, and which colors have the highest price variation?\n",
        "\n",
        "Ans. Red, Black, and Pale White cars have the highest price variation, likely due to broader model and trim diversity in these colors.\n",
        "\n",
        "Price trends across engine types vary by color, with some (e.g., Red) showing sharp increases for higher-spec engines."
      ],
      "metadata": {
        "id": "i2q3TwZqB_0p"
      }
    },
    {
      "cell_type": "markdown",
      "source": [
        "12. Is there any seasonal trend in car sales based on the date of sale?\n",
        "\n",
        "Ans. Sales peak in March, May, and August, suggesting seasonal buying patterns.\n",
        "\n",
        "January and December show the lowest sales, possibly due to holidays or budget constraints.\n",
        "\n",
        "The pattern may reflect promotions, tax seasons, or weather-influenced preferences"
      ],
      "metadata": {
        "id": "gK-_aXnICDeY"
      }
    },
    {
      "cell_type": "markdown",
      "source": [
        "13. How does the car price distribution change when considering different combinations of body style and transmission type?\n",
        "\n",
        "Ans. Automatic SUVs and Sedans tend to have higher median prices than their manual counterparts.\n",
        "\n",
        "Hatchbacks show lower prices overall, with minimal difference between transmission types.\n",
        "\n",
        "Passenger and Hardtop body styles exhibit wider price spreads, especially with automatic transmission."
      ],
      "metadata": {
        "id": "abT1edjuCJGc"
      }
    },
    {
      "cell_type": "markdown",
      "source": [
        "14. What is the correlation between car price, engine size, and annual income of customers, and how do these features interact?\n",
        "\n",
        "Ans. Correlation between selling price and annual income is very low (0.01), suggesting weak dependence.\n",
        "\n",
        "Engine type also shows negligible correlation with both price and income.\n",
        "\n",
        "These features likely interact with other variables (e.g., brand, region) rather than directly influencing price alone."
      ],
      "metadata": {
        "id": "NNf1vKV5CP0o"
      }
    },
    {
      "cell_type": "markdown",
      "source": [
        "15. How does the average car price vary across different car models and engine types?\n",
        "\n",
        "Ans. Certain models like Ram Pickup and Passat with Overhead Camshaft or Double Overhead Camshaft engines show higher average prices.\n",
        "\n",
        "Models such as Diamante or Prizm consistently maintain lower price ranges regardless of engine type.\n",
        "\n",
        "Engine choice influences pricing within each model, but overall brand/model positioning plays a stronger role."
      ],
      "metadata": {
        "id": "cYr-Qa-dCS_r"
      }
    },
    {
      "cell_type": "markdown",
      "source": [
        "# EDA - 3\n",
        "\n",
        "# Amazon Sales Data\n",
        "https://drive.google.com/file/d/1yKlW0x5yyRQijmWbEg5YCsq4wqLl3_oB/view\n",
        "\n",
        "# Description:\n",
        "\n",
        "This dataset contains information on 1K+ Amazon products, including their ratings, reviews, and other details.\n",
        "\n",
        "Features:\n",
        "\n",
        "product_id: Unique identifier for each product\n",
        "\n",
        "product_name: Name of the product\n",
        "\n",
        "category: Category of the product\n",
        "\n",
        "discounted_price: Discounted price of the product\n",
        "\n",
        "actual_price: Actual price of the product\n",
        "\n",
        "discount_percentage: Percentage of discount for the product\n",
        "\n",
        "rating: Rating of the product (1-5)\n",
        "\n",
        "rating_count: Number of people who voted for the Amazon rating\n",
        "\n",
        "about_product: Description about the product\n",
        "\n",
        "user_id: ID of the user who wrote the review\n",
        "\n",
        "user_name: Name of the user who wrote the review\n",
        "\n",
        "review_id: ID of the user review\n",
        "\n",
        "review_title: Short review\n",
        "\n",
        "review_content: Long review\n",
        "\n",
        "img_link: Image link of the product\n",
        "\n",
        "product_link: Official website link of the product\n",
        "\n",
        "\n"
      ],
      "metadata": {
        "id": "syuDeis6Chnn"
      }
    },
    {
      "cell_type": "markdown",
      "source": [
        "1. What is the average rating for each product category?\n",
        "\n",
        "Ans. Computers & Accessories | Tablets – 4.6\n",
        "\n",
        "Computers & Accessories | Networking Devices | Network Transceivers – 4.5\n",
        "\n",
        "Electronics | Cameras & Photography | Accessories | Film – 4.5\n",
        "\n",
        "Electronics | Home Audio | Media Streaming Devices | Streaming Clients – 4.5\n",
        "\n",
        "Office Products | Office Electronics | Calculators | Basic – 4.5"
      ],
      "metadata": {
        "id": "jAVdnL0dFvQH"
      }
    },
    {
      "cell_type": "markdown",
      "source": [
        "2. What are the top rating_count products by category?\n",
        "\n",
        "Ans.Eureka Forbes car Vac – 992 ratings\n",
        "\n",
        "Eveready AAA Batteries (Pack of 10) – 989 ratings\n",
        "\n",
        "Pigeon Hot Kettle – 976 ratings\n",
        "\n",
        "Zoul USB C Fast Charging Cable – 974 ratings\n",
        "\n",
        "Bajaj New Shakti Neo Plus Water Heater – 959 ratings"
      ],
      "metadata": {
        "id": "xFPDRa5lFzUN"
      }
    },
    {
      "cell_type": "markdown",
      "source": [
        "3. What is the distribution of discounted prices vs. actual prices?\n",
        "\n",
        "Ans. Discounted prices are concentrated in the lower range, reflecting consistent promotional pricing.\n",
        "\n",
        "Actual prices show a broader spread, indicating a wide MSRP range across products.\n",
        "\n",
        "The gap between curves confirms substantial discounts are common in many product categories."
      ],
      "metadata": {
        "id": "M0OY9qoRF5x2"
      }
    },
    {
      "cell_type": "markdown",
      "source": [
        "4. How does the average discount percentage vary across categories?\n",
        "\n",
        "Ans. There are no rows in the dataset with both a valid, positive actual_price and discounted_price.\n",
        "\n",
        "This likely means that:\n",
        "\n",
        "The price columns contain invalid values, or\n",
        "\n",
        "The prices are non-numeric strings, such as \"₹2,999\" or similar formats."
      ],
      "metadata": {
        "id": "mepByQYfGD4N"
      }
    },
    {
      "cell_type": "markdown",
      "source": [
        "5. What are the most popular product names?\n",
        "\n",
        "Ans. Duracell USB Lightning Apple Certified (MFi) – 3 listings\n",
        "\n",
        "Duracell USB C To Lightning Apple Certified (MFi) – 3 listings\n",
        "\n",
        "Ambrane 2 in 1 Type-C & Micro USB Cable – 3 listings\n",
        "\n",
        "Portronics Konnect L 20W PD Cable – 2 listings\n",
        "\n",
        "Lapster 65W OnePlus Dash Warp Charger – 2 listings"
      ],
      "metadata": {
        "id": "-oGLUMMyGFWj"
      }
    }
  ]
}