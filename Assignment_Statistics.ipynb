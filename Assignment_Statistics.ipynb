{
  "nbformat": 4,
  "nbformat_minor": 0,
  "metadata": {
    "colab": {
      "provenance": []
    },
    "kernelspec": {
      "name": "python3",
      "display_name": "Python 3"
    },
    "language_info": {
      "name": "python"
    }
  },
  "cells": [
    {
      "cell_type": "markdown",
      "source": [
        "1. What is statistics, and why is it important?\n",
        "\n",
        "Ans. Statistics is the science of collecting, analyzing, and interpreting data.\n",
        "\n",
        "Importance:\n",
        "\n",
        "--> Helps in making informed decisions\n",
        "\n",
        "--> Identifies trends and patterns\n",
        "\n",
        "--> Supports scientific research\n",
        "\n",
        "--> Assesses risk\n",
        "\n",
        "--> Guides public policy"
      ],
      "metadata": {
        "id": "ipMZeyJvMJun"
      }
    },
    {
      "cell_type": "markdown",
      "source": [
        "2. What are the two main types of statistics?\n",
        "\n",
        "Ans. The two main types of statistics are:\n",
        "\n",
        "Descriptive Statistics – Summarizes and presents data (e.g., averages, charts, percentages).\n",
        "\n",
        "Inferential Statistics – Makes predictions or conclusions about a population based on a sample."
      ],
      "metadata": {
        "id": "S5OOB796MpzY"
      }
    },
    {
      "cell_type": "markdown",
      "source": [
        "3.  What are descriptive statistics?\n",
        "\n",
        "Ans. Descriptive statistics are methods used to summarize, organize, and present data in a simple and meaningful way.\n",
        "\n",
        "Common tools include:\n",
        "\n",
        "Mean (average)\n",
        "\n",
        "Median (middle value)\n",
        "\n",
        "Mode (most frequent value)\n",
        "\n",
        "Range, variance, standard deviation\n",
        "\n",
        "Charts and graphs (like pie charts, histograms)\n",
        "\n",
        "They describe what the data shows, without making predictions."
      ],
      "metadata": {
        "id": "VkXF_keoM0KV"
      }
    },
    {
      "cell_type": "markdown",
      "source": [
        "4. What is inferential statistics?\n",
        "\n",
        "Ans. Inferential statistics is the process of using data from a sample to make predictions or draw conclusions about a larger population.\n",
        "\n",
        "It involves:\n",
        "\n",
        "Hypothesis testing\n",
        "\n",
        "Confidence intervals\n",
        "\n",
        "Regression analysis\n",
        "\n",
        "Probability theory\n",
        "\n",
        "Example: Surveying 500 people to estimate the voting behavior of a whole country."
      ],
      "metadata": {
        "id": "fXcJVGxWNAGE"
      }
    },
    {
      "cell_type": "markdown",
      "source": [
        "5. What is sampling in statistics?\n",
        "\n",
        "Ans. Sampling in statistics is the process of selecting a subset (called a sample) from a larger group (called a population) to analyze and draw conclusions about the whole group.\n",
        "\n",
        "Why it's used:\n",
        "\n",
        "Saves time and cost\n",
        "\n",
        "Makes data collection manageable\n",
        "\n",
        "Enables predictions about the entire population"
      ],
      "metadata": {
        "id": "rU4adOWWNHsM"
      }
    },
    {
      "cell_type": "markdown",
      "source": [
        "6. What are the different types of sampling methods?\n",
        "\n",
        "Ans. Here are the main types of sampling methods:\n",
        "\n",
        "Random Sampling – Every member has an equal chance of being selected.\n",
        "\n",
        "Systematic Sampling – Select every k-th member from a list.\n",
        "\n",
        "Stratified Sampling – Divide the population into groups (strata) and randomly sample from each group.\n",
        "\n",
        "Cluster Sampling – Divide the population into clusters, then randomly select entire clusters.\n",
        "\n",
        "Convenience Sampling – Use data from easy-to-reach participants.\n",
        "\n",
        "Quota Sampling – Ensure specific traits are represented in the sample, like age or gender."
      ],
      "metadata": {
        "id": "U_Daa5PSNU_r"
      }
    },
    {
      "cell_type": "markdown",
      "source": [
        "7. What is the difference between random and non-random sampling?\n",
        "\n",
        "Ans. Random sampling and non-random sampling differ in how samples are chosen:\n",
        "\n",
        "🔹 Random Sampling:\n",
        "Every member of the population has an equal chance of being selected.\n",
        "\n",
        "Unbiased and more representative.\n",
        "\n",
        "Example: Picking names from a hat.\n",
        "\n",
        "🔸 Non-Random Sampling:\n",
        "Samples are selected based on judgment, convenience, or criteria, not chance.\n",
        "\n",
        "Can lead to bias and less accurate results.\n",
        "\n",
        "Example: Surveying only your friends."
      ],
      "metadata": {
        "id": "6dvdWmIDNbja"
      }
    },
    {
      "cell_type": "markdown",
      "source": [
        "8. Define and give examples of qualitative and quantitative data?\n",
        "\n",
        "Ans. Qualitative Data\n",
        "\n",
        "Definition: Descriptive, non-numerical data.\n",
        "\n",
        "Describes qualities or categories.\n",
        "\n",
        "Examples:\n",
        "\n",
        "Eye color (blue, green, brown)\n",
        "\n",
        "Type of car (SUV, sedan)\n",
        "\n",
        "Customer feedback (happy, satisfied, unhappy)\n",
        "\n",
        "Quantitative Data\n",
        "\n",
        "Definition: Numerical data that can be measured or counted.\n",
        "\n",
        "Describes quantities or amounts.\n",
        "\n",
        "Examples:\n",
        "\n",
        "Age (25 years)\n",
        "\n",
        "Height (170 cm)\n",
        "\n",
        "Number of students (30)"
      ],
      "metadata": {
        "id": "AP1NEYd6Nkv2"
      }
    },
    {
      "cell_type": "markdown",
      "source": [
        "9,10.  What are the different types of data in statistics?\n",
        "\n",
        "Ans. In statistics, data is classified into four main types:\n",
        "\n",
        "1. Nominal Data (Qualitative)\n",
        "Categories with no order\n",
        "\n",
        "Examples: Gender, blood type, eye color\n",
        "\n",
        "2. Ordinal Data (Qualitative)\n",
        "Categories with a meaningful order, but no fixed difference between them\n",
        "\n",
        "Examples: Satisfaction level (high, medium, low), education level\n",
        "\n",
        "3. Interval Data (Quantitative)\n",
        "Ordered, with equal spacing, but no true zero\n",
        "\n",
        "Examples: Temperature in °C or °F, IQ scores\n",
        "\n",
        "4. Ratio Data (Quantitative)\n",
        "Ordered, with equal spacing and a true zero\n",
        "\n",
        "Examples: Height, weight, age, income"
      ],
      "metadata": {
        "id": "jqUwjozrN0CY"
      }
    },
    {
      "cell_type": "markdown",
      "source": [
        "11,12. What is the measure of central tendency?\n",
        "\n",
        "Ans. Measures of central tendency are statistical values that describe the center or typical value of a dataset. The three main measures are:\n",
        "\n",
        "Mean (Average) – The sum of all values divided by the number of values.\n",
        "\n",
        "Example: The mean of 2, 4, and 6 is (2+4+6)/3 = 4.\n",
        "\n",
        "Median – The middle value when the data is arranged in order.\n",
        "\n",
        "Example: The median of 1, 3, 7 is 3.\n",
        "\n",
        "Mode – The value that appears most frequently in a dataset.\n",
        "\n",
        "Example: The mode of 2, 3, 3, 5 is 3.\n",
        "\n",
        "Each measure gives insight into the \"center\" of the data, but the best one to use depends on the data's distribution."
      ],
      "metadata": {
        "id": "JN1reKFbOA1z"
      }
    },
    {
      "cell_type": "markdown",
      "source": [
        "12. What is the significance of the measure of central tendency?\n",
        "\n",
        "Ans. The significance of the measure of central tendency lies in its ability to represent a typical value or \"center\" of a dataset. It helps summarize a large set of data into a single value, making it easier to understand and compare.\n",
        "\n",
        "Key points:\n",
        "Simplification – It reduces complex data into a single, interpretable value.\n",
        "\n",
        "Comparison – Helps compare different datasets or groups.\n",
        "\n",
        "Identifying Patterns – It reveals the general trend or pattern in the data, such as the average score in a class or typical income in a population.\n",
        "\n",
        "Data Interpretation – Facilitates decision-making by providing a typical or central value to focus on.\n",
        "\n",
        "Identifying Outliers – The median, in particular, can help minimize the effect of extreme outliers, unlike the mean.\n",
        "\n",
        "In summary, measures of central tendency help you make sense of the overall data and draw conclusions or comparisons in various fields like business, education, and healthcare."
      ],
      "metadata": {
        "id": "17eg5WhAOV-j"
      }
    },
    {
      "cell_type": "markdown",
      "source": [
        "13. What is variance, and how is it calculated?\n",
        "\n",
        "Ans. short\n",
        "\n",
        "\n",
        "ChatGPT said:\n",
        "Variance measures how spread out data is from the mean.\n",
        "\n",
        "Formula:\n",
        "Population Variance:\n",
        "\n",
        "𝜎\n",
        "2\n",
        "=\n",
        "∑\n",
        "(\n",
        "𝑥\n",
        "𝑖\n",
        "−\n",
        "𝜇\n",
        ")\n",
        "2 /\n",
        "𝑁\n",
        "\n",
        "Sample Variance:\n",
        "\n",
        "𝑠\n",
        "2\n",
        "=\n",
        "∑\n",
        "(\n",
        "𝑥\n",
        "𝑖\n",
        "−\n",
        "𝑥\n",
        "ˉ\n",
        ")\n",
        "2 /\n",
        "𝑛\n",
        "−\n",
        "1\n",
        "\n",
        "Steps:\n",
        "Find the mean.\n",
        "\n",
        "Subtract the mean from each data point.\n",
        "\n",
        "Square the differences.\n",
        "\n",
        "Find the average of the squared differences.\n",
        "\n",
        "Example: For 2, 4, 6, 8, 10, the variance = 8."
      ],
      "metadata": {
        "id": "uiQj8f7_Oq37"
      }
    },
    {
      "cell_type": "markdown",
      "source": [
        "15. What is standard deviation, and why is it important?\n",
        "\n",
        "Ans. Standard deviation measures the spread of data points around the mean. A high standard deviation means data is spread out, while a low one means it's close to the mean.\n",
        "\n",
        "Formula:\n",
        "Population:\n",
        "\n",
        "𝜎\n",
        "=\n",
        "∑\n",
        "(\n",
        "𝑥\n",
        "𝑖\n",
        "−\n",
        "𝜇\n",
        ")\n",
        "2 /\n",
        "𝑁\n",
        "\n",
        "Sample:\n",
        "\n",
        "𝑠\n",
        "=\n",
        "∑\n",
        "(\n",
        "𝑥\n",
        "𝑖\n",
        "−\n",
        "𝑥\n",
        "ˉ\n",
        ")\n",
        "2 /\n",
        "𝑛\n",
        "−\n",
        "1\n",
        "\n",
        "Importance:\n",
        "Shows variability in data.\n",
        "\n",
        "Helps assess risk.\n",
        "\n",
        "Used to compare datasets."
      ],
      "metadata": {
        "id": "RBNuCF--PO4N"
      }
    },
    {
      "cell_type": "markdown",
      "source": [
        "16. Define and explain the term range in statistics?\n",
        "\n",
        "Ans. Range in statistics is the difference between the maximum and minimum values in a dataset. It gives a quick measure of how spread out the data is.\n",
        "\n",
        "Formula:\n",
        "Range\n",
        "=\n",
        "Maximum Value\n",
        "−\n",
        "Minimum Value\n",
        "\n",
        "Example:\n",
        "For the dataset: 5, 8, 10, 12, 15:\n",
        "\n",
        "Maximum = 15\n",
        "\n",
        "Minimum = 5\n",
        "\n",
        "Range = 15 - 5 = 10\n",
        "\n",
        "Significance:\n",
        "Provides a simple measure of spread.\n",
        "\n",
        "Can highlight outliers (extremely high or low values).\n",
        "\n",
        "Limitations: Doesn't show how values are distributed between the min and max."
      ],
      "metadata": {
        "id": "96P66I5_PYIf"
      }
    },
    {
      "cell_type": "markdown",
      "source": [
        "17. What is the difference between variance and standard deviation?\n",
        "\n",
        "Ans. Variance:\n",
        "Variance measures how much the data points in a dataset differ from the average (mean) value. It tells us about the spread of the data.\n",
        "\n",
        "How it works: To calculate variance, you look at how far each data point is from the mean, square those differences (to avoid negative values), and then calculate the average of those squared differences.\n",
        "\n",
        "Why it's used: Variance gives you an idea of the overall spread of the data, but the result is in squared units, which can be harder to understand directly (e.g., if your data is in meters, the variance will be in square meters).\n",
        "\n",
        "Standard Deviation:\n",
        "Standard deviation is essentially the square root of the variance. It also measures how spread out the data is, but it does so in the same units as the original data.\n",
        "\n",
        "How it works: By taking the square root of the variance, standard deviation brings the measure of spread back to the original units (e.g., if the data is in meters, the standard deviation is also in meters).\n",
        "\n",
        "Why it's used: Standard deviation is more intuitive because it’s in the same units as the data, so it’s easier to understand and interpret. It gives you a sense of how much individual data points typically vary from the mean.\n",
        "\n"
      ],
      "metadata": {
        "id": "uS4T8MxQQHI5"
      }
    },
    {
      "cell_type": "markdown",
      "source": [
        "18,19.   What is skewness in a dataset?\n",
        "\n",
        "Ans. Skewness refers to the asymmetry or lack of symmetry in a dataset's distribution. It tells us whether the data is skewed to the left or skewed to the right, or if it is symmetric.\n",
        "\n",
        "Types of Skewness:\n",
        "Positive Skew (Right Skew):\n",
        "\n",
        "The right tail (larger values) is longer or fatter than the left tail.\n",
        "\n",
        "The mean is greater than the median.\n",
        "\n",
        "Example: Income distribution (a few people earn much higher than the majority).\n",
        "\n",
        "Negative Skew (Left Skew):\n",
        "\n",
        "The left tail (smaller values) is longer or fatter than the right tail.\n",
        "\n",
        "The mean is less than the median.\n",
        "\n",
        "Example: Age at retirement (most people retire between 60-70, but some may retire earlier).\n",
        "\n",
        "Zero Skew (Symmetry):\n",
        "\n",
        "The distribution is roughly symmetrical, and the mean is close to the median.\n",
        "\n",
        "Example: Heights of a group of people (if they are roughly of the same age and gender).\n",
        "\n",
        "Why is Skewness Important?\n",
        "Identifying outliers: Skewness can indicate the presence of extreme values on one side of the distribution.\n",
        "\n",
        "Choosing the right analysis: Many statistical techniques assume normality (symmetry), so skewed data might require transformations or different methods of analysis."
      ],
      "metadata": {
        "id": "VwkjDw0yQkt1"
      }
    },
    {
      "cell_type": "markdown",
      "source": [
        "20.  Define and explain kurtosis?\n",
        "\n",
        "Ans. Kurtosis measures the tailedness or peak of a data distribution, indicating how heavy or light the tails are compared to a normal distribution.\n",
        "\n",
        "Types:\n",
        "Mesokurtic: Normal distribution (kurtosis ~ 3).\n",
        "\n",
        "Leptokurtic: High peak, heavy tails (kurtosis > 3) — more outliers.\n",
        "\n",
        "Platykurtic: Flat peak, light tails (kurtosis < 3) — fewer outliers.\n",
        "\n",
        "Importance:\n",
        "Helps detect outliers and assess risk in data, especially in finance."
      ],
      "metadata": {
        "id": "eRJOG4qcmZZi"
      }
    },
    {
      "cell_type": "markdown",
      "source": [
        "21. What is the purpose of covariance?\n",
        "\n",
        "Ans. Covariance is a measure of how two variables change together. It tells you whether increases in one variable correspond to increases (or decreases) in another variable. Essentially, it indicates the direction of the relationship between two variables.\n",
        "\n",
        "Key Points:\n",
        "Positive Covariance: If two variables increase or decrease together (i.e., when one increases, the other also increases), the covariance is positive.\n",
        "\n",
        "Negative Covariance: If one variable increases while the other decreases, the covariance is negative.\n",
        "\n",
        "Zero Covariance: If there is no relationship between the variables (i.e., their movements are unrelated), the covariance is zero.\n",
        "\n",
        "Purpose of Covariance:\n",
        "Relationship Analysis: Helps understand if two variables are related and whether they move in the same direction (positive covariance) or opposite directions (negative covariance).\n",
        "\n",
        "Portfolio Management: In finance, covariance is used to understand how the returns of two assets move together, helping to build diversified portfolios.\n",
        "\n",
        "Data Understanding: Covariance provides insight into how two variables co-vary across a dataset, which can be helpful in statistical modeling and predictions.\n",
        "\n",
        "Limitations:\n",
        "Scale Dependent: The value of covariance depends on the scale of the variables, which makes it hard to compare across different datasets."
      ],
      "metadata": {
        "id": "Dtu7Cq24mpsu"
      }
    },
    {
      "cell_type": "markdown",
      "source": [
        "22. What does correlation measure in statistics?\n",
        "\n",
        "Ans. Correlation measures the strength and direction of the linear relationship between two variables.\n",
        "\n",
        "Range: From -1 to 1:\n",
        "\n",
        "+1: Perfect positive relationship.\n",
        "\n",
        "-1: Perfect negative relationship.\n",
        "\n",
        "0: No linear relationship.\n",
        "\n",
        "Purpose: It helps quantify how closely two variables are related, and is used to make predictions or understand patterns in data."
      ],
      "metadata": {
        "id": "kAkhp0Kmm79a"
      }
    },
    {
      "cell_type": "markdown",
      "source": [
        "23. What is the difference between covariance and correlation?\n",
        "\n",
        "Ans. Covariance measures the direction of the relationship between two variables but is scale-dependent.\n",
        "\n",
        "Correlation measures both the strength and direction of the relationship, and it's standardized between -1 and 1, making it easier to interpret.\n",
        "\n",
        "In short:\n",
        "\n",
        "Covariance: Direction, not standardized.\n",
        "\n",
        "Correlation: Strength + direction, standardized."
      ],
      "metadata": {
        "id": "EPVctuirnMz5"
      }
    },
    {
      "cell_type": "markdown",
      "source": [
        "24. What are some real-world applications of statistics?\n",
        "\n",
        "Ans. Here are some real-world applications of statistics:\n",
        "\n",
        "Healthcare: Analyzing patient data and drug effectiveness.\n",
        "\n",
        "Finance: Risk assessment, stock predictions, and investment decisions.\n",
        "\n",
        "Sports: Player performance analysis and game strategies.\n",
        "\n",
        "Marketing: Consumer behavior analysis and market research.\n",
        "\n",
        "Education: Analyzing student performance and improving teaching.\n",
        "\n",
        "Government: Public policy decisions and economic forecasts.\n",
        "\n",
        "Manufacturing: Quality control and process optimization.\n",
        "\n",
        "Social Sciences: Studying human behavior and societal trends."
      ],
      "metadata": {
        "id": "76mWErxlnTP-"
      }
    },
    {
      "cell_type": "markdown",
      "source": [
        "**PRACTICAL**"
      ],
      "metadata": {
        "id": "bhgHmGRYbXQB"
      }
    },
    {
      "cell_type": "markdown",
      "source": [
        "1. How do you calculate the mean, median, and mode of a dataset?\n",
        "\n",
        "Ans. 1. Mean (Average):\n",
        "Formula:\n",
        "\n",
        "Mean\n",
        "=\n",
        "Sum of all values\n",
        "Number of values\n",
        "Mean=\n",
        "Number of values\n",
        "Sum of all values\n",
        "​\n",
        "\n",
        "Steps:\n",
        "\n",
        "Add up all the values in the dataset.\n",
        "\n",
        "Divide by the number of values.\n",
        "\n",
        "Example:\n",
        "Dataset: [4, 8, 6, 5, 3]\n",
        "Mean = (4 + 8 + 6 + 5 + 3) / 5 = 26 / 5 = 5.2\n",
        "\n",
        "2. Median (Middle value):\n",
        "Sort the dataset in ascending order.\n",
        "\n",
        "If the number of values is odd, the median is the middle number.\n",
        "\n",
        "If even, the median is the average of the two middle numbers.\n",
        "\n",
        "Example (odd number of elements):\n",
        "Dataset: [4, 8, 6, 5, 3] → Sorted: [3, 4, 5, 6, 8]\n",
        "Median = 5 (middle value)\n",
        "\n",
        "Example (even number of elements):\n",
        "Dataset: [4, 8, 6, 3] → Sorted: [3, 4, 6, 8]\n",
        "Median = (4 + 6) / 2 = 5\n",
        "\n",
        "3. Mode (Most frequent value):\n",
        "Identify the value(s) that occur most frequently.\n",
        "\n",
        "There can be no mode, one mode (unimodal), or multiple modes (multimodal).\n",
        "\n",
        "Example:\n",
        "Dataset: [4, 8, 6, 4, 3]\n",
        "Mode = 4 (occurs twice)\n",
        "\n",
        "Dataset: [1, 2, 2, 3, 3]\n",
        "Modes = 2 and 3 (both occur twice — bimodal)"
      ],
      "metadata": {
        "id": "vwobWfaqbaC4"
      }
    },
    {
      "cell_type": "markdown",
      "source": [
        "2. Write a Python program to compute the variance and standard deviation of a dataset."
      ],
      "metadata": {
        "id": "gBeA1W-8b9If"
      }
    },
    {
      "cell_type": "code",
      "source": [
        "import statistics\n",
        "\n",
        "data = [4, 8, 6, 5, 3]\n",
        "\n",
        "variance = statistics.pvariance(data)  # For population variance\n",
        "stdev = statistics.pstdev(data)        # For population standard deviation\n",
        "\n",
        "print(\"Variance:\", variance)\n",
        "print(\"Standard Deviation:\", stdev)"
      ],
      "metadata": {
        "colab": {
          "base_uri": "https://localhost:8080/"
        },
        "id": "gO1_rr7UcY76",
        "outputId": "9b57c85a-4aef-4fe3-c0e9-d3a4212b2bcd"
      },
      "execution_count": 1,
      "outputs": [
        {
          "output_type": "stream",
          "name": "stdout",
          "text": [
            "Variance: 2.96\n",
            "Standard Deviation: 1.7204650534085253\n"
          ]
        }
      ]
    },
    {
      "cell_type": "markdown",
      "source": [
        "3. Create a dataset and classify it into nominal, ordinal, interval, and ratio types.\n",
        "\n",
        "Ans. Dataset Example\n",
        "Name\tGrade\tSatisfaction\tScore\tAge\n",
        "Alice\t10th\tSatisfied\t85\t16\n",
        "\n",
        "Data Types:\n",
        "Nominal: Name (labels only)\n",
        "\n",
        "Ordinal: Grade, Satisfaction (ordered categories)\n",
        "\n",
        "Interval: (none here, example: temperature °C)\n",
        "\n",
        "Ratio: Score, Age (numeric with true zero)"
      ],
      "metadata": {
        "id": "hQHQvu-Tcaq2"
      }
    },
    {
      "cell_type": "markdown",
      "source": [
        "4. Implement sampling techniques like random sampling and stratified sampling."
      ],
      "metadata": {
        "id": "YLuI9_Jpcv60"
      }
    },
    {
      "cell_type": "code",
      "source": [
        "import random\n",
        "\n",
        "data = list(range(1, 101))  # Dataset: numbers 1 to 100\n",
        "sample = random.sample(data, 10)  # Randomly pick 10 items\n",
        "print(\"Random Sample:\", sample)"
      ],
      "metadata": {
        "colab": {
          "base_uri": "https://localhost:8080/"
        },
        "id": "e_xJTKYmc3Zp",
        "outputId": "bbb39ced-c2a3-4031-f8c4-758a51d11fc7"
      },
      "execution_count": 2,
      "outputs": [
        {
          "output_type": "stream",
          "name": "stdout",
          "text": [
            "Random Sample: [58, 6, 66, 31, 71, 14, 25, 76, 34, 93]\n"
          ]
        }
      ]
    },
    {
      "cell_type": "code",
      "source": [
        "import pandas as pd\n",
        "\n",
        "# Sample data with a 'Group' column to stratify on\n",
        "df = pd.DataFrame({\n",
        "    'ID': range(1, 21),\n",
        "    'Group': ['A']*10 + ['B']*10\n",
        "})\n",
        "\n",
        "# Stratified sampling: take 3 samples per group\n",
        "stratified_sample = df.groupby('Group', group_keys=False).apply(lambda x: x.sample(3))\n",
        "print(stratified_sample)"
      ],
      "metadata": {
        "colab": {
          "base_uri": "https://localhost:8080/"
        },
        "id": "5gGF6zeoc4zm",
        "outputId": "c898afc2-6f93-42af-b33c-90b16b98718d"
      },
      "execution_count": 3,
      "outputs": [
        {
          "output_type": "stream",
          "name": "stdout",
          "text": [
            "    ID Group\n",
            "7    8     A\n",
            "4    5     A\n",
            "0    1     A\n",
            "11  12     B\n",
            "16  17     B\n",
            "15  16     B\n"
          ]
        },
        {
          "output_type": "stream",
          "name": "stderr",
          "text": [
            "<ipython-input-3-e5f3e7c2c51a>:10: DeprecationWarning: DataFrameGroupBy.apply operated on the grouping columns. This behavior is deprecated, and in a future version of pandas the grouping columns will be excluded from the operation. Either pass `include_groups=False` to exclude the groupings or explicitly select the grouping columns after groupby to silence this warning.\n",
            "  stratified_sample = df.groupby('Group', group_keys=False).apply(lambda x: x.sample(3))\n"
          ]
        }
      ]
    },
    {
      "cell_type": "markdown",
      "source": [
        "5. Write a Python function to calculate the range of a dataset."
      ],
      "metadata": {
        "id": "Qfojd9RBc744"
      }
    },
    {
      "cell_type": "code",
      "source": [
        "def calculate_range(data):\n",
        "    return max(data) - min(data)\n",
        "\n",
        "# Example usage\n",
        "dataset = [4, 8, 6, 5, 3]\n",
        "print(\"Range:\", calculate_range(dataset))"
      ],
      "metadata": {
        "id": "dM-5D4Sd2uK5"
      },
      "execution_count": null,
      "outputs": []
    },
    {
      "cell_type": "markdown",
      "source": [
        "6. Create a dataset and plot its histogram to visualize skewness.\n"
      ],
      "metadata": {
        "id": "eR13UeQC2og7"
      }
    },
    {
      "cell_type": "code",
      "source": [
        "import numpy as np\n",
        "import matplotlib.pyplot as plt\n",
        "\n",
        "# Create a positively skewed dataset\n",
        "data = np.random.exponential(scale=2.0, size=1000)\n",
        "\n",
        "# Plot histogram\n",
        "plt.hist(data, bins=30, color='skyblue', edgecolor='black')\n",
        "plt.title('Histogram (Right-Skewed)')\n",
        "plt.xlabel('Value')\n",
        "plt.ylabel('Frequency')\n",
        "plt.grid(True)\n",
        "plt.show()"
      ],
      "metadata": {
        "id": "EwLnKp7h20dj"
      },
      "execution_count": null,
      "outputs": []
    },
    {
      "cell_type": "markdown",
      "source": [
        "7. Calculate skewness and kurtosis of a dataset using Python libraries"
      ],
      "metadata": {
        "id": "GrtoMTC521yj"
      }
    },
    {
      "cell_type": "code",
      "source": [
        "import numpy as np\n",
        "from scipy.stats import skew, kurtosis\n",
        "\n",
        "# Example dataset\n",
        "data = np.random.normal(loc=0, scale=1, size=1000)\n",
        "\n",
        "# Calculate skewness and kurtosis\n",
        "data_skewness = skew(data)\n",
        "data_kurtosis = kurtosis(data)  # By default, returns excess kurtosis\n",
        "\n",
        "print(\"Skewness:\", data_skewness)\n",
        "print(\"Kurtosis:\", data_kurtosis)"
      ],
      "metadata": {
        "colab": {
          "base_uri": "https://localhost:8080/"
        },
        "id": "Kl6kxTg425ey",
        "outputId": "fca4ead7-15b1-49af-c703-a28267e46df3"
      },
      "execution_count": 1,
      "outputs": [
        {
          "output_type": "stream",
          "name": "stdout",
          "text": [
            "Skewness: 0.1524031312556474\n",
            "Kurtosis: -0.24697829599057064\n"
          ]
        }
      ]
    },
    {
      "cell_type": "markdown",
      "source": [
        "8. Generate a dataset and demonstrate positive and negative skewness."
      ],
      "metadata": {
        "id": "BTc-PKdV3A52"
      }
    },
    {
      "cell_type": "code",
      "source": [
        "import numpy as np\n",
        "import matplotlib.pyplot as plt\n",
        "from scipy.stats import skew\n",
        "\n",
        "# Generate datasets\n",
        "positive_skew = np.random.exponential(scale=2.0, size=1000)       # Right-skewed\n",
        "negative_skew = -np.random.exponential(scale=2.0, size=1000)      # Left-skewed\n",
        "\n",
        "# Calculate skewness\n",
        "print(\"Positive Skewness:\", skew(positive_skew))\n",
        "print(\"Negative Skewness:\", skew(negative_skew))\n",
        "\n",
        "# Plot histograms\n",
        "fig, axes = plt.subplots(1, 2, figsize=(12, 5))\n",
        "\n",
        "# Positive skew\n",
        "axes[0].hist(positive_skew, bins=30, color='skyblue', edgecolor='black')\n",
        "axes[0].set_title('Positive Skew (Right-Skewed)')\n",
        "\n",
        "# Negative skew\n",
        "axes[1].hist(negative_skew, bins=30, color='salmon', edgecolor='black')\n",
        "axes[1].set_title('Negative Skew (Left-Skewed)')\n",
        "\n",
        "plt.tight_layout()\n",
        "plt.show()"
      ],
      "metadata": {
        "colab": {
          "base_uri": "https://localhost:8080/",
          "height": 542
        },
        "id": "eBJ3sQfx3DNi",
        "outputId": "7ebc0337-e872-4163-adf2-8cfaaf8e3483"
      },
      "execution_count": 2,
      "outputs": [
        {
          "output_type": "stream",
          "name": "stdout",
          "text": [
            "Positive Skewness: 2.1429424592511226\n",
            "Negative Skewness: -1.7427909247522224\n"
          ]
        },
        {
          "output_type": "display_data",
          "data": {
            "text/plain": [
              "<Figure size 1200x500 with 2 Axes>"
            ],
            "image/png": "[encoded data removed]"
          },
          "metadata": {}
        }
      ]
    },
    {
      "cell_type": "markdown",
      "source": [
        "9. Write a Python script to calculate covariance between two datasets"
      ],
      "metadata": {
        "id": "_MmmqFVU3Fg8"
      }
    },
    {
      "cell_type": "code",
      "source": [
        "import numpy as np\n",
        "\n",
        "# Example datasets\n",
        "x = [2, 4, 6, 8, 10]\n",
        "y = [1, 3, 2, 5, 7]\n",
        "\n",
        "# Manual calculation (sample covariance)\n",
        "def calculate_covariance(x, y):\n",
        "    n = len(x)\n",
        "    mean_x = sum(x) / n\n",
        "    mean_y = sum(y) / n\n",
        "    cov = sum((x[i] - mean_x) * (y[i] - mean_y) for i in range(n)) / (n - 1)\n",
        "    return cov\n",
        "\n",
        "# Using NumPy\n",
        "cov_matrix = np.cov(x, y, ddof=1)  # ddof=1 for sample covariance\n",
        "\n",
        "# Output\n",
        "print(\"Manual Covariance:\", calculate_covariance(x, y))\n",
        "print(\"NumPy Covariance:\", cov_matrix[0][1])\n"
      ],
      "metadata": {
        "colab": {
          "base_uri": "https://localhost:8080/"
        },
        "id": "3YzaPbVT3Ge-",
        "outputId": "367139e7-8396-485f-f9ea-e162e6b7e814"
      },
      "execution_count": 3,
      "outputs": [
        {
          "output_type": "stream",
          "name": "stdout",
          "text": [
            "Manual Covariance: 7.0\n",
            "NumPy Covariance: 7.0\n"
          ]
        }
      ]
    },
    {
      "cell_type": "markdown",
      "source": [
        "10. Write a Python script to calculate the correlation coefficient between two datasets."
      ],
      "metadata": {
        "id": "60sXR3683GrA"
      }
    },
    {
      "cell_type": "code",
      "source": [
        "import numpy as np\n",
        "\n",
        "# Example datasets\n",
        "x = [2, 4, 6, 8, 10]\n",
        "y = [1, 3, 2, 5, 7]\n",
        "\n",
        "# Using NumPy\n",
        "correlation_matrix = np.corrcoef(x, y)\n",
        "correlation = correlation_matrix[0][1]\n",
        "\n",
        "print(\"Correlation Coefficient:\", correlation)"
      ],
      "metadata": {
        "colab": {
          "base_uri": "https://localhost:8080/"
        },
        "id": "ULcjKRkF3Jku",
        "outputId": "c6967a8e-a4ff-48bb-e225-21c9067ab6cd"
      },
      "execution_count": 4,
      "outputs": [
        {
          "output_type": "stream",
          "name": "stdout",
          "text": [
            "Correlation Coefficient: 0.9191450300180578\n"
          ]
        }
      ]
    },
    {
      "cell_type": "markdown",
      "source": [
        "11. Create a scatter plot to visualize the relationship between two variables."
      ],
      "metadata": {
        "id": "sWFfbZRF3gJL"
      }
    },
    {
      "cell_type": "code",
      "source": [
        "import matplotlib.pyplot as plt\n",
        "\n",
        "# Example datasets\n",
        "x = [2, 4, 6, 8, 10]\n",
        "y = [1, 3, 2, 5, 7]\n",
        "\n",
        "# Create scatter plot\n",
        "plt.scatter(x, y, color='blue')\n",
        "plt.title('Scatter Plot of X vs Y')\n",
        "plt.xlabel('X values')\n",
        "plt.ylabel('Y values')\n",
        "plt.grid(True)\n",
        "plt.show()"
      ],
      "metadata": {
        "colab": {
          "base_uri": "https://localhost:8080/",
          "height": 472
        },
        "id": "jsLwqQ3m3jKq",
        "outputId": "0f2ae290-f259-4c2a-f9b6-17b1a7a114ae"
      },
      "execution_count": 5,
      "outputs": [
        {
          "output_type": "display_data",
          "data": {
            "text/plain": [
              "<Figure size 640x480 with 1 Axes>"
            ],
            "image/png": "[encoded data removed]"
          },
          "metadata": {}
        }
      ]
    },
    {
      "cell_type": "markdown",
      "source": [
        "12. Implement and compare simple random sampling and systematic sampling."
      ],
      "metadata": {
        "id": "x_1WKX_X3lNj"
      }
    },
    {
      "cell_type": "code",
      "source": [
        "import random\n",
        "\n",
        "# Full dataset\n",
        "data = list(range(1, 101))  # 1 to 100\n",
        "\n",
        "# Simple Random Sample of size 10\n",
        "random_sample = random.sample(data, 10)\n",
        "print(\"Simple Random Sample:\", random_sample)"
      ],
      "metadata": {
        "colab": {
          "base_uri": "https://localhost:8080/"
        },
        "id": "8744qXli3pxR",
        "outputId": "7025c238-4b1a-480e-b555-5e60634ce9dc"
      },
      "execution_count": 6,
      "outputs": [
        {
          "output_type": "stream",
          "name": "stdout",
          "text": [
            "Simple Random Sample: [3, 52, 81, 4, 5, 25, 89, 12, 91, 9]\n"
          ]
        }
      ]
    },
    {
      "cell_type": "markdown",
      "source": [
        "13. Calculate the mean, median, and mode of grouped data."
      ],
      "metadata": {
        "id": "3YOwAr-63s6Z"
      }
    },
    {
      "cell_type": "code",
      "source": [
        "import pandas as pd\n",
        "import numpy as np\n",
        "from scipy.stats import mode\n",
        "\n",
        "# Class intervals and frequencies\n",
        "classes = [(0,10), (10,20), (20,30), (30,40), (40,50)]\n",
        "frequencies = [5, 8, 15, 16, 6]\n",
        "\n",
        "# Create midpoints\n",
        "midpoints = [(cls[0] + cls[1]) / 2 for cls in classes]\n",
        "\n",
        "# Mean of grouped data\n",
        "total_freq = sum(frequencies)\n",
        "mean = sum(f * x for f, x in zip(frequencies, midpoints)) / total_freq\n",
        "\n",
        "# Median\n",
        "cf = np.cumsum(frequencies)\n",
        "n = total_freq"
      ],
      "metadata": {
        "id": "NKTaGJR53wSH"
      },
      "execution_count": 7,
      "outputs": []
    },
    {
      "cell_type": "markdown",
      "source": [
        "14. Simulate data using Python and calculate its central tendency and dispersion."
      ],
      "metadata": {
        "id": "mYVZ0epx34IF"
      }
    },
    {
      "cell_type": "code",
      "source": [
        "import numpy as np\n",
        "from scipy import stats\n",
        "\n",
        "# Simulate data (e.g., 1000 values from normal distribution)\n",
        "data = np.random.normal(loc=50, scale=10, size=1000)\n",
        "\n",
        "# Central Tendency\n",
        "mean = np.mean(data)\n",
        "median = np.median(data)\n",
        "mode = stats.mode(data, keepdims=True).mode[0]\n",
        "\n",
        "# Dispersion\n",
        "data_range = np.max(data) - np.min(data)\n",
        "variance = np.var(data)\n",
        "std_dev = np.std(data)\n",
        "\n",
        "# Print results\n",
        "print(f\"Mean: {mean:.2f}\")\n",
        "print(f\"Median: {median:.2f}\")\n",
        "print(f\"Mode: {mode:.2f}\")\n",
        "print(f\"Range: {data_range:.2f}\")\n",
        "print(f\"Variance: {variance:.2f}\")\n",
        "print(f\"Standard Deviation: {std_dev:.2f}\")"
      ],
      "metadata": {
        "colab": {
          "base_uri": "https://localhost:8080/"
        },
        "id": "XvfR8QzA37La",
        "outputId": "977ef5fa-4b43-4674-bcfa-755e6f07504c"
      },
      "execution_count": 8,
      "outputs": [
        {
          "output_type": "stream",
          "name": "stdout",
          "text": [
            "Mean: 50.63\n",
            "Median: 50.69\n",
            "Mode: 15.37\n",
            "Range: 64.12\n",
            "Variance: 95.87\n",
            "Standard Deviation: 9.79\n"
          ]
        }
      ]
    },
    {
      "cell_type": "markdown",
      "source": [
        "15. Use NumPy or pandas to summarize a dataset’s descriptive statistics"
      ],
      "metadata": {
        "id": "0_biqX7q3928"
      }
    },
    {
      "cell_type": "code",
      "source": [
        "import numpy as np\n",
        "\n",
        "# Example dataset\n",
        "data = np.random.normal(loc=50, scale=10, size=1000)\n",
        "\n",
        "# Descriptive statistics using NumPy\n",
        "mean = np.mean(data)\n",
        "median = np.median(data)\n",
        "std_dev = np.std(data)\n",
        "variance = np.var(data)\n",
        "data_range = np.max(data) - np.min(data)\n",
        "\n",
        "print(\"Descriptive Statistics (NumPy):\")\n",
        "print(f\"Mean: {mean:.2f}\")\n",
        "print(f\"Median: {median:.2f}\")\n",
        "print(f\"Standard Deviation: {std_dev:.2f}\")\n",
        "print(f\"Variance: {variance:.2f}\")\n",
        "print(f\"Range: {data_range:.2f}\")"
      ],
      "metadata": {
        "colab": {
          "base_uri": "https://localhost:8080/"
        },
        "id": "rUD2WoFk4GhP",
        "outputId": "b98b1b51-aa93-4a5d-aede-c01c959521e4"
      },
      "execution_count": 9,
      "outputs": [
        {
          "output_type": "stream",
          "name": "stdout",
          "text": [
            "Descriptive Statistics (NumPy):\n",
            "Mean: 50.60\n",
            "Median: 50.46\n",
            "Standard Deviation: 9.65\n",
            "Variance: 93.10\n",
            "Range: 65.31\n"
          ]
        }
      ]
    },
    {
      "cell_type": "markdown",
      "source": [
        "16. Plot a boxplot to understand the spread and identify outliers."
      ],
      "metadata": {
        "id": "tjvrDZRO4Iop"
      }
    },
    {
      "cell_type": "code",
      "source": [
        "import numpy as np\n",
        "import seaborn as sns\n",
        "import matplotlib.pyplot as plt\n",
        "\n",
        "# Generate sample data (e.g., from a normal distribution)\n",
        "data = np.random.normal(loc=50, scale=10, size=1000)\n",
        "\n",
        "# Create a boxplot using seaborn\n",
        "sns.boxplot(data=data, color='skyblue')\n",
        "\n",
        "# Set plot title and labels\n",
        "plt.title('Boxplot of the Dataset')\n",
        "plt.xlabel('Data')\n",
        "plt.ylabel('Values')\n",
        "\n",
        "# Show plot\n",
        "plt.show()"
      ],
      "metadata": {
        "colab": {
          "base_uri": "https://localhost:8080/",
          "height": 458
        },
        "id": "BosejR534Lg3",
        "outputId": "d8713a70-0925-49ae-df41-8f5860ced87d"
      },
      "execution_count": 10,
      "outputs": [
        {
          "output_type": "display_data",
          "data": {
            "text/plain": [
              "<Figure size 640x480 with 1 Axes>"
            ],
            "image/png": "[encoded data removed]"
          },
          "metadata": {}
        }
      ]
    },
    {
      "cell_type": "markdown",
      "source": [
        "17.  Calculate the interquartile range (IQR) of a dataset."
      ],
      "metadata": {
        "id": "h76XX0WD4QNq"
      }
    },
    {
      "cell_type": "code",
      "source": [
        "import numpy as np\n",
        "\n",
        "# Example dataset\n",
        "data = np.random.normal(loc=50, scale=10, size=1000)\n",
        "\n",
        "# Calculate Q1 (25th percentile) and Q3 (75th percentile)\n",
        "Q1 = np.percentile(data, 25)\n",
        "Q3 = np.percentile(data, 75)\n",
        "\n",
        "# Calculate IQR\n",
        "IQR = Q3 - Q1\n",
        "\n",
        "print(f\"Q1 (25th percentile): {Q1}\")\n",
        "print(f\"Q3 (75th percentile): {Q3}\")\n",
        "print(f\"Interquartile Range (IQR): {IQR}\")"
      ],
      "metadata": {
        "colab": {
          "base_uri": "https://localhost:8080/"
        },
        "id": "4hFOyugu4YMx",
        "outputId": "dc021577-e3ab-4438-c85f-f9873da1567d"
      },
      "execution_count": 11,
      "outputs": [
        {
          "output_type": "stream",
          "name": "stdout",
          "text": [
            "Q1 (25th percentile): 43.4787227849676\n",
            "Q3 (75th percentile): 56.89543018047492\n",
            "Interquartile Range (IQR): 13.416707395507316\n"
          ]
        }
      ]
    },
    {
      "cell_type": "markdown",
      "source": [
        "18. Implement Z-score normalization and explain its significance"
      ],
      "metadata": {
        "id": "fOSvW8MQ4VAI"
      }
    },
    {
      "cell_type": "markdown",
      "source": [],
      "metadata": {
        "id": "IHpmH1ns33SE"
      }
    },
    {
      "cell_type": "code",
      "source": [
        "import numpy as np\n",
        "import matplotlib.pyplot as plt\n",
        "\n",
        "# Example dataset\n",
        "data = np.random.normal(loc=50, scale=10, size=1000)\n",
        "\n",
        "# Calculate the mean and standard deviation\n",
        "mean = np.mean(data)\n",
        "std_dev = np.std(data)\n",
        "\n",
        "# Z-score normalization\n",
        "z_scores = (data - mean) / std_dev\n",
        "\n",
        "# Print some statistics of the normalized data\n",
        "print(f\"Mean after normalization: {np.mean(z_scores)}\")\n",
        "print(f\"Standard Deviation after normalization: {np.std(z_scores)}\")\n",
        "\n",
        "# Plot the original and normalized data\n",
        "plt.figure(figsize=(12, 6))\n",
        "\n",
        "# Original data plot\n",
        "plt.subplot(1, 2, 1)\n",
        "plt.hist(data, bins=30, color='skyblue', edgecolor='black')\n",
        "plt.title('Original Data Distribution')\n",
        "\n",
        "# Normalized data plot\n",
        "plt.subplot(1, 2, 2)\n",
        "plt.hist(z_scores, bins=30, color='salmon', edgecolor='black')\n",
        "plt.title('Z-score Normalized Data Distribution')\n",
        "\n",
        "plt.tight_layout()\n",
        "plt.show()"
      ],
      "metadata": {
        "colab": {
          "base_uri": "https://localhost:8080/",
          "height": 642
        },
        "id": "ZSKZN4WM4fYi",
        "outputId": "6ed58dd7-58d9-4113-d1e3-985ad3cedf32"
      },
      "execution_count": 12,
      "outputs": [
        {
          "output_type": "stream",
          "name": "stdout",
          "text": [
            "Mean after normalization: 1.225686219186173e-16\n",
            "Standard Deviation after normalization: 1.0\n"
          ]
        },
        {
          "output_type": "display_data",
          "data": {
            "text/plain": [
              "<Figure size 1200x600 with 2 Axes>"
            ],
            "image/png": "[encoded data removed]"
          },
          "metadata": {}
        }
      ]
    },
    {
      "cell_type": "markdown",
      "source": [
        "19. Compare two datasets using their standard deviations."
      ],
      "metadata": {
        "id": "b7Mm2_JY4cQ4"
      }
    },
    {
      "cell_type": "code",
      "source": [
        "import numpy as np\n",
        "\n",
        "# Example datasets\n",
        "data1 = np.random.normal(loc=50, scale=10, size=1000)  # mean=50, std_dev=10\n",
        "data2 = np.random.normal(loc=50, scale=20, size=1000)  # mean=50, std_dev=20\n",
        "\n",
        "# Calculate the standard deviations\n",
        "std_dev1 = np.std(data1)\n",
        "std_dev2 = np.std(data2)\n",
        "\n",
        "# Compare the standard deviations\n",
        "print(f\"Standard Deviation of Dataset 1: {std_dev1:.2f}\")\n",
        "print(f\"Standard Deviation of Dataset 2: {std_dev2:.2f}\")\n",
        "\n",
        "# Interpretation\n",
        "if std_dev1 > std_dev2:\n",
        "    print(\"Dataset 1 has more variability (larger spread).\")\n",
        "else:\n",
        "    print(\"Dataset 2 has more variability (larger spread).\")"
      ],
      "metadata": {
        "colab": {
          "base_uri": "https://localhost:8080/"
        },
        "id": "GkW1vBFy4h2k",
        "outputId": "fb1bfe70-6a1f-473c-ef54-bd6405e34101"
      },
      "execution_count": 13,
      "outputs": [
        {
          "output_type": "stream",
          "name": "stdout",
          "text": [
            "Standard Deviation of Dataset 1: 9.69\n",
            "Standard Deviation of Dataset 2: 20.73\n",
            "Dataset 2 has more variability (larger spread).\n"
          ]
        }
      ]
    },
    {
      "cell_type": "markdown",
      "source": [
        "20. Write a Python program to visualize covariance using a heatmap."
      ],
      "metadata": {
        "id": "r13VKQ5t4mn6"
      }
    },
    {
      "cell_type": "code",
      "source": [
        "import numpy as np\n",
        "import pandas as pd\n",
        "import seaborn as sns\n",
        "import matplotlib.pyplot as plt\n",
        "\n",
        "# Example datasets (simulating data for three variables)\n",
        "np.random.seed(42)\n",
        "data = {\n",
        "    'A': np.random.normal(0, 1, 1000),\n",
        "    'B': np.random.normal(1, 2, 1000),\n",
        "    'C': np.random.normal(2, 3, 1000)\n",
        "}\n",
        "\n",
        "# Create a DataFrame\n",
        "df = pd.DataFrame(data)\n",
        "\n",
        "# Calculate the covariance matrix\n",
        "cov_matrix = df.cov()\n",
        "\n",
        "# Plot the heatmap using Seaborn\n",
        "plt.figure(figsize=(8, 6))\n",
        "sns.heatmap(cov_matrix, annot=True, cmap='coolwarm', fmt='.2f', cbar=True)\n",
        "\n",
        "# Title and labels\n",
        "plt.title('Covariance Matrix Heatmap')\n",
        "plt.show()"
      ],
      "metadata": {
        "colab": {
          "base_uri": "https://localhost:8080/",
          "height": 545
        },
        "id": "zc9v8Rqp4paL",
        "outputId": "73336964-57a3-4922-a145-d29db6c8ff23"
      },
      "execution_count": 14,
      "outputs": [
        {
          "output_type": "display_data",
          "data": {
            "text/plain": [
              "<Figure size 800x600 with 2 Axes>"
            ],
            "image/png": "[encoded data removed]"
          },
          "metadata": {}
        }
      ]
    },
    {
      "cell_type": "markdown",
      "source": [
        "21. Use seaborn to create a correlation matrix for a dataset."
      ],
      "metadata": {
        "id": "ypZ-Nt8x41vZ"
      }
    },
    {
      "cell_type": "code",
      "source": [
        "import seaborn as sns\n",
        "import matplotlib.pyplot as plt\n",
        "import pandas as pd\n",
        "import numpy as np\n",
        "\n",
        "# Example dataset (simulating data for three variables)\n",
        "np.random.seed(42)\n",
        "data = {\n",
        "    'A': np.random.normal(0, 1, 1000),\n",
        "    'B': np.random.normal(1, 2, 1000),\n",
        "    'C': np.random.normal(2, 3, 1000)\n",
        "}\n",
        "\n",
        "# Create a DataFrame\n",
        "df = pd.DataFrame(data)\n",
        "\n",
        "# Calculate the correlation matrix\n",
        "corr_matrix = df.corr()\n",
        "\n",
        "# Plot the correlation matrix using Seaborn\n",
        "plt.figure(figsize=(8, 6))\n",
        "sns.heatmap(corr_matrix, annot=True, cmap='coolwarm', fmt='.2f', cbar=True)\n",
        "\n",
        "# Title and labels\n",
        "plt.title('Correlation Matrix Heatmap')\n",
        "plt.show()"
      ],
      "metadata": {
        "colab": {
          "base_uri": "https://localhost:8080/",
          "height": 545
        },
        "id": "Wnvo8Drm44QL",
        "outputId": "f5715819-d63c-4abc-f421-c91ce70d3482"
      },
      "execution_count": 15,
      "outputs": [
        {
          "output_type": "display_data",
          "data": {
            "text/plain": [
              "<Figure size 800x600 with 2 Axes>"
            ],
            "image/png": "[encoded data removed]"
          },
          "metadata": {}
        }
      ]
    },
    {
      "cell_type": "markdown",
      "source": [
        "22.  Generate a dataset and implement both variance and standard deviation computations."
      ],
      "metadata": {
        "id": "CnwWAa3s473T"
      }
    },
    {
      "cell_type": "code",
      "source": [
        "import numpy as np\n",
        "\n",
        "# Generate a dataset (random numbers from normal distribution)\n",
        "data = np.random.normal(loc=50, scale=10, size=1000)  # mean=50, std_dev=10, size=1000\n",
        "\n",
        "# Compute the variance\n",
        "variance = np.var(data)\n",
        "\n",
        "# Compute the standard deviation\n",
        "std_deviation = np.std(data)\n",
        "\n",
        "# Print results\n",
        "print(f\"Variance: {variance:.2f}\")\n",
        "print(f\"Standard Deviation: {std_deviation:.2f}\")"
      ],
      "metadata": {
        "colab": {
          "base_uri": "https://localhost:8080/"
        },
        "id": "Kh6eokWW5HHE",
        "outputId": "21d4b314-640d-408e-e700-bc35f86069b2"
      },
      "execution_count": 16,
      "outputs": [
        {
          "output_type": "stream",
          "name": "stdout",
          "text": [
            "Variance: 105.39\n",
            "Standard Deviation: 10.27\n"
          ]
        }
      ]
    },
    {
      "cell_type": "markdown",
      "source": [
        "23. Visualize skewness and kurtosis using Python libraries like matplotlib or seaborn."
      ],
      "metadata": {
        "id": "2NG5cxHz5KqM"
      }
    },
    {
      "cell_type": "code",
      "source": [
        "import numpy as np\n",
        "import seaborn as sns\n",
        "import matplotlib.pyplot as plt\n",
        "from scipy.stats import skew, kurtosis\n",
        "\n",
        "# Generate a dataset (right-skewed distribution)\n",
        "np.random.seed(42)\n",
        "data = np.random.exponential(scale=2, size=1000)\n",
        "\n",
        "# Calculate skewness and kurtosis\n",
        "data_skewness = skew(data)\n",
        "data_kurtosis = kurtosis(data)\n",
        "\n",
        "# Print skewness and kurtosis\n",
        "print(f\"Skewness: {data_skewness:.2f}\")\n",
        "print(f\"Kurtosis: {data_kurtosis:.2f}\")\n",
        "\n",
        "# Create subplots for histogram and boxplot\n",
        "fig, axes = plt.subplots(1, 2, figsize=(14, 6))\n",
        "\n",
        "# Histogram plot\n",
        "sns.histplot(data, kde=True, ax=axes[0], color='skyblue')\n",
        "axes[0].set_title(f\"Histogram (Skewness = {data_skewness:.2f})\")\n",
        "\n",
        "# Boxplot plot\n",
        "sns.boxplot(data=data, ax=axes[1], color='salmon')\n",
        "axes[1].set_title(f\"Boxplot (Kurtosis = {data_kurtosis:.2f})\")\n",
        "\n",
        "plt.tight_layout()\n",
        "plt.show()"
      ],
      "metadata": {
        "colab": {
          "base_uri": "https://localhost:8080/",
          "height": 579
        },
        "id": "bWtkeDnR5PQJ",
        "outputId": "226029f4-8d3a-4d15-d0e3-21058a29a834"
      },
      "execution_count": 18,
      "outputs": [
        {
          "output_type": "stream",
          "name": "stdout",
          "text": [
            "Skewness: 1.87\n",
            "Kurtosis: 5.22\n"
          ]
        },
        {
          "output_type": "display_data",
          "data": {
            "text/plain": [
              "<Figure size 1400x600 with 2 Axes>"
            ],
            "image/png": "[encoded data removed]"
          },
          "metadata": {}
        }
      ]
    },
    {
      "cell_type": "markdown",
      "source": [
        "24.  Implement the Pearson and Spearman correlation coefficients for a dataset."
      ],
      "metadata": {
        "id": "i9IOYC655MAO"
      }
    },
    {
      "cell_type": "code",
      "source": [
        "import numpy as np\n",
        "import pandas as pd\n",
        "from scipy.stats import spearmanr, pearsonr\n",
        "\n",
        "# Generate sample data\n",
        "np.random.seed(42)\n",
        "data = {\n",
        "    'X': np.random.normal(0, 1, 1000),\n",
        "    'Y': np.random.normal(1, 2, 1000)\n",
        "}\n",
        "\n",
        "# Create a DataFrame\n",
        "df = pd.DataFrame(data)\n",
        "\n",
        "# Pearson correlation\n",
        "pearson_corr, _ = pearsonr(df['X'], df['Y'])\n",
        "print(f\"Pearson Correlation: {pearson_corr:.2f}\")\n",
        "\n",
        "# Spearman correlation\n",
        "spearman_corr, _ = spearmanr(df['X'], df['Y'])\n",
        "print(f\"Spearman Correlation: {spearman_corr:.2f}\")"
      ],
      "metadata": {
        "colab": {
          "base_uri": "https://localhost:8080/"
        },
        "id": "4i_37CMq5Oc3",
        "outputId": "cb4e4535-b68b-4e9b-efde-19c3f65df5db"
      },
      "execution_count": 17,
      "outputs": [
        {
          "output_type": "stream",
          "name": "stdout",
          "text": [
            "Pearson Correlation: -0.04\n",
            "Spearman Correlation: -0.06\n"
          ]
        }
      ]
    }
  ]
}