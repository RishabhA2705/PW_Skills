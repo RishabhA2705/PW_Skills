{
  "nbformat": 4,
  "nbformat_minor": 0,
  "metadata": {
    "colab": {
      "provenance": []
    },
    "kernelspec": {
      "name": "python3",
      "display_name": "Python 3"
    },
    "language_info": {
      "name": "python"
    }
  },
  "cells": [
    {
      "cell_type": "markdown",
      "source": [
        "1. What is NumPy, and why is it widely used in Python?\n",
        "\n",
        "Ans. NumPy is a Python library for fast, efficient numerical computing. It provides:\n",
        "\n",
        "Arrays (like lists, but faster and with more features)\n",
        "\n",
        "Math tools for stats, algebra, and more\n",
        "\n",
        "Broadcasting to work with different-shaped data\n",
        "\n",
        "Speed thanks to underlying C code\n",
        "\n",
        "--> It's fast, easy to use, and powers many key libraries like Pandas, TensorFlow, and SciPy."
      ],
      "metadata": {
        "id": "B3LbT11HibYP"
      }
    },
    {
      "cell_type": "markdown",
      "source": [
        "2.  How does broadcasting work in NumPy?\n",
        "\n",
        "Ans. Broadcasting in NumPy lets you perform arithmetic operations on arrays of different shapes without writing loops or manually reshaping them.\n",
        "\n",
        "--> Compare shapes from the end.\n",
        "\n",
        "Dimensions must match or be 1, or one of the arrays can be expanded.\n",
        "\n",
        "NumPy automatically stretches smaller arrays to match the larger one.\n",
        "\n",
        "Example:\n",
        "    \n",
        "    import numpy as np\n",
        "\n",
        "    A = np.array([[1, 2, 3], [4, 5, 6]])  # shape (2, 3)\n",
        "    B = np.array([10, 20, 30])           # shape (3,)\n",
        "\n",
        "    C = A + B  # B is broadcast to (2, 3)"
      ],
      "metadata": {
        "id": "4il_-yk-ip9w"
      }
    },
    {
      "cell_type": "markdown",
      "source": [
        "3.  What is a Pandas DataFrame?\n",
        "\n",
        "Ans. A Pandas DataFrame is a 2-dimensional labeled table in Python, similar to a spreadsheet or SQL table.\n",
        "\n",
        "--> Key Features:\n",
        "Rows and columns, each with labels (called index and columns).\n",
        "\n",
        "Can hold different data types in each column (e.g., int, float, string).\n",
        "\n",
        "Built on top of NumPy, optimized for performance.\n",
        "\n",
        "📊 Example:\n",
        "\n",
        "    import pandas as pd\n",
        "\n",
        "    data = {\n",
        "      'Name': ['Alice', 'Bob'],\n",
        "      'Age': [25, 30],\n",
        "      'City': ['NYC', 'LA']\n",
        "}\n",
        "\n",
        "    df = pd.DataFrame(data)\n",
        "    print(df)\n",
        "\n",
        "    Output:\n",
        "\n",
        "       Name  Age City\n",
        "    0  Alice   25  NYC\n",
        "    1    Bob   30   LA\n",
        "\n",
        "Why use it?\n",
        "\n",
        "Easy data cleaning, filtering, and manipulation\n",
        "\n",
        "Built-in tools for reading/writing CSV, Excel, SQL, etc.\n",
        "\n",
        "Essential for data analysis and machine learning"
      ],
      "metadata": {
        "id": "b55D9p_njAAQ"
      }
    },
    {
      "cell_type": "markdown",
      "source": [
        "4.  Explain the use of the groupby() method in Pandas.\n",
        "\n",
        "Ans. The groupby() method in Pandas is used to group rows in a DataFrame by one or more columns, and then apply aggregation or transformation functions on each group.\n",
        "\n",
        "🔧 Basic Syntax:\n",
        "\n",
        "    df.groupby('column_name')\n",
        "\n",
        "We can then use functions like .sum(), .mean(), .count(), etc., on each group.\n",
        "\n",
        "📊 Example:\n",
        "\n",
        "    import pandas as pd\n",
        "\n",
        "    data = {\n",
        "      'Department': ['HR', 'HR', 'IT', 'IT', 'Finance'],\n",
        "      'Salary': [4000, 4200, 5000, 5100, 6000]\n",
        "}\n",
        "\n",
        "    df = pd.DataFrame(data)\n",
        "\n",
        "    # Group by department and get average salary\n",
        "    avg_salary = df.groupby('Department')['Salary'].mean()\n",
        "    print(avg_salary)\n",
        "    \n",
        "    Output:\n",
        "\n",
        "    Department\n",
        "    Finance    6000.0\n",
        "    HR         4100.0\n",
        "    IT         5050.0\n",
        "    Name: Salary, dtype: float64"
      ],
      "metadata": {
        "id": "Bw2LvyGYjeyE"
      }
    },
    {
      "cell_type": "markdown",
      "source": [
        "5. Why is Seaborn preferred for statistical visualizations?\n",
        "\n",
        "Ans. Seaborn is preferred for statistical visualizations because it's:\n",
        "\n",
        "🧠 Easy to use with Pandas data\n",
        "\n",
        "📊 Great for stats (e.g. boxplots, heatmaps, regression lines)\n",
        "\n",
        "🎨 Beautiful by default\n",
        "\n",
        "📈 Automatically handles aggregation and confidence intervals\n",
        "\n",
        "Perfect for exploring and presenting data quickly and clearly."
      ],
      "metadata": {
        "id": "YibOAZ13kaXH"
      }
    },
    {
      "cell_type": "markdown",
      "source": [
        "6. What are the differences between NumPy arrays and Python lists?\n",
        "\n",
        "Ans. 1. Data Type Consistency:\n",
        "NumPy Arrays: All elements must be of the same data type. This ensures efficient storage and processing, especially for numerical computations.\n",
        "\n",
        "Python Lists: Can hold elements of different types (integers, strings, etc.), making them flexible but less efficient for large-scale numerical tasks.\n",
        "\n",
        "2. Performance:\n",
        "NumPy Arrays: They are optimized for performance and are implemented in C. Operations on NumPy arrays are much faster because of vectorized operations, which allow applying operations on entire arrays at once without the need for explicit loops.\n",
        "\n",
        "Python Lists: Generally slower for large data processing since they don’t support vectorized operations and require loops for element-wise computation.\n",
        "\n",
        "3. Memory Efficiency:\n",
        "NumPy Arrays: More memory-efficient because of their fixed data type. They are stored in contiguous blocks of memory, which makes them compact and fast to access.\n",
        "\n",
        "Python Lists: Less memory-efficient since each element is a reference to an object, requiring more memory overhead.\n",
        "\n",
        "4. Functionality:\n",
        "NumPy Arrays: Provide a wide range of mathematical functions (e.g., linear algebra, statistical operations) and support for multi-dimensional arrays. They allow element-wise operations directly (e.g., addition, multiplication).\n",
        "\n",
        "Python Lists: Do not support mathematical operations directly. To apply operations like addition or multiplication, you need to use loops or list comprehensions.\n",
        "\n",
        "5. Use Cases:\n",
        "NumPy Arrays: Best for numerical computations, scientific computing, and large datasets. Essential for fields like data science, machine learning, and engineering.\n",
        "\n",
        "Python Lists: Useful for general-purpose tasks where flexibility is needed, but not suitable for heavy numerical computations.\n",
        "\n"
      ],
      "metadata": {
        "id": "hWD3W6B2knA9"
      }
    },
    {
      "cell_type": "markdown",
      "source": [
        "7. What is a heatmap, and when should it be used?\n",
        "\n",
        "Ans. A heatmap is a data visualization that uses colors to represent the intensity of values in a matrix format.\n",
        "\n",
        "--> When to Use:\n",
        "Correlation matrices – Shows relationships between variables.\n",
        "\n",
        "Geospatial data – Visualizes data density across locations.\n",
        "\n",
        "Time series analysis – Highlights trends over time.\n",
        "\n",
        "Categorical data patterns – Compares groups across categories.\n",
        "\n",
        "Example:\n",
        "It’s great for spotting patterns or intensity in complex data."
      ],
      "metadata": {
        "id": "OEbMIOXgld-3"
      }
    },
    {
      "cell_type": "markdown",
      "source": [
        "8. What does the term “vectorized operation” mean in NumPy?\n",
        "\n",
        "Ans. A vectorized operation in NumPy means performing calculations on entire arrays at once, without using explicit loops. It speeds up computations by leveraging optimized C code.\n",
        "\n",
        "Example:\n",
        "\n",
        "    import numpy as np\n",
        "    a = np.array([1, 2, 3])\n",
        "    b = np.array([4, 5, 6])\n",
        "    c = a + b  # Vectorized operation\n",
        "Faster and more efficient than looping through elements!"
      ],
      "metadata": {
        "id": "e3ulPeallvwb"
      }
    },
    {
      "cell_type": "markdown",
      "source": [
        "9. How does Matplotlib differ from Plotly?\n",
        "\n",
        "Ans. Matplotlib and Plotly are both popular Python libraries for data visualization, but they have some key differences in functionality, interactivity, and use cases:\n",
        "\n",
        "1. Interactivity:\n",
        "Matplotlib: Primarily used for static plots. While it can be combined with interactive widgets or used in Jupyter Notebooks, it doesn’t have built-in interactivity.\n",
        "\n",
        "Plotly: Designed for interactive plots out of the box. Allows features like zooming, hovering, and clicking to inspect data points.\n",
        "\n",
        "2. Ease of Use:\n",
        "Matplotlib: Provides a lot of control over the plot’s details but may require more code to achieve advanced plots.\n",
        "\n",
        "Plotly: Higher-level API that makes it easier to create interactive, dynamic plots. It's simpler for creating web-ready visualizations.\n",
        "\n",
        "3. Customization:\n",
        "Matplotlib: Offers more customization and flexibility, making it ideal for highly detailed, complex visualizations.\n",
        "\n",
        "Plotly: Has pre-built templates and tools for quick creation of interactive plots, but customization may require deeper knowledge of its API.\n",
        "\n",
        "4. Plot Types:\n",
        "Matplotlib: Focuses mainly on 2D plots (line, bar, scatter, etc.) but has limited support for 3D plots.\n",
        "\n",
        "Plotly: Supports a wide range of plot types, including 3D plots, geographical maps, and more complex visualizations.\n",
        "\n",
        "5. Output:\n",
        "Matplotlib: Produces static images (PNG, JPG, etc.), suitable for reports and publications.\n",
        "\n",
        "Plotly: Generates interactive web-based plots (HTML), which can be easily shared or embedded in web apps.\n",
        "\n",
        "📊 Example:\n",
        "\n",
        "    import matplotlib.pyplot as plt\n",
        "    plt.plot([1, 2, 3], [4, 5, 6])\n",
        "    plt.show()\n",
        "    Plotly (interactive plot):\n",
        "\n",
        "    import plotly.graph_objects as go\n",
        "    fig = go.Figure(data=go.Scatter(x=[1, 2, 3], y=[4, 5, 6]))\n",
        "    fig.show()"
      ],
      "metadata": {
        "id": "Yudu1KWsl7xl"
      }
    },
    {
      "cell_type": "markdown",
      "source": [
        "10. What is the significance of hierarchical indexing in Pandas?\n",
        "\n",
        "Ans. Hierarchical indexing in Pandas (MultiIndex) allows you to have multiple levels of indexes in a DataFrame or Series. This makes it easier to manage complex data with multiple categories or dimensions.\n",
        "\n",
        "Key Benefits:\n",
        "Organizes complex data (e.g., by Region and Year).\n",
        "\n",
        "Simplifies filtering and grouping by multiple levels.\n",
        "\n",
        "Allows multi-dimensional access to subsets of data.\n",
        "\n",
        "Example:\n",
        "\n",
        "    import pandas as pd\n",
        "    arrays = [['A', 'A', 'B', 'B'], ['one', 'two', 'one', 'two']]\n",
        "    index = pd.MultiIndex.from_arrays(arrays, names=('Letter', 'Number'))\n",
        "    df = pd.DataFrame({'Value': [10, 20, 30, 40]}, index=index)"
      ],
      "metadata": {
        "id": "T8EYapaGmLFQ"
      }
    },
    {
      "cell_type": "markdown",
      "source": [
        "11. What is the role of Seaborn’s pairplot() function?\n",
        "\n",
        "Ans. The pairplot() function in Seaborn is used to create a grid of scatter plots and histograms to show pairwise relationships between numerical variables in a dataset.\n",
        "\n",
        "🎯 Role of pairplot():\n",
        "Visualizes relationships between all pairs of numerical features.\n",
        "\n",
        "Shows distributions of individual features on the diagonal.\n",
        "\n",
        "Can color-code by category using the hue parameter.\n",
        "\n",
        "📊 Example:\n",
        "\n",
        "    import seaborn as sns\n",
        "    df = sns.load_dataset(\"iris\")\n",
        "    sns.pairplot(df, hue=\"species\")\n",
        "    \n",
        "This plots scatter plots for each pair of features in the iris dataset, colored by species.\n",
        "\n",
        "✅ Use it when:\n",
        "Exploring datasets with multiple numerical features.\n",
        "\n",
        "Looking for correlations, clusters, or patterns.\n",
        "\n",
        "Doing exploratory data analysis (EDA)."
      ],
      "metadata": {
        "id": "7Cl2FXEB2TBP"
      }
    },
    {
      "cell_type": "markdown",
      "source": [
        "12. What is the purpose of the describe() function in Pandas?\n",
        "\n",
        "Ans. The describe() function in Pandas provides a quick summary of statistics for each numerical (or all) column(s) in a DataFrame.\n",
        "\n",
        "📋 Purpose:\n",
        "To get key descriptive statistics like:\n",
        "\n",
        "Count (non-null entries)\n",
        "\n",
        "Mean\n",
        "\n",
        "Standard deviation\n",
        "\n",
        "Min, 25%, 50% (median), 75%, Max\n",
        "\n",
        "📊 Example:\n",
        "\n",
        "    import pandas as pd\n",
        "    df = pd.DataFrame({'Age': [22, 25, 30, 28, 35]})\n",
        "    print(df.describe())\n",
        "\n",
        "Output:\n",
        "\n",
        "             Age\n",
        "count   5.000000\n",
        "mean   28.000000\n",
        "std     4.949747\n",
        "min    22.000000\n",
        "25%    25.000000\n",
        "50%    28.000000\n",
        "75%    30.000000\n",
        "max    35.000000\n"
      ],
      "metadata": {
        "id": "11WVtXXu2gm7"
      }
    },
    {
      "cell_type": "markdown",
      "source": [
        "13. Why is handling missing data important in Pandas?\n",
        "\n",
        "Ans. Handling missing data in Pandas is important to:\n",
        "\n",
        "✅ Keep analysis accurate\n",
        "\n",
        "⚠️ Avoid errors in calculations\n",
        "\n",
        "🤖 Prepare data for machine learning\n",
        "\n",
        "📊 Improve data quality\n",
        "\n",
        "Common methods: dropna(), fillna(), isna() ✅"
      ],
      "metadata": {
        "id": "18nc9wdz2rPP"
      }
    },
    {
      "cell_type": "markdown",
      "source": [
        "14. What are the benefits of using Plotly for data visualization?\n",
        "\n",
        "Ans.\n",
        "\n",
        "✅ Benefits of Using Plotly for Data Visualization:\n",
        "Interactive Plots 🎯\n",
        "\n",
        "Zoom, pan, hover tooltips, and more — all built-in.\n",
        "\n",
        "Beautiful Visuals 🎨\n",
        "\n",
        "High-quality, modern, and customizable charts.\n",
        "\n",
        "Wide Chart Variety 📊\n",
        "\n",
        "Line, bar, pie, scatter, 3D plots, maps, and dashboards.\n",
        "\n",
        "Web-Ready 🌐\n",
        "\n",
        "Easily export as HTML or embed in web apps.\n",
        "\n",
        "Python & Dash Integration 🔌\n",
        "\n",
        "Works well with Dash for building interactive dashboards.\n",
        "\n",
        "Easy to Use 💡\n",
        "\n",
        "Simple syntax with powerful features."
      ],
      "metadata": {
        "id": "g8EIOOy-2-vf"
      }
    },
    {
      "cell_type": "markdown",
      "source": [
        "15.  How does NumPy handle multidimensional arrays?\n",
        "\n",
        "Ans. NumPy handles multidimensional arrays using the ndarray object, which can store data in 2D, 3D, or higher dimensions.\n",
        "\n",
        "🔹 Key Points:\n",
        "Shape defines dimensions (e.g., (2, 3, 4)).\n",
        "\n",
        "Supports indexing, slicing, and operations along axes.\n",
        "\n",
        "Stored in efficient memory layout for fast processing."
      ],
      "metadata": {
        "id": "xLUVL7ty3GG3"
      }
    },
    {
      "cell_type": "markdown",
      "source": [
        "16. What is the role of Bokeh in data visualization?\n",
        "\n",
        "Ans. Bokeh is a Python library for creating interactive, web-ready plots.\n",
        "\n",
        "✅ Key Uses:\n",
        "Interactive charts (zoom, pan, hover)\n",
        "\n",
        "Web dashboards and apps\n",
        "\n",
        "Handles large/streaming data\n",
        "\n",
        "Great for dynamic visualizations in browsers!"
      ],
      "metadata": {
        "id": "9BC0qkSD3PMx"
      }
    },
    {
      "cell_type": "markdown",
      "source": [
        "17.  Explain the difference between apply() and map() in Pandas?\n",
        "\n",
        "Ans. map():\n",
        "\n",
        "Used on Series only.\n",
        "\n",
        "Applies a function element-wise.\n",
        "\n",
        "Returns a Series.\n",
        "\n",
        "apply():\n",
        "\n",
        "Used on Series or DataFrame.\n",
        "\n",
        "Can apply functions row-wise, column-wise, or element-wise.\n",
        "\n",
        "Returns Series, DataFrame, or scalar value.\n",
        "\n",
        "Key Difference:\n",
        "map() is for simple element-wise operations on a Series.\n",
        "\n",
        "apply() is for complex operations on Series or DataFrames."
      ],
      "metadata": {
        "id": "l7xzsBTJ3WIu"
      }
    },
    {
      "cell_type": "markdown",
      "source": [
        "18. What are some advanced features of NumPy?\n",
        "\n",
        "Ans. Broadcasting: Allows operations on arrays of different shapes without explicit looping.\n",
        "\n",
        "Vectorization: Efficient element-wise operations without loops.\n",
        "\n",
        "Advanced Indexing: Fancy and boolean indexing for complex data access.\n",
        "\n",
        "Linear Algebra: Matrix operations, eigenvalues, and more.\n",
        "\n",
        "Random Module: Random number generation from various distributions.\n",
        "\n",
        "FFT: Fast Fourier Transform for signal processing.\n",
        "\n",
        "Memory Views: Efficient data manipulation without copying.\n",
        "\n",
        "Masked Arrays: Handle missing or invalid data.\n",
        "\n",
        "NumPy C-API: Write C extensions for performance.\n",
        "\n",
        "np.vectorize(): Apply functions element-wise."
      ],
      "metadata": {
        "id": "zoIDujsa3jPa"
      }
    },
    {
      "cell_type": "markdown",
      "source": [
        "19. How does Pandas simplify time series analysis?\n",
        "\n",
        "Ans. Datetime indexing for easy time-based filtering.\n",
        "\n",
        "Resampling to change the frequency of data.\n",
        "\n",
        "Time/date manipulation (extract year, month, etc.).\n",
        "\n",
        "Time zone support for handling data from different regions.\n",
        "\n",
        "Rolling statistics (e.g., moving averages).\n",
        "\n",
        "Easy plotting of time series data.\n",
        "\n",
        "Methods to handle missing data effectively."
      ],
      "metadata": {
        "id": "W9Cj2QrR5nDu"
      }
    },
    {
      "cell_type": "markdown",
      "source": [
        "20. What is the role of a pivot table in Pandas?\n",
        "\n",
        "Ans. A pivot table in Pandas is used to summarize and aggregate data. It reshapes data by grouping it based on certain columns and performing aggregate functions like sum, mean, or count on other columns. This makes it easier to analyze and draw insights from complex datasets.\n",
        "\n",
        "Example:\n",
        "\n",
        "    pivot_table = pd.pivot_table(df, values='Sales', index='Date', columns='Category', aggfunc='sum')"
      ],
      "metadata": {
        "id": "36Qu4yoX5vWQ"
      }
    },
    {
      "cell_type": "markdown",
      "source": [
        "21. Why is NumPy’s array slicing faster than Python’s list slicing?\n",
        "\n",
        "Ans. NumPy's array slicing is faster than Python's list slicing because:\n",
        "\n",
        "Contiguous memory layout allows faster access.\n",
        "\n",
        "No copying of data; slicing returns a view, not a new object.\n",
        "\n",
        "Optimized in C, making operations faster.\n",
        "\n",
        "Vectorized operations eliminate the need for loops, unlike Python lists."
      ],
      "metadata": {
        "id": "dbrQ3_fA57Bf"
      }
    },
    {
      "cell_type": "markdown",
      "source": [
        "22. What are some common use cases for Seaborn?\n",
        "\n",
        "Ans. Common use cases for Seaborn include:\n",
        "\n",
        "Visualizing distributions (e.g., histograms, KDE).\n",
        "\n",
        "Comparing categorical data (e.g., bar plots, box plots).\n",
        "\n",
        "Showing relationships (e.g., heatmaps, pair plots).\n",
        "\n",
        "Styling plots with attractive themes and color palettes.\n",
        "\n",
        "Seaborn simplifies creating informative and aesthetic statistical plots."
      ],
      "metadata": {
        "id": "akpbYAHT5_6d"
      }
    },
    {
      "cell_type": "markdown",
      "source": [
        "**CODING**"
      ],
      "metadata": {
        "id": "iBCuhOJq3tNy"
      }
    },
    {
      "cell_type": "markdown",
      "source": [
        "1.  How do you create a 2D NumPy array and calculate the sum of each row?"
      ],
      "metadata": {
        "id": "O3k_MNKz3u5p"
      }
    },
    {
      "cell_type": "code",
      "source": [
        "import numpy as np\n",
        "\n",
        "# Create a 2D NumPy array\n",
        "arr = np.array([[1, 2, 3], [4, 5, 6], [7, 8, 9]])\n",
        "\n",
        "# Calculate the sum of each row\n",
        "row_sums = np.sum(arr, axis=1)\n",
        "\n",
        "print(row_sums)"
      ],
      "metadata": {
        "colab": {
          "base_uri": "https://localhost:8080/"
        },
        "id": "Y2Gi3JAD3y5X",
        "outputId": "dbefc51a-8b32-4d68-9941-461635910224"
      },
      "execution_count": 1,
      "outputs": [
        {
          "output_type": "stream",
          "name": "stdout",
          "text": [
            "[ 6 15 24]\n"
          ]
        }
      ]
    },
    {
      "cell_type": "markdown",
      "source": [
        "2. Write a Pandas script to find the mean of a specific column in a DataFrame?"
      ],
      "metadata": {
        "id": "mOboBw-931wN"
      }
    },
    {
      "cell_type": "code",
      "source": [
        "import pandas as pd\n",
        "\n",
        "# Sample DataFrame\n",
        "data = {\n",
        "    'A': [10, 20, 30, 40, 50],\n",
        "    'B': [5, 15, 25, 35, 45]\n",
        "}\n",
        "\n",
        "df = pd.DataFrame(data)\n",
        "\n",
        "# Find the mean of column 'A'\n",
        "mean_A = df['A'].mean()\n",
        "\n",
        "print(\"Mean of column A:\", mean_A)\n"
      ],
      "metadata": {
        "colab": {
          "base_uri": "https://localhost:8080/"
        },
        "id": "drSxXVJD39LD",
        "outputId": "a9713bad-f7bb-4950-85b5-efe7155e4c90"
      },
      "execution_count": 3,
      "outputs": [
        {
          "output_type": "stream",
          "name": "stdout",
          "text": [
            "Mean of column A: 30.0\n"
          ]
        }
      ]
    },
    {
      "cell_type": "markdown",
      "source": [
        "3. Create a scatter plot using Matplotlib?"
      ],
      "metadata": {
        "id": "DNPnVv-o4A5W"
      }
    },
    {
      "cell_type": "code",
      "source": [
        "import matplotlib.pyplot as plt\n",
        "\n",
        "# Sample data\n",
        "x = [1, 2, 3, 4, 5]\n",
        "y = [10, 20, 25, 30, 40]\n",
        "\n",
        "# Create scatter plot\n",
        "plt.scatter(x, y)\n",
        "\n",
        "# Add labels and title\n",
        "plt.xlabel('X Axis')\n",
        "plt.ylabel('Y Axis')\n",
        "plt.title('Scatter Plot Example')\n",
        "\n",
        "# Show plot\n",
        "plt.show()"
      ],
      "metadata": {
        "colab": {
          "base_uri": "https://localhost:8080/",
          "height": 472
        },
        "id": "yefz_B9y4Cb4",
        "outputId": "d01c498b-7e39-4d16-bcf8-fdd3f8e0ad49"
      },
      "execution_count": 4,
      "outputs": [
        {
          "output_type": "display_data",
          "data": {
            "text/plain": [
              "<Figure size 640x480 with 1 Axes>"
            ],
            "image/png": "[encoded data removed]"
          },
          "metadata": {}
        }
      ]
    },
    {
      "cell_type": "markdown",
      "source": [
        "4. How do you calculate the correlation matrix using Seaborn and visualize it with a heatmap?"
      ],
      "metadata": {
        "id": "xS09SlWn4SxD"
      }
    },
    {
      "cell_type": "code",
      "source": [
        "import seaborn as sns\n",
        "import matplotlib.pyplot as plt\n",
        "import pandas as pd\n",
        "\n",
        "# Sample DataFrame\n",
        "data = {\n",
        "    'A': [1, 2, 3, 4, 5],\n",
        "    'B': [5, 4, 3, 2, 1],\n",
        "    'C': [2, 3, 4, 5, 6]\n",
        "}\n",
        "\n",
        "df = pd.DataFrame(data)\n",
        "\n",
        "# Calculate the correlation matrix\n",
        "corr_matrix = df.corr()\n",
        "\n",
        "# Visualize the correlation matrix using Seaborn heatmap\n",
        "sns.heatmap(corr_matrix, annot=True, cmap='coolwarm', linewidths=0.5)\n",
        "\n",
        "# Show the plot\n",
        "plt.title('Correlation Matrix Heatmap')\n",
        "plt.show()\n"
      ],
      "metadata": {
        "colab": {
          "base_uri": "https://localhost:8080/",
          "height": 452
        },
        "id": "-KoQR-Si4Wch",
        "outputId": "b23860f4-8157-45b1-e86c-27d47ff7b18c"
      },
      "execution_count": 5,
      "outputs": [
        {
          "output_type": "display_data",
          "data": {
            "text/plain": [
              "<Figure size 640x480 with 2 Axes>"
            ],
            "image/png": "[encoded data removed]"
          },
          "metadata": {}
        }
      ]
    },
    {
      "cell_type": "markdown",
      "source": [
        "5.  Generate a bar plot using Plotly?"
      ],
      "metadata": {
        "id": "MZWVqIs94YRg"
      }
    },
    {
      "cell_type": "code",
      "source": [
        "import plotly.express as px\n",
        "\n",
        "# Sample data\n",
        "data = {\n",
        "    'Category': ['A', 'B', 'C', 'D', 'E'],\n",
        "    'Values': [10, 15, 7, 25, 30]\n",
        "}\n",
        "\n",
        "# Create a DataFrame\n",
        "import pandas as pd\n",
        "df = pd.DataFrame(data)\n",
        "\n",
        "# Generate a bar plot\n",
        "fig = px.bar(df, x='Category', y='Values', title='Bar Plot Example')\n",
        "\n",
        "# Show the plot\n",
        "fig.show()"
      ],
      "metadata": {
        "colab": {
          "base_uri": "https://localhost:8080/",
          "height": 542
        },
        "id": "opH_ZJD94ZiC",
        "outputId": "93000ae8-8743-4f34-c73b-41e07d359a7d"
      },
      "execution_count": 6,
      "outputs": [
        {
          "output_type": "display_data",
          "data": {
            "text/html": [
              "<html>\n",
              "<head><meta charset=\"utf-8\" /></head>\n",
              "<body>\n",
              "    <div>            <script src=\"https://cdnjs.cloudflare.com/ajax/libs/mathjax/2.7.5/MathJax.js?config=TeX-AMS-MML_SVG\"></script><script type=\"text/javascript\">if (window.MathJax && window.MathJax.Hub && window.MathJax.Hub.Config) {window.MathJax.Hub.Config({SVG: {font: \"STIX-Web\"}});}</script>                <script type=\"text/javascript\">window.PlotlyConfig = {MathJaxConfig: 'local'};</script>\n",
              "        <script charset=\"utf-8\" src=\"https://cdn.plot.ly/plotly-2.35.2.min.js\"></script>                <div id=\"3422c3f0-8f23-4808-8904-4a5e56d57765\" class=\"plotly-graph-div\" style=\"height:525px; width:100%;\"></div>            <script type=\"text/javascript\">                                    window.PLOTLYENV=window.PLOTLYENV || {};                                    if (document.getElementById(\"3422c3f0-8f23-4808-8904-4a5e56d57765\")) {                    Plotly.newPlot(                        \"3422c3f0-8f23-4808-8904-4a5e56d57765\",                        [{\"alignmentgroup\":\"True\",\"hovertemplate\":\"Category=%{x}\\u003cbr\\u003eValues=%{y}\\u003cextra\\u003e\\u003c\\u002fextra\\u003e\",\"legendgroup\":\"\",\"marker\":{\"color\":\"#636efa\",\"pattern\":{\"shape\":\"\"}},\"name\":\"\",\"offsetgroup\":\"\",\"orientation\":\"v\",\"showlegend\":false,\"textposition\":\"auto\",\"x\":[\"A\",\"B\",\"C\",\"D\",\"E\"],\"xaxis\":\"x\",\"y\":[10,15,7,25,30],\"yaxis\":\"y\",\"type\":\"bar\"}],                        {\"template\":{\"data\":{\"histogram2dcontour\":[{\"type\":\"histogram2dcontour\",\"colorbar\":{\"outlinewidth\":0,\"ticks\":\"\"},\"colorscale\":[[0.0,\"#0d0887\"],[0.1111111111111111,\"#46039f\"],[0.2222222222222222,\"#7201a8\"],[0.3333333333333333,\"#9c179e\"],[0.4444444444444444,\"#bd3786\"],[0.5555555555555556,\"#d8576b\"],[0.6666666666666666,\"#ed7953\"],[0.7777777777777778,\"#fb9f3a\"],[0.8888888888888888,\"#fdca26\"],[1.0,\"#f0f921\"]]}],\"choropleth\":[{\"type\":\"choropleth\",\"colorbar\":{\"outlinewidth\":0,\"ticks\":\"\"}}],\"histogram2d\":[{\"type\":\"histogram2d\",\"colorbar\":{\"outlinewidth\":0,\"ticks\":\"\"},\"colorscale\":[[0.0,\"#0d0887\"],[0.1111111111111111,\"#46039f\"],[0.2222222222222222,\"#7201a8\"],[0.3333333333333333,\"#9c179e\"],[0.4444444444444444,\"#bd3786\"],[0.5555555555555556,\"#d8576b\"],[0.6666666666666666,\"#ed7953\"],[0.7777777777777778,\"#fb9f3a\"],[0.8888888888888888,\"#fdca26\"],[1.0,\"#f0f921\"]]}],\"heatmap\":[{\"type\":\"heatmap\",\"colorbar\":{\"outlinewidth\":0,\"ticks\":\"\"},\"colorscale\":[[0.0,\"#0d0887\"],[0.1111111111111111,\"#46039f\"],[0.2222222222222222,\"#7201a8\"],[0.3333333333333333,\"#9c179e\"],[0.4444444444444444,\"#bd3786\"],[0.5555555555555556,\"#d8576b\"],[0.6666666666666666,\"#ed7953\"],[0.7777777777777778,\"#fb9f3a\"],[0.8888888888888888,\"#fdca26\"],[1.0,\"#f0f921\"]]}],\"heatmapgl\":[{\"type\":\"heatmapgl\",\"colorbar\":{\"outlinewidth\":0,\"ticks\":\"\"},\"colorscale\":[[0.0,\"#0d0887\"],[0.1111111111111111,\"#46039f\"],[0.2222222222222222,\"#7201a8\"],[0.3333333333333333,\"#9c179e\"],[0.4444444444444444,\"#bd3786\"],[0.5555555555555556,\"#d8576b\"],[0.6666666666666666,\"#ed7953\"],[0.7777777777777778,\"#fb9f3a\"],[0.8888888888888888,\"#fdca26\"],[1.0,\"#f0f921\"]]}],\"contourcarpet\":[{\"type\":\"contourcarpet\",\"colorbar\":{\"outlinewidth\":0,\"ticks\":\"\"}}],\"contour\":[{\"type\":\"contour\",\"colorbar\":{\"outlinewidth\":0,\"ticks\":\"\"},\"colorscale\":[[0.0,\"#0d0887\"],[0.1111111111111111,\"#46039f\"],[0.2222222222222222,\"#7201a8\"],[0.3333333333333333,\"#9c179e\"],[0.4444444444444444,\"#bd3786\"],[0.5555555555555556,\"#d8576b\"],[0.6666666666666666,\"#ed7953\"],[0.7777777777777778,\"#fb9f3a\"],[0.8888888888888888,\"#fdca26\"],[1.0,\"#f0f921\"]]}],\"surface\":[{\"type\":\"surface\",\"colorbar\":{\"outlinewidth\":0,\"ticks\":\"\"},\"colorscale\":[[0.0,\"#0d0887\"],[0.1111111111111111,\"#46039f\"],[0.2222222222222222,\"#7201a8\"],[0.3333333333333333,\"#9c179e\"],[0.4444444444444444,\"#bd3786\"],[0.5555555555555556,\"#d8576b\"],[0.6666666666666666,\"#ed7953\"],[0.7777777777777778,\"#fb9f3a\"],[0.8888888888888888,\"#fdca26\"],[1.0,\"#f0f921\"]]}],\"mesh3d\":[{\"type\":\"mesh3d\",\"colorbar\":{\"outlinewidth\":0,\"ticks\":\"\"}}],\"scatter\":[{\"fillpattern\":{\"fillmode\":\"overlay\",\"size\":10,\"solidity\":0.2},\"type\":\"scatter\"}],\"parcoords\":[{\"type\":\"parcoords\",\"line\":{\"colorbar\":{\"outlinewidth\":0,\"ticks\":\"\"}}}],\"scatterpolargl\":[{\"type\":\"scatterpolargl\",\"marker\":{\"colorbar\":{\"outlinewidth\":0,\"ticks\":\"\"}}}],\"bar\":[{\"error_x\":{\"color\":\"#2a3f5f\"},\"error_y\":{\"color\":\"#2a3f5f\"},\"marker\":{\"line\":{\"color\":\"#E5ECF6\",\"width\":0.5},\"pattern\":{\"fillmode\":\"overlay\",\"size\":10,\"solidity\":0.2}},\"type\":\"bar\"}],\"scattergeo\":[{\"type\":\"scattergeo\",\"marker\":{\"colorbar\":{\"outlinewidth\":0,\"ticks\":\"\"}}}],\"scatterpolar\":[{\"type\":\"scatterpolar\",\"marker\":{\"colorbar\":{\"outlinewidth\":0,\"ticks\":\"\"}}}],\"histogram\":[{\"marker\":{\"pattern\":{\"fillmode\":\"overlay\",\"size\":10,\"solidity\":0.2}},\"type\":\"histogram\"}],\"scattergl\":[{\"type\":\"scattergl\",\"marker\":{\"colorbar\":{\"outlinewidth\":0,\"ticks\":\"\"}}}],\"scatter3d\":[{\"type\":\"scatter3d\",\"line\":{\"colorbar\":{\"outlinewidth\":0,\"ticks\":\"\"}},\"marker\":{\"colorbar\":{\"outlinewidth\":0,\"ticks\":\"\"}}}],\"scattermapbox\":[{\"type\":\"scattermapbox\",\"marker\":{\"colorbar\":{\"outlinewidth\":0,\"ticks\":\"\"}}}],\"scatterternary\":[{\"type\":\"scatterternary\",\"marker\":{\"colorbar\":{\"outlinewidth\":0,\"ticks\":\"\"}}}],\"scattercarpet\":[{\"type\":\"scattercarpet\",\"marker\":{\"colorbar\":{\"outlinewidth\":0,\"ticks\":\"\"}}}],\"carpet\":[{\"aaxis\":{\"endlinecolor\":\"#2a3f5f\",\"gridcolor\":\"white\",\"linecolor\":\"white\",\"minorgridcolor\":\"white\",\"startlinecolor\":\"#2a3f5f\"},\"baxis\":{\"endlinecolor\":\"#2a3f5f\",\"gridcolor\":\"white\",\"linecolor\":\"white\",\"minorgridcolor\":\"white\",\"startlinecolor\":\"#2a3f5f\"},\"type\":\"carpet\"}],\"table\":[{\"cells\":{\"fill\":{\"color\":\"#EBF0F8\"},\"line\":{\"color\":\"white\"}},\"header\":{\"fill\":{\"color\":\"#C8D4E3\"},\"line\":{\"color\":\"white\"}},\"type\":\"table\"}],\"barpolar\":[{\"marker\":{\"line\":{\"color\":\"#E5ECF6\",\"width\":0.5},\"pattern\":{\"fillmode\":\"overlay\",\"size\":10,\"solidity\":0.2}},\"type\":\"barpolar\"}],\"pie\":[{\"automargin\":true,\"type\":\"pie\"}]},\"layout\":{\"autotypenumbers\":\"strict\",\"colorway\":[\"#636efa\",\"#EF553B\",\"#00cc96\",\"#ab63fa\",\"#FFA15A\",\"#19d3f3\",\"#FF6692\",\"#B6E880\",\"#FF97FF\",\"#FECB52\"],\"font\":{\"color\":\"#2a3f5f\"},\"hovermode\":\"closest\",\"hoverlabel\":{\"align\":\"left\"},\"paper_bgcolor\":\"white\",\"plot_bgcolor\":\"#E5ECF6\",\"polar\":{\"bgcolor\":\"#E5ECF6\",\"angularaxis\":{\"gridcolor\":\"white\",\"linecolor\":\"white\",\"ticks\":\"\"},\"radialaxis\":{\"gridcolor\":\"white\",\"linecolor\":\"white\",\"ticks\":\"\"}},\"ternary\":{\"bgcolor\":\"#E5ECF6\",\"aaxis\":{\"gridcolor\":\"white\",\"linecolor\":\"white\",\"ticks\":\"\"},\"baxis\":{\"gridcolor\":\"white\",\"linecolor\":\"white\",\"ticks\":\"\"},\"caxis\":{\"gridcolor\":\"white\",\"linecolor\":\"white\",\"ticks\":\"\"}},\"coloraxis\":{\"colorbar\":{\"outlinewidth\":0,\"ticks\":\"\"}},\"colorscale\":{\"sequential\":[[0.0,\"#0d0887\"],[0.1111111111111111,\"#46039f\"],[0.2222222222222222,\"#7201a8\"],[0.3333333333333333,\"#9c179e\"],[0.4444444444444444,\"#bd3786\"],[0.5555555555555556,\"#d8576b\"],[0.6666666666666666,\"#ed7953\"],[0.7777777777777778,\"#fb9f3a\"],[0.8888888888888888,\"#fdca26\"],[1.0,\"#f0f921\"]],\"sequentialminus\":[[0.0,\"#0d0887\"],[0.1111111111111111,\"#46039f\"],[0.2222222222222222,\"#7201a8\"],[0.3333333333333333,\"#9c179e\"],[0.4444444444444444,\"#bd3786\"],[0.5555555555555556,\"#d8576b\"],[0.6666666666666666,\"#ed7953\"],[0.7777777777777778,\"#fb9f3a\"],[0.8888888888888888,\"#fdca26\"],[1.0,\"#f0f921\"]],\"diverging\":[[0,\"#8e0152\"],[0.1,\"#c51b7d\"],[0.2,\"#de77ae\"],[0.3,\"#f1b6da\"],[0.4,\"#fde0ef\"],[0.5,\"#f7f7f7\"],[0.6,\"#e6f5d0\"],[0.7,\"#b8e186\"],[0.8,\"#7fbc41\"],[0.9,\"#4d9221\"],[1,\"#276419\"]]},\"xaxis\":{\"gridcolor\":\"white\",\"linecolor\":\"white\",\"ticks\":\"\",\"title\":{\"standoff\":15},\"zerolinecolor\":\"white\",\"automargin\":true,\"zerolinewidth\":2},\"yaxis\":{\"gridcolor\":\"white\",\"linecolor\":\"white\",\"ticks\":\"\",\"title\":{\"standoff\":15},\"zerolinecolor\":\"white\",\"automargin\":true,\"zerolinewidth\":2},\"scene\":{\"xaxis\":{\"backgroundcolor\":\"#E5ECF6\",\"gridcolor\":\"white\",\"linecolor\":\"white\",\"showbackground\":true,\"ticks\":\"\",\"zerolinecolor\":\"white\",\"gridwidth\":2},\"yaxis\":{\"backgroundcolor\":\"#E5ECF6\",\"gridcolor\":\"white\",\"linecolor\":\"white\",\"showbackground\":true,\"ticks\":\"\",\"zerolinecolor\":\"white\",\"gridwidth\":2},\"zaxis\":{\"backgroundcolor\":\"#E5ECF6\",\"gridcolor\":\"white\",\"linecolor\":\"white\",\"showbackground\":true,\"ticks\":\"\",\"zerolinecolor\":\"white\",\"gridwidth\":2}},\"shapedefaults\":{\"line\":{\"color\":\"#2a3f5f\"}},\"annotationdefaults\":{\"arrowcolor\":\"#2a3f5f\",\"arrowhead\":0,\"arrowwidth\":1},\"geo\":{\"bgcolor\":\"white\",\"landcolor\":\"#E5ECF6\",\"subunitcolor\":\"white\",\"showland\":true,\"showlakes\":true,\"lakecolor\":\"white\"},\"title\":{\"x\":0.05},\"mapbox\":{\"style\":\"light\"}}},\"xaxis\":{\"anchor\":\"y\",\"domain\":[0.0,1.0],\"title\":{\"text\":\"Category\"}},\"yaxis\":{\"anchor\":\"x\",\"domain\":[0.0,1.0],\"title\":{\"text\":\"Values\"}},\"legend\":{\"tracegroupgap\":0},\"title\":{\"text\":\"Bar Plot Example\"},\"barmode\":\"relative\"},                        {\"responsive\": true}                    ).then(function(){\n",
              "                            \n",
              "var gd = document.getElementById('3422c3f0-8f23-4808-8904-4a5e56d57765');\n",
              "var x = new MutationObserver(function (mutations, observer) {{\n",
              "        var display = window.getComputedStyle(gd).display;\n",
              "        if (!display || display === 'none') {{\n",
              "            console.log([gd, 'removed!']);\n",
              "            Plotly.purge(gd);\n",
              "            observer.disconnect();\n",
              "        }}\n",
              "}});\n",
              "\n",
              "// Listen for the removal of the full notebook cells\n",
              "var notebookContainer = gd.closest('#notebook-container');\n",
              "if (notebookContainer) {{\n",
              "    x.observe(notebookContainer, {childList: true});\n",
              "}}\n",
              "\n",
              "// Listen for the clearing of the current output cell\n",
              "var outputEl = gd.closest('.output');\n",
              "if (outputEl) {{\n",
              "    x.observe(outputEl, {childList: true});\n",
              "}}\n",
              "\n",
              "                        })                };                            </script>        </div>\n",
              "</body>\n",
              "</html>"
            ]
          },
          "metadata": {}
        }
      ]
    },
    {
      "cell_type": "markdown",
      "source": [
        "6. Create a DataFrame and add a new column based on an existing column"
      ],
      "metadata": {
        "id": "S0yVwrVG4gaY"
      }
    },
    {
      "cell_type": "code",
      "source": [
        "import pandas as pd\n",
        "\n",
        "# Create a DataFrame\n",
        "data = {\n",
        "    'A': [10, 20, 30, 40, 50],\n",
        "    'B': [5, 10, 15, 20, 25]\n",
        "}\n",
        "\n",
        "df = pd.DataFrame(data)\n",
        "\n",
        "# Add a new column 'C' based on column 'A'\n",
        "df['C'] = df['A'] * 2  # New column is 2 times the values in column 'A'\n",
        "\n",
        "# Display the DataFrame\n",
        "print(df)"
      ],
      "metadata": {
        "colab": {
          "base_uri": "https://localhost:8080/"
        },
        "id": "mCp2Werw4jgX",
        "outputId": "273eeb32-2a2d-49c1-c8f7-7c1d93e21a5e"
      },
      "execution_count": 7,
      "outputs": [
        {
          "output_type": "stream",
          "name": "stdout",
          "text": [
            "    A   B    C\n",
            "0  10   5   20\n",
            "1  20  10   40\n",
            "2  30  15   60\n",
            "3  40  20   80\n",
            "4  50  25  100\n"
          ]
        }
      ]
    },
    {
      "cell_type": "markdown",
      "source": [
        "7. Write a program to perform element-wise multiplication of two NumPy arrays?"
      ],
      "metadata": {
        "id": "OGqriotN4m0r"
      }
    },
    {
      "cell_type": "code",
      "source": [
        "import numpy as np\n",
        "\n",
        "# Create two NumPy arrays\n",
        "arr1 = np.array([1, 2, 3, 4])\n",
        "arr2 = np.array([5, 6, 7, 8])\n",
        "\n",
        "# Perform element-wise multiplication\n",
        "result = arr1 * arr2\n",
        "\n",
        "# Print the result\n",
        "print(result)"
      ],
      "metadata": {
        "colab": {
          "base_uri": "https://localhost:8080/"
        },
        "id": "LrTD6Mme4oq0",
        "outputId": "9521d5d3-524e-434b-ae09-48f723761794"
      },
      "execution_count": 8,
      "outputs": [
        {
          "output_type": "stream",
          "name": "stdout",
          "text": [
            "[ 5 12 21 32]\n"
          ]
        }
      ]
    },
    {
      "cell_type": "markdown",
      "source": [
        "8. Create a line plot with multiple lines using Matplotlib?"
      ],
      "metadata": {
        "id": "GpdIH-Fy4uTl"
      }
    },
    {
      "cell_type": "code",
      "source": [
        "import matplotlib.pyplot as plt\n",
        "\n",
        "# Sample data for multiple lines\n",
        "x = [1, 2, 3, 4, 5]\n",
        "y1 = [1, 4, 9, 16, 25]\n",
        "y2 = [2, 3, 5, 7, 11]\n",
        "\n",
        "# Create a line plot with two lines\n",
        "plt.plot(x, y1, label='y = x^2', marker='o')  # First line\n",
        "plt.plot(x, y2, label='Prime numbers', marker='x')  # Second line\n",
        "\n",
        "# Add labels and title\n",
        "plt.xlabel('X Axis')\n",
        "plt.ylabel('Y Axis')\n",
        "plt.title('Multiple Line Plot')\n",
        "\n",
        "# Add a legend\n",
        "plt.legend()\n",
        "\n",
        "# Show the plot\n",
        "plt.show()"
      ],
      "metadata": {
        "colab": {
          "base_uri": "https://localhost:8080/",
          "height": 472
        },
        "id": "d83pXu-64xRs",
        "outputId": "ce658675-6140-44d2-f992-a97632d17013"
      },
      "execution_count": 9,
      "outputs": [
        {
          "output_type": "display_data",
          "data": {
            "text/plain": [
              "<Figure size 640x480 with 1 Axes>"
            ],
            "image/png": "[encoded data removed]"
          },
          "metadata": {}
        }
      ]
    },
    {
      "cell_type": "markdown",
      "source": [
        "9. Generate a Pandas DataFrame and filter rows where a column value is greater than a threshold."
      ],
      "metadata": {
        "id": "b5TnoWE741CF"
      }
    },
    {
      "cell_type": "code",
      "source": [
        "import pandas as pd\n",
        "\n",
        "# Create a DataFrame\n",
        "data = {\n",
        "    'A': [10, 20, 30, 40, 50],\n",
        "    'B': [5, 15, 25, 35, 45]\n",
        "}\n",
        "\n",
        "df = pd.DataFrame(data)\n",
        "\n",
        "# Define a threshold\n",
        "threshold = 25\n",
        "\n",
        "# Filter rows where column 'A' is greater than the threshold\n",
        "filtered_df = df[df['A'] > threshold]\n",
        "\n",
        "# Display the filtered DataFrame\n",
        "print(filtered_df)"
      ],
      "metadata": {
        "colab": {
          "base_uri": "https://localhost:8080/"
        },
        "id": "rLCr32Oa44cN",
        "outputId": "5934f68a-5a52-4c49-a674-e7ca16426b91"
      },
      "execution_count": 10,
      "outputs": [
        {
          "output_type": "stream",
          "name": "stdout",
          "text": [
            "    A   B\n",
            "2  30  25\n",
            "3  40  35\n",
            "4  50  45\n"
          ]
        }
      ]
    },
    {
      "cell_type": "markdown",
      "source": [
        "10. Create a histogram using Seaborn to visualize a distribution?"
      ],
      "metadata": {
        "id": "m9wux8Gv46p2"
      }
    },
    {
      "cell_type": "code",
      "source": [
        "import seaborn as sns\n",
        "import matplotlib.pyplot as plt\n",
        "\n",
        "# Sample data\n",
        "data = [1, 2, 2, 3, 3, 3, 4, 4, 4, 4, 5, 5, 5, 5, 5]\n",
        "\n",
        "# Create a Seaborn histogram\n",
        "sns.histplot(data, bins=5, kde=True, color='blue')\n",
        "\n",
        "# Add labels and title\n",
        "plt.xlabel('Value')\n",
        "plt.ylabel('Frequency')\n",
        "plt.title('Histogram of Data Distribution')\n",
        "\n",
        "# Show the plot\n",
        "plt.show()"
      ],
      "metadata": {
        "colab": {
          "base_uri": "https://localhost:8080/",
          "height": 472
        },
        "id": "--pJVX_F48Tu",
        "outputId": "5089b8e5-dafb-42c1-e263-6ea4063db78a"
      },
      "execution_count": 11,
      "outputs": [
        {
          "output_type": "display_data",
          "data": {
            "text/plain": [
              "<Figure size 640x480 with 1 Axes>"
            ],
            "image/png": "[encoded data removed]"
          },
          "metadata": {}
        }
      ]
    },
    {
      "cell_type": "markdown",
      "source": [
        "11. Perform matrix multiplication using NumPy?"
      ],
      "metadata": {
        "id": "hsbI_9AU5Bsf"
      }
    },
    {
      "cell_type": "code",
      "source": [
        "import numpy as np\n",
        "\n",
        "# Define two matrices (2D arrays)\n",
        "A = np.array([[1, 2], [3, 4]])\n",
        "B = np.array([[5, 6], [7, 8]])\n",
        "\n",
        "# Perform matrix multiplication using np.dot()\n",
        "result = np.dot(A, B)\n",
        "\n",
        "# Alternatively, you can use the @ operator (Python 3.5+)\n",
        "# result = A @ B\n",
        "\n",
        "# Display the result\n",
        "print(result)"
      ],
      "metadata": {
        "colab": {
          "base_uri": "https://localhost:8080/"
        },
        "id": "x_ECSSKU5DNy",
        "outputId": "ed68f0e0-a6f0-451a-d2b3-30b0a3de6355"
      },
      "execution_count": 12,
      "outputs": [
        {
          "output_type": "stream",
          "name": "stdout",
          "text": [
            "[[19 22]\n",
            " [43 50]]\n"
          ]
        }
      ]
    },
    {
      "cell_type": "markdown",
      "source": [
        "12.  Use Pandas to load a CSV file and display its first 5 rows?"
      ],
      "metadata": {
        "id": "ZCVOhbiO5KzR"
      }
    },
    {
      "cell_type": "code",
      "source": [
        "import pandas as pd\n",
        "\n",
        "# Load the CSV file\n",
        "df = pd.read_csv('your_file.csv')  # Replace 'your_file.csv' with your actual file path\n",
        "\n",
        "# Display the first 5 rows of the DataFrame\n",
        "print(df.head())"
      ],
      "metadata": {
        "id": "dvxjJde85Z2C"
      },
      "execution_count": null,
      "outputs": []
    },
    {
      "cell_type": "markdown",
      "source": [
        "13. Create a 3D scatter plot using Plotly."
      ],
      "metadata": {
        "id": "Ga8xQYXx5SLW"
      }
    },
    {
      "cell_type": "code",
      "source": [
        "import plotly.express as px\n",
        "import pandas as pd\n",
        "\n",
        "# Sample data\n",
        "data = {\n",
        "    'X': [1, 2, 3, 4, 5],\n",
        "    'Y': [5, 6, 7, 8, 9],\n",
        "    'Z': [10, 11, 12, 13, 14],\n",
        "}\n",
        "\n",
        "# Create a DataFrame\n",
        "df = pd.DataFrame(data)\n",
        "\n",
        "# Create a 3D scatter plot\n",
        "fig = px.scatter_3d(df, x='X', y='Y', z='Z', title='3D Scatter Plot Example')\n",
        "\n",
        "# Show the plot\n",
        "fig.show()"
      ],
      "metadata": {
        "colab": {
          "base_uri": "https://localhost:8080/",
          "height": 542
        },
        "id": "DEFAINv95TET",
        "outputId": "47e916bd-1294-413f-8f69-abf503ab305f"
      },
      "execution_count": 14,
      "outputs": [
        {
          "output_type": "display_data",
          "data": {
            "text/html": [
              "<html>\n",
              "<head><meta charset=\"utf-8\" /></head>\n",
              "<body>\n",
              "    <div>            <script src=\"https://cdnjs.cloudflare.com/ajax/libs/mathjax/2.7.5/MathJax.js?config=TeX-AMS-MML_SVG\"></script><script type=\"text/javascript\">if (window.MathJax && window.MathJax.Hub && window.MathJax.Hub.Config) {window.MathJax.Hub.Config({SVG: {font: \"STIX-Web\"}});}</script>                <script type=\"text/javascript\">window.PlotlyConfig = {MathJaxConfig: 'local'};</script>\n",
              "        <script charset=\"utf-8\" src=\"https://cdn.plot.ly/plotly-2.35.2.min.js\"></script>                <div id=\"eb7f0494-752b-4dcc-bd81-7ac873118218\" class=\"plotly-graph-div\" style=\"height:525px; width:100%;\"></div>            <script type=\"text/javascript\">                                    window.PLOTLYENV=window.PLOTLYENV || {};                                    if (document.getElementById(\"eb7f0494-752b-4dcc-bd81-7ac873118218\")) {                    Plotly.newPlot(                        \"eb7f0494-752b-4dcc-bd81-7ac873118218\",                        [{\"hovertemplate\":\"X=%{x}\\u003cbr\\u003eY=%{y}\\u003cbr\\u003eZ=%{z}\\u003cextra\\u003e\\u003c\\u002fextra\\u003e\",\"legendgroup\":\"\",\"marker\":{\"color\":\"#636efa\",\"symbol\":\"circle\"},\"mode\":\"markers\",\"name\":\"\",\"scene\":\"scene\",\"showlegend\":false,\"x\":[1,2,3,4,5],\"y\":[5,6,7,8,9],\"z\":[10,11,12,13,14],\"type\":\"scatter3d\"}],                        {\"template\":{\"data\":{\"histogram2dcontour\":[{\"type\":\"histogram2dcontour\",\"colorbar\":{\"outlinewidth\":0,\"ticks\":\"\"},\"colorscale\":[[0.0,\"#0d0887\"],[0.1111111111111111,\"#46039f\"],[0.2222222222222222,\"#7201a8\"],[0.3333333333333333,\"#9c179e\"],[0.4444444444444444,\"#bd3786\"],[0.5555555555555556,\"#d8576b\"],[0.6666666666666666,\"#ed7953\"],[0.7777777777777778,\"#fb9f3a\"],[0.8888888888888888,\"#fdca26\"],[1.0,\"#f0f921\"]]}],\"choropleth\":[{\"type\":\"choropleth\",\"colorbar\":{\"outlinewidth\":0,\"ticks\":\"\"}}],\"histogram2d\":[{\"type\":\"histogram2d\",\"colorbar\":{\"outlinewidth\":0,\"ticks\":\"\"},\"colorscale\":[[0.0,\"#0d0887\"],[0.1111111111111111,\"#46039f\"],[0.2222222222222222,\"#7201a8\"],[0.3333333333333333,\"#9c179e\"],[0.4444444444444444,\"#bd3786\"],[0.5555555555555556,\"#d8576b\"],[0.6666666666666666,\"#ed7953\"],[0.7777777777777778,\"#fb9f3a\"],[0.8888888888888888,\"#fdca26\"],[1.0,\"#f0f921\"]]}],\"heatmap\":[{\"type\":\"heatmap\",\"colorbar\":{\"outlinewidth\":0,\"ticks\":\"\"},\"colorscale\":[[0.0,\"#0d0887\"],[0.1111111111111111,\"#46039f\"],[0.2222222222222222,\"#7201a8\"],[0.3333333333333333,\"#9c179e\"],[0.4444444444444444,\"#bd3786\"],[0.5555555555555556,\"#d8576b\"],[0.6666666666666666,\"#ed7953\"],[0.7777777777777778,\"#fb9f3a\"],[0.8888888888888888,\"#fdca26\"],[1.0,\"#f0f921\"]]}],\"heatmapgl\":[{\"type\":\"heatmapgl\",\"colorbar\":{\"outlinewidth\":0,\"ticks\":\"\"},\"colorscale\":[[0.0,\"#0d0887\"],[0.1111111111111111,\"#46039f\"],[0.2222222222222222,\"#7201a8\"],[0.3333333333333333,\"#9c179e\"],[0.4444444444444444,\"#bd3786\"],[0.5555555555555556,\"#d8576b\"],[0.6666666666666666,\"#ed7953\"],[0.7777777777777778,\"#fb9f3a\"],[0.8888888888888888,\"#fdca26\"],[1.0,\"#f0f921\"]]}],\"contourcarpet\":[{\"type\":\"contourcarpet\",\"colorbar\":{\"outlinewidth\":0,\"ticks\":\"\"}}],\"contour\":[{\"type\":\"contour\",\"colorbar\":{\"outlinewidth\":0,\"ticks\":\"\"},\"colorscale\":[[0.0,\"#0d0887\"],[0.1111111111111111,\"#46039f\"],[0.2222222222222222,\"#7201a8\"],[0.3333333333333333,\"#9c179e\"],[0.4444444444444444,\"#bd3786\"],[0.5555555555555556,\"#d8576b\"],[0.6666666666666666,\"#ed7953\"],[0.7777777777777778,\"#fb9f3a\"],[0.8888888888888888,\"#fdca26\"],[1.0,\"#f0f921\"]]}],\"surface\":[{\"type\":\"surface\",\"colorbar\":{\"outlinewidth\":0,\"ticks\":\"\"},\"colorscale\":[[0.0,\"#0d0887\"],[0.1111111111111111,\"#46039f\"],[0.2222222222222222,\"#7201a8\"],[0.3333333333333333,\"#9c179e\"],[0.4444444444444444,\"#bd3786\"],[0.5555555555555556,\"#d8576b\"],[0.6666666666666666,\"#ed7953\"],[0.7777777777777778,\"#fb9f3a\"],[0.8888888888888888,\"#fdca26\"],[1.0,\"#f0f921\"]]}],\"mesh3d\":[{\"type\":\"mesh3d\",\"colorbar\":{\"outlinewidth\":0,\"ticks\":\"\"}}],\"scatter\":[{\"fillpattern\":{\"fillmode\":\"overlay\",\"size\":10,\"solidity\":0.2},\"type\":\"scatter\"}],\"parcoords\":[{\"type\":\"parcoords\",\"line\":{\"colorbar\":{\"outlinewidth\":0,\"ticks\":\"\"}}}],\"scatterpolargl\":[{\"type\":\"scatterpolargl\",\"marker\":{\"colorbar\":{\"outlinewidth\":0,\"ticks\":\"\"}}}],\"bar\":[{\"error_x\":{\"color\":\"#2a3f5f\"},\"error_y\":{\"color\":\"#2a3f5f\"},\"marker\":{\"line\":{\"color\":\"#E5ECF6\",\"width\":0.5},\"pattern\":{\"fillmode\":\"overlay\",\"size\":10,\"solidity\":0.2}},\"type\":\"bar\"}],\"scattergeo\":[{\"type\":\"scattergeo\",\"marker\":{\"colorbar\":{\"outlinewidth\":0,\"ticks\":\"\"}}}],\"scatterpolar\":[{\"type\":\"scatterpolar\",\"marker\":{\"colorbar\":{\"outlinewidth\":0,\"ticks\":\"\"}}}],\"histogram\":[{\"marker\":{\"pattern\":{\"fillmode\":\"overlay\",\"size\":10,\"solidity\":0.2}},\"type\":\"histogram\"}],\"scattergl\":[{\"type\":\"scattergl\",\"marker\":{\"colorbar\":{\"outlinewidth\":0,\"ticks\":\"\"}}}],\"scatter3d\":[{\"type\":\"scatter3d\",\"line\":{\"colorbar\":{\"outlinewidth\":0,\"ticks\":\"\"}},\"marker\":{\"colorbar\":{\"outlinewidth\":0,\"ticks\":\"\"}}}],\"scattermapbox\":[{\"type\":\"scattermapbox\",\"marker\":{\"colorbar\":{\"outlinewidth\":0,\"ticks\":\"\"}}}],\"scatterternary\":[{\"type\":\"scatterternary\",\"marker\":{\"colorbar\":{\"outlinewidth\":0,\"ticks\":\"\"}}}],\"scattercarpet\":[{\"type\":\"scattercarpet\",\"marker\":{\"colorbar\":{\"outlinewidth\":0,\"ticks\":\"\"}}}],\"carpet\":[{\"aaxis\":{\"endlinecolor\":\"#2a3f5f\",\"gridcolor\":\"white\",\"linecolor\":\"white\",\"minorgridcolor\":\"white\",\"startlinecolor\":\"#2a3f5f\"},\"baxis\":{\"endlinecolor\":\"#2a3f5f\",\"gridcolor\":\"white\",\"linecolor\":\"white\",\"minorgridcolor\":\"white\",\"startlinecolor\":\"#2a3f5f\"},\"type\":\"carpet\"}],\"table\":[{\"cells\":{\"fill\":{\"color\":\"#EBF0F8\"},\"line\":{\"color\":\"white\"}},\"header\":{\"fill\":{\"color\":\"#C8D4E3\"},\"line\":{\"color\":\"white\"}},\"type\":\"table\"}],\"barpolar\":[{\"marker\":{\"line\":{\"color\":\"#E5ECF6\",\"width\":0.5},\"pattern\":{\"fillmode\":\"overlay\",\"size\":10,\"solidity\":0.2}},\"type\":\"barpolar\"}],\"pie\":[{\"automargin\":true,\"type\":\"pie\"}]},\"layout\":{\"autotypenumbers\":\"strict\",\"colorway\":[\"#636efa\",\"#EF553B\",\"#00cc96\",\"#ab63fa\",\"#FFA15A\",\"#19d3f3\",\"#FF6692\",\"#B6E880\",\"#FF97FF\",\"#FECB52\"],\"font\":{\"color\":\"#2a3f5f\"},\"hovermode\":\"closest\",\"hoverlabel\":{\"align\":\"left\"},\"paper_bgcolor\":\"white\",\"plot_bgcolor\":\"#E5ECF6\",\"polar\":{\"bgcolor\":\"#E5ECF6\",\"angularaxis\":{\"gridcolor\":\"white\",\"linecolor\":\"white\",\"ticks\":\"\"},\"radialaxis\":{\"gridcolor\":\"white\",\"linecolor\":\"white\",\"ticks\":\"\"}},\"ternary\":{\"bgcolor\":\"#E5ECF6\",\"aaxis\":{\"gridcolor\":\"white\",\"linecolor\":\"white\",\"ticks\":\"\"},\"baxis\":{\"gridcolor\":\"white\",\"linecolor\":\"white\",\"ticks\":\"\"},\"caxis\":{\"gridcolor\":\"white\",\"linecolor\":\"white\",\"ticks\":\"\"}},\"coloraxis\":{\"colorbar\":{\"outlinewidth\":0,\"ticks\":\"\"}},\"colorscale\":{\"sequential\":[[0.0,\"#0d0887\"],[0.1111111111111111,\"#46039f\"],[0.2222222222222222,\"#7201a8\"],[0.3333333333333333,\"#9c179e\"],[0.4444444444444444,\"#bd3786\"],[0.5555555555555556,\"#d8576b\"],[0.6666666666666666,\"#ed7953\"],[0.7777777777777778,\"#fb9f3a\"],[0.8888888888888888,\"#fdca26\"],[1.0,\"#f0f921\"]],\"sequentialminus\":[[0.0,\"#0d0887\"],[0.1111111111111111,\"#46039f\"],[0.2222222222222222,\"#7201a8\"],[0.3333333333333333,\"#9c179e\"],[0.4444444444444444,\"#bd3786\"],[0.5555555555555556,\"#d8576b\"],[0.6666666666666666,\"#ed7953\"],[0.7777777777777778,\"#fb9f3a\"],[0.8888888888888888,\"#fdca26\"],[1.0,\"#f0f921\"]],\"diverging\":[[0,\"#8e0152\"],[0.1,\"#c51b7d\"],[0.2,\"#de77ae\"],[0.3,\"#f1b6da\"],[0.4,\"#fde0ef\"],[0.5,\"#f7f7f7\"],[0.6,\"#e6f5d0\"],[0.7,\"#b8e186\"],[0.8,\"#7fbc41\"],[0.9,\"#4d9221\"],[1,\"#276419\"]]},\"xaxis\":{\"gridcolor\":\"white\",\"linecolor\":\"white\",\"ticks\":\"\",\"title\":{\"standoff\":15},\"zerolinecolor\":\"white\",\"automargin\":true,\"zerolinewidth\":2},\"yaxis\":{\"gridcolor\":\"white\",\"linecolor\":\"white\",\"ticks\":\"\",\"title\":{\"standoff\":15},\"zerolinecolor\":\"white\",\"automargin\":true,\"zerolinewidth\":2},\"scene\":{\"xaxis\":{\"backgroundcolor\":\"#E5ECF6\",\"gridcolor\":\"white\",\"linecolor\":\"white\",\"showbackground\":true,\"ticks\":\"\",\"zerolinecolor\":\"white\",\"gridwidth\":2},\"yaxis\":{\"backgroundcolor\":\"#E5ECF6\",\"gridcolor\":\"white\",\"linecolor\":\"white\",\"showbackground\":true,\"ticks\":\"\",\"zerolinecolor\":\"white\",\"gridwidth\":2},\"zaxis\":{\"backgroundcolor\":\"#E5ECF6\",\"gridcolor\":\"white\",\"linecolor\":\"white\",\"showbackground\":true,\"ticks\":\"\",\"zerolinecolor\":\"white\",\"gridwidth\":2}},\"shapedefaults\":{\"line\":{\"color\":\"#2a3f5f\"}},\"annotationdefaults\":{\"arrowcolor\":\"#2a3f5f\",\"arrowhead\":0,\"arrowwidth\":1},\"geo\":{\"bgcolor\":\"white\",\"landcolor\":\"#E5ECF6\",\"subunitcolor\":\"white\",\"showland\":true,\"showlakes\":true,\"lakecolor\":\"white\"},\"title\":{\"x\":0.05},\"mapbox\":{\"style\":\"light\"}}},\"scene\":{\"domain\":{\"x\":[0.0,1.0],\"y\":[0.0,1.0]},\"xaxis\":{\"title\":{\"text\":\"X\"}},\"yaxis\":{\"title\":{\"text\":\"Y\"}},\"zaxis\":{\"title\":{\"text\":\"Z\"}}},\"legend\":{\"tracegroupgap\":0},\"title\":{\"text\":\"3D Scatter Plot Example\"}},                        {\"responsive\": true}                    ).then(function(){\n",
              "                            \n",
              "var gd = document.getElementById('eb7f0494-752b-4dcc-bd81-7ac873118218');\n",
              "var x = new MutationObserver(function (mutations, observer) {{\n",
              "        var display = window.getComputedStyle(gd).display;\n",
              "        if (!display || display === 'none') {{\n",
              "            console.log([gd, 'removed!']);\n",
              "            Plotly.purge(gd);\n",
              "            observer.disconnect();\n",
              "        }}\n",
              "}});\n",
              "\n",
              "// Listen for the removal of the full notebook cells\n",
              "var notebookContainer = gd.closest('#notebook-container');\n",
              "if (notebookContainer) {{\n",
              "    x.observe(notebookContainer, {childList: true});\n",
              "}}\n",
              "\n",
              "// Listen for the clearing of the current output cell\n",
              "var outputEl = gd.closest('.output');\n",
              "if (outputEl) {{\n",
              "    x.observe(outputEl, {childList: true});\n",
              "}}\n",
              "\n",
              "                        })                };                            </script>        </div>\n",
              "</body>\n",
              "</html>"
            ]
          },
          "metadata": {}
        }
      ]
    }
  ]
}