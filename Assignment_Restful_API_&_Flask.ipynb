{
  "nbformat": 4,
  "nbformat_minor": 0,
  "metadata": {
    "colab": {
      "provenance": []
    },
    "kernelspec": {
      "name": "python3",
      "display_name": "Python 3"
    },
    "language_info": {
      "name": "python"
    }
  },
  "cells": [
    {
      "cell_type": "markdown",
      "source": [
        "1. What is a RESTful API?\n",
        "\n",
        "Ans. A RESTful API is a web service that lets different systems communicate over HTTP by following REST principles. It uses standard HTTP methods like:\n",
        "\n",
        "GET (read data)\n",
        "\n",
        "POST (create data)\n",
        "\n",
        "PUT/PATCH (update data)\n",
        "\n",
        "DELETE (remove data)\n",
        "\n",
        "Data is usually sent in JSON format, and each resource (like a user or product) is accessed via a unique URL.\n",
        "\n",
        "Example:\n",
        "GET /users/123 → Get data for user with ID 123.\n",
        "\n",
        "It’s stateless, easy to use, and widely used in web and mobile apps."
      ],
      "metadata": {
        "id": "cDjqdg2KmQ8z"
      }
    },
    {
      "cell_type": "markdown",
      "source": [
        "2. Explain the concept of API specification?\n",
        "\n",
        "Ans. An API specification is a detailed description of how an API works. It defines the rules, structure, and behavior of the API so that developers know how to use it and what to expect in return.\n",
        "\n",
        "🔹 Key Parts of an API Specification:\n",
        "Endpoints\n",
        "The URLs used to access resources.\n",
        "Example: GET /users/{id}\n",
        "\n",
        "HTTP Methods\n",
        "\n",
        "What actions can be performed: GET, POST, PUT, DELETE, etc.\n",
        "\n",
        "Request Parameters\n",
        "Inputs the API accepts — like path variables, query parameters, or JSON in the body.\n",
        "\n",
        "Response Format\n",
        "\n",
        "The structure of the data returned, usually in JSON.\n",
        "\n",
        "Status Codes\n",
        "\n",
        "HTTP codes that show the result (e.g., 200 OK, 404 Not Found).\n",
        "\n",
        "Authentication\n",
        "\n",
        "How users are authorized (e.g., API keys, tokens, OAuth).\n",
        "\n",
        "🔹 Why API Specifications Matter:\n",
        "Consistency – Everyone follows the same rules.\n",
        "\n",
        "Documentation – Makes APIs easier to understand and use.\n",
        "\n",
        "Automation – Tools like Swagger/OpenAPI can generate docs, tests, and client code from specs.\n",
        "\n",
        "🔹 Example (OpenAPI/Swagger Format)\n",
        "\n",
        "    paths:\n",
        "      /users/{id}:\n",
        "    get:\n",
        "      summary: Get a user by ID\n",
        "      parameters:\n",
        "        - name: id\n",
        "          in: path\n",
        "          required: true\n",
        "          type: integer\n",
        "      responses:\n",
        "        200:\n",
        "          description: User found\n"
      ],
      "metadata": {
        "id": "fsK6G1b5mbex"
      }
    },
    {
      "cell_type": "markdown",
      "source": [
        "3. What is Flask, and why is it popular for building APIs?\n",
        "\n",
        "Ans. Flask is a lightweight Python web framework used to build web applications and APIs. It's popular because:\n",
        "\n",
        "🔹 Why Flask is Popular for APIs:\n",
        "Simple and Minimal\n",
        "Easy to learn and use — great for small projects or quick prototypes.\n",
        "\n",
        "Flexible\n",
        "No strict rules — you can structure your app how you like.\n",
        "\n",
        "Built-in Tools\n",
        "Comes with tools for routing, request handling, and JSON support out of the box.\n",
        "\n",
        "Large Ecosystem\n",
        "Supports many extensions (e.g., Flask-RESTful, Flask-JWT) for authentication, databases, etc.\n",
        "\n",
        "Good for REST APIs\n",
        "Flask makes it easy to define RESTful endpoints with just a few lines of code.\n",
        "\n",
        "🔹 Example (Simple Flask API)\n",
        "\n",
        "    from flask import Flask, jsonify\n",
        "\n",
        "    app = Flask(__name__)\n",
        "\n",
        "    @app.route('/hello')\n",
        "    def hello():\n",
        "      return jsonify(message=\"Hello, API!\")\n",
        "\n",
        "    if __name__ == '__main__':\n",
        "      app.run()"
      ],
      "metadata": {
        "id": "cZN7BMfgmgAj"
      }
    },
    {
      "cell_type": "markdown",
      "source": [
        "4. What is routing in Flask?\n",
        "\n",
        "Ans. Routing in Flask maps URLs to Python functions. When a user visits a specific URL, Flask runs the matching function.\n",
        "\n",
        "🔹 Example:\n",
        "\n",
        "    @app.route('/hello')\n",
        "    def hello():\n",
        "      return 'Hello, World!'\n",
        "Visiting /hello runs the hello() function."
      ],
      "metadata": {
        "id": "oCGy5NwBm-1k"
      }
    },
    {
      "cell_type": "markdown",
      "source": [
        "5. How do you create a simple Flask application.\n",
        "\n",
        "Ans.\n",
        "\n",
        "1. Install Flask\n",
        "\n",
        "pip install flask\n",
        "\n",
        "2. Create app.py\n",
        "\n",
        "\n",
        "    from flask import Flask\n",
        "    app = Flask(__name__)\n",
        "\n",
        "    @app.route('/')\n",
        "    def home():\n",
        "      return 'Hello, Flask!'\n",
        "\n",
        "    if __name__ == '__main__':\n",
        "      app.run()\n",
        "\n",
        "3. Run it\n",
        "\n",
        "python app.py\n",
        "\n",
        "Go to http://127.0.0.1:5000/ in browser."
      ],
      "metadata": {
        "id": "uEgGaG4VnjPB"
      }
    },
    {
      "cell_type": "markdown",
      "source": [
        "6.  What are HTTP methods used in RESTful APIs.\n",
        "\n",
        "Ans. 🔹 Common HTTP Methods in RESTful APIs:\n",
        "\n",
        "GET – Retrieve data\n",
        "Example: GET /users → get all users\n",
        "\n",
        "POST – Create new data\n",
        "Example: POST /users → add a new user\n",
        "\n",
        "PUT – Update existing data (replace)\n",
        "Example: PUT /users/1 → update user with ID 1\n",
        "\n",
        "PATCH – Partially update data\n",
        "Example: PATCH /users/1 → update part of user 1’s info\n",
        "\n",
        "DELETE – Remove data\n",
        "Example: DELETE /users/1 → delete user 1"
      ],
      "metadata": {
        "id": "HsDPVQzNn-Tf"
      }
    },
    {
      "cell_type": "markdown",
      "source": [
        "7. What is the purpose of the @app.route() decorator in Flask.\n",
        "\n",
        "Ans. It tells Flask:\n",
        "\"When someone visits this URL, run this function.\"\n",
        "\n",
        "🔹 Example:\n",
        "\n",
        "    @app.route('/hello')\n",
        "    def say_hello():\n",
        "      return 'Hello, World!'\n",
        "Visiting /hello runs say_hello().\n",
        "\n"
      ],
      "metadata": {
        "id": "bcl32pNqoHGc"
      }
    },
    {
      "cell_type": "markdown",
      "source": [
        "8. What is the difference between GET and POST HTTP methods.\n",
        "\n",
        "Ans. --> GET Method\n",
        "\n",
        "Purpose: The GET method is used to request data from a specified resource. It’s designed for retrieving information without causing any side effects on the server.\n",
        "\n",
        "Characteristics:\n",
        "\n",
        "Data is sent as query parameters in the URL (e.g., /search?q=flask).\n",
        "\n",
        "Because data is part of the URL, it is visible and limited in size.\n",
        "\n",
        "GET requests are idempotent and safe, meaning multiple identical requests produce the same result without changing the server’s state.\n",
        "\n",
        "Commonly used for fetching or reading data.\n",
        "\n",
        "--> POST Method\n",
        "\n",
        "Purpose: The POST method is used to submit data to a server to create or modify resources. It typically results in a change in server state or side effects.\n",
        "\n",
        "Characteristics:\n",
        "\n",
        "Data is sent in the request body, not in the URL, allowing larger amounts of data and keeping it hidden from the URL.\n",
        "\n",
        "POST requests are not idempotent — sending the same request multiple times can create multiple resources or trigger multiple actions.\n",
        "\n",
        "Commonly used for form submissions, uploading files, or sending complex data.\n",
        "\n"
      ],
      "metadata": {
        "id": "SmRmwATooX2J"
      }
    },
    {
      "cell_type": "markdown",
      "source": [
        "9. How do you handle errors in Flask APIs.\n",
        "\n",
        "Ans.\n",
        "\n",
        "Use abort() to return HTTP errors, e.g., abort(404).\n",
        "\n",
        "Define custom error handlers with @app.errorhandler().\n",
        "\n",
        "Use try-except blocks to catch exceptions and return error messages.\n",
        "\n",
        "Example:\n",
        "\n",
        "    from flask import abort, jsonify\n",
        "\n",
        "    @app.route('/item/<int:id>')\n",
        "    def get_item(id):\n",
        "      if not item_exists(id):\n",
        "        abort(404, \"Item not found\")\n",
        "\n",
        "    @app.errorhandler(404)\n",
        "    def not_found(e):\n",
        "      return jsonify(error=str(e)), 404"
      ],
      "metadata": {
        "id": "wFyZBLwoox0i"
      }
    },
    {
      "cell_type": "markdown",
      "source": [
        "10.  How do you connect Flask to a SQL database.\n",
        "\n",
        "Ans. Install:\n",
        "\n",
        "pip install flask_sqlalchemy\n",
        "\n",
        "Setup:\n",
        "\n",
        "    from flask import Flask\n",
        "    from flask_sqlalchemy import SQLAlchemy\n",
        "\n",
        "    app = Flask(__name__)\n",
        "    app.config['SQLALCHEMY_DATABASE_URI'] = 'sqlite:///data.db'\n",
        "\n",
        "    db = SQLAlchemy(app)\n",
        "\n",
        "    class User(db.Model):\n",
        "      id = db.Column(db.Integer, primary_key=True)\n",
        "      name = db.Column(db.String(50))\n",
        "\n",
        "    with app.app_context():\n",
        "      db.create_all()"
      ],
      "metadata": {
        "id": "u84zUnGio40N"
      }
    },
    {
      "cell_type": "markdown",
      "source": [
        "11. What is the role of Flask-SQLAlchemy.\n",
        "\n",
        "Ans.Flask-SQLAlchemy is an extension that simplifies using SQL databases with Flask by integrating the powerful SQLAlchemy ORM.\n",
        "\n",
        "Role of Flask-SQLAlchemy:\n",
        "\n",
        "Provides an easy way to connect Flask apps to databases.\n",
        "\n",
        "Lets you define Python classes (models) that represent database tables.\n",
        "\n",
        "Handles SQL queries behind the scenes, so you work with Python objects instead of raw SQL.\n",
        "\n",
        "Manages database sessions and connections automatically.\n",
        "\n",
        "Supports multiple database backends (SQLite, MySQL, PostgreSQL, etc.)."
      ],
      "metadata": {
        "id": "aHDvg9SWpJe3"
      }
    },
    {
      "cell_type": "markdown",
      "source": [
        "12. What are Flask blueprints, and how are they useful.\n",
        "\n",
        "Ans. Flask Blueprints are a way to organize and structure a Flask application by grouping related routes, templates, and static files into reusable modules.\n",
        "\n",
        "Why Use Blueprints?\n",
        "Modularity: Break a large app into smaller, manageable pieces (e.g., auth, blog, API).\n",
        "\n",
        "Reusability: Easily reuse or share parts of your app.\n",
        "\n",
        "Better organization: Keeps code clean and easier to maintain.\n",
        "\n",
        "Allows registering routes, error handlers, and static files separately from the main app.\n",
        "\n",
        "How It Works (Basic Example):\n",
        "\n",
        "    from flask import Blueprint\n",
        "\n",
        "    auth = Blueprint('auth', __name__)\n",
        "\n",
        "    @auth.route('/login')\n",
        "    def login():\n",
        "      return \"Login Page\"\n",
        "\n",
        "Then in your main app:\n",
        "\n",
        "    from flask import Flask\n",
        "    from auth import auth\n",
        "\n",
        "    app = Flask(__name__)\n",
        "    app.register_blueprint(auth, url_prefix='/auth')\n",
        "\n",
        "Visiting /auth/login will run the login route."
      ],
      "metadata": {
        "id": "i0dnMf7wpbCO"
      }
    },
    {
      "cell_type": "markdown",
      "source": [
        "13. What is the purpose of Flask's request object.\n",
        "\n",
        "Ans. Flask’s request object represents the incoming HTTP request from a client.\n",
        "\n",
        "Purpose of the request object:\n",
        "\n",
        "Access data sent by the client (like form data, JSON, query parameters).\n",
        "\n",
        "Get information about the request (method, headers, cookies, URL).\n",
        "\n",
        "Handle file uploads.\n",
        "\n",
        "Inspect request metadata (IP address, content type).\n",
        "\n",
        "Example:\n",
        "\n",
        "    from flask import request\n",
        "\n",
        "    @app.route('/submit', methods=['POST'])\n",
        "    def submit():\n",
        "      name = request.form.get('name')        # form data\n",
        "      age = request.args.get('age')           # query params\n",
        "      data = request.json                      # JSON body\n",
        "    return f\"Name: {name}, Age: {age}\""
      ],
      "metadata": {
        "id": "F_Xe5mWrpw_K"
      }
    },
    {
      "cell_type": "markdown",
      "source": [
        "14.  How do you create a RESTful API endpoint using Flask.\n",
        "\n",
        "Ans.\n",
        "\n",
        "Import Flask and create app:\n",
        "\n",
        "    from flask import Flask, jsonify, request\n",
        "\n",
        "    app = Flask(__name__)\n",
        "\n",
        "Define an endpoint with HTTP methods:\n",
        "\n",
        "    @app.route('/users/<int:id>', methods=['GET', 'PUT'])\n",
        "    def user(id):\n",
        "      if request.method == 'GET':\n",
        "        # Return user data (example)\n",
        "        return jsonify({\"id\": id, \"name\": \"User\"+str(id)})\n",
        "    elif request.method == 'PUT':\n",
        "        data = request.json\n",
        "        # Update user logic here\n",
        "        return jsonify({\"id\": id, \"updated_data\": data})\n",
        "Run the app:\n",
        "\n",
        "    if __name__ == '__main__':\n",
        "      app.run()\n"
      ],
      "metadata": {
        "id": "WI5Vx-_wp-h5"
      }
    },
    {
      "cell_type": "markdown",
      "source": [
        "15. What is the purpose of Flask's jsonify() function.\n",
        "\n",
        "Ans. Flask’s jsonify() function converts Python data (like dictionaries or lists) into a JSON-formatted HTTP response.\n",
        "\n",
        "Purpose:\n",
        "\n",
        "Automatically formats your data as JSON.\n",
        "\n",
        "Sets the correct Content-Type header (application/json).\n",
        "\n",
        "Makes it easy to return JSON from API endpoints.\n",
        "\n",
        "Example:\n",
        "\n",
        "    from flask import jsonify\n",
        "\n",
        "    @app.route('/data')\n",
        "    def data():\n",
        "      return jsonify({\"name\": \"Alice\", \"age\": 30})"
      ],
      "metadata": {
        "id": "_vuTe0eGqESo"
      }
    },
    {
      "cell_type": "markdown",
      "source": [
        "16. Explain Flask’s url_for() function.\n",
        "\n",
        "Ans. Flask’s url_for() function is used to build URLs dynamically for your routes by using the function name instead of hardcoding URLs.\n",
        "\n",
        "Why use url_for()?\n",
        "\n",
        "Generates correct URLs even if routes change.\n",
        "\n",
        "Handles URL building with parameters easily.\n",
        "\n",
        "Helps avoid mistakes from hardcoding URLs.\n",
        "\n",
        "Example:\n",
        "\n",
        "    from flask import url_for\n",
        "\n",
        "    @app.route('/user/<int:id>')\n",
        "    def profile(id):\n",
        "      return f\"User {id}\"\n",
        "\n",
        "    @app.route('/')\n",
        "    def index():\n",
        "      # Build URL for profile with id=5\n",
        "      user_url = url_for('profile', id=5)\n",
        "      return f\"Profile URL: {user_url}\"\n",
        "\n",
        "Visiting / will show:\n",
        "Profile URL: /user/5\n",
        "\n"
      ],
      "metadata": {
        "id": "jXMx0OzsqYs1"
      }
    },
    {
      "cell_type": "markdown",
      "source": [
        "17. How does Flask handle static files (CSS, JavaScript, etc.)\n",
        "\n",
        "Ans.Flask serves static files (like CSS, JavaScript, images) from a special folder named static by default.\n",
        "\n",
        "How it works:\n",
        "Place your static files in the static/ folder inside your project.\n",
        "\n",
        "Access them in templates or browser via /static/filename.\n",
        "\n",
        "Example:\n",
        "If you have static/style.css, it’s accessible at:\n",
        "\n",
        "http://yourdomain.com/static/style.css\n",
        "\n",
        "Using in HTML templates:\n",
        "\n",
        "    <link rel=\"stylesheet\" href=\"{{ url_for('static', filename='style.css') }}\">\n",
        "    <script src=\"{{ url_for('static', filename='app.js') }}\"></script>"
      ],
      "metadata": {
        "id": "BJSf8ycjq3Ms"
      }
    },
    {
      "cell_type": "markdown",
      "source": [
        "18. What is an API specification, and how does it help in building a Flask API.\n",
        "\n",
        "Ans.\n",
        "\n",
        "An API specification is a formal document or blueprint that defines how an API works — detailing its endpoints, request/response formats, parameters, authentication, and error handling.\n",
        "\n",
        "How it helps in building a Flask API:\n",
        "Clear contract: Sets expectations for what your API does and how clients should interact with it.\n",
        "\n",
        "Consistent design: Ensures your endpoints, inputs, and outputs follow a structured format.\n",
        "\n",
        "Better collaboration: Makes it easier for frontend, backend, and third-party developers to work together.\n",
        "\n",
        "Automation: Enables tools (like Swagger/OpenAPI) to generate docs, tests, and client code.\n",
        "\n",
        "Easier maintenance: Changes are planned and communicated clearly through the spec.\n",
        "\n"
      ],
      "metadata": {
        "id": "K9650q5BrWWQ"
      }
    },
    {
      "cell_type": "markdown",
      "source": [
        "19. What are HTTP status codes, and why are they important in a Flask API.\n",
        "\n",
        "Ans. HTTP status codes are standardized numeric codes sent by a server in response to a client’s HTTP request, indicating the result of that request.\n",
        "\n",
        "Why they are important in a Flask API:\n",
        "Communicate outcome: Tell the client if the request was successful (200), created (201), had errors (400, 404), or server issues (500).\n",
        "\n",
        "Help clients handle responses: Clients can react differently based on status codes (e.g., retry, show error message).\n",
        "\n",
        "Improve API clarity: Makes your API’s behavior clear and predictable.\n",
        "\n",
        "Follow standards: Align your API with HTTP protocol conventions.\n",
        "\n",
        "Common examples:\n",
        "200 OK — Success\n",
        "\n",
        "201 Created — New resource created\n",
        "\n",
        "400 Bad Request — Client sent invalid data\n",
        "\n",
        "404 Not Found — Resource doesn’t exist\n",
        "\n",
        "500 Internal Server Error — Server problem"
      ],
      "metadata": {
        "id": "kccbIh1HrhuJ"
      }
    },
    {
      "cell_type": "markdown",
      "source": [
        "20. How do you handle POST requests in Flask.\n",
        "\n",
        "Ans. Define route with methods=['POST']:\n",
        "\n",
        "    from flask import Flask, request, jsonify\n",
        "\n",
        "    app = Flask(__name__)\n",
        "\n",
        "    @app.route('/submit', methods=['POST'])\n",
        "    def submit():\n",
        "      data = request.json  # Get JSON data from request body\n",
        "      # Process data here\n",
        "      return jsonify({\"message\": \"Data received\", \"data\": data})\n",
        "Run the app and send POST requests with JSON or form data.\n",
        "\n"
      ],
      "metadata": {
        "id": "hfCsCBjWrs5h"
      }
    },
    {
      "cell_type": "markdown",
      "source": [
        "21. How would you secure a Flask API.\n",
        "\n",
        "Ans. Use authentication (e.g., JWT tokens).\n",
        "\n",
        "Serve over HTTPS.\n",
        "\n",
        "Validate and sanitize all inputs.\n",
        "\n",
        "Implement rate limiting to prevent abuse.\n",
        "\n",
        "Handle errors without exposing sensitive info.\n",
        "\n",
        "Keep secrets (keys/passwords) in environment variables.\n",
        "\n",
        "Add security headers (CSP, X-Frame-Options)."
      ],
      "metadata": {
        "id": "XuClucJ_r5Id"
      }
    },
    {
      "cell_type": "markdown",
      "source": [
        "22. What is the significance of the Flask-RESTful extension.\n",
        "\n",
        "Ans. Flask-RESTful is an extension that simplifies building RESTful APIs with Flask.\n",
        "\n",
        "Significance of Flask-RESTful:\n",
        "Provides easy-to-use classes like Resource to organize API endpoints.\n",
        "\n",
        "Automatically handles HTTP methods (GET, POST, etc.) inside resource classes.\n",
        "\n",
        "Simplifies request parsing and input validation with built-in tools.\n",
        "\n",
        "Helps format responses consistently (e.g., JSON).\n",
        "\n",
        "Supports easy routing and error handling for APIs."
      ],
      "metadata": {
        "id": "tSSLJ3ctr_eX"
      }
    },
    {
      "cell_type": "markdown",
      "source": [
        "23. What is the role of Flask’s session object?\n",
        "\n",
        "Ans. Flask’s session object stores data specific to a user across multiple requests (like a temporary user state).\n",
        "\n",
        "Role of session:\n",
        "Keeps user info between requests (e.g., login status, preferences).\n",
        "\n",
        "Data is stored securely on the client as a signed cookie.\n",
        "\n",
        "Helps implement features like user sessions without a database.\n",
        "\n",
        "Example:\n",
        "\n",
        "    from flask import session\n",
        "\n",
        "    @app.route('/login')\n",
        "    def login():\n",
        "      session['user_id'] = 42  # Save user ID in session\n",
        "      return 'Logged in!'\n",
        "\n",
        "    @app.route('/profile')\n",
        "    def profile():\n",
        "      user_id = session.get('user_id')\n",
        "      return f'User ID: {user_id}'"
      ],
      "metadata": {
        "id": "ku1UiUyNsBln"
      }
    },
    {
      "cell_type": "markdown",
      "source": [
        "**PRACTICAL**"
      ],
      "metadata": {
        "id": "PgBqcBk9utuj"
      }
    },
    {
      "cell_type": "markdown",
      "source": [
        "1.  How do you create a basic Flask application."
      ],
      "metadata": {
        "id": "Cy9OeN5KuwJO"
      }
    },
    {
      "cell_type": "code",
      "source": [
        "from flask import Flask\n",
        "app = Flask(__name__)\n",
        "\n",
        "@app.route('/')\n",
        "def home():\n",
        "    return \"Hello, Flask!\"\n",
        "\n",
        "if __name__ == '__main__':\n",
        "    app.run()"
      ],
      "metadata": {
        "colab": {
          "base_uri": "https://localhost:8080/"
        },
        "id": "AAsSDJz6u7eF",
        "outputId": "19f35986-31e3-4cde-a419-69b034500789"
      },
      "execution_count": 1,
      "outputs": [
        {
          "output_type": "stream",
          "name": "stdout",
          "text": [
            " * Serving Flask app '__main__'\n",
            " * Debug mode: off\n"
          ]
        },
        {
          "output_type": "stream",
          "name": "stderr",
          "text": [
            "INFO:werkzeug:\u001b[31m\u001b[1mWARNING: This is a development server. Do not use it in a production deployment. Use a production WSGI server instead.\u001b[0m\n",
            " * Running on http://127.0.0.1:5000\n",
            "INFO:werkzeug:\u001b[33mPress CTRL+C to quit\u001b[0m\n"
          ]
        }
      ]
    },
    {
      "cell_type": "markdown",
      "source": [
        "2. How do you define different routes with different HTTP methods in Flask."
      ],
      "metadata": {
        "id": "AlE1uGSMu8pS"
      }
    },
    {
      "cell_type": "code",
      "source": [
        "@app.route('/item', methods=['GET', 'POST'])\n",
        "def item():\n",
        "    if request.method == 'GET':\n",
        "        return \"Get item\"\n",
        "    elif request.method == 'POST':\n",
        "        return \"Create item\""
      ],
      "metadata": {
        "id": "6OAamkrHvPwa"
      },
      "execution_count": null,
      "outputs": []
    },
    {
      "cell_type": "markdown",
      "source": [
        "3. How do you render HTML templates in Flask."
      ],
      "metadata": {
        "id": "RjAZXLvEvVdi"
      }
    },
    {
      "cell_type": "code",
      "source": [
        "from flask import Flask, render_template\n",
        "\n",
        "app = Flask(__name__)\n",
        "\n",
        "@app.route('/')\n",
        "def home():\n",
        "    return render_template('index.html')"
      ],
      "metadata": {
        "id": "LSF37SmBvaoG"
      },
      "execution_count": null,
      "outputs": []
    },
    {
      "cell_type": "markdown",
      "source": [
        "4. How can you generate URLs for routes in Flask using url_for."
      ],
      "metadata": {
        "id": "4emcXBLcvbjp"
      }
    },
    {
      "cell_type": "code",
      "source": [
        "from flask import Flask, url_for\n",
        "\n",
        "app = Flask(__name__)\n",
        "\n",
        "@app.route('/user/<int:id>')\n",
        "def profile(id):\n",
        "    return f\"User {id}\"\n",
        "\n",
        "@app.route('/')\n",
        "def index():\n",
        "    # Generate URL for profile with id=42\n",
        "    user_url = url_for('profile', id=42)\n",
        "    return f\"Profile URL: {user_url}\""
      ],
      "metadata": {
        "id": "ki9uqLc3vg6p"
      },
      "execution_count": null,
      "outputs": []
    },
    {
      "cell_type": "markdown",
      "source": [
        "5. How do you handle forms in Flask."
      ],
      "metadata": {
        "id": "kvttoxTIviG1"
      }
    },
    {
      "cell_type": "markdown",
      "source": [
        "    <form method=\"POST\" action=\"/submit\">\n",
        "    <input type=\"text\" name=\"username\">\n",
        "    <input type=\"submit\" value=\"Send\">\n",
        "    </form>"
      ],
      "metadata": {
        "id": "LYV1yqy8vqZQ"
      }
    },
    {
      "cell_type": "code",
      "source": [
        "from flask import Flask, request\n",
        "\n",
        "app = Flask(__name__)\n",
        "\n",
        "@app.route('/submit', methods=['POST'])\n",
        "def submit():\n",
        "    username = request.form.get('username')\n",
        "    return f\"Hello, {username}!\""
      ],
      "metadata": {
        "id": "l_vVaghXvmFJ"
      },
      "execution_count": null,
      "outputs": []
    },
    {
      "cell_type": "markdown",
      "source": [
        "6. How can you validate form data in Flask"
      ],
      "metadata": {
        "id": "pf50OPSUv0Vw"
      }
    },
    {
      "cell_type": "code",
      "source": [
        "from flask import request, jsonify\n",
        "\n",
        "@app.route('/submit', methods=['POST'])\n",
        "def submit():\n",
        "    username = request.form.get('username')\n",
        "    if not username or len(username) < 3:\n",
        "        return jsonify({\"error\": \"Username must be at least 3 characters\"}), 400\n",
        "    return jsonify({\"message\": \"Valid data\"})"
      ],
      "metadata": {
        "id": "A0bOBkFwv6ud"
      },
      "execution_count": null,
      "outputs": []
    },
    {
      "cell_type": "markdown",
      "source": [
        "7.  How do you manage sessions in Flask."
      ],
      "metadata": {
        "id": "P_OJCrFvv7-l"
      }
    },
    {
      "cell_type": "markdown",
      "source": [
        "How to use sessions in Flask:\n",
        "Set a secret key (needed for signing session cookies):\n",
        "\n",
        "\n",
        "    app.secret_key = 'your-secret-key'\n",
        "\n",
        "Store data in session:\n",
        "\n",
        "    from flask import session\n",
        "\n",
        "    @app.route('/login')\n",
        "    def login():\n",
        "      session['user_id'] = 123\n",
        "      return \"Logged in!\"\n",
        "\n",
        "Retrieve data from session:\n",
        "\n",
        "    @app.route('/profile')\n",
        "    def profile():\n",
        "      user_id = session.get('user_id')\n",
        "      return f\"User ID: {user_id}\"\n",
        "\n",
        "Clear session data:\n",
        "\n",
        "    @app.route('/logout')\n",
        "    def logout():\n",
        "      session.clear()\n",
        "      return \"Logged out!\"\n"
      ],
      "metadata": {
        "id": "ZDRFibMwwIJf"
      }
    },
    {
      "cell_type": "markdown",
      "source": [
        "8.  How do you redirect to a different route in Flask."
      ],
      "metadata": {
        "id": "R5u3J18ywVHC"
      }
    },
    {
      "cell_type": "code",
      "source": [
        "from flask import redirect, url_for\n",
        "\n",
        "@app.route('/old')\n",
        "def old():\n",
        "    return redirect(url_for('new'))\n",
        "\n",
        "@app.route('/new')\n",
        "def new():\n",
        "    return \"This is the new page.\""
      ],
      "metadata": {
        "id": "85LLYXEwwbAx"
      },
      "execution_count": null,
      "outputs": []
    },
    {
      "cell_type": "markdown",
      "source": [
        "9. How do you handle errors in Flask (e.g., 404)"
      ],
      "metadata": {
        "id": "-Duxx6yswcBg"
      }
    },
    {
      "cell_type": "code",
      "source": [
        "@app.errorhandler(404)\n",
        "def not_found(error):\n",
        "    return \"Page not found!\", 404"
      ],
      "metadata": {
        "id": "xuDDdEH3we2Q"
      },
      "execution_count": null,
      "outputs": []
    },
    {
      "cell_type": "markdown",
      "source": [
        "10. How do you structure a Flask app using Blueprints"
      ],
      "metadata": {
        "id": "a3DJVXsLwjtf"
      }
    },
    {
      "cell_type": "code",
      "source": [
        "from flask import Blueprint\n",
        "\n",
        "auth = Blueprint('auth', __name__)\n",
        "\n",
        "@auth.route('/login')\n",
        "def login():\n",
        "    return \"Login Page\""
      ],
      "metadata": {
        "id": "cC6pEnl6wn72"
      },
      "execution_count": null,
      "outputs": []
    },
    {
      "cell_type": "code",
      "source": [
        "from flask import Flask\n",
        "from auth import auth\n",
        "\n",
        "app = Flask(__name__)\n",
        "app.register_blueprint(auth, url_prefix='/auth')\n",
        "\n",
        "if __name__ == '__main__':\n",
        "    app.run()"
      ],
      "metadata": {
        "id": "wx6YKXcbwssi"
      },
      "execution_count": null,
      "outputs": []
    },
    {
      "cell_type": "markdown",
      "source": [
        "11. How can you redirect with query parameters in Flask."
      ],
      "metadata": {
        "id": "k-bMTak9wvBi"
      }
    },
    {
      "cell_type": "code",
      "source": [
        "from flask import redirect, url_for\n",
        "\n",
        "@app.route('/search')\n",
        "def search():\n",
        "    # Redirect to /results?q=flask&page=2\n",
        "    return redirect(url_for('results', q='flask', page=2))\n",
        "\n",
        "@app.route('/results')\n",
        "def results():\n",
        "    # Access query params via request.args if needed\n",
        "    return \"Search results page\""
      ],
      "metadata": {
        "id": "9Hn7JBJYw86n"
      },
      "execution_count": null,
      "outputs": []
    },
    {
      "cell_type": "markdown",
      "source": [
        "12. How do you return JSON responses in Flask."
      ],
      "metadata": {
        "id": "BE3D2yAMw-hQ"
      }
    },
    {
      "cell_type": "code",
      "source": [
        "from flask import jsonify\n",
        "\n",
        "@app.route('/data')\n",
        "def data():\n",
        "    return jsonify({\"name\": \"Alice\", \"age\": 30})"
      ],
      "metadata": {
        "id": "6TSDrhjMxFmQ"
      },
      "execution_count": null,
      "outputs": []
    },
    {
      "cell_type": "markdown",
      "source": [
        "13. How do you capture URL parameters in Flask?"
      ],
      "metadata": {
        "id": "CckVXaVrxGyS"
      }
    },
    {
      "cell_type": "code",
      "source": [
        "@app.route('/user/<int:id>')\n",
        "def user_profile(id):\n",
        "    return f\"User ID: {id}\""
      ],
      "metadata": {
        "id": "Z8g0xEy4xM1e"
      },
      "execution_count": null,
      "outputs": []
    }
  ]
}