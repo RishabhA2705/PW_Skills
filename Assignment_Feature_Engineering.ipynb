{
  "nbformat": 4,
  "nbformat_minor": 0,
  "metadata": {
    "colab": {
      "provenance": []
    },
    "kernelspec": {
      "name": "python3",
      "display_name": "Python 3"
    },
    "language_info": {
      "name": "python"
    }
  },
  "cells": [
    {
      "cell_type": "markdown",
      "source": [
        "1.  What is a parameter?\n",
        "\n",
        "Ans. A parameter is a variable used to define or control a function, model, or system.\n",
        "\n",
        "    def greet(name):  # 'name' is the parameter\n",
        "      print(\"Hello\", name)\n"
      ],
      "metadata": {
        "id": "jSvQ2wU3wkf8"
      }
    },
    {
      "cell_type": "markdown",
      "source": [
        "2. What is correlation? What does negative correlation mean?\n",
        "\n",
        "Ans. Correlation is a measure of how two variables move in relation to each other.\n",
        "\n",
        "Negative correlation means that as one variable increases, the other decreases"
      ],
      "metadata": {
        "id": "OmnwMKsjxftu"
      }
    },
    {
      "cell_type": "markdown",
      "source": [
        "3. Define Machine Learning. What are the main components in Machine Learning?\n",
        "\n",
        "Ans. Machine Learning is a field of AI where computers learn from data to make predictions or decisions without being explicitly programmed.\n",
        "\n",
        "Main components:\n",
        "\n",
        "Data – Input used for learning.\n",
        "\n",
        "Model – Algorithm that learns from data.\n",
        "\n",
        "Training – Process of learning patterns from data.\n",
        "\n",
        "Evaluation – Testing model performance.\n",
        "\n",
        "Prediction – Using the model to make decisions."
      ],
      "metadata": {
        "id": "xPaQO4uDxu7g"
      }
    },
    {
      "cell_type": "markdown",
      "source": [
        "4. How does loss value help in determining whether the model is good or not?\n",
        "\n",
        "Ans. A low loss value means the model's predictions are close to the actual values — it's performing well.\n",
        "\n",
        "A high loss value means poor performance.\n",
        "\n",
        "Loss helps track and improve model accuracy during training."
      ],
      "metadata": {
        "id": "HpnqPsRpyO50"
      }
    },
    {
      "cell_type": "markdown",
      "source": [
        "5. What are continuous and categorical variables?\n",
        "\n",
        "Ans. Continuous variables are numeric and can take any value within a range (e.g., height, weight).\n",
        "\n",
        "Categorical variables represent groups or categories (e.g., gender, color)."
      ],
      "metadata": {
        "id": "8sYic8M7yX0F"
      }
    },
    {
      "cell_type": "markdown",
      "source": [
        "6. How do we handle categorical variables in Machine Learning? What are the common techniques?\n",
        "\n",
        "Ans. We convert categorical variables into numbers for models to understand.\n",
        "\n",
        "Common techniques:\n",
        "\n",
        "Label Encoding – Assigns a unique number to each category.\n",
        "\n",
        "One-Hot Encoding – Creates binary columns for each category."
      ],
      "metadata": {
        "id": "-xOiyx9vygmS"
      }
    },
    {
      "cell_type": "markdown",
      "source": [
        "7. What do you mean by training and testing a dataset?\n",
        "\n",
        "Ans. Training dataset is used to teach the model.\n",
        "\n",
        "Testing dataset is used to check how well the model performs on new, unseen data."
      ],
      "metadata": {
        "id": "R1Tmk5Nuysft"
      }
    },
    {
      "cell_type": "markdown",
      "source": [
        "8. What is sklearn.preprocessing?\n",
        "\n",
        "Ans. sklearn.preprocessing is a module in Scikit-learn that provides tools to transform and scale data before training a model."
      ],
      "metadata": {
        "id": "U9tUy_qMy25j"
      }
    },
    {
      "cell_type": "markdown",
      "source": [
        "9. What is Test Set?\n",
        "\n",
        "Ans. A Test set is data used to check a model’s accuracy after training.\n",
        "\n",
        "Example:\n",
        "Train model on 80% data, test on remaining 20%."
      ],
      "metadata": {
        "id": "RAIkgGG7zAXk"
      }
    },
    {
      "cell_type": "markdown",
      "source": [
        "10. How do we split data for model fitting (training and testing) in Python?\n",
        "How do you approach a Machine Learning problem?\n",
        "\n",
        "Ans.\n",
        "\n",
        "    from sklearn.model_selection import train_test_split\n",
        "    X_train, X_test, y_train, y_test = train_test_split(X, y, test_size=0.2)\n",
        "\n",
        "Understand the problem\n",
        "\n",
        "Collect data\n",
        "\n",
        "Clean and preprocess data\n",
        "\n",
        "Split data (train/test)\n",
        "\n",
        "Choose and train model\n",
        "\n",
        "Evaluate model\n",
        "\n",
        "Tune and improve\n",
        "\n",
        "Deploy model\n"
      ],
      "metadata": {
        "id": "TAemsf4lzTdt"
      }
    },
    {
      "cell_type": "markdown",
      "source": [
        "11. Why do we have to perform EDA before fitting a model to the data?\n",
        "\n",
        "Ans. EDA (Exploratory Data Analysis) helps us understand data patterns, spot errors, and decide the right model and features before training."
      ],
      "metadata": {
        "id": "HctL39N9zXxg"
      }
    },
    {
      "cell_type": "markdown",
      "source": [
        "12. What is correlation?\n",
        "\n",
        "Ans.  Correlation measures how two variables move together.\n",
        "\n",
        "Example:\n",
        "Height and weight usually have a positive correlation."
      ],
      "metadata": {
        "id": "2RA9R2B7zZaT"
      }
    },
    {
      "cell_type": "markdown",
      "source": [
        "13. What does negative correlation mean?\n",
        "\n",
        "As. Negative correlation means when one variable goes up, the other goes down.\n",
        "\n",
        "Example:\n",
        "More exercise → less body fat."
      ],
      "metadata": {
        "id": "9VXFtc9az4Ch"
      }
    },
    {
      "cell_type": "markdown",
      "source": [
        "14. How can you find correlation between variables in Python?\n",
        "\n",
        "Ans.\n",
        "    import pandas as pd\n",
        "    corr = df.corr()\n",
        "    print(corr)\n"
      ],
      "metadata": {
        "id": "If7gGL--z_5Q"
      }
    },
    {
      "cell_type": "markdown",
      "source": [
        "15. What is causation? Explain difference between correlation and causation with an example.\n",
        "\n",
        "Ans. Causation means one event directly causes another.\n",
        "\n",
        "Difference:\n",
        "\n",
        "Correlation: Two variables move together.\n",
        "\n",
        "Causation: One variable causes the change in another.\n",
        "\n",
        "Example:\n",
        "\n",
        "Correlation: Ice cream sales ↑ and drowning incidents ↑ (both rise in summer)\n",
        "\n",
        "Causation: Smoking causes lung cancer."
      ],
      "metadata": {
        "id": "YBBT0wmv0KS6"
      }
    },
    {
      "cell_type": "markdown",
      "source": [
        "16. What is an Optimizer? What are different types of optimizers? Explain each with an example.\n",
        "\n",
        "Ans. Optimizer:\n",
        "Algorithm that updates model weights to reduce loss during training.\n",
        "\n",
        "Types:\n",
        "\n",
        "SGD (Stochastic Gradient Descent):\n",
        "Updates weights using small batches of data.\n",
        "Example: Basic gradient descent step.\n",
        "\n",
        "Adam:\n",
        "Combines momentum and adaptive learning rates for faster convergence.\n",
        "Example: Commonly used in deep learning.\n",
        "\n",
        "RMSprop:\n",
        "Adjusts learning rate based on recent gradients.\n",
        "Example: Good for RNN training.\n",
        "\n",
        "Momentum:\n",
        "Accelerates SGD by adding a fraction of the previous update.\n",
        "Example: Helps escape local minima."
      ],
      "metadata": {
        "id": "19a5xnov0RCn"
      }
    },
    {
      "cell_type": "markdown",
      "source": [
        "17. What is sklearn.linear_model?\n",
        "\n",
        "Ans. sklearn.linear_model is a Scikit-learn module with algorithms for linear models like linear regression and logistic regression.\n",
        "\n",
        "Example:\n",
        "\n",
        "    from sklearn.linear_model import LinearRegression\n",
        "    model = LinearRegression()\n"
      ],
      "metadata": {
        "id": "GlHw7iRf0ac7"
      }
    },
    {
      "cell_type": "markdown",
      "source": [
        "18. What does model.fit() do? What arguments must be given?\n",
        "\n",
        "Ans. model.fit() trains the model using data.\n",
        "\n",
        "Arguments:\n",
        "\n",
        "X: input features (data)\n",
        "\n",
        "y: target labels (output)\n",
        "\n",
        "Example:\n",
        "\n",
        "    model.fit(X_train, y_train)\n"
      ],
      "metadata": {
        "id": "UfYSGsju0mub"
      }
    },
    {
      "cell_type": "markdown",
      "source": [
        "19. What does model.predict() do? What arguments must be given?\n",
        "\n",
        "Ans. model.predict() makes predictions using the trained model.\n",
        "\n",
        "Argument:\n",
        "\n",
        "X: input features (data to predict on)\n",
        "\n",
        "Example:\n",
        "\n",
        "    predictions = model.predict(X_test)\n"
      ],
      "metadata": {
        "id": "TK_BMnaY0s49"
      }
    },
    {
      "cell_type": "markdown",
      "source": [
        "20. What are continuous and categorical variables?\n",
        "\n",
        "Ans. Continuous variables: Numeric values with infinite possibilities (e.g., height, temperature).\n",
        "Categorical variables: Groups or categories (e.g., color, gender)"
      ],
      "metadata": {
        "id": "bfNxXvRC0vKS"
      }
    },
    {
      "cell_type": "markdown",
      "source": [
        "21. What is feature scaling? How does it help in Machine Learning?\n",
        "\n",
        "Ans. Helps by:\n",
        "\n",
        "Speeding up training\n",
        "\n",
        "Improving model accuracy\n",
        "\n",
        "Preventing features with large values from dominating."
      ],
      "metadata": {
        "id": "f7vIYtKA0_nx"
      }
    },
    {
      "cell_type": "markdown",
      "source": [
        "22. How do we perform scaling in Python?\n",
        "\n",
        "Ans. Use sklearn.preprocessing for scaling.\n",
        "\n",
        "Example with StandardScaler:\n",
        "\n",
        "    from sklearn.preprocessing import StandardScaler\n",
        "\n",
        "    scaler = StandardScaler()\n",
        "    X_scaled = scaler.fit_transform(X)"
      ],
      "metadata": {
        "id": "gHvjlPzI1LXU"
      }
    },
    {
      "cell_type": "markdown",
      "source": [
        "23. What is sklearn.preprocessing?\n",
        "\n",
        "Ans. sklearn.preprocessing is a Scikit-learn module with tools to transform and scale data before modeling.\n",
        "\n",
        "Examples: Scaling, encoding, normalization."
      ],
      "metadata": {
        "id": "wvJWdPTY1NK9"
      }
    },
    {
      "cell_type": "markdown",
      "source": [
        "24. How do we split data for model fitting (training and testing) in Python?\n",
        "\n",
        "Ans. Use train_test_split from Scikit-learn:\n",
        "\n",
        "    from sklearn.model_selection import train_test_split\n",
        "    X_train, X_test, y_train, y_test = train_test_split(X, y, test_size=0.2)"
      ],
      "metadata": {
        "id": "YeGvqPUm1QYd"
      }
    },
    {
      "cell_type": "markdown",
      "source": [
        "25. Explain data encoding?\n",
        "\n",
        "Ans. Data encoding converts categorical data into numbers so models can use it.\n",
        "\n",
        "Example:\n",
        "\n",
        "Label Encoding: Red → 0, Blue → 1\n",
        "\n",
        "One-Hot Encoding: Red → [1,0], Blue → [0,1]"
      ],
      "metadata": {
        "id": "y2sVB-IH1VZT"
      }
    }
  ]
}