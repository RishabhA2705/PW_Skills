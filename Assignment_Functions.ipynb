{
  "nbformat": 4,
  "nbformat_minor": 0,
  "metadata": {
    "colab": {
      "provenance": []
    },
    "kernelspec": {
      "name": "python3",
      "display_name": "Python 3"
    },
    "language_info": {
      "name": "python"
    }
  },
  "cells": [
    {
      "cell_type": "markdown",
      "source": [
        "1. What is the difference between a function and a method in Python?\n",
        "\n",
        "Ans.\n",
        "\n",
        "Function: A standalone block of code that can be called directly.\n",
        "\n",
        "    def add(a, b):\n",
        "        return a + b\n",
        "\n",
        "    print(add(5, 3))  # Output: 8\n",
        "\n",
        "\n",
        "Method: A function inside a class that operates on an object’s data.\n",
        "\n",
        "    class Calculator:\n",
        "      def __init__(self, num1, num2):\n",
        "          self.num1 = num1\n",
        "          self.num2 = num2\n",
        "    \n",
        "      def add(self):\n",
        "          return self.num1 + self.num2\n",
        "\n",
        "    calc = Calculator(5, 3)\n",
        "    print(calc.add())  # Output: 8\n"
      ],
      "metadata": {
        "id": "ebIl3wJ1WfYx"
      }
    },
    {
      "cell_type": "markdown",
      "source": [
        "2. Explain the concept of function arguments and parameters in Python.\n",
        "\n",
        "Ans.\n",
        "\n",
        "In Python, parameters and arguments are used to pass data into a function.\n",
        "\n",
        "Parameters: Variables listed in the function definition.\n",
        "\n",
        "Arguments: Actual values passed when calling the function.\n",
        "\n",
        "    def greet(name):  # 'name' is a parameter\n",
        "      print(f\"Hello, {name}!\")\n",
        "\n",
        "    greet(\"Janak\")  # 'Janak' is an argument\n"
      ],
      "metadata": {
        "id": "Z1jFVCA0X0W8"
      }
    },
    {
      "cell_type": "markdown",
      "source": [
        "3. What are the different ways to define and call a function in Python?\n",
        "\n",
        "Ans.\n",
        "\n",
        "Ways to Define and Call a Function in Python\n",
        "1. Regular Function (def)\n",
        "\n",
        "        def greet(name):\n",
        "            return f\"Hello, {name}!\"\n",
        "\n",
        "        print(greet(\"Alice\"))\n",
        "2. Function with Default Arguments\n",
        "\n",
        "        def greet(name=\"Guest\"):\n",
        "            return f\"Hello, {name}!\"\n",
        "\n",
        "        print(greet())  # Output: Hello, Guest!\n",
        "3. Function with *args (Multiple Positional Arguments)\n",
        "\n",
        "        def add_numbers(*nums):\n",
        "            return sum(nums)\n",
        "\n",
        "        print(add_numbers(1, 2, 3))  # Output: 6\n",
        "4. Function with **kwargs (Multiple Keyword Arguments)\n",
        "\n",
        "        def display_info(**details):\n",
        "            print(details)\n",
        "\n",
        "        display_info(name=\"Alice\", age=25)\n",
        "5. Lambda Function (Anonymous Function)\n",
        "\n",
        "        add = lambda a, b: a + b\n",
        "        print(add(3, 5))  # Output: 8\n",
        "6. Method Inside a Class\n",
        "\n",
        "        class Person:\n",
        "          def __init__(self, name):\n",
        "              self.name = name\n",
        "\n",
        "          def greet(self):\n",
        "              return f\"Hello, {self.name}!\"\n",
        "\n",
        "          p = Person(\"Alice\")\n",
        "          print(p.greet())"
      ],
      "metadata": {
        "id": "rPQo5CShYbtf"
      }
    },
    {
      "cell_type": "markdown",
      "source": [
        "4. What is the purpose of the `return` statement in a Python function?\n",
        "\n",
        "Ans.\n",
        "The return statement in Python is used to send back a value from a function to the caller. It marks the end of the function execution and allows the function to produce an output.\n",
        "\n",
        "      def add(a, b):\n",
        "        return a + b  # Returns the sum\n",
        "\n",
        "      result = add(3, 5)\n",
        "      print(result)  # Output: 8\n"
      ],
      "metadata": {
        "id": "0G-2HQktZr2T"
      }
    },
    {
      "cell_type": "markdown",
      "source": [
        "5. What are iterators in Python and how do they differ from iterables?\n",
        "\n",
        "Ans.An iterable is an object that can be looped over (e.g., lists, tuples, strings), while an iterator is an object that remembers its state and produces items one at a time using next().\n",
        "\n",
        "    my_list = [1, 2, 3]  # Iterable\n",
        "    iterator = iter(my_list)  # Creating an iterator\n",
        "\n",
        "    print(next(iterator))  # Output: 1\n",
        "    print(next(iterator))  # Output: 2\n",
        "    print(next(iterator))  # Output: 3\n",
        "    print(next(iterator))  # Raises StopIteration\n"
      ],
      "metadata": {
        "id": "Z0kwaZ3N55dP"
      }
    },
    {
      "cell_type": "markdown",
      "source": [
        "6. Explain the concept of generators in Python and how they are defined.\n",
        "\n",
        "Ans. Generators are special iterators that yield values one at a time, saving memory.\n",
        "\n",
        "    def my_generator():\n",
        "      yield 1\n",
        "      yield 2\n",
        "      yield 3\n",
        "\n",
        "    gen = my_generator()\n",
        "    print(next(gen))  # Output: 1\n",
        "    print(next(gen))  # Output: 2\n",
        "    print(next(gen))  # Output: 3\n"
      ],
      "metadata": {
        "id": "JkfpRdPL8IYr"
      }
    },
    {
      "cell_type": "markdown",
      "source": [
        "7. What are the advantages of using generators over regular functions?\n",
        "\n",
        "Ans.\n",
        "\n",
        "1) Memory Efficient (Does not store all values in memory)\n",
        "\n",
        "    def count_up():\n",
        "      n = 1\n",
        "      while True:\n",
        "        yield n\n",
        "        n += 1\n",
        "    gen = count_up()\n",
        "    print(next(gen))  # Output: 1\n",
        "    print(next(gen))  # Output: 2\n",
        "\n",
        "2) Lazy Evaluation (Generates values on demand)\n",
        "\n",
        "\n",
        "    gen = (x * x for x in range(1000000))  # Generator expression\n",
        "    print(next(gen))  # Output: 0\n",
        "    print(next(gen))  # Output: 1\n",
        "\n",
        "3) Better Performance (Faster execution, less computation)\n",
        "\n",
        "4) State Retention (Resumes from the last yield point)\n",
        "\n",
        "5) Simpler Code (No need for __iter__() and __next__())"
      ],
      "metadata": {
        "id": "AOdFsHRN9lO5"
      }
    },
    {
      "cell_type": "markdown",
      "source": [
        "8. What is a lambda function in Python and when is it typically used?\n",
        "\n",
        "Ans. A lambda function is an anonymous function (without a name) defined using the lambda keyword. It can have multiple arguments but only one expression.\n",
        "\n",
        "    square = lambda x: x * x\n",
        "    print(square(5))  # Output: 25\n",
        "\n",
        "Short, simple functions (instead of def)\n",
        "\n",
        "Used in higher-order functions like map(), filter(), sorted(), etc.\n",
        "\n",
        "For one-time use (inline functions)\n"
      ],
      "metadata": {
        "id": "ux8lXge7-dWx"
      }
    },
    {
      "cell_type": "markdown",
      "source": [
        "9. Explain the purpose and usage of the `map()` function in Python.\n",
        "\n",
        "Ans. The map() function is used to apply a given function to each element of an iterable (such as a list or tuple). It returns an iterator with the transformed values, making it memory efficient.\n",
        "\n",
        "    numbers = [1, 2, 3, 4]\n",
        "    squared = list(map(lambda x: x * x, numbers))\n",
        "    print(squared)  # Output: [1, 4, 9, 16]\n"
      ],
      "metadata": {
        "id": "WjzkZdrD_cZ4"
      }
    },
    {
      "cell_type": "markdown",
      "source": [
        "10. What is the difference between `map()`, `reduce()`, and `filter()` functions in Python?\n",
        "\n",
        "Ans.\n",
        "\n",
        "1) map()\n",
        "\n",
        "Purpose: Applies a function to each element in an iterable.\n",
        "\n",
        "Returns: A new iterator with the transformed elements.\n",
        "\n",
        "Example: Squaring numbers in a list.\n",
        "\n",
        "    numbers = [1, 2, 3, 4]\n",
        "    squared = list(map(lambda x: x * x, numbers))  # Output: [1, 4, 9, 16]\n",
        "\n",
        "2) filter()\n",
        "\n",
        "Purpose: Filters elements based on a condition (returns only those that meet the condition).\n",
        "\n",
        "Returns: A new iterator with filtered elements.\n",
        "\n",
        "Example: Extracting even numbers from a list.\n",
        "\n",
        "    numbers = [1, 2, 3, 4]\n",
        "    evens = list(filter(lambda x: x % 2 == 0, numbers))  # Output: [2, 4]\n",
        "\n",
        "3) reduce() (from functools)\n",
        "\n",
        "Purpose: Reduces an iterable to a single value by applying a function cumulatively.\n",
        "\n",
        "Returns: A single accumulated result.\n",
        "\n",
        "Example: Summing all numbers in a list.\n",
        "\n",
        "    from functools import reduce\n",
        "    numbers = [1, 2, 3, 4]\n",
        "    sum_all = reduce(lambda x, y: x + y, numbers)  # Output: 10"
      ],
      "metadata": {
        "id": "VbibWkUM_yjX"
      }
    },
    {
      "cell_type": "markdown",
      "source": [
        "11. Write the internal mechanism for sum operation using reduce function on this given list:[47,11,42,13];\n",
        "\n",
        "Ans.\n",
        "\n",
        "    from functools import reduce\n",
        "    result = reduce(lambda x, y: x + y, [47, 11, 42, 13])\n",
        "    print(result)  # Output: 113\n",
        "\n",
        "First Call:\n",
        "47\n",
        "+\n",
        "11\n",
        "=\n",
        "58\n",
        "\n",
        "Second Call:\n",
        "58\n",
        "+\n",
        "42\n",
        "=\n",
        "100\n",
        "\n",
        "Third Call:\n",
        "100\n",
        "+\n",
        "13\n",
        "=\n",
        "113\n",
        "\n",
        "Final Result: 113"
      ],
      "metadata": {
        "id": "Ov-fGA3EAls5"
      }
    },
    {
      "cell_type": "markdown",
      "source": [
        "Coding Questions"
      ],
      "metadata": {
        "id": "bfbDa9PVFRcP"
      }
    },
    {
      "cell_type": "markdown",
      "source": [
        "1. Write a Python function that takes a list of numbers as input and returns the sum of all even numbers in\n",
        "the list."
      ],
      "metadata": {
        "id": "UwqeM8V6FHcb"
      }
    },
    {
      "cell_type": "code",
      "source": [
        "def sum_even_numbers(numbers):\n",
        "    return sum(filter(lambda x: x % 2 == 0, numbers))\n",
        "\n",
        "# Example usage\n",
        "numbers = [1, 2, 3, 4, 5, 6]\n",
        "print(sum_even_numbers(numbers))\n"
      ],
      "metadata": {
        "colab": {
          "base_uri": "https://localhost:8080/"
        },
        "id": "ugMwHNgcFI3A",
        "outputId": "c61face9-080f-416e-e21f-7eb9502b0dae"
      },
      "execution_count": 1,
      "outputs": [
        {
          "output_type": "stream",
          "name": "stdout",
          "text": [
            "12\n"
          ]
        }
      ]
    },
    {
      "cell_type": "markdown",
      "source": [
        "2. Create a Python function that accepts a string and returns the reverse of that string."
      ],
      "metadata": {
        "id": "nI2_f2ZxFx7D"
      }
    },
    {
      "cell_type": "code",
      "source": [
        "def reverse_string(s):\n",
        "    reversed_str = \"\"\n",
        "    for char in s:\n",
        "        reversed_str = char + reversed_str  # Prepend each character\n",
        "    return reversed_str\n",
        "\n",
        "# Example usage\n",
        "text = \"hello\"\n",
        "print(reverse_string(text))\n"
      ],
      "metadata": {
        "colab": {
          "base_uri": "https://localhost:8080/"
        },
        "id": "ppKBxemjF1Fs",
        "outputId": "2def11b3-1a8b-4f0d-d9aa-2b508585854f"
      },
      "execution_count": 2,
      "outputs": [
        {
          "output_type": "stream",
          "name": "stdout",
          "text": [
            "olleh\n"
          ]
        }
      ]
    },
    {
      "cell_type": "markdown",
      "source": [
        "3. Implement a Python function that takes a list of integers and returns a new list containing the squares of\n",
        "each number."
      ],
      "metadata": {
        "id": "m8TeC-rSGI_M"
      }
    },
    {
      "cell_type": "code",
      "source": [
        "def square_numbers(numbers):\n",
        "    return [x ** 2 for x in numbers]  # List comprehension for squaring\n",
        "\n",
        "# Example usage\n",
        "nums = [1, 2, 3, 4]\n",
        "print(square_numbers(nums)\n"
      ],
      "metadata": {
        "colab": {
          "base_uri": "https://localhost:8080/"
        },
        "id": "gj-UgCdqGZOF",
        "outputId": "86b87c97-2827-4e84-b172-9ecda2f37c44"
      },
      "execution_count": 3,
      "outputs": [
        {
          "output_type": "stream",
          "name": "stdout",
          "text": [
            "[1, 4, 9, 16]\n"
          ]
        }
      ]
    },
    {
      "cell_type": "markdown",
      "source": [
        "4. Write a Python function that checks if a given number is prime or not from 1 to 200"
      ],
      "metadata": {
        "id": "kx7GkGAZGc_t"
      }
    },
    {
      "cell_type": "code",
      "source": [
        "def is_prime(n):\n",
        "    if n < 2:\n",
        "        return False  # 0 and 1 are not prime\n",
        "    for i in range(2, int(n ** 0.5) + 1):  # Check divisibility up to √n\n",
        "        if n % i == 0:\n",
        "            return False\n",
        "    return True\n",
        "\n",
        "# Checking prime numbers from 1 to 200\n",
        "prime_numbers = [n for n in range(1, 201) if is_prime(n)]\n",
        "print(prime_numbers)\n"
      ],
      "metadata": {
        "colab": {
          "base_uri": "https://localhost:8080/"
        },
        "id": "ymwTToTcGjF4",
        "outputId": "582121e7-b16b-4c7b-eacd-e1460cf1f38c"
      },
      "execution_count": 4,
      "outputs": [
        {
          "output_type": "stream",
          "name": "stdout",
          "text": [
            "[2, 3, 5, 7, 11, 13, 17, 19, 23, 29, 31, 37, 41, 43, 47, 53, 59, 61, 67, 71, 73, 79, 83, 89, 97, 101, 103, 107, 109, 113, 127, 131, 137, 139, 149, 151, 157, 163, 167, 173, 179, 181, 191, 193, 197, 199]\n"
          ]
        }
      ]
    },
    {
      "cell_type": "markdown",
      "source": [
        "5. Create an iterator class in Python that generates the Fibonacci sequence up to a specified number of\n",
        "terms."
      ],
      "metadata": {
        "id": "JcHJI9P3Goxs"
      }
    },
    {
      "cell_type": "markdown",
      "source": [],
      "metadata": {
        "id": "XXpuby1OFhb5"
      }
    },
    {
      "cell_type": "code",
      "source": [
        "class Fibonacci:\n",
        "    def __init__(self, n):\n",
        "        self.n, self.a, self.b = n, 0, 1\n",
        "\n",
        "    def __iter__(self):\n",
        "        return self\n",
        "\n",
        "    def __next__(self):\n",
        "        if self.n <= 0:\n",
        "            raise StopIteration\n",
        "        self.n -= 1\n",
        "        value = self.a\n",
        "        self.a, self.b = self.b, self.a + self.b\n",
        "        return value\n",
        "\n",
        "# Example usage\n",
        "fib = Fibonacci(5)\n",
        "print(list(fib))\n"
      ],
      "metadata": {
        "colab": {
          "base_uri": "https://localhost:8080/"
        },
        "id": "abkoVNeKG4kM",
        "outputId": "f9d09e25-039f-4727-cc7d-79633725b6ed"
      },
      "execution_count": 5,
      "outputs": [
        {
          "output_type": "stream",
          "name": "stdout",
          "text": [
            "[0, 1, 1, 2, 3]\n"
          ]
        }
      ]
    },
    {
      "cell_type": "markdown",
      "source": [
        "6. Write a generator function in Python that yields the powers of 2 up to a given exponent."
      ],
      "metadata": {
        "id": "8KUbfha7HCMi"
      }
    },
    {
      "cell_type": "code",
      "source": [
        "def powers_of_two(exponent):\n",
        "    for i in range(exponent + 1):\n",
        "        yield 2 ** i\n",
        "\n",
        "# Example usage\n",
        "for power in powers_of_two(5):\n",
        "    print(power)\n",
        "\n"
      ],
      "metadata": {
        "colab": {
          "base_uri": "https://localhost:8080/"
        },
        "id": "JtPIdc6nHMaZ",
        "outputId": "23891096-23c6-47a2-ca18-027cc15d4379"
      },
      "execution_count": 6,
      "outputs": [
        {
          "output_type": "stream",
          "name": "stdout",
          "text": [
            "1\n",
            "2\n",
            "4\n",
            "8\n",
            "16\n",
            "32\n"
          ]
        }
      ]
    },
    {
      "cell_type": "markdown",
      "source": [
        "7. Implement a generator function that reads a file line by line and yields each line as a string."
      ],
      "metadata": {
        "id": "LCPCwtHEHZVf"
      }
    },
    {
      "cell_type": "code",
      "source": [
        "def read_lines(filename):\n",
        "    with open(filename, 'r') as file:\n",
        "        for line in file:\n",
        "            yield line  # Yield each line one by one\n",
        "\n",
        "# Example usage\n",
        "for line in read_lines(\"example.txt\"):\n",
        "    print(line, end='')  # Print without extra newlines\n"
      ],
      "metadata": {
        "id": "lqXghGY5IW1V"
      },
      "execution_count": null,
      "outputs": []
    },
    {
      "cell_type": "markdown",
      "source": [
        "8. Use a lambda function in Python to sort a list of tuples based on the second element of each tuple."
      ],
      "metadata": {
        "id": "K-f7Bn4bIZ7p"
      }
    },
    {
      "cell_type": "code",
      "source": [
        "# List of tuples (name, age)\n",
        "data = [(\"Alice\", 25), (\"Bob\", 20), (\"Charlie\", 30)]\n",
        "\n",
        "# Sort based on the second element (age)\n",
        "sorted_data = sorted(data, key=lambda x: x[1])\n",
        "\n",
        "print(sorted_data)\n"
      ],
      "metadata": {
        "colab": {
          "base_uri": "https://localhost:8080/"
        },
        "id": "m0GeWMLzIc16",
        "outputId": "00313d13-8ab4-44c7-9dd4-e32d7df0de92"
      },
      "execution_count": 9,
      "outputs": [
        {
          "output_type": "stream",
          "name": "stdout",
          "text": [
            "[('Bob', 20), ('Alice', 25), ('Charlie', 30)]\n"
          ]
        }
      ]
    },
    {
      "cell_type": "markdown",
      "source": [
        "9. Write a Python program that uses `map()` to convert a list of temperatures from Celsius to Fahrenheit."
      ],
      "metadata": {
        "id": "o-dob0OEIoXk"
      }
    },
    {
      "cell_type": "code",
      "source": [
        "# Function to convert Celsius to Fahrenheit\n",
        "c_to_f = lambda c: (c * 9/5) + 32\n",
        "\n",
        "# List of temperatures in Celsius\n",
        "celsius_temps = [0, 10, 20, 30, 40]\n",
        "\n",
        "# Convert using map()\n",
        "fahrenheit_temps = list(map(c_to_f, celsius_temps))\n",
        "\n",
        "print(fahrenheit_temps)\n"
      ],
      "metadata": {
        "colab": {
          "base_uri": "https://localhost:8080/"
        },
        "id": "K9wm8xlGIvvi",
        "outputId": "421728cd-92a0-4522-b7f4-931cd8ad9b4f"
      },
      "execution_count": 10,
      "outputs": [
        {
          "output_type": "stream",
          "name": "stdout",
          "text": [
            "[32.0, 50.0, 68.0, 86.0, 104.0]\n"
          ]
        }
      ]
    },
    {
      "cell_type": "markdown",
      "source": [
        "10. Create a Python program that uses `filter()` to remove all the vowels from a given string."
      ],
      "metadata": {
        "id": "M3upWDt7I0Wy"
      }
    },
    {
      "cell_type": "code",
      "source": [
        "def remove_vowels(string):\n",
        "    vowels = \"aeiouAEIOU\"\n",
        "    return \"\".join(filter(lambda char: char not in vowels, string))\n",
        "\n",
        "# Example usage\n",
        "text = \"Hello, World!\"\n",
        "result = remove_vowels(text)\n",
        "print(result)"
      ],
      "metadata": {
        "colab": {
          "base_uri": "https://localhost:8080/"
        },
        "id": "ulwlsBLWI33Q",
        "outputId": "c26b1235-dbe6-4649-9fdc-b43d1557c2a7"
      },
      "execution_count": 11,
      "outputs": [
        {
          "output_type": "stream",
          "name": "stdout",
          "text": [
            "Hll, Wrld!\n"
          ]
        }
      ]
    },
    {
      "cell_type": "markdown",
      "source": [],
      "metadata": {
        "id": "u_XddqGNIUyp"
      }
    }
  ]
}