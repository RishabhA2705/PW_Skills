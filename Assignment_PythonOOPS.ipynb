{
  "nbformat": 4,
  "nbformat_minor": 0,
  "metadata": {
    "colab": {
      "provenance": []
    },
    "kernelspec": {
      "name": "python3",
      "display_name": "Python 3"
    },
    "language_info": {
      "name": "python"
    }
  },
  "cells": [
    {
      "cell_type": "markdown",
      "source": [
        "1. What is Object-Oriented Programming (OOP)?\n",
        "\n",
        "Ans. OOP is a way of writing programs using objects and classes. It helps organize code by grouping related data and behavior together.\n",
        "\n",
        "-> Key Concepts:\n",
        "Class: Blueprint for creating objects\n",
        "\n",
        "Object: An instance of a class\n",
        "\n",
        "Encapsulation: Hiding internal details\n",
        "\n",
        "Inheritance: Reusing code from other classes\n",
        "\n",
        "Polymorphism: Same method, different behavior\n",
        "\n",
        "Abstraction: Hiding complex logic\n",
        "\n",
        "    class Animal:\n",
        "      def speak(self):\n",
        "        print(\"Animal sound\")\n",
        "\n",
        "    class Dog(Animal):  # Inherits from Animal\n",
        "      def speak(self):  # Polymorphism\n",
        "        print(\"Bark\")\n",
        "\n",
        "    my_dog = Dog()\n",
        "    my_dog.speak()  # Output: Bark"
      ],
      "metadata": {
        "id": "II5POz0HDeTZ"
      }
    },
    {
      "cell_type": "markdown",
      "source": [
        "2. What is a class in OOP?\n",
        "\n",
        "Ans. A class in Object-Oriented Programming (OOP) is a blueprint or template for creating objects.\n",
        "\n",
        "It defines:\n",
        "\n",
        "Attributes (variables/data)\n",
        "\n",
        "Methods (functions/behavior)\n",
        "\n",
        "    class Car:\n",
        "      def __init__(self, brand, color):  # Constructor\n",
        "        self.brand = brand      # Attribute\n",
        "        self.color = color\n",
        "\n",
        "      def drive(self):            # Method\n",
        "        print(f\"The {self.color} {self.brand} is driving.\")\n",
        "\n",
        "    # Creating an object from the class\n",
        "    my_car = Car(\"Toyota\", \"Red\")\n",
        "    my_car.drive()\n",
        "\n",
        "    # output\n",
        "    The Red Toyota is driving."
      ],
      "metadata": {
        "id": "jG3LVordD8yY"
      }
    },
    {
      "cell_type": "markdown",
      "source": [
        "3.  What is an object in OOP?\n",
        "\n",
        "Ans. An object is an instance of a class.\n",
        "\n",
        "It is a real-world entity created using the class blueprint. An object has:\n",
        "\n",
        "Data (attributes)\n",
        "\n",
        "Behavior (methods)\n",
        "\n",
        "    class Car:\n",
        "      def __init__(self, brand, color):\n",
        "        self.brand = brand\n",
        "        self.color = color\n",
        "\n",
        "      def drive(self):\n",
        "        print(f\"{self.color} {self.brand} is driving.\")\n",
        "\n",
        "    # Creating objects from the class\n",
        "    car1 = Car(\"Toyota\", \"Red\")     # car1 is an object\n",
        "    car2 = Car(\"Honda\", \"Blue\")     # car2 is another object\n",
        "\n",
        "    car1.drive()  # Output: Red Toyota is driving.\n",
        "    car2.drive()  # Output: Blue Honda is driving."
      ],
      "metadata": {
        "id": "3fsmnrJ2ETO6"
      }
    },
    {
      "cell_type": "markdown",
      "source": [
        "4. What is the difference between abstraction and encapsulation?\n",
        "\n",
        "Ans. --> Abstraction (What to show)\n",
        "\n",
        "Definition:\n",
        "Abstraction is the concept of hiding the complex implementation and showing only the essential features of an object.\n",
        "\n",
        "Purpose:\n",
        "To reduce complexity and allow the programmer to focus on interactions at a higher level.\n",
        "\n",
        "Key Points:\n",
        "\n",
        "Focuses on what an object does, not how it does it.\n",
        "\n",
        "Achieved using abstract classes and interfaces.\n",
        "\n",
        "Helps in designing systems at a conceptual level.\n",
        "\n",
        "Example:\n",
        "You can use a mobile phone to make a call without knowing its internal circuit design.\n",
        "\n",
        "--> Encapsulation (How to hide)\n",
        "\n",
        "Definition:\n",
        "Encapsulation is the concept of bundling data and methods that operate on that data within one unit (class) and restricting direct access to some of the object's components.\n",
        "\n",
        "Purpose:\n",
        "To protect the internal state of the object and ensure control over data.\n",
        "\n",
        "Key Points:\n",
        "\n",
        "Focuses on hiding the internal state of an object.\n",
        "\n",
        "Achieved using access modifiers like private, protected, public.\n",
        "\n",
        "Provides security and data integrity.\n",
        "\n",
        "Example:\n",
        "You can't directly change the speed of a car's engine from outside; you must use the controls provided (like the accelerator pedal).\n",
        "\n"
      ],
      "metadata": {
        "id": "zvswENqkEgi4"
      }
    },
    {
      "cell_type": "markdown",
      "source": [
        "5. What are dunder methods in Python?\n",
        "\n",
        "Ans. Dunder methods (short for “double underscore” methods, also known as magic methods) are special built-in methods in Python that start and end with double underscores, like __init__, __str__, etc.\n",
        "\n",
        "They are used to define how objects behave with operators, functions, or built-in operations.\n",
        "\n",
        "    class Book:\n",
        "      def __init__(self, title, pages):\n",
        "        self.title = title\n",
        "        self.pages = pages\n",
        "\n",
        "      def __str__(self):\n",
        "        return f\"{self.title} has {self.pages} pages\"\n",
        "\n",
        "      def __len__(self):\n",
        "        return self.pages\n",
        "\n",
        "    book = Book(\"Python Basics\", 300)\n",
        "    print(book)        # Python Basics has 300 pages\n",
        "    print(len(book))   # 300\n"
      ],
      "metadata": {
        "id": "JdHxLmvhE7Yl"
      }
    },
    {
      "cell_type": "markdown",
      "source": [
        "6. Explain the concept of inheritance in OOP?\n",
        "\n",
        "Ans. Inheritance is a key concept in Object-Oriented Programming (OOP) that allows a class (child) to inherit properties and behaviors (methods and attributes) from another class (parent).\n",
        "\n",
        "It helps in code reusability, organization, and hierarchical classification.\n",
        "\n",
        "--> Key Terms:\n",
        "Parent Class (Base/Superclass): The class being inherited from\n",
        "\n",
        "Child Class (Derived/Subclass): The class that inherits from the parent\n",
        "\n",
        "--> Why Use Inheritance?\n",
        "Reuse existing code\n",
        "\n",
        "Create a logical relationship between classes\n",
        "\n",
        "Easily extend or modify behaviors\n",
        "\n",
        "--> Types of Inheritance:\n",
        "Single Inheritance – One child inherits from one parent\n",
        "\n",
        "Multiple Inheritance – One child inherits from multiple parents\n",
        "\n",
        "Multilevel Inheritance – A class inherits from a child class, forming a chain\n",
        "\n",
        "Hierarchical Inheritance – Multiple children inherit from one parent\n",
        "\n",
        "    # Parent class\n",
        "    class Animal:\n",
        "      def speak(self):\n",
        "        print(\"Animal makes a sound\")\n",
        "\n",
        "    # Child class inherits from Animal\n",
        "    class Dog(Animal):\n",
        "      def bark(self):\n",
        "        print(\"Dog barks\")\n",
        "\n",
        "    # Using inheritance\n",
        "    my_dog = Dog()\n",
        "    my_dog.speak()  # Inherited from Animal\n",
        "    my_dog.bark()   # Defined in Dog"
      ],
      "metadata": {
        "id": "goJ1i6SoFTW7"
      }
    },
    {
      "cell_type": "markdown",
      "source": [
        "7. What is polymorphism in OOP?\n",
        "\n",
        "Ans. Polymorphism means \"many forms\".\n",
        "In Object-Oriented Programming (OOP), it allows one interface to be used for different data types or classes.\n",
        "\n",
        "It lets objects of different classes respond to the same method in different ways.\n",
        "\n",
        "Why Use Polymorphism?\n",
        "\n",
        "Makes code flexible, extensible, and easier to maintain\n",
        "\n",
        "Supports code reusability\n",
        "\n",
        "Allows for dynamic behavior at runtime\n",
        "\n",
        "--> Types of Polymorphism:\n",
        "Compile-Time (Static) – Done through method overloading (not natively supported in Python)\n",
        "\n",
        "Run-Time (Dynamic) – Done through method overriding (supported in Python)\n",
        "\n",
        "    class Animal:\n",
        "      def speak(self):\n",
        "        print(\"Animal makes a sound\")\n",
        "\n",
        "    class Dog(Animal):\n",
        "      def speak(self):\n",
        "        print(\"Dog barks\")\n",
        "\n",
        "    class Cat(Animal):\n",
        "      def speak(self):\n",
        "        print(\"Cat meows\")\n",
        "\n",
        "    # Polymorphic behavior\n",
        "    def make_animal_speak(animal):\n",
        "    animal.speak()\n",
        "\n",
        "    # Using different forms of the same method\n",
        "    make_animal_speak(Dog())  # Output: Dog barks\n",
        "    make_animal_speak(Cat())  # Output: Cat meows"
      ],
      "metadata": {
        "id": "d9xuXN_FFxFk"
      }
    },
    {
      "cell_type": "markdown",
      "source": [
        "8. How is encapsulation achieved in Python?\n",
        "\n",
        "Ans.\n",
        "\n",
        "Encapsulation in Python is achieved by:\n",
        "\n",
        "Using classes to bundle data (attributes) and methods (functions)\n",
        "\n",
        "Restricting access to internal variables by using access modifiers:\n",
        "\n",
        "public – accessible everywhere (default)\n",
        "\n",
        "protected – use a single underscore _var (convention only)\n",
        "\n",
        "private – use double underscore __var (name mangling for restriction)\n",
        "\n",
        "    class Person:\n",
        "      def __init__(self, name, age):\n",
        "        self.name = name        # public\n",
        "        self._age = age         # protected (convention)\n",
        "        self.__salary = 50000   # private (name mangled)\n",
        "\n",
        "    def show_info(self):\n",
        "        print(f\"Name: {self.name}, Age: {self._age}\")\n",
        "\n",
        "    def get_salary(self):       # Getter\n",
        "        return self.__salary\n",
        "\n",
        "    def set_salary(self, amount):  # Setter\n",
        "        if amount > 0:\n",
        "            self.__salary = amount\n",
        "\n",
        "    p = Person(\"Alice\", 30)\n",
        "    p.show_info()\n",
        "    print(p.get_salary())    # Access via method\n",
        "\n",
        "    # Direct access (not recommended)\n",
        "    print(p._age)            # Possible (but avoid)\n",
        "    # print(p.__salary)      # Error\n",
        "    print(p._Person__salary) # Accessing private with name mangling"
      ],
      "metadata": {
        "id": "56C8SMVxHxS-"
      }
    },
    {
      "cell_type": "markdown",
      "source": [
        "9.  What is a constructor in Python?\n",
        "\n",
        "Ans. A constructor in Python is a special method used to initialize the state of an object when it is created.\n",
        "\n",
        "In Python, the constructor is defined using the __init__ method. This method is automatically called when a new object (instance) of the class is created.\n",
        "\n",
        "Key Points about Constructors:\n",
        "The __init__ method is called when you create an instance of a class.\n",
        "\n",
        "It allows you to initialize the object's attributes with values passed as arguments.\n",
        "\n",
        "The constructor doesn't return any value (it returns None by default).\n",
        "\n",
        "    class Car:\n",
        "      def __init__(self, make, model, year):  # Constructor\n",
        "        self.make = make        # Attribute initialization\n",
        "        self.model = model\n",
        "        self.year = year\n",
        "\n",
        "    def display_info(self):\n",
        "        print(f\"{self.year} {self.make} {self.model}\")\n",
        "\n",
        "    # Creating an object of Car class\n",
        "    my_car = Car(\"Toyota\", \"Corolla\", 2020)  # Constructor is called here\n",
        "    my_car.display_info()  # Output: 2020 Toyota Corolla"
      ],
      "metadata": {
        "id": "SvRCpVx2IEXl"
      }
    },
    {
      "cell_type": "markdown",
      "source": [
        "10. What are class and static methods in Python?\n",
        "\n",
        "Ans. In Python, both class methods and static methods are special types of methods that are bound to the class rather than the instance of the class. They serve different purposes, and they are defined using decorators.\n",
        "\n",
        "🔹 Class Method\n",
        "A class method is a method that takes the class itself as its first argument (usually named cls) instead of an instance (self). It is used to modify or interact with the class itself, not individual instances.\n",
        "\n",
        "Defined using the @classmethod decorator.\n",
        "\n",
        "Can access class-level variables and methods.\n",
        "\n",
        "Syntax:\n",
        "\n",
        "    @classmethod\n",
        "    def method_name(cls, ...):\n",
        "    # Method logic\n",
        "\n",
        "Example:\n",
        "\n",
        "    class Dog:\n",
        "    number_of_legs = 4  # Class variable\n",
        "\n",
        "    @classmethod\n",
        "    def get_number_of_legs(cls):\n",
        "        return cls.number_of_legs\n",
        "\n",
        "    print(Dog.get_number_of_legs())  # Output: 4\n",
        "🔹 Static Method\n",
        "A static method doesn't take a self or cls argument. It behaves like a normal function but belongs to the class. Static methods can't modify or access class or instance attributes.\n",
        "\n",
        "Defined using the @staticmethod decorator.\n",
        "\n",
        "Does not need access to class or instance data.\n",
        "\n",
        "Syntax:\n",
        "\n",
        "    @staticmethod\n",
        "    def method_name(...):\n",
        "    # Method logic\n",
        "\n",
        "Example:\n",
        "\n",
        "    class Math:\n",
        "    @staticmethod\n",
        "    def add(x, y):\n",
        "        return x + y\n",
        "\n",
        "    print(Math.add(5, 3))  # Output: 8"
      ],
      "metadata": {
        "id": "Vbm83-DLISpi"
      }
    },
    {
      "cell_type": "markdown",
      "source": [
        "11. What is method overloading in Python?\n",
        "\n",
        "Ans. 🔹 Ways to Achieve Overloading in Python:\n",
        "\n",
        "1) Using Default Arguments: You can use default values for arguments, which allows a method to be called with fewer arguments than expected.\n",
        "\n",
        "Example with Default Arguments:\n",
        "\n",
        "    class Calculator:\n",
        "      def add(self, a, b=0, c=0):\n",
        "        return a + b + c\n",
        "\n",
        "    calc = Calculator()\n",
        "    print(calc.add(5))        # Output: 5\n",
        "    print(calc.add(5, 3))     # Output: 8\n",
        "    print(calc.add(5, 3, 2))  # Output: 10\n",
        "Using *args and **kwargs: The *args allows for a variable number of positional arguments, while **kwargs allows for a variable number of keyword arguments.\n",
        "\n",
        "Example with *args:\n",
        "\n",
        "    class Printer:\n",
        "      def print_info(self, *args):\n",
        "        for arg in args:\n",
        "            print(arg)\n",
        "\n",
        "    printer = Printer()\n",
        "    printer.print_info(\"Hello\", \"World\", 2023)  # Output: Hello World 2023\n",
        "2) Manually Checking the Arguments: You can manually check the number or type of arguments and write different behaviors accordingly.\n",
        "\n",
        "Example with Argument Type Checking:\n",
        "\n",
        "    class Display:\n",
        "      def show(self, *args):\n",
        "        if len(args) == 1 and isinstance(args[0], str):\n",
        "            print(f\"Displaying string: {args[0]}\")\n",
        "        elif len(args) == 1 and isinstance(args[0], int):\n",
        "            print(f\"Displaying integer: {args[0]}\")\n",
        "        else:\n",
        "            print(\"Invalid input\")\n",
        "\n",
        "    d = Display()\n",
        "    d.show(\"Hello\")  # Output: Displaying string: Hello\n",
        "    d.show(42)       # Output: Displaying integer: 42\n",
        "    \n",
        "🔹 Why Python Doesn't Support Traditional Overloading:\n",
        "Python is dynamically typed, so it doesn't require distinct methods for different argument types or numbers.\n",
        "\n",
        "You can handle varying arguments using techniques like *args and **kwargs, or by checking argument types and lengths within a single method."
      ],
      "metadata": {
        "id": "OMCrjWzhJFYJ"
      }
    },
    {
      "cell_type": "markdown",
      "source": [
        "12. What is method overriding in OOP?\n",
        "\n",
        "Ans. Method Overriding is a feature in Object-Oriented Programming (OOP) where a child class provides its own implementation of a method that is already defined in its parent class.\n",
        "\n",
        "When a method in a child class has the same name, same parameters, and same return type as the method in the parent class, the child class' method overrides the parent class method. This allows the child class to change or extend the behavior of that method.\n",
        "\n",
        "🔹 Key Points About Method Overriding:\n",
        "Inheritance is required for method overriding (the child class inherits from the parent class).\n",
        "\n",
        "The child class method replaces the parent class method when it is called on an instance of the child class.\n",
        "\n",
        "Overriding allows the child class to customize the behavior of methods defined in the parent class.\n",
        "\n",
        "🔹 Example (Python):\n",
        "\n",
        "    class Animal:\n",
        "      def speak(self):\n",
        "        print(\"Animal makes a sound\")\n",
        "\n",
        "    class Dog(Animal):\n",
        "      def speak(self):  # Overriding the speak method of the parent class\n",
        "        print(\"Dog barks\")\n",
        "\n",
        "    class Cat(Animal):\n",
        "      def speak(self):  # Overriding the speak method of the parent class\n",
        "        print(\"Cat meows\")\n",
        "\n",
        "    # Creating objects of child classes\n",
        "    dog = Dog()\n",
        "    cat = Cat()\n",
        "\n",
        "    dog.speak()  # Output: Dog barks\n",
        "    cat.speak()  # Output: Cat meows"
      ],
      "metadata": {
        "id": "kT5N0TXFJmTB"
      }
    },
    {
      "cell_type": "markdown",
      "source": [
        "13. What is a property decorator in Python?\n",
        "\n",
        "Ans. The @property decorator in Python is used to define a method as a getter for an attribute, making the method behave like an attribute without explicitly calling it like a method.\n",
        "\n",
        "In other words, it allows you to define a method that can be accessed like an attribute, while still allowing you to control its behavior (e.g., validation, calculations).\n",
        "\n",
        "The @property decorator is typically used to:\n",
        "\n",
        "Encapsulate data while providing a clean and easy-to-use interface.\n",
        "\n",
        "Hide the internal implementation of attributes but still provide controlled access to them.\n",
        "\n",
        "🔹 How to Use the Property Decorator:\n",
        "Define a method using @property to act as a getter.\n",
        "\n",
        "Optionally, use @<property_name>.setter to define a setter for that property if you want to allow setting values.\n",
        "\n",
        "🔹 Example:\n",
        "\n",
        "    class Circle:\n",
        "      def __init__(self, radius):\n",
        "        self._radius = radius  # Private variable\n",
        "\n",
        "    @property\n",
        "      def radius(self):\n",
        "        return self._radius  # Getter method for radius\n",
        "\n",
        "    @radius.setter\n",
        "      def radius(self, value):\n",
        "        if value < 0:\n",
        "            raise ValueError(\"Radius cannot be negative!\")\n",
        "        self._radius = value  # Setter method to set radius\n",
        "\n",
        "    @property\n",
        "      def area(self):\n",
        "        return 3.14159 * (self._radius ** 2)  # Computed property for area\n",
        "\n",
        "    # Creating an object of Circle class\n",
        "    circle = Circle(5)\n",
        "\n",
        "    print(circle.radius)   # Accessing radius like an attribute\n",
        "    print(circle.area)     # Accessing computed area like an attribute\n",
        "\n",
        "    circle.radius = 10     # Setting radius using setter\n",
        "    print(circle.area)     # New computed area after radius change"
      ],
      "metadata": {
        "id": "yVAUjwx1J2PQ"
      }
    },
    {
      "cell_type": "markdown",
      "source": [
        "14. Why is polymorphism important in OOP?\n",
        "\n",
        "Ans. Polymorphism is a core concept in Object-Oriented Programming (OOP), and its importance lies in the flexibility, reusability, and maintainability it brings to code.\n",
        "\n",
        "In simple terms, polymorphism allows objects of different classes to be treated as objects of a common base class while still calling their own specific methods. This means that one interface can be used for different underlying forms (objects), which leads to several benefits in software design.\n",
        "\n",
        "🔹 Key Benefits of Polymorphism:\n",
        "1. Code Reusability and Extensibility\n",
        "Polymorphism allows you to write code that works for multiple types without knowing the specific type at compile time.\n",
        "\n",
        "You can use the same method or interface across different objects, reducing code duplication and enhancing extensibility.\n",
        "\n",
        "Example: A function that works for any object that implements the same interface, regardless of the class of the object.\n",
        "\n",
        "    class Shape:\n",
        "      def area(self):\n",
        "        pass\n",
        "\n",
        "    class Circle(Shape):\n",
        "      def __init__(self, radius):\n",
        "        self.radius = radius\n",
        "    \n",
        "    def area(self):\n",
        "        return 3.14 * self.radius * self.radius\n",
        "\n",
        "    class Square(Shape):\n",
        "      def __init__(self, side):\n",
        "        self.side = side\n",
        "    \n",
        "      def area(self):\n",
        "        return self.side * self.side\n",
        "\n",
        "    # Polymorphic behavior\n",
        "    def print_area(shape: Shape):\n",
        "      print(\"Area:\", shape.area())\n",
        "\n",
        "    circle = Circle(5)\n",
        "    square = Square(4)\n",
        "\n",
        "    print_area(circle)  # Output: Area: 78.5\n",
        "    print_area(square)  # Output: Area: 16"
      ],
      "metadata": {
        "id": "3Yx7HnKcKLkS"
      }
    },
    {
      "cell_type": "markdown",
      "source": [
        "15. What is an abstract class in Python?\n",
        "\n",
        "Ans. An abstract class is a class that cannot be instantiated on its own. Instead, it serves as a blueprint for other classes. It defines abstract methods that must be implemented by any subclass that inherits from it.\n",
        "\n",
        " Abstract classes allow you to create a common interface for a group of related classes, while leaving the implementation details to the subclasses.\n",
        "\n",
        "In Python, abstract classes are created using the abc module (Abstract Base Classes), which provides tools to define abstract methods.\n",
        "\n",
        "🔹 Key Points About Abstract Classes:\n",
        "Cannot be Instantiated: You cannot create an object of an abstract class directly. It can only be used as a base class for other classes.\n",
        "\n",
        "Abstract Methods: These are methods that are defined in the abstract class but don't have any implementation. Subclasses must implement these methods.\n",
        "\n",
        "abc Module: Python's built-in abc module is used to create abstract classes and methods.\n",
        "\n",
        "🔹 How to Define an Abstract Class:\n",
        "Import the ABC class and abstractmethod decorator from the abc module.\n",
        "\n",
        "Inherit from ABC to create an abstract class.\n",
        "\n",
        "Use the @abstractmethod decorator to mark methods that must be implemented in subclasses.\n",
        "\n",
        "🔹 Example:\n",
        "\n",
        "from abc import ABC, abstractmethod\n",
        "\n",
        "    # Abstract class\n",
        "    class Animal(ABC):\n",
        "      @abstractmethod\n",
        "      def sound(self):  # Abstract method\n",
        "        pass\n",
        "\n",
        "      @abstractmethod\n",
        "      def move(self):  # Another abstract method\n",
        "        pass\n",
        "\n",
        "    # Subclass 1 - Dog\n",
        "    class Dog(Animal):\n",
        "      def sound(self):\n",
        "        return \"Bark\"\n",
        "    \n",
        "    def move(self):\n",
        "        return \"Walks on 4 legs\"\n",
        "\n",
        "    # Subclass 2 - Bird\n",
        "    class Bird(Animal):\n",
        "      def sound(self):\n",
        "        return \"Chirp\"\n",
        "    \n",
        "    def move(self):\n",
        "        return \"Flies\"\n",
        "\n",
        "    # Creating objects of subclasses\n",
        "    dog = Dog()\n",
        "    bird = Bird()\n",
        "\n",
        "    print(dog.sound())  # Output: Bark\n",
        "    print(dog.move())   # Output: Walks on 4 legs\n",
        "    print(bird.sound()) # Output: Chirp\n",
        "    print(bird.move())  # Output: Flies"
      ],
      "metadata": {
        "id": "hjQS99H3K2E7"
      }
    },
    {
      "cell_type": "markdown",
      "source": [
        "16.  What are the advantages of OOP?\n",
        "\n",
        "Ans. Object-Oriented Programming (OOP) is one of the most popular programming paradigms, and it offers several key advantages for software development. Let's look at the main benefits of OOP:\n",
        "\n",
        "1. Modularity (Encapsulation)\n",
        "Encapsulation allows objects to hide their internal states and only expose a public interface for interaction. This means that you can modify the internal implementation of an object without affecting other parts of the system that rely on it.\n",
        "\n",
        "This modular structure leads to easier maintenance, as changes can be made in isolated areas of the program.\n",
        "\n",
        "Example: You can change the internal data structures of an object without affecting code that uses that object.\n",
        "\n",
        "2. Reusability (Inheritance)\n",
        "Inheritance allows you to create new classes based on existing ones, facilitating code reuse. You can extend or modify functionality without rewriting code.\n",
        "\n",
        "This helps in reducing redundancy and speeds up development.\n",
        "\n",
        "Example: You can create a Dog class that inherits from a Mammal class, and the Dog will automatically inherit properties and methods of Mammal.\n",
        "\n",
        "3. Scalability (Extensibility)\n",
        "OOP makes it easier to extend and scale your code. You can add new features without disrupting existing functionality, thanks to inheritance and polymorphism.\n",
        "\n",
        "Adding new classes or methods is less likely to break existing code, making the program extensible.\n",
        "\n",
        "Example: Adding a new Bird class to a program that already has Mammal and Fish classes won't affect the other parts of the system, as the new class just needs to follow the existing interfaces.\n",
        "\n",
        "4. Maintainability\n",
        "OOP promotes cleaner, organized code that is easier to maintain. The use of objects and classes makes it easier to locate where changes need to be made.\n",
        "\n",
        "Methods like abstraction help separate concerns, meaning developers can focus on specific parts of the system without needing to understand the entire program.\n",
        "\n",
        "Example: If a bug is found in the Car class, only that class needs to be updated, rather than going through the entire codebase.\n",
        "\n",
        "5. Polymorphism\n",
        "Polymorphism allows one interface to be used for different data types. This means that you can write generic code that works with objects of different classes, leading to flexibility and extensibility in your program.\n",
        "\n",
        "Different classes can have methods with the same name but different behavior, making your code more adaptive to changing requirements.\n",
        "\n",
        "Example: You can write a method to handle any shape (circle, rectangle, etc.), and polymorphism allows it to call the correct area() method for each type of shape.\n",
        "\n",
        "6. Abstraction\n",
        "Abstraction allows you to hide complexity and expose only the essential features of an object. This simplifies the interaction with objects and helps developers focus on high-level functionality.\n",
        "\n",
        "Users interact with a simplified view of the object, while the complex implementation remains hidden.\n",
        "\n",
        "Example: In a Car class, users don't need to know the inner workings of how the engine starts. They can simply call the start_engine() method, which abstracts the complexity of starting the engine.\n",
        "\n",
        "7. Security (Data Hiding)\n",
        "OOP's encapsulation also provides security by protecting an object's state from unwanted access or modification. By controlling access to the object's attributes and methods (through public, private, or protected access modifiers), you ensure that sensitive data is protected.\n",
        "\n",
        "Example: In a banking system, you may have a BankAccount class where the account balance is private, and can only be accessed through public methods like deposit() and withdraw(), which apply business logic.\n",
        "\n",
        "8. Faster Development and Debugging\n",
        "OOP allows developers to work in parallel on different parts of the system due to its modularity. Since objects are self-contained, multiple developers can work on different classes without interfering with each other.\n",
        "\n",
        "Debugging is also easier because of clear boundaries between objects and their methods.\n",
        "\n",
        "Example: In a team working on an e-commerce system, one developer can focus on the Cart class while another works on the Payment class without any conflicts."
      ],
      "metadata": {
        "id": "Eqq_jpbFLR_H"
      }
    },
    {
      "cell_type": "markdown",
      "source": [
        "17. What is the difference between a class variable and an instance variable?\n",
        "\n",
        "Ans. In Object-Oriented Programming (OOP), class variables and instance variables are both used to store data, but they are used in different contexts and have different characteristics. Here's a breakdown of the key differences between them:\n",
        "\n",
        "1. Class Variable:\n",
        "Definition: A class variable is a variable that is shared by all instances of a class. It is defined within the class but outside any methods, including the __init__ method.\n",
        "\n",
        "Scope: Class variables are shared by all instances of the class, meaning they have the same value for every instance of that class.\n",
        "\n",
        "Access: Class variables are accessed using the class name or any instance of the class. However, they are generally accessed using the class name to emphasize that they are shared across all instances.\n",
        "\n",
        "Usage: Typically used for values that should be shared across all instances of the class (e.g., constants, counters, or settings that are the same for every object).\n",
        "\n",
        "Example of a Class Variable:\n",
        "\n",
        "    class Dog:\n",
        "      species = \"Canis familiaris\"  # Class variable\n",
        "    \n",
        "      def __init__(self, name):\n",
        "        self.name = name  # Instance variable\n",
        "\n",
        "    # Creating instances\n",
        "    dog1 = Dog(\"Buddy\")\n",
        "    dog2 = Dog(\"Max\")\n",
        "\n",
        "    # Accessing class variable using class name\n",
        "    print(Dog.species)  # Output: Canis familiaris\n",
        "\n",
        "    # Accessing class variable using instances (not recommended)\n",
        "    print(dog1.species)  # Output: Canis familiaris\n",
        "    print(dog2.species)  # Output: Canis familiaris\n",
        "    In this example, species is a class variable because it's shared by all instances of the Dog class.\n",
        "\n",
        "2. Instance Variable:\n",
        "Definition: An instance variable is a variable that is associated with a specific instance of a class. It is defined inside the __init__ method using self.\n",
        "\n",
        "Scope: Instance variables are specific to each object. Each instance of the class can have a different value for the instance variables.\n",
        "\n",
        "Access: Instance variables are accessed using the self keyword inside the class and through the object/instance outside the class.\n",
        "\n",
        "Usage: Typically used for data that is specific to an instance of the class (e.g., attributes that vary between different objects).\n",
        "\n",
        "Example of an Instance Variable:\n",
        "\n",
        "    class Dog:\n",
        "      def __init__(self, name, age):\n",
        "        self.name = name  # Instance variable\n",
        "        self.age = age    # Instance variable\n",
        "\n",
        "    # Creating instances\n",
        "    dog1 = Dog(\"Buddy\", 5)\n",
        "    dog2 = Dog(\"Max\", 3)\n",
        "\n",
        "    # Accessing instance variables through the instances\n",
        "    print(dog1.name)  # Output: Buddy\n",
        "    print(dog1.age)   # Output: 5\n",
        "    print(dog2.name)  # Output: Max\n",
        "    print(dog2.age)   # Output: 3"
      ],
      "metadata": {
        "id": "u6U0zlcCLk4e"
      }
    },
    {
      "cell_type": "markdown",
      "source": [
        "18. What is multiple inheritance in Python?\n",
        "\n",
        "Ans. Multiple inheritance allows a class to inherit from more than one parent class. This lets you combine functionality from multiple classes into a single subclass.\n",
        "\n",
        "Class A can inherit from Class B and Class C.\n",
        "\n",
        "The subclass gets methods and attributes from all parent classes.\n",
        "\n",
        "Example:\n",
        "\n",
        "    class Animal:\n",
        "      def speak(self):\n",
        "        return \"Animal speaks\"\n",
        "\n",
        "    class Mammal:\n",
        "      def walk(self):\n",
        "        return \"Mammal walks\"\n",
        "\n",
        "    class Dog(Animal, Mammal):  # Inherits from both Animal and Mammal\n",
        "      def bark(self):\n",
        "        return \"Woof! Woof!\"\n",
        "\n",
        "    dog = Dog()\n",
        "    print(dog.speak())  # From Animal\n",
        "    print(dog.walk())   # From Mammal\n",
        "    print(dog.bark())   # From Dog\n",
        "    \n",
        "Key Points:\n",
        "MRO (Method Resolution Order): Python follows an order to resolve method calls in case of conflicts.\n",
        "\n",
        "Advantages: Code reuse and flexibility.\n",
        "\n",
        "Disadvantages: Can lead to complexity and method conflicts."
      ],
      "metadata": {
        "id": "ZjfMO6JZL9Zu"
      }
    },
    {
      "cell_type": "markdown",
      "source": [
        "19. Explain the purpose of ‘’__str__’ and ‘__repr__’ ‘ methods in Python?\n",
        "\n",
        "Ans. __str__: Used for user-friendly string representation. It is called by print() or str() to represent the object in a readable way.\n",
        "\n",
        "Example:\n",
        "\n",
        "    class Dog:\n",
        "      def __str__(self):\n",
        "        return \"A friendly dog\"\n",
        "    dog = Dog()\n",
        "    print(dog)  # Output: A friendly dog\n",
        "__repr__: Used for developer-friendly string representation. It is called by repr() or in the interpreter. The goal is for the string to ideally recreate the object.\n",
        "\n",
        "Example:\n",
        "\n",
        "    class Dog:\n",
        "      def __repr__(self):\n",
        "        return \"Dog()\"\n",
        "    dog = Dog()\n",
        "    print(repr(dog))  # Output: Dog()\n",
        "\n",
        "Key Difference:\n",
        "\n",
        "__str__ is for end-users (printable format).\n",
        "\n",
        "__repr__ is for developers (detailed format, usually to recreate the object)."
      ],
      "metadata": {
        "id": "dYTpuy1vMTwj"
      }
    },
    {
      "cell_type": "markdown",
      "source": [
        "20. What is the significance of the ‘super()’ function in Python?\n",
        "\n",
        "Ans. super() is used to call methods from the parent class in a subclass, especially in inheritance. It ensures the correct method is called without explicitly naming the parent class.\n",
        "\n",
        "Use case: It's useful in single and multiple inheritance to call the parent class method and avoid redundant code.\n",
        "\n",
        "Example:\n",
        "\n",
        "    class Animal:\n",
        "      def speak(self):\n",
        "        print(\"Animal speaks\")\n",
        "\n",
        "    class Dog(Animal):\n",
        "      def speak(self):\n",
        "        super().speak()  # Calls parent class method\n",
        "        print(\"Dog barks\")\n",
        "\n",
        "    dog = Dog()\n",
        "    dog.speak()\n",
        "    \n",
        "    Output:\n",
        "    Animal speaks\n",
        "    Dog barks\n",
        "In Multiple Inheritance: super() follows the Method Resolution Order (MRO) to decide which parent method to call.\n",
        "\n",
        "In short, super() simplifies calling parent class methods and supports cleaner, more maintainable code."
      ],
      "metadata": {
        "id": "IxlKrSFPMrue"
      }
    },
    {
      "cell_type": "markdown",
      "source": [
        "21.  What is the significance of the __del__ method in Python?\n",
        "\n",
        "Ans. The __del__ method is a destructor in Python, called when an object is about to be destroyed or garbage collected. It is used to clean up resources like closing files or releasing connections.\n",
        "\n",
        "Example:\n",
        "\n",
        "    class FileHandler:\n",
        "      def __init__(self, filename):\n",
        "        self.file = open(filename, 'w')\n",
        "\n",
        "      def __del__(self):\n",
        "        self.file.close()  # Cleanup action\n",
        "\n",
        "    file_handler = FileHandler(\"example.txt\")\n",
        "    del file_handler  # Calls __del__\n",
        "    \n",
        "When to use: For cleanup tasks, like closing files, when an object is no longer needed.\n",
        "\n"
      ],
      "metadata": {
        "id": "BYuqy_44NNLQ"
      }
    },
    {
      "cell_type": "markdown",
      "source": [
        "22. What is the difference between @staticmethod and @classmethod in Python?\n",
        "\n",
        "Ans. @staticmethod:\n",
        "\n",
        "Does not take self or cls.\n",
        "\n",
        "Used for methods that don't require access to the class or instance.\n",
        "\n",
        "Example:\n",
        "\n",
        "class MyClass:\n",
        "    @staticmethod\n",
        "    def greet(name):\n",
        "        print(f\"Hello, {name}!\")\n",
        "@classmethod:\n",
        "\n",
        "Takes cls (the class) as its first argument.\n",
        "\n",
        "Used to modify or access class-level data.\n",
        "\n",
        "Example:\n",
        "\n",
        "    class MyClass:\n",
        "      count = 0\n",
        "\n",
        "    @classmethod\n",
        "    def increment_count(cls):\n",
        "        cls.count += 1\n",
        "Key Difference:\n",
        "\n",
        "@staticmethod doesn’t interact with the class or instance.\n",
        "\n",
        "@classmethod interacts with the class (using cls)."
      ],
      "metadata": {
        "id": "08ak-F2wN3kr"
      }
    },
    {
      "cell_type": "markdown",
      "source": [
        "23. How does polymorphism work in Python with inheritance?\n",
        "\n",
        "Ans. Polymorphism in Python allows objects of different classes to be treated as objects of a common base class. The key idea is that the same method name can behave differently based on the class of the object calling it.\n",
        "\n",
        "When combined with inheritance, polymorphism enables child classes to override methods from the parent class, allowing them to provide their own specific implementation while using the same method name.\n",
        "\n",
        "How It Works:\n",
        "Method Overriding: In a child class, you can override a method from the parent class with a new implementation.\n",
        "\n",
        "Dynamic Method Dispatch: Python dynamically determines the method to call based on the object’s class at runtime.\n",
        "\n",
        "Example:\n",
        "\n",
        "    class Animal:\n",
        "      def speak(self):\n",
        "        return \"Animal speaks\"\n",
        "\n",
        "    class Dog(Animal):\n",
        "      def speak(self):\n",
        "        return \"Woof!\"\n",
        "\n",
        "    class Cat(Animal):\n",
        "      def speak(self):\n",
        "        return \"Meow!\"\n",
        "\n",
        "    # Polymorphism in action\n",
        "    def animal_sound(animal):\n",
        "      print(animal.speak())  # The correct method is called based on the object type\n",
        "\n",
        "    # Create instances\n",
        "    dog = Dog()\n",
        "    cat = Cat()\n",
        "\n",
        "    animal_sound(dog)  # Output: Woof!\n",
        "    animal_sound(cat)  # Output: Meow!\n",
        "    \n",
        "Explanation:\n",
        "The animal_sound function uses the same method speak(), but the behavior changes depending on whether the object is a Dog or a Cat.\n",
        "\n",
        "Polymorphism allows the same method name (speak()) to behave differently based on the object’s class.\n",
        "\n"
      ],
      "metadata": {
        "id": "1BXg0H4cOoFf"
      }
    },
    {
      "cell_type": "markdown",
      "source": [
        "24. What is method chaining in Python OOP?\n",
        "\n",
        "Ans. Method chaining is a technique in Python (or any object-oriented language) where multiple methods are called on the same object, one after another, in a single statement.\n",
        "\n",
        "This is possible because each method returns the object itself (usually self), allowing you to call the next method on that same object.\n",
        "\n",
        "How It Works:\n",
        "Methods Return self: Each method in the chain returns the object (self), which allows the next method to be called on the same object.\n",
        "\n",
        "Compact Code: Method chaining makes the code more concise and readable.\n",
        "\n",
        "Example:\n",
        "\n",
        "    class Car:\n",
        "      def __init__(self, brand):\n",
        "        self.brand = brand\n",
        "        self.speed = 0\n",
        "\n",
        "      def accelerate(self, increment):\n",
        "        self.speed += increment\n",
        "        return self  # Return the object itself for chaining\n",
        "\n",
        "      def brake(self, decrement):\n",
        "        self.speed -= decrement\n",
        "        return self  # Return the object itself for chaining\n",
        "\n",
        "      def display_speed(self):\n",
        "        print(f\"The current speed is {self.speed} km/h.\")\n",
        "        return self  # Return the object itself for chaining\n",
        "\n",
        "    # Method Chaining\n",
        "    car = Car(\"Toyota\")\n",
        "    car.accelerate(50).brake(20).display_speed()  # Output: The current speed is 30 km/h."
      ],
      "metadata": {
        "id": "zGUiHIvcO_GE"
      }
    },
    {
      "cell_type": "markdown",
      "source": [
        "25. What is the purpose of the __call__ method in Python?\n",
        "\n",
        "Ans. The __call__ method in Python allows an object to be called as if it were a function. This means you can use parentheses () on an object, just like you would with a function, and the __call__ method will be invoked.\n",
        "\n",
        "By defining the __call__ method in a class, you make instances of that class callable. This is useful when you want to allow objects to behave like functions or to store behavior that can be executed later.\n",
        "\n",
        "How It Works:\n",
        "When you create an instance of a class that implements __call__, you can \"call\" that instance just like a function.\n",
        "\n",
        "The __call__ method takes the same parameters as a function (and can even take self as the first argument).\n",
        "\n",
        "Example:\n",
        "\n",
        "    class Multiplier:\n",
        "      def __init__(self, factor):\n",
        "        self.factor = factor\n",
        "\n",
        "      def __call__(self, number):\n",
        "        return self.factor * number\n",
        "\n",
        "    # Creating an instance of the Multiplier class\n",
        "    multiply_by_2 = Multiplier(2)\n",
        "\n",
        "    # Calling the instance like a function\n",
        "    result = multiply_by_2(5)  # This calls the __call__ method\n",
        "    print(result)  # Output: 10\n"
      ],
      "metadata": {
        "id": "Z6eOrwmlPNtU"
      }
    },
    {
      "cell_type": "markdown",
      "source": [
        "# **CODING**"
      ],
      "metadata": {
        "id": "ORXzV-LiIZeE"
      }
    },
    {
      "cell_type": "markdown",
      "source": [
        "1. Create a parent class Animal with a method speak() that prints a generic message. Create a child class Dog\n",
        "that overrides the speak() method to print \"Bark!\"."
      ],
      "metadata": {
        "id": "SQmT3DiNIdA3"
      }
    },
    {
      "cell_type": "code",
      "source": [
        "# Parent class\n",
        "class Animal:\n",
        "    def speak(self):\n",
        "        print(\"The animal makes a sound.\")\n",
        "\n",
        "# Child class\n",
        "class Dog(Animal):\n",
        "    def speak(self):\n",
        "        print(\"Bark!\")\n",
        "\n",
        "# Example usage\n",
        "a = Animal()\n",
        "a.speak()\n",
        "\n",
        "d = Dog()\n",
        "d.speak()\n"
      ],
      "metadata": {
        "colab": {
          "base_uri": "https://localhost:8080/"
        },
        "id": "gckN-EvZIly2",
        "outputId": "e8b5e811-ef55-42b2-8f05-8ba85c1a171d"
      },
      "execution_count": 1,
      "outputs": [
        {
          "output_type": "stream",
          "name": "stdout",
          "text": [
            "The animal makes a sound.\n",
            "Bark!\n"
          ]
        }
      ]
    },
    {
      "cell_type": "markdown",
      "source": [
        "2. Write a program to create an abstract class Shape with a method area(). Derive classes Circle and Rectangle\n",
        "from it and implement the area() method in both"
      ],
      "metadata": {
        "id": "6laOw7xVIrEF"
      }
    },
    {
      "cell_type": "code",
      "source": [
        "from abc import ABC, abstractmethod\n",
        "import math\n",
        "\n",
        "class Shape(ABC):\n",
        "    @abstractmethod\n",
        "    def area(self): pass\n",
        "\n",
        "class Circle(Shape):\n",
        "    def __init__(self, r): self.r = r\n",
        "    def area(self): return math.pi * self.r ** 2\n",
        "\n",
        "class Rectangle(Shape):\n",
        "    def __init__(self, w, h): self.w, self.h = w, h\n",
        "    def area(self): return self.w * self.h\n",
        "\n",
        "print(Circle(5).area())\n",
        "print(Rectangle(4, 6).area())\n"
      ],
      "metadata": {
        "colab": {
          "base_uri": "https://localhost:8080/"
        },
        "id": "7E21NY3GIrtl",
        "outputId": "4c5a8301-de46-41fc-bd45-e5c30d4c3b08"
      },
      "execution_count": 2,
      "outputs": [
        {
          "output_type": "stream",
          "name": "stdout",
          "text": [
            "78.53981633974483\n",
            "24\n"
          ]
        }
      ]
    },
    {
      "cell_type": "markdown",
      "source": [
        "3. Implement a multi-level inheritance scenario where a class Vehicle has an attribute type. Derive a class Car\n",
        "and further derive a class ElectricCar that adds a battery attribute."
      ],
      "metadata": {
        "id": "4YYlFY0YI7SG"
      }
    },
    {
      "cell_type": "code",
      "source": [
        "# Base class\n",
        "class Vehicle:\n",
        "    def __init__(self, type):\n",
        "        self.type = type\n",
        "\n",
        "# Derived class\n",
        "class Car(Vehicle):\n",
        "    def __init__(self, type, brand):\n",
        "        super().__init__(type)\n",
        "        self.brand = brand\n",
        "\n",
        "# Further derived class\n",
        "class ElectricCar(Car):\n",
        "    def __init__(self, type, brand, battery):\n",
        "        super().__init__(type, brand)\n",
        "        self.battery = battery\n",
        "\n",
        "# Example usage\n",
        "e_car = ElectricCar(\"Four-wheeler\", \"Tesla\", \"100 kWh\")\n",
        "print(f\"Type: {e_car.type}, Brand: {e_car.brand}, Battery: {e_car.battery}\")\n"
      ],
      "metadata": {
        "colab": {
          "base_uri": "https://localhost:8080/"
        },
        "id": "8F3n3huFJKD_",
        "outputId": "66a05cc4-d030-4877-a092-08c4b882b1f1"
      },
      "execution_count": 4,
      "outputs": [
        {
          "output_type": "stream",
          "name": "stdout",
          "text": [
            "Type: Four-wheeler, Brand: Tesla, Battery: 100 kWh\n"
          ]
        }
      ]
    },
    {
      "cell_type": "markdown",
      "source": [
        "4. Demonstrate polymorphism by creating a base class Bird with a method fly(). Create two derived classes\n",
        "Sparrow and Penguin that override the fly() method.\n"
      ],
      "metadata": {
        "id": "B1AGDwaQJLUy"
      }
    },
    {
      "cell_type": "code",
      "source": [
        "# Base class\n",
        "class Bird:\n",
        "    def fly(self):\n",
        "        print(\"Some bird is flying.\")\n",
        "\n",
        "# Derived class\n",
        "class Sparrow(Bird):\n",
        "    def fly(self):\n",
        "        print(\"Sparrow can fly high!\")\n",
        "\n",
        "# Derived class\n",
        "class Penguin(Bird):\n",
        "    def fly(self):\n",
        "        print(\"Penguins can't fly, they waddle.\")\n",
        "\n",
        "# Polymorphism in action\n",
        "birds = [Sparrow(), Penguin()]\n",
        "\n",
        "for bird in birds:\n",
        "    bird.fly()"
      ],
      "metadata": {
        "colab": {
          "base_uri": "https://localhost:8080/"
        },
        "id": "MctuEruyJM-E",
        "outputId": "e17cd9fc-1dbe-4fa1-a50c-fd12365cb730"
      },
      "execution_count": 5,
      "outputs": [
        {
          "output_type": "stream",
          "name": "stdout",
          "text": [
            "Sparrow can fly high!\n",
            "Penguins can't fly, they waddle.\n"
          ]
        }
      ]
    },
    {
      "cell_type": "markdown",
      "source": [
        "5. Write a program to demonstrate encapsulation by creating a class BankAccount with private attributes\n",
        "balance and methods to deposit, withdraw, and check balance."
      ],
      "metadata": {
        "id": "tcQptOikJTja"
      }
    },
    {
      "cell_type": "code",
      "source": [
        "class BankAccount:\n",
        "    def __init__(self, initial_balance=0):\n",
        "        self.__balance = initial_balance  # Private attribute\n",
        "\n",
        "    def deposit(self, amount):\n",
        "        if amount > 0:\n",
        "            self.__balance += amount\n",
        "            print(f\"Deposited: {amount}\")\n",
        "        else:\n",
        "            print(\"Deposit amount must be positive.\")\n",
        "\n",
        "    def withdraw(self, amount):\n",
        "        if 0 < amount <= self.__balance:\n",
        "            self.__balance -= amount\n",
        "            print(f\"Withdrew: {amount}\")\n",
        "        else:\n",
        "            print(\"Insufficient balance or invalid amount.\")\n",
        "\n",
        "    def check_balance(self):\n",
        "        print(f\"Current balance: {self.__balance}\")\n",
        "\n",
        "# Example usage\n",
        "account = BankAccount(1000)\n",
        "account.deposit(500)\n",
        "account.withdraw(200)\n",
        "account.check_balance()\n"
      ],
      "metadata": {
        "colab": {
          "base_uri": "https://localhost:8080/"
        },
        "id": "r643YN6MJZVN",
        "outputId": "ed21d589-2057-4c7d-d5f1-d0b488aeff17"
      },
      "execution_count": 6,
      "outputs": [
        {
          "output_type": "stream",
          "name": "stdout",
          "text": [
            "Deposited: 500\n",
            "Withdrew: 200\n",
            "Current balance: 1300\n"
          ]
        }
      ]
    },
    {
      "cell_type": "markdown",
      "source": [
        "6. Demonstrate runtime polymorphism using a method play() in a base class Instrument. Derive classes Guitar\n",
        "and Piano that implement their own version of play()."
      ],
      "metadata": {
        "id": "a1aMrijcJeA_"
      }
    },
    {
      "cell_type": "code",
      "source": [
        "# Base class\n",
        "class Instrument:\n",
        "    def play(self):\n",
        "        print(\"Playing an instrument.\")\n",
        "\n",
        "# Derived class\n",
        "class Guitar(Instrument):\n",
        "    def play(self):\n",
        "        print(\"Strumming the guitar.\")\n",
        "\n",
        "# Derived class\n",
        "class Piano(Instrument):\n",
        "    def play(self):\n",
        "        print(\"Playing the piano.\")\n",
        "\n",
        "# Runtime polymorphism in action\n",
        "instruments = [Guitar(), Piano()]\n",
        "\n",
        "for instrument in instruments:\n",
        "    instrument.play()"
      ],
      "metadata": {
        "colab": {
          "base_uri": "https://localhost:8080/"
        },
        "id": "C2hlllh7JjsQ",
        "outputId": "0c84f41d-1dfc-4d61-887b-e9540d209ad2"
      },
      "execution_count": 7,
      "outputs": [
        {
          "output_type": "stream",
          "name": "stdout",
          "text": [
            "Strumming the guitar.\n",
            "Playing the piano.\n"
          ]
        }
      ]
    },
    {
      "cell_type": "markdown",
      "source": [
        "7. Create a class MathOperations with a class method add_numbers() to add two numbers and a static\n",
        "method subtract_numbers() to subtract two numbers."
      ],
      "metadata": {
        "id": "MqChjH4vJpuI"
      }
    },
    {
      "cell_type": "code",
      "source": [
        "class MathOperations:\n",
        "    @classmethod\n",
        "    def add_numbers(cls, a, b):\n",
        "        return a + b\n",
        "\n",
        "    @staticmethod\n",
        "    def subtract_numbers(a, b):\n",
        "        return a - b\n",
        "\n",
        "# Example usage\n",
        "print(\"Addition:\", MathOperations.add_numbers(10, 5))\n",
        "print(\"Subtraction:\", MathOperations.subtract_numbers(10, 5))"
      ],
      "metadata": {
        "colab": {
          "base_uri": "https://localhost:8080/"
        },
        "id": "qKW1kbcoJsLp",
        "outputId": "f97bb209-a10d-40f9-ad87-012577294512"
      },
      "execution_count": 8,
      "outputs": [
        {
          "output_type": "stream",
          "name": "stdout",
          "text": [
            "Addition: 15\n",
            "Subtraction: 5\n"
          ]
        }
      ]
    },
    {
      "cell_type": "markdown",
      "source": [
        "8. Implement a class Person with a class method to count the total number of persons created."
      ],
      "metadata": {
        "id": "mBSilFyaJyCZ"
      }
    },
    {
      "cell_type": "code",
      "source": [
        "class Person:\n",
        "    count = 0  # Class variable to keep track\n",
        "\n",
        "    def __init__(self, name):\n",
        "        self.name = name\n",
        "        Person.count += 1\n",
        "\n",
        "    @classmethod\n",
        "    def total_persons(cls):\n",
        "        return cls.count\n",
        "\n",
        "# Example usage\n",
        "p1 = Person(\"Alice\")\n",
        "p2 = Person(\"Bob\")\n",
        "p3 = Person(\"Charlie\")\n",
        "\n",
        "print(\"Total persons created:\", Person.total_persons())"
      ],
      "metadata": {
        "colab": {
          "base_uri": "https://localhost:8080/"
        },
        "id": "rqSjga1iJ9Vi",
        "outputId": "c3af4adf-abae-47ae-9ecc-69ee31ac87d6"
      },
      "execution_count": 9,
      "outputs": [
        {
          "output_type": "stream",
          "name": "stdout",
          "text": [
            "Total persons created: 3\n"
          ]
        }
      ]
    },
    {
      "cell_type": "markdown",
      "source": [
        "9. Write a class Fraction with attributes numerator and denominator. Override the str method to display the\n",
        "fraction as \"numerator/denominator\"."
      ],
      "metadata": {
        "id": "a2DxETmtKAdh"
      }
    },
    {
      "cell_type": "code",
      "source": [
        "class Fraction:\n",
        "    def __init__(self, numerator, denominator):\n",
        "        self.numerator = numerator\n",
        "        self.denominator = denominator\n",
        "\n",
        "    def __str__(self):\n",
        "        return f\"{self.numerator}/{self.denominator}\"\n",
        "\n",
        "# Example usage\n",
        "fraction = Fraction(3, 4)\n",
        "print(fraction)\n"
      ],
      "metadata": {
        "colab": {
          "base_uri": "https://localhost:8080/"
        },
        "id": "vsoG8bBFKDV1",
        "outputId": "3ce45439-9730-41df-a7ef-39e593a99bba"
      },
      "execution_count": 10,
      "outputs": [
        {
          "output_type": "stream",
          "name": "stdout",
          "text": [
            "3/4\n"
          ]
        }
      ]
    },
    {
      "cell_type": "markdown",
      "source": [
        "10. Demonstrate operator overloading by creating a class Vector and overriding the add method to add two\n",
        "vectors."
      ],
      "metadata": {
        "id": "n5m0c0gVKGhu"
      }
    },
    {
      "cell_type": "code",
      "source": [
        "class Vector:\n",
        "    def __init__(self, x, y):\n",
        "        self.x = x\n",
        "        self.y = y\n",
        "\n",
        "    # Overloading the + operator\n",
        "    def __add__(self, other):\n",
        "        return Vector(self.x + other.x, self.y + other.y)\n",
        "\n",
        "    def __str__(self):\n",
        "        return f\"({self.x}, {self.y})\"\n",
        "\n",
        "# Example usage\n",
        "v1 = Vector(2, 3)\n",
        "v2 = Vector(4, 5)\n",
        "\n",
        "# Adding two vectors using overloaded + operator\n",
        "v3 = v1 + v2\n",
        "\n",
        "print(\"v1:\", v1)\n",
        "print(\"v2:\", v2)\n",
        "print(\"v3 (v1 + v2):\", v3)"
      ],
      "metadata": {
        "colab": {
          "base_uri": "https://localhost:8080/"
        },
        "id": "10az1iJlKOLq",
        "outputId": "3c661244-79d8-488d-f609-e8fe80d604a5"
      },
      "execution_count": 11,
      "outputs": [
        {
          "output_type": "stream",
          "name": "stdout",
          "text": [
            "v1: (2, 3)\n",
            "v2: (4, 5)\n",
            "v3 (v1 + v2): (6, 8)\n"
          ]
        }
      ]
    },
    {
      "cell_type": "markdown",
      "source": [
        "11. Create a class Person with attributes name and age. Add a method greet() that prints \"Hello, my name is\n",
        "{name} and I am {age} years old.\""
      ],
      "metadata": {
        "id": "e4NVzFqDKQK4"
      }
    },
    {
      "cell_type": "code",
      "source": [
        "class Person:\n",
        "    def __init__(self, name, age):\n",
        "        self.name = name\n",
        "        self.age = age\n",
        "\n",
        "    def greet(self):\n",
        "        print(f\"Hello, my name is {self.name} and I am {self.age} years old.\")\n",
        "\n",
        "# Example usage\n",
        "person = Person(\"Alice\", 30)\n",
        "person.greet()"
      ],
      "metadata": {
        "colab": {
          "base_uri": "https://localhost:8080/"
        },
        "id": "Yq3XzsFfKUlo",
        "outputId": "bab7ca98-ba37-4017-fdf8-e8e74145e0eb"
      },
      "execution_count": 12,
      "outputs": [
        {
          "output_type": "stream",
          "name": "stdout",
          "text": [
            "Hello, my name is Alice and I am 30 years old.\n"
          ]
        }
      ]
    },
    {
      "cell_type": "markdown",
      "source": [
        "12. Implement a class Student with attributes name and grades. Create a method average_grade() to compute\n",
        "the average of the grades."
      ],
      "metadata": {
        "id": "uAbF-D6uKXBJ"
      }
    },
    {
      "cell_type": "code",
      "source": [
        "class Student:\n",
        "    def __init__(self, name, grades):\n",
        "        self.name = name\n",
        "        self.grades = grades\n",
        "\n",
        "    def average_grade(self):\n",
        "        return sum(self.grades) / len(self.grades) if self.grades else 0\n",
        "\n",
        "# Example usage\n",
        "student = Student(\"John\", [90, 85, 88, 92])\n",
        "print(f\"{student.name}'s average grade is: {student.average_grade():.2f}\")"
      ],
      "metadata": {
        "colab": {
          "base_uri": "https://localhost:8080/"
        },
        "id": "knk386UlKZZf",
        "outputId": "7dfb68cc-725e-4d99-f5f3-85e9c8ea2b50"
      },
      "execution_count": 13,
      "outputs": [
        {
          "output_type": "stream",
          "name": "stdout",
          "text": [
            "John's average grade is: 88.75\n"
          ]
        }
      ]
    },
    {
      "cell_type": "markdown",
      "source": [
        "13. Create a class Rectangle with methods set_dimensions() to set the dimensions and area() to calculate the\n",
        "area."
      ],
      "metadata": {
        "id": "guYCQOBsKddr"
      }
    },
    {
      "cell_type": "code",
      "source": [
        "class Rectangle:\n",
        "    def __init__(self):\n",
        "        self.length = 0\n",
        "        self.width = 0\n",
        "\n",
        "    # Method to set dimensions\n",
        "    def set_dimensions(self, length, width):\n",
        "        self.length = length\n",
        "        self.width = width\n",
        "\n",
        "    # Method to calculate the area\n",
        "    def area(self):\n",
        "        return self.length * self.width\n",
        "\n",
        "# Example usage\n",
        "rectangle = Rectangle()\n",
        "rectangle.set_dimensions(5, 3)\n",
        "print(f\"Area of rectangle: {rectangle.area()}\")"
      ],
      "metadata": {
        "colab": {
          "base_uri": "https://localhost:8080/"
        },
        "id": "02yrC-WfKg3e",
        "outputId": "d2cf3956-a5f0-4ac8-914e-c68c82bae171"
      },
      "execution_count": 14,
      "outputs": [
        {
          "output_type": "stream",
          "name": "stdout",
          "text": [
            "Area of rectangle: 15\n"
          ]
        }
      ]
    },
    {
      "cell_type": "markdown",
      "source": [
        "14. Create a class Employee with a method calculate_salary() that computes the salary based on hours worked\n",
        "and hourly rate. Create a derived class Manager that adds a bonus to the salary."
      ],
      "metadata": {
        "id": "rOCwfJGYKom1"
      }
    },
    {
      "cell_type": "code",
      "source": [
        "# Base class: Employee\n",
        "class Employee:\n",
        "    def __init__(self, name, hours_worked, hourly_rate):\n",
        "        self.name = name\n",
        "        self.hours_worked = hours_worked\n",
        "        self.hourly_rate = hourly_rate\n",
        "\n",
        "    def calculate_salary(self):\n",
        "        return self.hours_worked * self.hourly_rate\n",
        "\n",
        "# Derived class: Manager\n",
        "class Manager(Employee):\n",
        "    def __init__(self, name, hours_worked, hourly_rate, bonus):\n",
        "        super().__init__(name, hours_worked, hourly_rate)\n",
        "        self.bonus = bonus\n",
        "\n",
        "    def calculate_salary(self):\n",
        "        base_salary = super().calculate_salary()\n",
        "        return base_salary + self.bonus\n",
        "\n",
        "# Example usage\n",
        "employee = Employee(\"John\", 40, 20)\n",
        "print(f\"{employee.name}'s salary: ${employee.calculate_salary()}\")\n",
        "\n",
        "manager = Manager(\"Alice\", 40, 30, 500)\n",
        "print(f\"{manager.name}'s salary (with bonus): ${manager.calculate_salary()}\")"
      ],
      "metadata": {
        "colab": {
          "base_uri": "https://localhost:8080/"
        },
        "id": "RFl_IIY8KpLP",
        "outputId": "cdc417ea-b259-47e9-f475-ac2f46a1bed5"
      },
      "execution_count": 16,
      "outputs": [
        {
          "output_type": "stream",
          "name": "stdout",
          "text": [
            "John's salary: $800\n",
            "Alice's salary (with bonus): $1700\n"
          ]
        }
      ]
    }
  ]
}